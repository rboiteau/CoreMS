{
 "cells": [
  {
   "cell_type": "code",
   "execution_count": 1,
   "metadata": {},
   "outputs": [],
   "source": [
    "import os\n",
    "from tempfile import tempdir\n",
    "from time import time\n",
    "from turtle import color\n",
    "from unittest.mock import NonCallableMagicMock\n",
    "import pandas as pd\n",
    "import numpy as np\n",
    "import warnings\n",
    "import math\n",
    "import re\n",
    "\n",
    "import seaborn as sns\n",
    "warnings.filterwarnings(\"ignore\")\n",
    "\n",
    "import sys\n",
    "sys.path.append(\"./\")\n",
    "\n",
    "from pathlib import Path\n",
    "\n",
    "import tqdm\n",
    "import importlib\n",
    "\n",
    "import matplotlib.pyplot as plt\n",
    "# from PySide2.QtWidgets import QFileDialog, QApplication\n",
    "# from PySide2.QtCore import Qt\n",
    "from copy import copy \n",
    "\n",
    "from corems.mass_spectra.input import rawFileReader\n",
    "from corems.molecular_id.factory.classification import HeteroatomsClassification, Labels\n",
    "from corems.molecular_id.search.priorityAssignment import OxygenPriorityAssignment\n",
    "from corems.molecular_id.search.molecularFormulaSearch import SearchMolecularFormulas\n",
    "from corems.encapsulation.factory.parameters import MSParameters\n",
    "from corems.encapsulation.constant import Atoms\n",
    "from corems.mass_spectrum.calc.Calibration import MzDomainCalibration\n",
    "\n",
    "import corems.lc_icpms_ftms.calc.lc_icrms_qc_assign as icrms\n",
    "import corems.lc_icpms_ftms.calc.lc_icrms_helpers as lcmsfns\n",
    "\n",
    "import importlib\n"
   ]
  },
  {
   "cell_type": "code",
   "execution_count": 2,
   "metadata": {},
   "outputs": [
    {
     "name": "stdout",
     "output_type": "stream",
     "text": [
      "20230113_LBA_Boiteau_Zorbax5um_1500IT_neg_FinalEff_300_500_02.raw\n",
      "20230113_LBA_Boiteau_Zorbax5um_1500IT_neg_FinalEff_300_500_01.raw\n",
      "20230113_LBA_Boiteau_Zorbax5um_1500IT_neg_FinalEff_fullmz_02.raw\n",
      "20230113_LBA_Boiteau_Zorbax5um_1500IT_neg_NovWastewater_300_500_02.raw\n",
      "20230113_LBA_Boiteau_Zorbax5um_1500IT_neg_NovWastewater_300_500_01.raw\n",
      "20230113_LBA_Boiteau_Zorbax5um_1500IT_neg_NovWastewater_fullmz_02.raw\n",
      "20230113_LBA_Boiteau_Zorbax5um_1500IT_neg_NovWastewater_fullmz_01.raw\n",
      "20230113_LBA_Boiteau_Zorbax5um_1500IT_neg_FinalEff_fullmz_01.raw\n"
     ]
    }
   ],
   "source": [
    "# get files & parsers\n",
    "\n",
    "dir='/Volumes/Samsung_T5/NHMFL/2023_January_Christian/wastewater/Zorbax_5um_inject_1500ms/neg'\n",
    "flist=os.listdir(dir)\n",
    "os.chdir(dir)\n",
    "\n",
    "# get parsers\n",
    "\n",
    "MSfiles={}\n",
    "\n",
    "for f in flist:\n",
    "    if ('.raw' in f) & ('._' not in f) & ('qh2o' not in f):\n",
    "        print(f)\n",
    "        parser = rawFileReader.ImportMassSpectraThermoMSFileReader(f)\n",
    "        MSfiles[f]={'parser': parser}\n",
    "\n",
    "data = icrms.lc_icr_assign(dir)\n",
    "\n",
    "data.master_data_holder = MSfiles\n",
    "\n",
    "data._raw_filelist = data.master_data_holder.keys()"
   ]
  },
  {
   "cell_type": "code",
   "execution_count": 3,
   "metadata": {},
   "outputs": [],
   "source": [
    "# set assignment parameters\n",
    "MSParameters.mass_spectrum.threshold_method = 'signal_noise'\n",
    "MSParameters.mass_spectrum.s2n_threshold = 2\n",
    "MSParameters.ms_peak.peak_min_prominence_percent = 0.001\n",
    "\n",
    "MSParameters.molecular_search.error_method = 'None'\n",
    "MSParameters.molecular_search.min_ppm_error = -0.25\n",
    "MSParameters.molecular_search.max_ppm_error = 0.25\n",
    "\n",
    "MSParameters.molecular_search.isProtonated = True\n",
    "MSParameters.molecular_search.isRadical = False\n",
    "MSParameters.molecular_search.isAdduct = False\n",
    "\n",
    "MSParameters.molecular_search.score_method = \"prob_score\"\n",
    "MSParameters.molecular_search.output_score_method = \"prob_score\"\n",
    "\n",
    "MSParameters.molecular_search.url_database = None\n",
    "MSParameters.molecular_search.min_dbe = -1\n",
    "MSParameters.molecular_search.max_dbe = 20\n",
    "\n",
    "MSParameters.molecular_search.usedAtoms['C'] = (1,50)\n",
    "MSParameters.molecular_search.usedAtoms['H'] = (4,100)\n",
    "MSParameters.molecular_search.usedAtoms['O'] = (1,20)\n",
    "MSParameters.molecular_search.usedAtoms['N'] = (0,3)\n",
    "#MSParameters.molecular_search.usedAtoms['I'] = (0,0)\n",
    "#MSParameters.molecular_search.usedAtoms['F'] = (0,0)\n",
    "#MSParameters.molecular_search.usedAtoms['S'] = (0,0)\n",
    "#MSParameters.molecular_search.usedAtoms['P'] = (0,1)\n"
   ]
  },
  {
   "cell_type": "code",
   "execution_count": 4,
   "metadata": {},
   "outputs": [
    {
     "name": "stdout",
     "output_type": "stream",
     "text": [
      "\n",
      "\n",
      "20230113_LBA_Boiteau_Zorbax5um_1500IT_neg_FinalEff_300_500_02.raw\n",
      "1 of 8 files\n",
      "timestart: 8\n",
      "negative\n",
      "MS Obj loaded - 461 peaks found.\n",
      "MS Obj loaded - 461 peaks found.\n",
      "Reference mass list loaded - 2030 calibration masses loaded.\n",
      "1 calibration points matched within thresholds.\n"
     ]
    },
    {
     "name": "stderr",
     "output_type": "stream",
     "text": [
      "100%|██████████| 80/80 [00:00<00:00, 557.63it/s]"
     ]
    },
    {
     "name": "stdout",
     "output_type": "stream",
     "text": [
      "Started database insert using 2075 iterations for a total of 103735 rows\n"
     ]
    },
    {
     "name": "stderr",
     "output_type": "stream",
     "text": [
      "\n",
      "2075it [00:18, 114.63it/s]\n"
     ]
    },
    {
     "name": "stdout",
     "output_type": "stream",
     "text": [
      "'runworker'  18590.19 ms\n"
     ]
    },
    {
     "name": "stderr",
     "output_type": "stream",
     "text": [
      "Loading molecular formula database: 66938it [00:01, 35790.59it/s]\n",
      "Started molecular formula search for class {\"N\": 3, \"O\": 20}, (de)protonated : 100%|██████████| 80/80 [00:00<00:00, 415.83it/s]\n"
     ]
    },
    {
     "name": "stdout",
     "output_type": "stream",
     "text": [
      "'run_molecular_formula'  20677.07 ms\n",
      "1 assigned peaks and 460 unassigned peaks, total  = 0.22 %, relative abundance = 0.58 %, RMS error (best candidate) (ppm) = 0.065\n",
      "timestart: 10\n",
      "negative\n",
      "MS Obj loaded - 657 peaks found.\n",
      "MS Obj loaded - 657 peaks found.\n",
      "Reference mass list loaded - 2030 calibration masses loaded.\n",
      "1 calibration points matched within thresholds.\n",
      "'runworker'  3.76 ms\n"
     ]
    },
    {
     "name": "stderr",
     "output_type": "stream",
     "text": [
      "Loading molecular formula database: 66938it [00:01, 37966.00it/s]\n",
      "Started molecular formula search for class {\"N\": 3, \"O\": 20}, (de)protonated : 100%|██████████| 80/80 [00:00<00:00, 348.23it/s]\n"
     ]
    },
    {
     "name": "stdout",
     "output_type": "stream",
     "text": [
      "'run_molecular_formula'  2020.27 ms\n",
      "3 assigned peaks and 654 unassigned peaks, total  = 0.46 %, relative abundance = 0.18 %, RMS error (best candidate) (ppm) = 0.036\n",
      "timestart: 12\n",
      "negative\n",
      "MS Obj loaded - 1045 peaks found.\n",
      "MS Obj loaded - 1045 peaks found.\n",
      "Reference mass list loaded - 2030 calibration masses loaded.\n",
      "1 calibration points matched within thresholds.\n",
      "'runworker'  4.05 ms\n"
     ]
    },
    {
     "name": "stderr",
     "output_type": "stream",
     "text": [
      "Loading molecular formula database: 66938it [00:01, 37961.73it/s]\n",
      "Started molecular formula search for class {\"N\": 3, \"O\": 20}, (de)protonated : 100%|██████████| 80/80 [00:00<00:00, 217.74it/s]\n"
     ]
    },
    {
     "name": "stdout",
     "output_type": "stream",
     "text": [
      "'run_molecular_formula'  2160.06 ms\n",
      "10 assigned peaks and 1035 unassigned peaks, total  = 0.96 %, relative abundance = 0.25 %, RMS error (best candidate) (ppm) = 0.146\n",
      "timestart: 14\n",
      "negative\n",
      "MS Obj loaded - 689 peaks found.\n",
      "MS Obj loaded - 689 peaks found.\n",
      "Reference mass list loaded - 2030 calibration masses loaded.\n",
      "1 calibration points matched within thresholds.\n",
      "'runworker'  4.12 ms\n"
     ]
    },
    {
     "name": "stderr",
     "output_type": "stream",
     "text": [
      "Loading molecular formula database: 66938it [00:01, 35611.49it/s]\n",
      "Started molecular formula search for class {\"N\": 3, \"O\": 20}, (de)protonated : 100%|██████████| 80/80 [00:00<00:00, 335.61it/s]\n"
     ]
    },
    {
     "name": "stdout",
     "output_type": "stream",
     "text": [
      "'run_molecular_formula'  2145.51 ms\n",
      "5 assigned peaks and 684 unassigned peaks, total  = 0.73 %, relative abundance = 0.77 %, RMS error (best candidate) (ppm) = 0.126\n",
      "timestart: 16\n",
      "negative\n",
      "MS Obj loaded - 619 peaks found.\n",
      "MS Obj loaded - 619 peaks found.\n",
      "Reference mass list loaded - 2030 calibration masses loaded.\n",
      "1 calibration points matched within thresholds.\n",
      "'runworker'  4.48 ms\n"
     ]
    },
    {
     "name": "stderr",
     "output_type": "stream",
     "text": [
      "Loading molecular formula database: 66938it [00:01, 39720.33it/s]\n",
      "Started molecular formula search for class {\"N\": 3, \"O\": 20}, (de)protonated : 100%|██████████| 80/80 [00:00<00:00, 352.91it/s]\n"
     ]
    },
    {
     "name": "stdout",
     "output_type": "stream",
     "text": [
      "'run_molecular_formula'  1940.43 ms\n",
      "2 assigned peaks and 617 unassigned peaks, total  = 0.32 %, relative abundance = 0.31 %, RMS error (best candidate) (ppm) = 0.162\n",
      "timestart: 18\n",
      "negative\n",
      "MS Obj loaded - 1073 peaks found.\n",
      "MS Obj loaded - 1073 peaks found.\n",
      "Reference mass list loaded - 2030 calibration masses loaded.\n",
      "1 calibration points matched within thresholds.\n",
      "'runworker'  4.07 ms\n"
     ]
    },
    {
     "name": "stderr",
     "output_type": "stream",
     "text": [
      "Loading molecular formula database: 66938it [00:01, 35287.71it/s]\n",
      "Started molecular formula search for class {\"N\": 3, \"O\": 20}, (de)protonated : 100%|██████████| 80/80 [00:00<00:00, 224.64it/s]\n"
     ]
    },
    {
     "name": "stdout",
     "output_type": "stream",
     "text": [
      "'run_molecular_formula'  2282.46 ms\n",
      "8 assigned peaks and 1065 unassigned peaks, total  = 0.75 %, relative abundance = 1.05 %, RMS error (best candidate) (ppm) = 0.135\n",
      "timestart: 20\n",
      "negative\n",
      "MS Obj loaded - 861 peaks found.\n",
      "MS Obj loaded - 861 peaks found.\n",
      "Reference mass list loaded - 2030 calibration masses loaded.\n",
      "1 calibration points matched within thresholds.\n",
      "'runworker'  4.17 ms\n"
     ]
    },
    {
     "name": "stderr",
     "output_type": "stream",
     "text": [
      "Loading molecular formula database: 66938it [00:02, 32571.55it/s]\n",
      "Started molecular formula search for class {\"N\": 3, \"O\": 20}, (de)protonated : 100%|██████████| 80/80 [00:00<00:00, 257.84it/s]\n"
     ]
    },
    {
     "name": "stdout",
     "output_type": "stream",
     "text": [
      "'run_molecular_formula'  2396.69 ms\n",
      "1 assigned peaks and 860 unassigned peaks, total  = 0.12 %, relative abundance = 0.05 %, RMS error (best candidate) (ppm) = 0.102\n",
      "\n",
      "\n",
      "20230113_LBA_Boiteau_Zorbax5um_1500IT_neg_FinalEff_300_500_01.raw\n",
      "2 of 8 files\n",
      "timestart: 8\n",
      "negative\n",
      "MS Obj loaded - 515 peaks found.\n",
      "MS Obj loaded - 515 peaks found.\n",
      "Reference mass list loaded - 2030 calibration masses loaded.\n",
      "1 calibration points matched within thresholds.\n",
      "'runworker'  4.24 ms\n"
     ]
    },
    {
     "name": "stderr",
     "output_type": "stream",
     "text": [
      "Loading molecular formula database: 66938it [00:01, 37880.96it/s]\n",
      "Started molecular formula search for class {\"N\": 3, \"O\": 20}, (de)protonated : 100%|██████████| 80/80 [00:00<00:00, 425.19it/s]\n"
     ]
    },
    {
     "name": "stdout",
     "output_type": "stream",
     "text": [
      "'run_molecular_formula'  1981.23 ms\n",
      "0 assigned peaks and 515 unassigned peaks, total  = 0.00 %, relative abundance = 0.00 %, RMS error (best candidate) (ppm) = nan\n",
      "timestart: 10\n",
      "negative\n",
      "MS Obj loaded - 565 peaks found.\n",
      "MS Obj loaded - 565 peaks found.\n",
      "Reference mass list loaded - 2030 calibration masses loaded.\n",
      "1 calibration points matched within thresholds.\n",
      "'runworker'  4.08 ms\n"
     ]
    },
    {
     "name": "stderr",
     "output_type": "stream",
     "text": [
      "Loading molecular formula database: 66938it [00:01, 38181.24it/s]\n",
      "Started molecular formula search for class {\"N\": 3, \"O\": 20}, (de)protonated : 100%|██████████| 80/80 [00:00<00:00, 362.53it/s]\n"
     ]
    },
    {
     "name": "stdout",
     "output_type": "stream",
     "text": [
      "'run_molecular_formula'  2007.17 ms\n",
      "3 assigned peaks and 562 unassigned peaks, total  = 0.53 %, relative abundance = 0.85 %, RMS error (best candidate) (ppm) = 0.081\n",
      "timestart: 12\n",
      "negative\n",
      "MS Obj loaded - 1102 peaks found.\n",
      "MS Obj loaded - 1102 peaks found.\n",
      "Reference mass list loaded - 2030 calibration masses loaded.\n",
      "1 calibration points matched within thresholds.\n",
      "'runworker'  3.73 ms\n"
     ]
    },
    {
     "name": "stderr",
     "output_type": "stream",
     "text": [
      "Loading molecular formula database: 66938it [00:02, 32803.22it/s]\n",
      "Started molecular formula search for class {\"N\": 3, \"O\": 20}, (de)protonated : 100%|██████████| 80/80 [00:00<00:00, 211.22it/s]\n"
     ]
    },
    {
     "name": "stdout",
     "output_type": "stream",
     "text": [
      "'run_molecular_formula'  2450.43 ms\n",
      "4 assigned peaks and 1098 unassigned peaks, total  = 0.36 %, relative abundance = 0.16 %, RMS error (best candidate) (ppm) = 0.118\n",
      "timestart: 14\n",
      "negative\n",
      "MS Obj loaded - 642 peaks found.\n",
      "MS Obj loaded - 642 peaks found.\n",
      "Reference mass list loaded - 2030 calibration masses loaded.\n",
      "1 calibration points matched within thresholds.\n",
      "'runworker'  4.18 ms\n"
     ]
    },
    {
     "name": "stderr",
     "output_type": "stream",
     "text": [
      "Loading molecular formula database: 66938it [00:01, 37619.89it/s]\n",
      "Started molecular formula search for class {\"N\": 3, \"O\": 20}, (de)protonated : 100%|██████████| 80/80 [00:00<00:00, 353.95it/s]\n"
     ]
    },
    {
     "name": "stdout",
     "output_type": "stream",
     "text": [
      "'run_molecular_formula'  2034.56 ms\n",
      "6 assigned peaks and 636 unassigned peaks, total  = 0.93 %, relative abundance = 0.78 %, RMS error (best candidate) (ppm) = 0.144\n",
      "timestart: 16\n",
      "negative\n",
      "MS Obj loaded - 624 peaks found.\n",
      "MS Obj loaded - 624 peaks found.\n",
      "Reference mass list loaded - 2030 calibration masses loaded.\n",
      "1 calibration points matched within thresholds.\n",
      "'runworker'  9.82 ms\n"
     ]
    },
    {
     "name": "stderr",
     "output_type": "stream",
     "text": [
      "Loading molecular formula database: 66938it [00:02, 32166.30it/s]\n",
      "Started molecular formula search for class {\"N\": 3, \"O\": 20}, (de)protonated : 100%|██████████| 80/80 [00:00<00:00, 364.36it/s]\n"
     ]
    },
    {
     "name": "stdout",
     "output_type": "stream",
     "text": [
      "'run_molecular_formula'  2334.97 ms\n",
      "2 assigned peaks and 622 unassigned peaks, total  = 0.32 %, relative abundance = 0.22 %, RMS error (best candidate) (ppm) = 0.184\n",
      "timestart: 18\n",
      "negative\n",
      "MS Obj loaded - 1041 peaks found.\n",
      "MS Obj loaded - 1041 peaks found.\n",
      "Reference mass list loaded - 2030 calibration masses loaded.\n",
      "0 calibration points matched within thresholds.\n",
      "'runworker'  4.52 ms\n"
     ]
    },
    {
     "name": "stderr",
     "output_type": "stream",
     "text": [
      "Loading molecular formula database: 66938it [00:01, 36122.79it/s]\n",
      "Started molecular formula search for class {\"N\": 3, \"O\": 20}, (de)protonated : 100%|██████████| 80/80 [00:00<00:00, 227.72it/s]\n"
     ]
    },
    {
     "name": "stdout",
     "output_type": "stream",
     "text": [
      "'run_molecular_formula'  2234.78 ms\n",
      "8 assigned peaks and 1033 unassigned peaks, total  = 0.77 %, relative abundance = 1.07 %, RMS error (best candidate) (ppm) = 0.113\n",
      "timestart: 20\n",
      "negative\n",
      "MS Obj loaded - 863 peaks found.\n",
      "MS Obj loaded - 863 peaks found.\n",
      "Reference mass list loaded - 2030 calibration masses loaded.\n",
      "0 calibration points matched within thresholds.\n",
      "'runworker'  4.49 ms\n"
     ]
    },
    {
     "name": "stderr",
     "output_type": "stream",
     "text": [
      "Loading molecular formula database: 66938it [00:02, 33099.59it/s]\n",
      "Started molecular formula search for class {\"N\": 3, \"O\": 20}, (de)protonated : 100%|██████████| 80/80 [00:00<00:00, 192.73it/s]\n"
     ]
    },
    {
     "name": "stdout",
     "output_type": "stream",
     "text": [
      "'run_molecular_formula'  2520.95 ms\n",
      "1 assigned peaks and 862 unassigned peaks, total  = 0.12 %, relative abundance = 0.05 %, RMS error (best candidate) (ppm) = 0.125\n",
      "\n",
      "\n",
      "20230113_LBA_Boiteau_Zorbax5um_1500IT_neg_FinalEff_fullmz_02.raw\n",
      "3 of 8 files\n",
      "timestart: 8\n",
      "negative\n",
      "MS Obj loaded - 386 peaks found.\n",
      "MS Obj loaded - 386 peaks found.\n",
      "Reference mass list loaded - 2030 calibration masses loaded.\n",
      "79 calibration points matched within thresholds.\n",
      "minimize function completed with RMS error of: 0.022 ppm\n",
      "minimize function performed 320 fn evals and 6 iterations\n",
      "'runworker'  5.01 ms\n"
     ]
    },
    {
     "name": "stderr",
     "output_type": "stream",
     "text": [
      "Loading molecular formula database: 66938it [00:01, 36872.68it/s]\n",
      "Started molecular formula search for class {\"N\": 3, \"O\": 20}, (de)protonated : 100%|██████████| 80/80 [00:00<00:00, 374.16it/s]\n"
     ]
    },
    {
     "name": "stdout",
     "output_type": "stream",
     "text": [
      "'run_molecular_formula'  2062.99 ms\n",
      "272 assigned peaks and 114 unassigned peaks, total  = 70.47 %, relative abundance = 56.29 %, RMS error (best candidate) (ppm) = 0.035\n",
      "timestart: 10\n",
      "negative\n",
      "MS Obj loaded - 648 peaks found.\n",
      "MS Obj loaded - 648 peaks found.\n",
      "Reference mass list loaded - 2030 calibration masses loaded.\n",
      "123 calibration points matched within thresholds.\n",
      "minimize function completed with RMS error of: 0.032 ppm\n",
      "minimize function performed 386 fn evals and 8 iterations\n",
      "'runworker'  5.05 ms\n"
     ]
    },
    {
     "name": "stderr",
     "output_type": "stream",
     "text": [
      "Loading molecular formula database: 66938it [00:02, 31872.72it/s]\n",
      "Started molecular formula search for class {\"N\": 3, \"O\": 20}, (de)protonated : 100%|██████████| 80/80 [00:00<00:00, 256.71it/s]\n"
     ]
    },
    {
     "name": "stdout",
     "output_type": "stream",
     "text": [
      "'run_molecular_formula'  2450.61 ms\n",
      "452 assigned peaks and 196 unassigned peaks, total  = 69.75 %, relative abundance = 75.90 %, RMS error (best candidate) (ppm) = 0.051\n",
      "timestart: 12\n",
      "negative\n",
      "MS Obj loaded - 629 peaks found.\n",
      "MS Obj loaded - 629 peaks found.\n",
      "Reference mass list loaded - 2030 calibration masses loaded.\n",
      "121 calibration points matched within thresholds.\n",
      "minimize function completed with RMS error of: 0.038 ppm\n",
      "minimize function performed 399 fn evals and 8 iterations\n",
      "'runworker'  9.69 ms\n"
     ]
    },
    {
     "name": "stderr",
     "output_type": "stream",
     "text": [
      "Loading molecular formula database: 66938it [00:02, 32522.15it/s]\n",
      "Started molecular formula search for class {\"N\": 3, \"O\": 20}, (de)protonated : 100%|██████████| 80/80 [00:00<00:00, 280.18it/s]\n"
     ]
    },
    {
     "name": "stdout",
     "output_type": "stream",
     "text": [
      "'run_molecular_formula'  2384.43 ms\n",
      "437 assigned peaks and 192 unassigned peaks, total  = 69.48 %, relative abundance = 68.92 %, RMS error (best candidate) (ppm) = 0.051\n",
      "timestart: 14\n",
      "negative\n",
      "MS Obj loaded - 1022 peaks found.\n",
      "MS Obj loaded - 1022 peaks found.\n",
      "Reference mass list loaded - 2030 calibration masses loaded.\n",
      "166 calibration points matched within thresholds.\n",
      "minimize function completed with RMS error of: 0.066 ppm\n",
      "minimize function performed 346 fn evals and 7 iterations\n",
      "'runworker'  4.08 ms\n"
     ]
    },
    {
     "name": "stderr",
     "output_type": "stream",
     "text": [
      "Loading molecular formula database: 66938it [00:02, 32338.90it/s]\n",
      "Started molecular formula search for class {\"N\": 3, \"O\": 20}, (de)protonated : 100%|██████████| 80/80 [00:00<00:00, 179.06it/s]\n"
     ]
    },
    {
     "name": "stdout",
     "output_type": "stream",
     "text": [
      "'run_molecular_formula'  2555.24 ms\n",
      "632 assigned peaks and 390 unassigned peaks, total  = 61.84 %, relative abundance = 72.55 %, RMS error (best candidate) (ppm) = 0.068\n",
      "timestart: 16\n",
      "negative\n",
      "MS Obj loaded - 1070 peaks found.\n",
      "MS Obj loaded - 1070 peaks found.\n",
      "Reference mass list loaded - 2030 calibration masses loaded.\n",
      "179 calibration points matched within thresholds.\n",
      "minimize function completed with RMS error of: 0.049 ppm\n",
      "minimize function performed 3007 fn evals and 66 iterations\n",
      "'runworker'  9.94 ms\n"
     ]
    },
    {
     "name": "stderr",
     "output_type": "stream",
     "text": [
      "Loading molecular formula database: 66938it [00:02, 32595.79it/s]\n",
      "Started molecular formula search for class {\"N\": 3, \"O\": 20}, (de)protonated : 100%|██████████| 80/80 [00:00<00:00, 173.05it/s]\n"
     ]
    },
    {
     "name": "stdout",
     "output_type": "stream",
     "text": [
      "'run_molecular_formula'  2562.13 ms\n",
      "701 assigned peaks and 369 unassigned peaks, total  = 65.51 %, relative abundance = 76.64 %, RMS error (best candidate) (ppm) = 0.057\n",
      "timestart: 18\n",
      "negative\n",
      "MS Obj loaded - 1029 peaks found.\n",
      "MS Obj loaded - 1029 peaks found.\n",
      "Reference mass list loaded - 2030 calibration masses loaded.\n",
      "171 calibration points matched within thresholds.\n",
      "minimize function completed with RMS error of: 0.052 ppm\n",
      "minimize function performed 3029 fn evals and 65 iterations\n",
      "'runworker'  4.40 ms\n"
     ]
    },
    {
     "name": "stderr",
     "output_type": "stream",
     "text": [
      "Loading molecular formula database: 66938it [00:02, 29361.21it/s]\n",
      "Started molecular formula search for class {\"N\": 3, \"O\": 20}, (de)protonated : 100%|██████████| 80/80 [00:00<00:00, 176.88it/s]\n"
     ]
    },
    {
     "name": "stdout",
     "output_type": "stream",
     "text": [
      "'run_molecular_formula'  2776.45 ms\n",
      "703 assigned peaks and 326 unassigned peaks, total  = 68.32 %, relative abundance = 76.67 %, RMS error (best candidate) (ppm) = 0.059\n",
      "timestart: 20\n",
      "negative\n",
      "MS Obj loaded - 1064 peaks found.\n",
      "MS Obj loaded - 1064 peaks found.\n",
      "Reference mass list loaded - 2030 calibration masses loaded.\n",
      "172 calibration points matched within thresholds.\n",
      "minimize function completed with RMS error of: 0.048 ppm\n",
      "minimize function performed 3017 fn evals and 65 iterations\n",
      "'runworker'  4.41 ms\n"
     ]
    },
    {
     "name": "stderr",
     "output_type": "stream",
     "text": [
      "Loading molecular formula database: 66938it [00:02, 28343.29it/s]\n",
      "Started molecular formula search for class {\"N\": 3, \"O\": 20}, (de)protonated : 100%|██████████| 80/80 [00:00<00:00, 144.53it/s]\n"
     ]
    },
    {
     "name": "stdout",
     "output_type": "stream",
     "text": [
      "'run_molecular_formula'  2964.69 ms\n",
      "733 assigned peaks and 331 unassigned peaks, total  = 68.89 %, relative abundance = 70.47 %, RMS error (best candidate) (ppm) = 0.055\n",
      "\n",
      "\n",
      "20230113_LBA_Boiteau_Zorbax5um_1500IT_neg_NovWastewater_300_500_02.raw\n",
      "4 of 8 files\n",
      "timestart: 8\n",
      "negative\n",
      "MS Obj loaded - 694 peaks found.\n",
      "MS Obj loaded - 694 peaks found.\n",
      "Reference mass list loaded - 2030 calibration masses loaded.\n",
      "0 calibration points matched within thresholds.\n",
      "'runworker'  10.20 ms\n"
     ]
    },
    {
     "name": "stderr",
     "output_type": "stream",
     "text": [
      "Loading molecular formula database: 66938it [00:02, 33159.77it/s]\n",
      "Started molecular formula search for class {\"N\": 3, \"O\": 20}, (de)protonated : 100%|██████████| 80/80 [00:00<00:00, 306.30it/s]\n"
     ]
    },
    {
     "name": "stdout",
     "output_type": "stream",
     "text": [
      "'run_molecular_formula'  2313.98 ms\n",
      "2 assigned peaks and 692 unassigned peaks, total  = 0.29 %, relative abundance = 0.07 %, RMS error (best candidate) (ppm) = 0.205\n",
      "timestart: 10\n",
      "negative\n",
      "MS Obj loaded - 1178 peaks found.\n",
      "MS Obj loaded - 1178 peaks found.\n",
      "Reference mass list loaded - 2030 calibration masses loaded.\n",
      "0 calibration points matched within thresholds.\n",
      "'runworker'  4.21 ms\n"
     ]
    },
    {
     "name": "stderr",
     "output_type": "stream",
     "text": [
      "Loading molecular formula database: 66938it [00:01, 36737.03it/s]\n",
      "Started molecular formula search for class {\"N\": 3, \"O\": 20}, (de)protonated : 100%|██████████| 80/80 [00:00<00:00, 189.56it/s]\n"
     ]
    },
    {
     "name": "stdout",
     "output_type": "stream",
     "text": [
      "'run_molecular_formula'  2273.37 ms\n",
      "6 assigned peaks and 1172 unassigned peaks, total  = 0.51 %, relative abundance = 0.34 %, RMS error (best candidate) (ppm) = 0.142\n",
      "timestart: 12\n",
      "negative\n",
      "MS Obj loaded - 988 peaks found.\n",
      "MS Obj loaded - 988 peaks found.\n",
      "Reference mass list loaded - 2030 calibration masses loaded.\n",
      "0 calibration points matched within thresholds.\n",
      "'runworker'  4.65 ms\n"
     ]
    },
    {
     "name": "stderr",
     "output_type": "stream",
     "text": [
      "Loading molecular formula database: 66938it [00:01, 34352.92it/s]\n",
      "Started molecular formula search for class {\"N\": 3, \"O\": 20}, (de)protonated : 100%|██████████| 80/80 [00:00<00:00, 231.10it/s]\n"
     ]
    },
    {
     "name": "stdout",
     "output_type": "stream",
     "text": [
      "'run_molecular_formula'  2325.21 ms\n",
      "8 assigned peaks and 980 unassigned peaks, total  = 0.81 %, relative abundance = 0.27 %, RMS error (best candidate) (ppm) = 0.150\n",
      "timestart: 14\n",
      "negative\n",
      "MS Obj loaded - 1104 peaks found.\n",
      "MS Obj loaded - 1104 peaks found.\n",
      "Reference mass list loaded - 2030 calibration masses loaded.\n",
      "0 calibration points matched within thresholds.\n",
      "'runworker'  4.68 ms\n"
     ]
    },
    {
     "name": "stderr",
     "output_type": "stream",
     "text": [
      "Loading molecular formula database: 66938it [00:01, 35433.46it/s]\n",
      "Started molecular formula search for class {\"N\": 3, \"O\": 20}, (de)protonated : 100%|██████████| 80/80 [00:00<00:00, 197.77it/s]\n"
     ]
    },
    {
     "name": "stdout",
     "output_type": "stream",
     "text": [
      "'run_molecular_formula'  2327.12 ms\n",
      "14 assigned peaks and 1090 unassigned peaks, total  = 1.27 %, relative abundance = 2.28 %, RMS error (best candidate) (ppm) = 0.138\n",
      "timestart: 16\n",
      "negative\n",
      "MS Obj loaded - 704 peaks found.\n",
      "MS Obj loaded - 704 peaks found.\n",
      "Reference mass list loaded - 2030 calibration masses loaded.\n",
      "0 calibration points matched within thresholds.\n",
      "'runworker'  4.23 ms\n"
     ]
    },
    {
     "name": "stderr",
     "output_type": "stream",
     "text": [
      "Loading molecular formula database: 66938it [00:01, 36290.49it/s]\n",
      "Started molecular formula search for class {\"N\": 3, \"O\": 20}, (de)protonated : 100%|██████████| 80/80 [00:00<00:00, 321.24it/s]\n"
     ]
    },
    {
     "name": "stdout",
     "output_type": "stream",
     "text": [
      "'run_molecular_formula'  2122.18 ms\n",
      "2 assigned peaks and 702 unassigned peaks, total  = 0.28 %, relative abundance = 0.78 %, RMS error (best candidate) (ppm) = 0.144\n",
      "timestart: 18\n",
      "negative\n",
      "MS Obj loaded - 832 peaks found.\n",
      "MS Obj loaded - 832 peaks found.\n",
      "Reference mass list loaded - 2030 calibration masses loaded.\n",
      "0 calibration points matched within thresholds.\n",
      "'runworker'  4.19 ms\n"
     ]
    },
    {
     "name": "stderr",
     "output_type": "stream",
     "text": [
      "Loading molecular formula database: 66938it [00:02, 32985.27it/s]\n",
      "Started molecular formula search for class {\"N\": 3, \"O\": 20}, (de)protonated : 100%|██████████| 80/80 [00:00<00:00, 249.01it/s]\n"
     ]
    },
    {
     "name": "stdout",
     "output_type": "stream",
     "text": [
      "'run_molecular_formula'  2379.89 ms\n",
      "5 assigned peaks and 827 unassigned peaks, total  = 0.60 %, relative abundance = 1.46 %, RMS error (best candidate) (ppm) = 0.085\n",
      "timestart: 20\n",
      "negative\n",
      "MS Obj loaded - 703 peaks found.\n",
      "MS Obj loaded - 703 peaks found.\n",
      "Reference mass list loaded - 2030 calibration masses loaded.\n",
      "0 calibration points matched within thresholds.\n",
      "'runworker'  4.35 ms\n"
     ]
    },
    {
     "name": "stderr",
     "output_type": "stream",
     "text": [
      "Loading molecular formula database: 66938it [00:01, 36728.15it/s]\n",
      "Started molecular formula search for class {\"N\": 3, \"O\": 20}, (de)protonated : 100%|██████████| 80/80 [00:00<00:00, 318.15it/s]\n"
     ]
    },
    {
     "name": "stdout",
     "output_type": "stream",
     "text": [
      "'run_molecular_formula'  2102.73 ms\n",
      "3 assigned peaks and 700 unassigned peaks, total  = 0.43 %, relative abundance = 0.08 %, RMS error (best candidate) (ppm) = 0.135\n",
      "\n",
      "\n",
      "20230113_LBA_Boiteau_Zorbax5um_1500IT_neg_NovWastewater_300_500_01.raw\n",
      "5 of 8 files\n",
      "timestart: 8\n",
      "negative\n",
      "MS Obj loaded - 657 peaks found.\n",
      "MS Obj loaded - 657 peaks found.\n",
      "Reference mass list loaded - 2030 calibration masses loaded.\n",
      "0 calibration points matched within thresholds.\n",
      "'runworker'  4.24 ms\n"
     ]
    },
    {
     "name": "stderr",
     "output_type": "stream",
     "text": [
      "Loading molecular formula database: 66938it [00:01, 37050.99it/s]\n",
      "Started molecular formula search for class {\"N\": 3, \"O\": 20}, (de)protonated : 100%|██████████| 80/80 [00:00<00:00, 331.54it/s]\n"
     ]
    },
    {
     "name": "stdout",
     "output_type": "stream",
     "text": [
      "'run_molecular_formula'  2076.53 ms\n",
      "2 assigned peaks and 655 unassigned peaks, total  = 0.30 %, relative abundance = 0.07 %, RMS error (best candidate) (ppm) = 0.209\n",
      "timestart: 10\n",
      "negative\n",
      "MS Obj loaded - 933 peaks found.\n",
      "MS Obj loaded - 933 peaks found.\n",
      "Reference mass list loaded - 2030 calibration masses loaded.\n",
      "0 calibration points matched within thresholds.\n",
      "'runworker'  4.53 ms\n"
     ]
    },
    {
     "name": "stderr",
     "output_type": "stream",
     "text": [
      "Loading molecular formula database: 66938it [00:01, 38959.69it/s]\n",
      "Started molecular formula search for class {\"N\": 3, \"O\": 20}, (de)protonated : 100%|██████████| 80/80 [00:00<00:00, 245.55it/s]\n"
     ]
    },
    {
     "name": "stdout",
     "output_type": "stream",
     "text": [
      "'run_molecular_formula'  2078.12 ms\n",
      "5 assigned peaks and 928 unassigned peaks, total  = 0.54 %, relative abundance = 0.41 %, RMS error (best candidate) (ppm) = 0.143\n",
      "timestart: 12\n",
      "negative\n",
      "MS Obj loaded - 960 peaks found.\n",
      "MS Obj loaded - 960 peaks found.\n",
      "Reference mass list loaded - 2030 calibration masses loaded.\n",
      "0 calibration points matched within thresholds.\n",
      "'runworker'  4.22 ms\n"
     ]
    },
    {
     "name": "stderr",
     "output_type": "stream",
     "text": [
      "Loading molecular formula database: 66938it [00:01, 36067.68it/s]\n",
      "Started molecular formula search for class {\"N\": 3, \"O\": 20}, (de)protonated : 100%|██████████| 80/80 [00:00<00:00, 245.35it/s]\n"
     ]
    },
    {
     "name": "stdout",
     "output_type": "stream",
     "text": [
      "'run_molecular_formula'  2211.32 ms\n",
      "8 assigned peaks and 952 unassigned peaks, total  = 0.83 %, relative abundance = 0.28 %, RMS error (best candidate) (ppm) = 0.159\n",
      "timestart: 14\n",
      "negative\n",
      "MS Obj loaded - 1024 peaks found.\n",
      "MS Obj loaded - 1024 peaks found.\n",
      "Reference mass list loaded - 2030 calibration masses loaded.\n",
      "0 calibration points matched within thresholds.\n",
      "'runworker'  4.16 ms\n"
     ]
    },
    {
     "name": "stderr",
     "output_type": "stream",
     "text": [
      "Loading molecular formula database: 66938it [00:01, 35991.44it/s]\n",
      "Started molecular formula search for class {\"N\": 3, \"O\": 20}, (de)protonated : 100%|██████████| 80/80 [00:00<00:00, 229.40it/s]\n"
     ]
    },
    {
     "name": "stdout",
     "output_type": "stream",
     "text": [
      "'run_molecular_formula'  2236.86 ms\n",
      "14 assigned peaks and 1010 unassigned peaks, total  = 1.37 %, relative abundance = 2.22 %, RMS error (best candidate) (ppm) = 0.131\n",
      "timestart: 16\n",
      "negative\n",
      "MS Obj loaded - 687 peaks found.\n",
      "MS Obj loaded - 687 peaks found.\n",
      "Reference mass list loaded - 2030 calibration masses loaded.\n",
      "0 calibration points matched within thresholds.\n",
      "'runworker'  4.07 ms\n"
     ]
    },
    {
     "name": "stderr",
     "output_type": "stream",
     "text": [
      "Loading molecular formula database: 66938it [00:01, 39417.66it/s]\n",
      "Started molecular formula search for class {\"N\": 3, \"O\": 20}, (de)protonated : 100%|██████████| 80/80 [00:00<00:00, 322.09it/s]\n"
     ]
    },
    {
     "name": "stdout",
     "output_type": "stream",
     "text": [
      "'run_molecular_formula'  1974.16 ms\n",
      "3 assigned peaks and 684 unassigned peaks, total  = 0.44 %, relative abundance = 0.89 %, RMS error (best candidate) (ppm) = 0.138\n",
      "timestart: 18\n",
      "negative\n",
      "MS Obj loaded - 807 peaks found.\n",
      "MS Obj loaded - 807 peaks found.\n",
      "Reference mass list loaded - 2030 calibration masses loaded.\n",
      "0 calibration points matched within thresholds.\n",
      "'runworker'  4.20 ms\n"
     ]
    },
    {
     "name": "stderr",
     "output_type": "stream",
     "text": [
      "Loading molecular formula database: 66938it [00:01, 36240.41it/s]\n",
      "Started molecular formula search for class {\"N\": 3, \"O\": 20}, (de)protonated : 100%|██████████| 80/80 [00:00<00:00, 294.13it/s]\n"
     ]
    },
    {
     "name": "stdout",
     "output_type": "stream",
     "text": [
      "'run_molecular_formula'  2147.43 ms\n",
      "7 assigned peaks and 800 unassigned peaks, total  = 0.87 %, relative abundance = 1.29 %, RMS error (best candidate) (ppm) = 0.124\n",
      "timestart: 20\n",
      "negative\n",
      "MS Obj loaded - 656 peaks found.\n",
      "MS Obj loaded - 656 peaks found.\n",
      "Reference mass list loaded - 2030 calibration masses loaded.\n",
      "0 calibration points matched within thresholds.\n",
      "'runworker'  3.92 ms\n"
     ]
    },
    {
     "name": "stderr",
     "output_type": "stream",
     "text": [
      "Loading molecular formula database: 66938it [00:01, 37285.71it/s]\n",
      "Started molecular formula search for class {\"N\": 3, \"O\": 20}, (de)protonated : 100%|██████████| 80/80 [00:00<00:00, 332.50it/s]\n"
     ]
    },
    {
     "name": "stdout",
     "output_type": "stream",
     "text": [
      "'run_molecular_formula'  2063.88 ms\n",
      "2 assigned peaks and 654 unassigned peaks, total  = 0.30 %, relative abundance = 0.05 %, RMS error (best candidate) (ppm) = 0.016\n",
      "\n",
      "\n",
      "20230113_LBA_Boiteau_Zorbax5um_1500IT_neg_NovWastewater_fullmz_02.raw\n",
      "6 of 8 files\n",
      "timestart: 8\n",
      "negative\n",
      "MS Obj loaded - 509 peaks found.\n",
      "MS Obj loaded - 509 peaks found.\n",
      "Reference mass list loaded - 2030 calibration masses loaded.\n",
      "94 calibration points matched within thresholds.\n",
      "minimize function completed with RMS error of: 0.022 ppm\n",
      "minimize function performed 3006 fn evals and 75 iterations\n",
      "'runworker'  4.20 ms\n"
     ]
    },
    {
     "name": "stderr",
     "output_type": "stream",
     "text": [
      "Loading molecular formula database: 66938it [00:01, 34986.98it/s]\n",
      "Started molecular formula search for class {\"N\": 3, \"O\": 20}, (de)protonated : 100%|██████████| 80/80 [00:00<00:00, 322.53it/s]\n"
     ]
    },
    {
     "name": "stdout",
     "output_type": "stream",
     "text": [
      "'run_molecular_formula'  2198.76 ms\n",
      "305 assigned peaks and 204 unassigned peaks, total  = 59.92 %, relative abundance = 48.36 %, RMS error (best candidate) (ppm) = 0.043\n",
      "timestart: 10\n",
      "negative\n",
      "MS Obj loaded - 563 peaks found.\n",
      "MS Obj loaded - 563 peaks found.\n",
      "Reference mass list loaded - 2030 calibration masses loaded.\n",
      "114 calibration points matched within thresholds.\n",
      "minimize function completed with RMS error of: 0.034 ppm\n",
      "minimize function performed 325 fn evals and 6 iterations\n",
      "'runworker'  4.18 ms\n"
     ]
    },
    {
     "name": "stderr",
     "output_type": "stream",
     "text": [
      "Loading molecular formula database: 66938it [00:01, 35660.27it/s]\n",
      "Started molecular formula search for class {\"N\": 3, \"O\": 20}, (de)protonated : 100%|██████████| 80/80 [00:00<00:00, 284.65it/s]\n"
     ]
    },
    {
     "name": "stdout",
     "output_type": "stream",
     "text": [
      "'run_molecular_formula'  2193.02 ms\n",
      "374 assigned peaks and 189 unassigned peaks, total  = 66.43 %, relative abundance = 65.71 %, RMS error (best candidate) (ppm) = 0.056\n",
      "timestart: 12\n",
      "negative\n",
      "MS Obj loaded - 830 peaks found.\n",
      "MS Obj loaded - 830 peaks found.\n",
      "Reference mass list loaded - 2030 calibration masses loaded.\n",
      "133 calibration points matched within thresholds.\n",
      "minimize function completed with RMS error of: 0.047 ppm\n",
      "minimize function performed 317 fn evals and 6 iterations\n",
      "'runworker'  4.06 ms\n"
     ]
    },
    {
     "name": "stderr",
     "output_type": "stream",
     "text": [
      "Loading molecular formula database: 66938it [00:02, 32990.04it/s]\n",
      "Started molecular formula search for class {\"N\": 3, \"O\": 20}, (de)protonated : 100%|██████████| 80/80 [00:00<00:00, 215.74it/s]\n"
     ]
    },
    {
     "name": "stdout",
     "output_type": "stream",
     "text": [
      "'run_molecular_formula'  2440.09 ms\n",
      "476 assigned peaks and 354 unassigned peaks, total  = 57.35 %, relative abundance = 57.07 %, RMS error (best candidate) (ppm) = 0.056\n",
      "timestart: 14\n",
      "negative\n",
      "MS Obj loaded - 868 peaks found.\n",
      "MS Obj loaded - 868 peaks found.\n",
      "Reference mass list loaded - 2030 calibration masses loaded.\n",
      "142 calibration points matched within thresholds.\n",
      "minimize function completed with RMS error of: 0.049 ppm\n",
      "minimize function performed 3030 fn evals and 65 iterations\n",
      "'runworker'  4.00 ms\n"
     ]
    },
    {
     "name": "stderr",
     "output_type": "stream",
     "text": [
      "Loading molecular formula database: 66938it [00:02, 31054.84it/s]\n",
      "Started molecular formula search for class {\"N\": 3, \"O\": 20}, (de)protonated : 100%|██████████| 80/80 [00:00<00:00, 210.02it/s]\n"
     ]
    },
    {
     "name": "stdout",
     "output_type": "stream",
     "text": [
      "'run_molecular_formula'  2575.08 ms\n",
      "507 assigned peaks and 361 unassigned peaks, total  = 58.41 %, relative abundance = 56.32 %, RMS error (best candidate) (ppm) = 0.055\n",
      "timestart: 16\n",
      "negative\n",
      "MS Obj loaded - 1241 peaks found.\n",
      "MS Obj loaded - 1241 peaks found.\n",
      "Reference mass list loaded - 2030 calibration masses loaded.\n",
      "175 calibration points matched within thresholds.\n",
      "minimize function completed with RMS error of: 0.054 ppm\n",
      "minimize function performed 3024 fn evals and 69 iterations\n",
      "'runworker'  4.20 ms\n"
     ]
    },
    {
     "name": "stderr",
     "output_type": "stream",
     "text": [
      "Loading molecular formula database: 66938it [00:02, 31312.39it/s]\n",
      "Started molecular formula search for class {\"N\": 3, \"O\": 20}, (de)protonated : 100%|██████████| 80/80 [00:00<00:00, 148.41it/s]\n"
     ]
    },
    {
     "name": "stdout",
     "output_type": "stream",
     "text": [
      "'run_molecular_formula'  2721.99 ms\n",
      "681 assigned peaks and 560 unassigned peaks, total  = 54.88 %, relative abundance = 54.25 %, RMS error (best candidate) (ppm) = 0.060\n",
      "timestart: 18\n",
      "negative\n",
      "MS Obj loaded - 1213 peaks found.\n",
      "MS Obj loaded - 1213 peaks found.\n",
      "Reference mass list loaded - 2030 calibration masses loaded.\n",
      "170 calibration points matched within thresholds.\n",
      "minimize function completed with RMS error of: 0.059 ppm\n",
      "minimize function performed 3031 fn evals and 68 iterations\n",
      "'runworker'  4.26 ms\n"
     ]
    },
    {
     "name": "stderr",
     "output_type": "stream",
     "text": [
      "Loading molecular formula database: 66938it [00:02, 29612.30it/s]\n",
      "Started molecular formula search for class {\"N\": 3, \"O\": 20}, (de)protonated : 100%|██████████| 80/80 [00:00<00:00, 153.20it/s]\n"
     ]
    },
    {
     "name": "stdout",
     "output_type": "stream",
     "text": [
      "'run_molecular_formula'  2828.04 ms\n",
      "668 assigned peaks and 545 unassigned peaks, total  = 55.07 %, relative abundance = 53.77 %, RMS error (best candidate) (ppm) = 0.057\n",
      "timestart: 20\n",
      "negative\n",
      "MS Obj loaded - 1276 peaks found.\n",
      "MS Obj loaded - 1276 peaks found.\n",
      "Reference mass list loaded - 2030 calibration masses loaded.\n",
      "165 calibration points matched within thresholds.\n",
      "minimize function completed with RMS error of: 0.066 ppm\n",
      "minimize function performed 3009 fn evals and 73 iterations\n",
      "'runworker'  4.12 ms\n"
     ]
    },
    {
     "name": "stderr",
     "output_type": "stream",
     "text": [
      "Loading molecular formula database: 66938it [00:02, 29518.40it/s]\n",
      "Started molecular formula search for class {\"N\": 3, \"O\": 20}, (de)protonated : 100%|██████████| 80/80 [00:00<00:00, 146.88it/s]\n"
     ]
    },
    {
     "name": "stdout",
     "output_type": "stream",
     "text": [
      "'run_molecular_formula'  2859.54 ms\n",
      "727 assigned peaks and 549 unassigned peaks, total  = 56.97 %, relative abundance = 52.44 %, RMS error (best candidate) (ppm) = 0.070\n",
      "\n",
      "\n",
      "20230113_LBA_Boiteau_Zorbax5um_1500IT_neg_NovWastewater_fullmz_01.raw\n",
      "7 of 8 files\n",
      "timestart: 8\n",
      "negative\n",
      "MS Obj loaded - 584 peaks found.\n",
      "MS Obj loaded - 584 peaks found.\n",
      "Reference mass list loaded - 2030 calibration masses loaded.\n",
      "103 calibration points matched within thresholds.\n",
      "minimize function completed with RMS error of: 0.033 ppm\n",
      "minimize function performed 326 fn evals and 6 iterations\n",
      "'runworker'  4.05 ms\n"
     ]
    },
    {
     "name": "stderr",
     "output_type": "stream",
     "text": [
      "Loading molecular formula database: 66938it [00:02, 32327.24it/s]\n",
      "Started molecular formula search for class {\"N\": 3, \"O\": 20}, (de)protonated : 100%|██████████| 80/80 [00:00<00:00, 292.08it/s]\n"
     ]
    },
    {
     "name": "stdout",
     "output_type": "stream",
     "text": [
      "'run_molecular_formula'  2381.76 ms\n",
      "332 assigned peaks and 252 unassigned peaks, total  = 56.85 %, relative abundance = 47.08 %, RMS error (best candidate) (ppm) = 0.065\n",
      "timestart: 10\n",
      "negative\n",
      "MS Obj loaded - 743 peaks found.\n",
      "MS Obj loaded - 743 peaks found.\n",
      "Reference mass list loaded - 2030 calibration masses loaded.\n",
      "136 calibration points matched within thresholds.\n",
      "minimize function completed with RMS error of: 0.049 ppm\n",
      "minimize function performed 414 fn evals and 9 iterations\n",
      "'runworker'  4.13 ms\n"
     ]
    },
    {
     "name": "stderr",
     "output_type": "stream",
     "text": [
      "Loading molecular formula database: 66938it [00:01, 35193.71it/s]\n",
      "Started molecular formula search for class {\"N\": 3, \"O\": 20}, (de)protonated : 100%|██████████| 80/80 [00:00<00:00, 228.08it/s]\n"
     ]
    },
    {
     "name": "stdout",
     "output_type": "stream",
     "text": [
      "'run_molecular_formula'  2291.36 ms\n",
      "458 assigned peaks and 285 unassigned peaks, total  = 61.64 %, relative abundance = 64.42 %, RMS error (best candidate) (ppm) = 0.067\n",
      "timestart: 12\n",
      "negative\n",
      "MS Obj loaded - 964 peaks found.\n",
      "MS Obj loaded - 964 peaks found.\n",
      "Reference mass list loaded - 2030 calibration masses loaded.\n",
      "146 calibration points matched within thresholds.\n",
      "minimize function completed with RMS error of: 0.049 ppm\n",
      "minimize function performed 320 fn evals and 6 iterations\n",
      "'runworker'  4.02 ms\n"
     ]
    },
    {
     "name": "stderr",
     "output_type": "stream",
     "text": [
      "Loading molecular formula database: 66938it [00:02, 29737.59it/s]\n",
      "Started molecular formula search for class {\"N\": 3, \"O\": 20}, (de)protonated : 100%|██████████| 80/80 [00:00<00:00, 185.42it/s]\n"
     ]
    },
    {
     "name": "stdout",
     "output_type": "stream",
     "text": [
      "'run_molecular_formula'  2722.76 ms\n",
      "537 assigned peaks and 427 unassigned peaks, total  = 55.71 %, relative abundance = 57.56 %, RMS error (best candidate) (ppm) = 0.066\n",
      "timestart: 14\n",
      "negative\n",
      "MS Obj loaded - 846 peaks found.\n",
      "MS Obj loaded - 846 peaks found.\n",
      "Reference mass list loaded - 2030 calibration masses loaded.\n",
      "146 calibration points matched within thresholds.\n",
      "minimize function completed with RMS error of: 0.061 ppm\n",
      "minimize function performed 3005 fn evals and 74 iterations\n",
      "'runworker'  3.93 ms\n"
     ]
    },
    {
     "name": "stderr",
     "output_type": "stream",
     "text": [
      "Loading molecular formula database: 66938it [00:01, 33621.59it/s]\n",
      "Started molecular formula search for class {\"N\": 3, \"O\": 20}, (de)protonated : 100%|██████████| 80/80 [00:00<00:00, 201.89it/s]\n"
     ]
    },
    {
     "name": "stdout",
     "output_type": "stream",
     "text": [
      "'run_molecular_formula'  2427.18 ms\n",
      "513 assigned peaks and 333 unassigned peaks, total  = 60.64 %, relative abundance = 57.05 %, RMS error (best candidate) (ppm) = 0.056\n",
      "timestart: 16\n",
      "negative\n",
      "MS Obj loaded - 955 peaks found.\n",
      "MS Obj loaded - 955 peaks found.\n",
      "Reference mass list loaded - 2030 calibration masses loaded.\n",
      "160 calibration points matched within thresholds.\n",
      "minimize function completed with RMS error of: 0.064 ppm\n",
      "minimize function performed 3001 fn evals and 72 iterations\n",
      "'runworker'  9.55 ms\n"
     ]
    },
    {
     "name": "stderr",
     "output_type": "stream",
     "text": [
      "Loading molecular formula database: 66938it [00:02, 31761.07it/s]\n",
      "Started molecular formula search for class {\"N\": 3, \"O\": 20}, (de)protonated : 100%|██████████| 80/80 [00:00<00:00, 188.75it/s]\n"
     ]
    },
    {
     "name": "stdout",
     "output_type": "stream",
     "text": [
      "'run_molecular_formula'  2577.98 ms\n",
      "581 assigned peaks and 374 unassigned peaks, total  = 60.84 %, relative abundance = 54.81 %, RMS error (best candidate) (ppm) = 0.062\n",
      "timestart: 18\n",
      "negative\n",
      "MS Obj loaded - 1286 peaks found.\n",
      "MS Obj loaded - 1286 peaks found.\n",
      "Reference mass list loaded - 2030 calibration masses loaded.\n",
      "174 calibration points matched within thresholds.\n",
      "minimize function completed with RMS error of: 0.057 ppm\n",
      "minimize function performed 3038 fn evals and 71 iterations\n",
      "'runworker'  4.50 ms\n"
     ]
    },
    {
     "name": "stderr",
     "output_type": "stream",
     "text": [
      "Loading molecular formula database: 66938it [00:02, 29852.61it/s]\n",
      "Started molecular formula search for class {\"N\": 3, \"O\": 20}, (de)protonated : 100%|██████████| 80/80 [00:00<00:00, 142.19it/s]\n"
     ]
    },
    {
     "name": "stdout",
     "output_type": "stream",
     "text": [
      "'run_molecular_formula'  2852.49 ms\n",
      "709 assigned peaks and 577 unassigned peaks, total  = 55.13 %, relative abundance = 54.37 %, RMS error (best candidate) (ppm) = 0.064\n",
      "timestart: 20\n",
      "negative\n",
      "MS Obj loaded - 1098 peaks found.\n",
      "MS Obj loaded - 1098 peaks found.\n",
      "Reference mass list loaded - 2030 calibration masses loaded.\n",
      "159 calibration points matched within thresholds.\n",
      "minimize function completed with RMS error of: 0.086 ppm\n",
      "minimize function performed 343 fn evals and 7 iterations\n",
      "'runworker'  4.33 ms\n"
     ]
    },
    {
     "name": "stderr",
     "output_type": "stream",
     "text": [
      "Loading molecular formula database: 66938it [00:02, 28407.41it/s]\n",
      "Started molecular formula search for class {\"N\": 3, \"O\": 20}, (de)protonated : 100%|██████████| 80/80 [00:00<00:00, 167.74it/s]\n"
     ]
    },
    {
     "name": "stdout",
     "output_type": "stream",
     "text": [
      "'run_molecular_formula'  2878.70 ms\n",
      "658 assigned peaks and 440 unassigned peaks, total  = 59.93 %, relative abundance = 52.85 %, RMS error (best candidate) (ppm) = 0.078\n",
      "\n",
      "\n",
      "20230113_LBA_Boiteau_Zorbax5um_1500IT_neg_FinalEff_fullmz_01.raw\n",
      "8 of 8 files\n",
      "timestart: 8\n",
      "negative\n",
      "MS Obj loaded - 372 peaks found.\n",
      "MS Obj loaded - 372 peaks found.\n",
      "Reference mass list loaded - 2030 calibration masses loaded.\n",
      "70 calibration points matched within thresholds.\n",
      "minimize function completed with RMS error of: 0.063 ppm\n",
      "minimize function performed 320 fn evals and 6 iterations\n",
      "'runworker'  3.72 ms\n"
     ]
    },
    {
     "name": "stderr",
     "output_type": "stream",
     "text": [
      "Loading molecular formula database: 66938it [00:01, 40095.29it/s]\n",
      "Started molecular formula search for class {\"N\": 3, \"O\": 20}, (de)protonated : 100%|██████████| 80/80 [00:00<00:00, 396.08it/s]\n"
     ]
    },
    {
     "name": "stdout",
     "output_type": "stream",
     "text": [
      "'run_molecular_formula'  1901.02 ms\n",
      "232 assigned peaks and 140 unassigned peaks, total  = 62.37 %, relative abundance = 52.06 %, RMS error (best candidate) (ppm) = 0.033\n",
      "timestart: 10\n",
      "negative\n",
      "MS Obj loaded - 499 peaks found.\n",
      "MS Obj loaded - 499 peaks found.\n",
      "Reference mass list loaded - 2030 calibration masses loaded.\n",
      "99 calibration points matched within thresholds.\n",
      "minimize function completed with RMS error of: 0.035 ppm\n",
      "minimize function performed 420 fn evals and 9 iterations\n",
      "'runworker'  4.29 ms\n"
     ]
    },
    {
     "name": "stderr",
     "output_type": "stream",
     "text": [
      "Loading molecular formula database: 66938it [00:01, 36424.74it/s]\n",
      "Started molecular formula search for class {\"N\": 3, \"O\": 20}, (de)protonated : 100%|██████████| 80/80 [00:00<00:00, 348.22it/s]\n"
     ]
    },
    {
     "name": "stdout",
     "output_type": "stream",
     "text": [
      "'run_molecular_formula'  2096.46 ms\n",
      "341 assigned peaks and 158 unassigned peaks, total  = 68.34 %, relative abundance = 72.70 %, RMS error (best candidate) (ppm) = 0.047\n",
      "timestart: 12\n",
      "negative\n",
      "MS Obj loaded - 728 peaks found.\n",
      "MS Obj loaded - 728 peaks found.\n",
      "Reference mass list loaded - 2030 calibration masses loaded.\n",
      "134 calibration points matched within thresholds.\n",
      "minimize function completed with RMS error of: 0.042 ppm\n",
      "minimize function performed 389 fn evals and 8 iterations\n",
      "'runworker'  4.04 ms\n"
     ]
    },
    {
     "name": "stderr",
     "output_type": "stream",
     "text": [
      "Loading molecular formula database: 66938it [00:02, 33337.80it/s]\n",
      "Started molecular formula search for class {\"N\": 3, \"O\": 20}, (de)protonated : 100%|██████████| 80/80 [00:00<00:00, 246.00it/s]\n"
     ]
    },
    {
     "name": "stdout",
     "output_type": "stream",
     "text": [
      "'run_molecular_formula'  2367.38 ms\n",
      "464 assigned peaks and 264 unassigned peaks, total  = 63.74 %, relative abundance = 67.05 %, RMS error (best candidate) (ppm) = 0.050\n",
      "timestart: 14\n",
      "negative\n",
      "MS Obj loaded - 1054 peaks found.\n",
      "MS Obj loaded - 1054 peaks found.\n",
      "Reference mass list loaded - 2030 calibration masses loaded.\n",
      "169 calibration points matched within thresholds.\n",
      "minimize function completed with RMS error of: 0.075 ppm\n",
      "minimize function performed 340 fn evals and 7 iterations\n",
      "'runworker'  4.18 ms\n"
     ]
    },
    {
     "name": "stderr",
     "output_type": "stream",
     "text": [
      "Loading molecular formula database: 66938it [00:02, 32044.08it/s]\n",
      "Started molecular formula search for class {\"N\": 3, \"O\": 20}, (de)protonated : 100%|██████████| 80/80 [00:00<00:00, 173.88it/s]\n"
     ]
    },
    {
     "name": "stdout",
     "output_type": "stream",
     "text": [
      "'run_molecular_formula'  2588.95 ms\n",
      "617 assigned peaks and 437 unassigned peaks, total  = 58.54 %, relative abundance = 72.65 %, RMS error (best candidate) (ppm) = 0.069\n",
      "timestart: 16\n",
      "negative\n",
      "MS Obj loaded - 985 peaks found.\n",
      "MS Obj loaded - 985 peaks found.\n",
      "Reference mass list loaded - 2030 calibration masses loaded.\n",
      "167 calibration points matched within thresholds.\n",
      "minimize function completed with RMS error of: 0.057 ppm\n",
      "minimize function performed 3016 fn evals and 69 iterations\n",
      "'runworker'  4.14 ms\n"
     ]
    },
    {
     "name": "stderr",
     "output_type": "stream",
     "text": [
      "Loading molecular formula database: 66938it [00:02, 32974.64it/s]\n",
      "Started molecular formula search for class {\"N\": 3, \"O\": 20}, (de)protonated : 100%|██████████| 80/80 [00:00<00:00, 150.00it/s]\n"
     ]
    },
    {
     "name": "stdout",
     "output_type": "stream",
     "text": [
      "'run_molecular_formula'  2594.40 ms\n",
      "641 assigned peaks and 344 unassigned peaks, total  = 65.08 %, relative abundance = 74.82 %, RMS error (best candidate) (ppm) = 0.058\n",
      "timestart: 18\n",
      "negative\n",
      "MS Obj loaded - 873 peaks found.\n",
      "MS Obj loaded - 873 peaks found.\n",
      "Reference mass list loaded - 2030 calibration masses loaded.\n",
      "160 calibration points matched within thresholds.\n",
      "minimize function completed with RMS error of: 0.049 ppm\n",
      "minimize function performed 3000 fn evals and 65 iterations\n",
      "'runworker'  10.47 ms\n"
     ]
    },
    {
     "name": "stderr",
     "output_type": "stream",
     "text": [
      "Loading molecular formula database: 66938it [00:02, 31408.46it/s]\n",
      "Started molecular formula search for class {\"N\": 3, \"O\": 20}, (de)protonated : 100%|██████████| 80/80 [00:00<00:00, 204.48it/s]\n"
     ]
    },
    {
     "name": "stdout",
     "output_type": "stream",
     "text": [
      "'run_molecular_formula'  2570.53 ms\n",
      "602 assigned peaks and 271 unassigned peaks, total  = 68.96 %, relative abundance = 75.71 %, RMS error (best candidate) (ppm) = 0.057\n",
      "timestart: 20\n",
      "negative\n",
      "MS Obj loaded - 1023 peaks found.\n",
      "MS Obj loaded - 1023 peaks found.\n",
      "Reference mass list loaded - 2030 calibration masses loaded.\n",
      "163 calibration points matched within thresholds.\n",
      "minimize function completed with RMS error of: 0.047 ppm\n",
      "minimize function performed 3005 fn evals and 64 iterations\n",
      "'runworker'  3.70 ms\n"
     ]
    },
    {
     "name": "stderr",
     "output_type": "stream",
     "text": [
      "Loading molecular formula database: 66938it [00:02, 30000.88it/s]\n",
      "Started molecular formula search for class {\"N\": 3, \"O\": 20}, (de)protonated : 100%|██████████| 80/80 [00:00<00:00, 177.88it/s]\n"
     ]
    },
    {
     "name": "stdout",
     "output_type": "stream",
     "text": [
      "'run_molecular_formula'  2724.80 ms\n",
      "685 assigned peaks and 338 unassigned peaks, total  = 66.96 %, relative abundance = 69.07 %, RMS error (best candidate) (ppm) = 0.059\n"
     ]
    }
   ],
   "source": [
    "# run assignment algorithm\n",
    "timerange = [8,22]  # start (min) to stop (min)\n",
    "interval = 2  # min \n",
    "refmasslist = \"/Users/christiandewey/CoreMS/db/Hawkes_neg.ref\"\n",
    "\n",
    "data.assign_formula(interval = interval, timerange = timerange, refmasslist = refmasslist, calorder =2, charge = -1)\n",
    "#data_df = lcmsfns.assign_formula(parser=parser, interval = interval, timerange = timerange, refmasslist = refmasslist, calorder =2, charge = -1)\n",
    "\n",
    "data_df = data.complete_results_df"
   ]
  }
 ],
 "metadata": {
  "kernelspec": {
   "display_name": "env",
   "language": "python",
   "name": "python3"
  },
  "language_info": {
   "codemirror_mode": {
    "name": "ipython",
    "version": 3
   },
   "file_extension": ".py",
   "mimetype": "text/x-python",
   "name": "python",
   "nbconvert_exporter": "python",
   "pygments_lexer": "ipython3",
   "version": "3.8.15 (default, Nov 27 2022, 21:17:29) \n[Clang 14.0.0 (clang-1400.0.29.202)]"
  },
  "orig_nbformat": 4,
  "vscode": {
   "interpreter": {
    "hash": "4a89ef0f0087d043516959840435a1ba2fc11671454c58b55cd65c8c9ca3f627"
   }
  }
 },
 "nbformat": 4,
 "nbformat_minor": 2
}
