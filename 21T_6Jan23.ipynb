{
 "cells": [
  {
   "cell_type": "code",
   "execution_count": 1,
   "metadata": {},
   "outputs": [
    {
     "data": {
      "text/plain": [
       "<module 'corems.lc_icpms_ftms.calc.lc_icrms_qc_assign' from '/Users/christiandewey/CoreMS/corems/lc_icpms_ftms/calc/lc_icrms_qc_assign.py'>"
      ]
     },
     "execution_count": 1,
     "metadata": {},
     "output_type": "execute_result"
    }
   ],
   "source": [
    "import os\n",
    "from tempfile import tempdir\n",
    "from time import time\n",
    "from turtle import color\n",
    "from unittest.mock import NonCallableMagicMock\n",
    "import pandas as pd\n",
    "import numpy as np\n",
    "import warnings\n",
    "import math\n",
    "import re\n",
    "\n",
    "import seaborn as sns\n",
    "warnings.filterwarnings(\"ignore\")\n",
    "\n",
    "import sys\n",
    "sys.path.append(\"./\")\n",
    "\n",
    "from pathlib import Path\n",
    "\n",
    "import tqdm\n",
    "import importlib\n",
    "\n",
    "import matplotlib.pyplot as plt\n",
    "# from PySide2.QtWidgets import QFileDialog, QApplication\n",
    "# from PySide2.QtCore import Qt\n",
    "from copy import copy \n",
    "\n",
    "from corems.mass_spectra.input import rawFileReader\n",
    "from corems.molecular_id.factory.classification import HeteroatomsClassification, Labels\n",
    "from corems.molecular_id.search.priorityAssignment import OxygenPriorityAssignment\n",
    "from corems.molecular_id.search.molecularFormulaSearch import SearchMolecularFormulas\n",
    "from corems.encapsulation.factory.parameters import MSParameters\n",
    "from corems.encapsulation.constant import Atoms\n",
    "from corems.mass_spectrum.calc.Calibration import MzDomainCalibration\n",
    "\n",
    "import corems.lc_icpms_ftms.calc.lc_icrms_qc_assign as icrms\n",
    "import corems.lc_icpms_ftms.calc.lc_icrms_helpers as lcmsfns\n",
    "\n",
    "import importlib\n",
    "importlib.reload(icrms)\n",
    "\n",
    "\n",
    "#rawfile='/Users/christiandewey/Library/CloudStorage/Box-Box/Boiteau Lab/Mass Spec Data/21T at NHMFL/2022-10 Nicole & Christian/Christian/backup/20221102_LBA_Boiteau_Zorbax3p5_slough_400_500_02.raw'\n",
    "\n"
   ]
  },
  {
   "cell_type": "code",
   "execution_count": 3,
   "metadata": {},
   "outputs": [],
   "source": [
    "# reload modules & set fname\n",
    "importlib.reload(icrms)\n",
    "importlib.reload(lcmsfns)\n",
    "\n",
    "fname = 'slough-CHON3CuFe_23-01-06.csv'"
   ]
  },
  {
   "cell_type": "code",
   "execution_count": 45,
   "metadata": {},
   "outputs": [
    {
     "name": "stdout",
     "output_type": "stream",
     "text": [
      "20221103_LBA_Boiteau_Zorbax3p5_spring_400_600.raw\n",
      "20221103_LBA_Boiteau_Zorbax3p5_spring_fullmz.raw\n",
      "20221103_LBA_Boiteau_Zorbax3p5_spring_400_500.raw\n",
      "20221103_LBA_Boiteau_Zorbax3p5_spring_500_600.raw\n",
      "20221103_LBA_Boiteau_Zorbax3p5_qh2o_400_500.raw\n",
      "20221103_LBA_Boiteau_Zorbax3p5_qh2o_500_600.raw\n",
      "20221103_LBA_Boiteau_Zorbax3p5_qh2o_fullmz.raw\n"
     ]
    }
   ],
   "source": [
    "# get files & parsers\n",
    "\n",
    "dir='/Users/christiandewey/Library/CloudStorage/Box-Box/Boiteau Lab/Mass Spec Data/21T at NHMFL/2022-10 Nicole & Christian/Christian/spring/lowmz-r1/'\n",
    "flist=os.listdir(dir)\n",
    "os.chdir(dir)\n",
    "\n",
    "# get parsers\n",
    "\n",
    "MSfiles={}\n",
    "\n",
    "for f in flist:\n",
    "    if ('.raw' in f) & ('_rep2' not in f):\n",
    "        print(f)\n",
    "        parser = rawFileReader.ImportMassSpectraThermoMSFileReader(f)\n",
    "        MSfiles[f]={'parser': parser}\n",
    "\n",
    "data = icrms.lc_icr_assign(dir)\n",
    "\n",
    "data.master_data_holder = MSfiles\n",
    "\n",
    "data._raw_filelist = data.master_data_holder.keys()"
   ]
  },
  {
   "cell_type": "code",
   "execution_count": 46,
   "metadata": {},
   "outputs": [],
   "source": [
    "# set assignment parameters\n",
    "MSParameters.mass_spectrum.threshold_method = 'signal_noise'\n",
    "MSParameters.mass_spectrum.s2n_threshold = 2\n",
    "MSParameters.ms_peak.peak_min_prominence_percent = 0.001\n",
    "\n",
    "MSParameters.molecular_search.error_method = 'None'\n",
    "MSParameters.molecular_search.min_ppm_error = -0.25\n",
    "MSParameters.molecular_search.max_ppm_error = 0.25\n",
    "\n",
    "MSParameters.molecular_search.isProtonated = True\n",
    "MSParameters.molecular_search.isRadical = False\n",
    "MSParameters.molecular_search.isAdduct = False\n",
    "\n",
    "MSParameters.molecular_search.score_method = \"prob_score\"\n",
    "MSParameters.molecular_search.output_score_method = \"prob_score\"\n",
    "\n",
    "MSParameters.molecular_search.url_database = None\n",
    "MSParameters.molecular_search.min_dbe = -1\n",
    "MSParameters.molecular_search.max_dbe = 20\n",
    "\n",
    "MSParameters.molecular_search.usedAtoms['C'] = (1,50)\n",
    "MSParameters.molecular_search.usedAtoms['H'] = (4,100)\n",
    "MSParameters.molecular_search.usedAtoms['O'] = (1,20)\n",
    "MSParameters.molecular_search.usedAtoms['N'] = (0,3)\n",
    "MSParameters.molecular_search.usedAtoms['Cu'] = (0,1)\n",
    "MSParameters.molecular_search.usedAtoms['Fe'] = (0,1)\n",
    "#MSParameters.molecular_search.usedAtoms['S'] = (0,1)\n",
    "#MSParameters.molecular_search.usedAtoms['P'] = (0,1)\n",
    "\n",
    "\n"
   ]
  },
  {
   "cell_type": "code",
   "execution_count": 47,
   "metadata": {},
   "outputs": [
    {
     "name": "stdout",
     "output_type": "stream",
     "text": [
      "\n",
      "\n",
      "20221103_LBA_Boiteau_Zorbax3p5_spring_400_600.raw\n",
      "1 of 7 files\n",
      "timestart: 4\n",
      "MS Obj loaded - 1268 peaks found.\n",
      "MS Obj loaded - 1268 peaks found.\n",
      "Reference mass list loaded - 290 calibration masses loaded.\n",
      "34 calibration points matched within thresholds.\n",
      "minimize function completed with RMS error of: 0.027 ppm\n",
      "minimize function performed 174 fn evals and 2 iterations\n",
      "'runworker'  22.94 ms\n"
     ]
    },
    {
     "name": "stderr",
     "output_type": "stream",
     "text": [
      "Loading molecular formula database: 246538it [00:08, 29170.43it/s]\n",
      "Started molecular formula search for class {\"N\": 3, \"O\": 15, \"Cu\": 1, \"Fe\": 1}, (de)protonated : 100%|██████████| 300/300 [00:02<00:00, 146.86it/s]\n",
      "Loading molecular formula database: 16580it [00:00, 39177.39it/s]\n",
      "Started molecular formula search for class {\"N\": 3, \"O\": 20, \"Cu\": 1, \"Fe\": 1}, (de)protonated : 100%|██████████| 20/20 [00:00<00:00, 344.48it/s]\n"
     ]
    },
    {
     "name": "stdout",
     "output_type": "stream",
     "text": [
      "'run_molecular_formula'  11136.49 ms\n",
      "466 assigned peaks and 802 unassigned peaks, total  = 36.75 %, relative abundance = 34.46 %, RMS error (best candidate) (ppm) = 0.051\n",
      "timestart: 6\n",
      "MS Obj loaded - 2128 peaks found.\n",
      "MS Obj loaded - 2128 peaks found.\n",
      "Reference mass list loaded - 290 calibration masses loaded.\n",
      "62 calibration points matched within thresholds.\n",
      "minimize function completed with RMS error of: 0.022 ppm\n",
      "minimize function performed 326 fn evals and 4 iterations\n",
      "'runworker'  14.57 ms\n"
     ]
    },
    {
     "name": "stderr",
     "output_type": "stream",
     "text": [
      "Loading molecular formula database: 246538it [00:08, 30131.30it/s]\n",
      "Started molecular formula search for class {\"N\": 3, \"O\": 15, \"Cu\": 1, \"Fe\": 1}, (de)protonated : 100%|██████████| 300/300 [00:03<00:00, 89.91it/s] \n",
      "Loading molecular formula database: 16580it [00:00, 41607.27it/s]\n",
      "Started molecular formula search for class {\"N\": 3, \"O\": 20, \"Cu\": 1, \"Fe\": 1}, (de)protonated : 100%|██████████| 20/20 [00:00<00:00, 226.53it/s]\n"
     ]
    },
    {
     "name": "stdout",
     "output_type": "stream",
     "text": [
      "'run_molecular_formula'  12116.35 ms\n",
      "1115 assigned peaks and 1013 unassigned peaks, total  = 52.40 %, relative abundance = 55.14 %, RMS error (best candidate) (ppm) = 0.047\n",
      "timestart: 8\n",
      "MS Obj loaded - 2816 peaks found.\n",
      "MS Obj loaded - 2816 peaks found.\n",
      "Reference mass list loaded - 290 calibration masses loaded.\n",
      "87 calibration points matched within thresholds.\n",
      "minimize function completed with RMS error of: 0.020 ppm\n",
      "minimize function performed 273 fn evals and 3 iterations\n",
      "'runworker'  14.22 ms\n"
     ]
    },
    {
     "name": "stderr",
     "output_type": "stream",
     "text": [
      "Loading molecular formula database: 246538it [00:08, 30183.11it/s]\n",
      "Started molecular formula search for class {\"N\": 3, \"O\": 15, \"Cu\": 1, \"Fe\": 1}, (de)protonated : 100%|██████████| 300/300 [00:04<00:00, 68.54it/s]\n",
      "Loading molecular formula database: 16580it [00:00, 41010.56it/s]\n",
      "Started molecular formula search for class {\"N\": 3, \"O\": 20, \"Cu\": 1, \"Fe\": 1}, (de)protonated : 100%|██████████| 20/20 [00:00<00:00, 169.78it/s]\n"
     ]
    },
    {
     "name": "stdout",
     "output_type": "stream",
     "text": [
      "'run_molecular_formula'  13177.30 ms\n",
      "1581 assigned peaks and 1235 unassigned peaks, total  = 56.14 %, relative abundance = 63.70 %, RMS error (best candidate) (ppm) = 0.052\n",
      "timestart: 10\n",
      "MS Obj loaded - 3077 peaks found.\n",
      "MS Obj loaded - 3077 peaks found.\n",
      "Reference mass list loaded - 290 calibration masses loaded.\n",
      "119 calibration points matched within thresholds.\n",
      "minimize function completed with RMS error of: 0.022 ppm\n",
      "minimize function performed 366 fn evals and 7 iterations\n",
      "'runworker'  14.35 ms\n"
     ]
    },
    {
     "name": "stderr",
     "output_type": "stream",
     "text": [
      "Loading molecular formula database: 246538it [00:08, 30391.09it/s]\n",
      "Started molecular formula search for class {\"N\": 3, \"O\": 15, \"Cu\": 1, \"Fe\": 1}, (de)protonated : 100%|██████████| 300/300 [00:04<00:00, 61.79it/s]\n",
      "Loading molecular formula database: 16580it [00:00, 41876.44it/s]\n",
      "Started molecular formula search for class {\"N\": 3, \"O\": 20, \"Cu\": 1, \"Fe\": 1}, (de)protonated : 100%|██████████| 20/20 [00:00<00:00, 153.72it/s]\n"
     ]
    },
    {
     "name": "stdout",
     "output_type": "stream",
     "text": [
      "'run_molecular_formula'  13608.49 ms\n",
      "1847 assigned peaks and 1230 unassigned peaks, total  = 60.03 %, relative abundance = 67.38 %, RMS error (best candidate) (ppm) = 0.054\n",
      "timestart: 12\n",
      "MS Obj loaded - 3549 peaks found.\n",
      "MS Obj loaded - 3549 peaks found.\n",
      "Reference mass list loaded - 290 calibration masses loaded.\n",
      "143 calibration points matched within thresholds.\n",
      "minimize function completed with RMS error of: 0.017 ppm\n",
      "minimize function performed 370 fn evals and 7 iterations\n",
      "'runworker'  15.19 ms\n"
     ]
    },
    {
     "name": "stderr",
     "output_type": "stream",
     "text": [
      "Loading molecular formula database: 246538it [00:07, 31286.27it/s]\n",
      "Started molecular formula search for class {\"N\": 3, \"O\": 15, \"Cu\": 1, \"Fe\": 1}, (de)protonated : 100%|██████████| 300/300 [00:05<00:00, 54.35it/s]\n",
      "Loading molecular formula database: 16580it [00:00, 41327.07it/s]\n",
      "Started molecular formula search for class {\"N\": 3, \"O\": 20, \"Cu\": 1, \"Fe\": 1}, (de)protonated : 100%|██████████| 20/20 [00:00<00:00, 134.17it/s]\n"
     ]
    },
    {
     "name": "stdout",
     "output_type": "stream",
     "text": [
      "'run_molecular_formula'  14060.77 ms\n",
      "2185 assigned peaks and 1364 unassigned peaks, total  = 61.57 %, relative abundance = 71.26 %, RMS error (best candidate) (ppm) = 0.048\n",
      "timestart: 14\n",
      "MS Obj loaded - 3768 peaks found.\n",
      "MS Obj loaded - 3768 peaks found.\n",
      "Reference mass list loaded - 290 calibration masses loaded.\n",
      "153 calibration points matched within thresholds.\n",
      "minimize function completed with RMS error of: 0.021 ppm\n",
      "minimize function performed 363 fn evals and 7 iterations\n",
      "'runworker'  14.55 ms\n"
     ]
    },
    {
     "name": "stderr",
     "output_type": "stream",
     "text": [
      "Loading molecular formula database: 246538it [00:07, 30951.33it/s]\n",
      "Started molecular formula search for class {\"N\": 3, \"O\": 15, \"Cu\": 1, \"Fe\": 1}, (de)protonated : 100%|██████████| 300/300 [00:05<00:00, 51.01it/s]\n",
      "Loading molecular formula database: 16580it [00:00, 41519.11it/s]\n",
      "Started molecular formula search for class {\"N\": 3, \"O\": 20, \"Cu\": 1, \"Fe\": 1}, (de)protonated : 100%|██████████| 20/20 [00:00<00:00, 127.32it/s]\n"
     ]
    },
    {
     "name": "stdout",
     "output_type": "stream",
     "text": [
      "'run_molecular_formula'  14512.87 ms\n",
      "2401 assigned peaks and 1367 unassigned peaks, total  = 63.72 %, relative abundance = 76.18 %, RMS error (best candidate) (ppm) = 0.053\n",
      "timestart: 16\n",
      "MS Obj loaded - 3452 peaks found.\n",
      "MS Obj loaded - 3452 peaks found.\n",
      "Reference mass list loaded - 290 calibration masses loaded.\n",
      "162 calibration points matched within thresholds.\n",
      "minimize function completed with RMS error of: 0.016 ppm\n",
      "minimize function performed 360 fn evals and 7 iterations\n",
      "'runworker'  14.47 ms\n"
     ]
    },
    {
     "name": "stderr",
     "output_type": "stream",
     "text": [
      "Loading molecular formula database: 246538it [00:08, 29204.32it/s]\n",
      "Started molecular formula search for class {\"N\": 3, \"O\": 15, \"Cu\": 1, \"Fe\": 1}, (de)protonated : 100%|██████████| 300/300 [00:05<00:00, 55.80it/s]\n",
      "Loading molecular formula database: 16580it [00:00, 41233.42it/s]\n",
      "Started molecular formula search for class {\"N\": 3, \"O\": 20, \"Cu\": 1, \"Fe\": 1}, (de)protonated : 100%|██████████| 20/20 [00:00<00:00, 138.77it/s]\n"
     ]
    },
    {
     "name": "stdout",
     "output_type": "stream",
     "text": [
      "'run_molecular_formula'  14473.81 ms\n",
      "2295 assigned peaks and 1157 unassigned peaks, total  = 66.48 %, relative abundance = 78.76 %, RMS error (best candidate) (ppm) = 0.050\n",
      "timestart: 18\n",
      "MS Obj loaded - 3759 peaks found.\n",
      "MS Obj loaded - 3759 peaks found.\n",
      "Reference mass list loaded - 290 calibration masses loaded.\n",
      "166 calibration points matched within thresholds.\n",
      "minimize function completed with RMS error of: 0.019 ppm\n",
      "minimize function performed 366 fn evals and 7 iterations\n",
      "'runworker'  14.44 ms\n"
     ]
    },
    {
     "name": "stderr",
     "output_type": "stream",
     "text": [
      "Loading molecular formula database: 246538it [00:07, 31969.59it/s]\n",
      "Started molecular formula search for class {\"N\": 3, \"O\": 15, \"Cu\": 1, \"Fe\": 1}, (de)protonated : 100%|██████████| 300/300 [00:05<00:00, 50.69it/s]\n",
      "Loading molecular formula database: 16580it [00:00, 41323.98it/s]\n",
      "Started molecular formula search for class {\"N\": 3, \"O\": 20, \"Cu\": 1, \"Fe\": 1}, (de)protonated : 100%|██████████| 20/20 [00:00<00:00, 126.73it/s]\n"
     ]
    },
    {
     "name": "stdout",
     "output_type": "stream",
     "text": [
      "'run_molecular_formula'  14297.34 ms\n",
      "2515 assigned peaks and 1244 unassigned peaks, total  = 66.91 %, relative abundance = 81.02 %, RMS error (best candidate) (ppm) = 0.051\n",
      "timestart: 20\n",
      "MS Obj loaded - 3919 peaks found.\n",
      "MS Obj loaded - 3919 peaks found.\n",
      "Reference mass list loaded - 290 calibration masses loaded.\n",
      "167 calibration points matched within thresholds.\n",
      "minimize function completed with RMS error of: 0.021 ppm\n",
      "minimize function performed 361 fn evals and 7 iterations\n",
      "'runworker'  14.44 ms\n"
     ]
    },
    {
     "name": "stderr",
     "output_type": "stream",
     "text": [
      "Loading molecular formula database: 246538it [00:07, 30886.20it/s]\n",
      "Started molecular formula search for class {\"N\": 3, \"O\": 15, \"Cu\": 1, \"Fe\": 1}, (de)protonated : 100%|██████████| 300/300 [00:06<00:00, 49.02it/s]\n",
      "Loading molecular formula database: 16580it [00:00, 41047.54it/s]\n",
      "Started molecular formula search for class {\"N\": 3, \"O\": 20, \"Cu\": 1, \"Fe\": 1}, (de)protonated : 100%|██████████| 20/20 [00:00<00:00, 119.61it/s]\n"
     ]
    },
    {
     "name": "stdout",
     "output_type": "stream",
     "text": [
      "'run_molecular_formula'  14781.96 ms\n",
      "2655 assigned peaks and 1264 unassigned peaks, total  = 67.75 %, relative abundance = 82.81 %, RMS error (best candidate) (ppm) = 0.054\n",
      "\n",
      "\n",
      "20221103_LBA_Boiteau_Zorbax3p5_spring_fullmz.raw\n",
      "2 of 7 files\n",
      "timestart: 4\n",
      "MS Obj loaded - 1634 peaks found.\n",
      "MS Obj loaded - 1634 peaks found.\n",
      "Reference mass list loaded - 290 calibration masses loaded.\n",
      "77 calibration points matched within thresholds.\n",
      "minimize function completed with RMS error of: 0.024 ppm\n",
      "minimize function performed 350 fn evals and 7 iterations\n",
      "'runworker'  14.75 ms\n"
     ]
    },
    {
     "name": "stderr",
     "output_type": "stream",
     "text": [
      "Loading molecular formula database: 246538it [00:09, 26947.78it/s]\n",
      "Started molecular formula search for class {\"N\": 3, \"O\": 15, \"Cu\": 1, \"Fe\": 1}, (de)protonated : 100%|██████████| 300/300 [00:02<00:00, 118.94it/s]\n",
      "Loading molecular formula database: 16580it [00:00, 36045.98it/s]\n",
      "Started molecular formula search for class {\"N\": 3, \"O\": 20, \"Cu\": 1, \"Fe\": 1}, (de)protonated : 100%|██████████| 20/20 [00:00<00:00, 186.82it/s]\n"
     ]
    },
    {
     "name": "stdout",
     "output_type": "stream",
     "text": [
      "'run_molecular_formula'  12387.24 ms\n",
      "717 assigned peaks and 917 unassigned peaks, total  = 43.88 %, relative abundance = 40.66 %, RMS error (best candidate) (ppm) = 0.039\n",
      "timestart: 6\n",
      "MS Obj loaded - 2758 peaks found.\n",
      "MS Obj loaded - 2758 peaks found.\n",
      "Reference mass list loaded - 290 calibration masses loaded.\n",
      "117 calibration points matched within thresholds.\n",
      "minimize function completed with RMS error of: 0.018 ppm\n",
      "minimize function performed 352 fn evals and 4 iterations\n",
      "'runworker'  14.36 ms\n"
     ]
    },
    {
     "name": "stderr",
     "output_type": "stream",
     "text": [
      "Loading molecular formula database: 246538it [00:10, 24489.61it/s]\n",
      "Started molecular formula search for class {\"N\": 3, \"O\": 15, \"Cu\": 1, \"Fe\": 1}, (de)protonated : 100%|██████████| 300/300 [00:04<00:00, 72.78it/s]\n",
      "Loading molecular formula database: 16580it [00:00, 18346.83it/s]\n",
      "Started molecular formula search for class {\"N\": 3, \"O\": 20, \"Cu\": 1, \"Fe\": 1}, (de)protonated : 100%|██████████| 20/20 [00:00<00:00, 113.29it/s]\n"
     ]
    },
    {
     "name": "stdout",
     "output_type": "stream",
     "text": [
      "'run_molecular_formula'  15394.77 ms\n",
      "1553 assigned peaks and 1205 unassigned peaks, total  = 56.31 %, relative abundance = 59.91 %, RMS error (best candidate) (ppm) = 0.034\n",
      "timestart: 8\n",
      "MS Obj loaded - 3769 peaks found.\n",
      "MS Obj loaded - 3769 peaks found.\n",
      "Reference mass list loaded - 290 calibration masses loaded.\n",
      "156 calibration points matched within thresholds.\n",
      "minimize function completed with RMS error of: 0.015 ppm\n",
      "minimize function performed 323 fn evals and 6 iterations\n",
      "'runworker'  14.32 ms\n"
     ]
    },
    {
     "name": "stderr",
     "output_type": "stream",
     "text": [
      "Loading molecular formula database: 246538it [00:11, 21921.15it/s]\n",
      "Started molecular formula search for class {\"N\": 3, \"O\": 15, \"Cu\": 1, \"Fe\": 1}, (de)protonated : 100%|██████████| 300/300 [00:05<00:00, 52.70it/s]\n",
      "Loading molecular formula database: 16580it [00:00, 29101.66it/s]\n",
      "Started molecular formula search for class {\"N\": 3, \"O\": 20, \"Cu\": 1, \"Fe\": 1}, (de)protonated : 100%|██████████| 20/20 [00:00<00:00, 79.93it/s]\n"
     ]
    },
    {
     "name": "stdout",
     "output_type": "stream",
     "text": [
      "'run_molecular_formula'  17979.11 ms\n",
      "2135 assigned peaks and 1634 unassigned peaks, total  = 56.65 %, relative abundance = 63.67 %, RMS error (best candidate) (ppm) = 0.042\n",
      "timestart: 10\n",
      "MS Obj loaded - 4003 peaks found.\n",
      "MS Obj loaded - 4003 peaks found.\n",
      "Reference mass list loaded - 290 calibration masses loaded.\n",
      "195 calibration points matched within thresholds.\n",
      "minimize function completed with RMS error of: 0.023 ppm\n",
      "minimize function performed 321 fn evals and 6 iterations\n",
      "'runworker'  14.56 ms\n"
     ]
    },
    {
     "name": "stderr",
     "output_type": "stream",
     "text": [
      "Loading molecular formula database: 246538it [00:11, 22211.01it/s]\n",
      "Started molecular formula search for class {\"N\": 3, \"O\": 15, \"Cu\": 1, \"Fe\": 1}, (de)protonated : 100%|██████████| 300/300 [00:06<00:00, 49.57it/s]\n",
      "Loading molecular formula database: 16580it [00:00, 28841.14it/s]\n",
      "Started molecular formula search for class {\"N\": 3, \"O\": 20, \"Cu\": 1, \"Fe\": 1}, (de)protonated : 100%|██████████| 20/20 [00:00<00:00, 78.28it/s]\n"
     ]
    },
    {
     "name": "stdout",
     "output_type": "stream",
     "text": [
      "'run_molecular_formula'  18205.10 ms\n",
      "2455 assigned peaks and 1548 unassigned peaks, total  = 61.33 %, relative abundance = 70.82 %, RMS error (best candidate) (ppm) = 0.043\n",
      "timestart: 12\n",
      "MS Obj loaded - 4329 peaks found.\n",
      "MS Obj loaded - 4329 peaks found.\n",
      "Reference mass list loaded - 290 calibration masses loaded.\n",
      "226 calibration points matched within thresholds.\n",
      "minimize function completed with RMS error of: 0.018 ppm\n",
      "minimize function performed 327 fn evals and 6 iterations\n",
      "'runworker'  14.42 ms\n"
     ]
    },
    {
     "name": "stderr",
     "output_type": "stream",
     "text": [
      "Loading molecular formula database: 246538it [00:11, 21461.68it/s]\n",
      "Started molecular formula search for class {\"N\": 3, \"O\": 15, \"Cu\": 1, \"Fe\": 1}, (de)protonated : 100%|██████████| 300/300 [00:06<00:00, 44.51it/s]\n",
      "Loading molecular formula database: 16580it [00:00, 27123.93it/s]\n",
      "Started molecular formula search for class {\"N\": 3, \"O\": 20, \"Cu\": 1, \"Fe\": 1}, (de)protonated : 100%|██████████| 20/20 [00:00<00:00, 69.23it/s]\n"
     ]
    },
    {
     "name": "stdout",
     "output_type": "stream",
     "text": [
      "'run_molecular_formula'  19363.03 ms\n",
      "2722 assigned peaks and 1607 unassigned peaks, total  = 62.88 %, relative abundance = 74.27 %, RMS error (best candidate) (ppm) = 0.045\n",
      "timestart: 14\n",
      "MS Obj loaded - 4619 peaks found.\n",
      "MS Obj loaded - 4619 peaks found.\n",
      "Reference mass list loaded - 290 calibration masses loaded.\n",
      "246 calibration points matched within thresholds.\n",
      "minimize function completed with RMS error of: 0.018 ppm\n",
      "minimize function performed 324 fn evals and 6 iterations\n",
      "'runworker'  14.43 ms\n"
     ]
    },
    {
     "name": "stderr",
     "output_type": "stream",
     "text": [
      "Loading molecular formula database: 246538it [00:11, 21400.10it/s]\n",
      "Started molecular formula search for class {\"N\": 3, \"O\": 15, \"Cu\": 1, \"Fe\": 1}, (de)protonated : 100%|██████████| 300/300 [00:07<00:00, 42.14it/s]\n",
      "Loading molecular formula database: 16580it [00:01, 14574.42it/s]\n",
      "Started molecular formula search for class {\"N\": 3, \"O\": 20, \"Cu\": 1, \"Fe\": 1}, (de)protonated : 100%|██████████| 20/20 [00:00<00:00, 64.30it/s]\n"
     ]
    },
    {
     "name": "stdout",
     "output_type": "stream",
     "text": [
      "'run_molecular_formula'  20258.41 ms\n",
      "3000 assigned peaks and 1619 unassigned peaks, total  = 64.95 %, relative abundance = 78.31 %, RMS error (best candidate) (ppm) = 0.046\n",
      "timestart: 16\n",
      "MS Obj loaded - 4899 peaks found.\n",
      "MS Obj loaded - 4899 peaks found.\n",
      "Reference mass list loaded - 290 calibration masses loaded.\n",
      "257 calibration points matched within thresholds.\n",
      "minimize function completed with RMS error of: 0.014 ppm\n",
      "minimize function performed 3020 fn evals and 69 iterations\n",
      "'runworker'  14.62 ms\n"
     ]
    },
    {
     "name": "stderr",
     "output_type": "stream",
     "text": [
      "Loading molecular formula database: 246538it [00:11, 21161.59it/s]\n",
      "Started molecular formula search for class {\"N\": 3, \"O\": 15, \"Cu\": 1, \"Fe\": 1}, (de)protonated : 100%|██████████| 300/300 [00:07<00:00, 38.54it/s]\n",
      "Loading molecular formula database: 16580it [00:00, 25709.22it/s]\n",
      "Started molecular formula search for class {\"N\": 3, \"O\": 20, \"Cu\": 1, \"Fe\": 1}, (de)protonated : 100%|██████████| 20/20 [00:00<00:00, 57.60it/s]\n"
     ]
    },
    {
     "name": "stdout",
     "output_type": "stream",
     "text": [
      "'run_molecular_formula'  20687.88 ms\n",
      "3151 assigned peaks and 1748 unassigned peaks, total  = 64.32 %, relative abundance = 80.20 %, RMS error (best candidate) (ppm) = 0.051\n",
      "timestart: 18\n",
      "MS Obj loaded - 5289 peaks found.\n",
      "MS Obj loaded - 5289 peaks found.\n",
      "Reference mass list loaded - 290 calibration masses loaded.\n",
      "268 calibration points matched within thresholds.\n",
      "minimize function completed with RMS error of: 0.023 ppm\n",
      "minimize function performed 470 fn evals and 10 iterations\n",
      "'runworker'  14.71 ms\n"
     ]
    },
    {
     "name": "stderr",
     "output_type": "stream",
     "text": [
      "Loading molecular formula database: 246538it [00:11, 20647.95it/s]\n",
      "Started molecular formula search for class {\"N\": 3, \"O\": 15, \"Cu\": 1, \"Fe\": 1}, (de)protonated : 100%|██████████| 300/300 [00:08<00:00, 35.14it/s]\n",
      "Loading molecular formula database: 16580it [00:00, 25225.29it/s]\n",
      "Started molecular formula search for class {\"N\": 3, \"O\": 20, \"Cu\": 1, \"Fe\": 1}, (de)protonated : 100%|██████████| 20/20 [00:00<00:00, 53.85it/s]\n"
     ]
    },
    {
     "name": "stdout",
     "output_type": "stream",
     "text": [
      "'run_molecular_formula'  21774.85 ms\n",
      "3455 assigned peaks and 1834 unassigned peaks, total  = 65.32 %, relative abundance = 81.58 %, RMS error (best candidate) (ppm) = 0.067\n",
      "timestart: 20\n",
      "MS Obj loaded - 5527 peaks found.\n",
      "MS Obj loaded - 5527 peaks found.\n",
      "Reference mass list loaded - 290 calibration masses loaded.\n",
      "262 calibration points matched within thresholds.\n",
      "minimize function completed with RMS error of: 0.016 ppm\n",
      "minimize function performed 3029 fn evals and 71 iterations\n",
      "'runworker'  14.52 ms\n"
     ]
    },
    {
     "name": "stderr",
     "output_type": "stream",
     "text": [
      "Loading molecular formula database: 246538it [00:12, 20236.77it/s]\n",
      "Started molecular formula search for class {\"N\": 3, \"O\": 15, \"Cu\": 1, \"Fe\": 1}, (de)protonated : 100%|██████████| 300/300 [00:08<00:00, 33.85it/s]\n",
      "Loading molecular formula database: 16580it [00:00, 24742.54it/s]\n",
      "Started molecular formula search for class {\"N\": 3, \"O\": 20, \"Cu\": 1, \"Fe\": 1}, (de)protonated : 100%|██████████| 20/20 [00:00<00:00, 50.51it/s]\n"
     ]
    },
    {
     "name": "stdout",
     "output_type": "stream",
     "text": [
      "'run_molecular_formula'  22378.37 ms\n",
      "3688 assigned peaks and 1839 unassigned peaks, total  = 66.73 %, relative abundance = 82.13 %, RMS error (best candidate) (ppm) = 0.058\n",
      "\n",
      "\n",
      "20221103_LBA_Boiteau_Zorbax3p5_spring_400_500.raw\n",
      "3 of 7 files\n",
      "timestart: 4\n",
      "MS Obj loaded - 1155 peaks found.\n",
      "MS Obj loaded - 1155 peaks found.\n",
      "Reference mass list loaded - 290 calibration masses loaded.\n",
      "32 calibration points matched within thresholds.\n",
      "minimize function completed with RMS error of: 0.015 ppm\n",
      "minimize function performed 265 fn evals and 3 iterations\n",
      "'runworker'  14.76 ms\n"
     ]
    },
    {
     "name": "stderr",
     "output_type": "stream",
     "text": [
      "Loading molecular formula database: 246538it [00:06, 37452.13it/s] \n",
      "Started molecular formula search for class {\"N\": 3, \"O\": 15, \"Cu\": 1, \"Fe\": 1}, (de)protonated : 100%|██████████| 300/300 [00:01<00:00, 179.02it/s]\n",
      "Loading molecular formula database: 16580it [00:00, 46912.32it/s]\n",
      "Started molecular formula search for class {\"N\": 3, \"O\": 20, \"Cu\": 1, \"Fe\": 1}, (de)protonated : 100%|██████████| 20/20 [00:00<00:00, 1393.16it/s]\n"
     ]
    },
    {
     "name": "stdout",
     "output_type": "stream",
     "text": [
      "'run_molecular_formula'  8691.85 ms\n",
      "487 assigned peaks and 668 unassigned peaks, total  = 42.16 %, relative abundance = 41.23 %, RMS error (best candidate) (ppm) = 0.045\n",
      "timestart: 6\n",
      "MS Obj loaded - 1591 peaks found.\n",
      "MS Obj loaded - 1591 peaks found.\n",
      "Reference mass list loaded - 290 calibration masses loaded.\n",
      "52 calibration points matched within thresholds.\n",
      "minimize function completed with RMS error of: 0.016 ppm\n",
      "minimize function performed 260 fn evals and 3 iterations\n",
      "'runworker'  14.85 ms\n"
     ]
    },
    {
     "name": "stderr",
     "output_type": "stream",
     "text": [
      "Loading molecular formula database: 246538it [00:07, 34110.24it/s] \n",
      "Started molecular formula search for class {\"N\": 3, \"O\": 15, \"Cu\": 1, \"Fe\": 1}, (de)protonated : 100%|██████████| 300/300 [00:02<00:00, 129.38it/s]\n",
      "Loading molecular formula database: 16580it [00:00, 49032.67it/s]\n",
      "Started molecular formula search for class {\"N\": 3, \"O\": 20, \"Cu\": 1, \"Fe\": 1}, (de)protonated : 100%|██████████| 20/20 [00:00<00:00, 1158.63it/s]\n"
     ]
    },
    {
     "name": "stdout",
     "output_type": "stream",
     "text": [
      "'run_molecular_formula'  9967.72 ms\n",
      "857 assigned peaks and 734 unassigned peaks, total  = 53.87 %, relative abundance = 58.07 %, RMS error (best candidate) (ppm) = 0.042\n",
      "timestart: 8\n",
      "MS Obj loaded - 1981 peaks found.\n",
      "MS Obj loaded - 1981 peaks found.\n",
      "Reference mass list loaded - 290 calibration masses loaded.\n",
      "75 calibration points matched within thresholds.\n",
      "minimize function completed with RMS error of: 0.022 ppm\n",
      "minimize function performed 257 fn evals and 3 iterations\n",
      "'runworker'  14.44 ms\n"
     ]
    },
    {
     "name": "stderr",
     "output_type": "stream",
     "text": [
      "Loading molecular formula database: 246538it [00:06, 36188.12it/s] \n",
      "Started molecular formula search for class {\"N\": 3, \"O\": 15, \"Cu\": 1, \"Fe\": 1}, (de)protonated : 100%|██████████| 300/300 [00:02<00:00, 107.24it/s]\n",
      "Loading molecular formula database: 16580it [00:00, 48206.92it/s]\n",
      "Started molecular formula search for class {\"N\": 3, \"O\": 20, \"Cu\": 1, \"Fe\": 1}, (de)protonated : 100%|██████████| 20/20 [00:00<00:00, 1040.14it/s]\n"
     ]
    },
    {
     "name": "stdout",
     "output_type": "stream",
     "text": [
      "'run_molecular_formula'  10042.12 ms\n",
      "1108 assigned peaks and 873 unassigned peaks, total  = 55.93 %, relative abundance = 64.98 %, RMS error (best candidate) (ppm) = 0.043\n",
      "timestart: 10\n",
      "MS Obj loaded - 2115 peaks found.\n",
      "MS Obj loaded - 2115 peaks found.\n",
      "Reference mass list loaded - 290 calibration masses loaded.\n",
      "86 calibration points matched within thresholds.\n",
      "minimize function completed with RMS error of: 0.014 ppm\n",
      "minimize function performed 372 fn evals and 7 iterations\n",
      "'runworker'  14.80 ms\n"
     ]
    },
    {
     "name": "stderr",
     "output_type": "stream",
     "text": [
      "Loading molecular formula database: 246538it [00:06, 35999.47it/s] \n",
      "Started molecular formula search for class {\"N\": 3, \"O\": 15, \"Cu\": 1, \"Fe\": 1}, (de)protonated : 100%|██████████| 300/300 [00:03<00:00, 98.93it/s] \n",
      "Loading molecular formula database: 16580it [00:00, 47125.03it/s]\n",
      "Started molecular formula search for class {\"N\": 3, \"O\": 20, \"Cu\": 1, \"Fe\": 1}, (de)protonated : 100%|██████████| 20/20 [00:00<00:00, 989.60it/s]\n"
     ]
    },
    {
     "name": "stdout",
     "output_type": "stream",
     "text": [
      "'run_molecular_formula'  10323.08 ms\n",
      "1261 assigned peaks and 854 unassigned peaks, total  = 59.62 %, relative abundance = 67.96 %, RMS error (best candidate) (ppm) = 0.044\n",
      "timestart: 12\n",
      "MS Obj loaded - 2461 peaks found.\n",
      "MS Obj loaded - 2461 peaks found.\n",
      "Reference mass list loaded - 290 calibration masses loaded.\n",
      "101 calibration points matched within thresholds.\n",
      "minimize function completed with RMS error of: 0.022 ppm\n",
      "minimize function performed 367 fn evals and 7 iterations\n",
      "'runworker'  14.12 ms\n"
     ]
    },
    {
     "name": "stderr",
     "output_type": "stream",
     "text": [
      "Loading molecular formula database: 246538it [00:06, 36345.48it/s] \n",
      "Started molecular formula search for class {\"N\": 3, \"O\": 15, \"Cu\": 1, \"Fe\": 1}, (de)protonated : 100%|██████████| 300/300 [00:03<00:00, 86.00it/s]\n",
      "Loading molecular formula database: 16580it [00:00, 31590.59it/s]\n",
      "Started molecular formula search for class {\"N\": 3, \"O\": 20, \"Cu\": 1, \"Fe\": 1}, (de)protonated : 100%|██████████| 20/20 [00:00<00:00, 910.08it/s]\n"
     ]
    },
    {
     "name": "stdout",
     "output_type": "stream",
     "text": [
      "'run_molecular_formula'  10869.41 ms\n",
      "1444 assigned peaks and 1017 unassigned peaks, total  = 58.68 %, relative abundance = 72.51 %, RMS error (best candidate) (ppm) = 0.044\n",
      "timestart: 14\n",
      "MS Obj loaded - 2508 peaks found.\n",
      "MS Obj loaded - 2508 peaks found.\n",
      "Reference mass list loaded - 290 calibration masses loaded.\n",
      "108 calibration points matched within thresholds.\n",
      "minimize function completed with RMS error of: 0.018 ppm\n",
      "minimize function performed 372 fn evals and 7 iterations\n",
      "'runworker'  14.61 ms\n"
     ]
    },
    {
     "name": "stderr",
     "output_type": "stream",
     "text": [
      "Loading molecular formula database: 246538it [00:06, 35919.43it/s] \n",
      "Started molecular formula search for class {\"N\": 3, \"O\": 15, \"Cu\": 1, \"Fe\": 1}, (de)protonated : 100%|██████████| 300/300 [00:03<00:00, 84.32it/s]\n",
      "Loading molecular formula database: 16580it [00:00, 30908.90it/s]\n",
      "Started molecular formula search for class {\"N\": 3, \"O\": 20, \"Cu\": 1, \"Fe\": 1}, (de)protonated : 100%|██████████| 20/20 [00:00<00:00, 849.91it/s]\n"
     ]
    },
    {
     "name": "stdout",
     "output_type": "stream",
     "text": [
      "'run_molecular_formula'  11035.41 ms\n",
      "1544 assigned peaks and 964 unassigned peaks, total  = 61.56 %, relative abundance = 76.93 %, RMS error (best candidate) (ppm) = 0.044\n",
      "timestart: 16\n",
      "MS Obj loaded - 2527 peaks found.\n",
      "MS Obj loaded - 2527 peaks found.\n",
      "Reference mass list loaded - 290 calibration masses loaded.\n",
      "117 calibration points matched within thresholds.\n",
      "minimize function completed with RMS error of: 0.015 ppm\n",
      "minimize function performed 371 fn evals and 7 iterations\n",
      "'runworker'  14.07 ms\n"
     ]
    },
    {
     "name": "stderr",
     "output_type": "stream",
     "text": [
      "Loading molecular formula database: 246538it [00:06, 36932.41it/s] \n",
      "Started molecular formula search for class {\"N\": 3, \"O\": 15, \"Cu\": 1, \"Fe\": 1}, (de)protonated : 100%|██████████| 300/300 [00:03<00:00, 85.72it/s]\n",
      "Loading molecular formula database: 16580it [00:00, 31876.39it/s]\n",
      "Started molecular formula search for class {\"N\": 3, \"O\": 20, \"Cu\": 1, \"Fe\": 1}, (de)protonated : 100%|██████████| 20/20 [00:00<00:00, 896.57it/s]\n"
     ]
    },
    {
     "name": "stdout",
     "output_type": "stream",
     "text": [
      "'run_molecular_formula'  10768.40 ms\n",
      "1591 assigned peaks and 936 unassigned peaks, total  = 62.96 %, relative abundance = 79.18 %, RMS error (best candidate) (ppm) = 0.049\n",
      "timestart: 18\n",
      "MS Obj loaded - 2598 peaks found.\n",
      "MS Obj loaded - 2598 peaks found.\n",
      "Reference mass list loaded - 290 calibration masses loaded.\n",
      "118 calibration points matched within thresholds.\n",
      "minimize function completed with RMS error of: 0.018 ppm\n",
      "minimize function performed 374 fn evals and 7 iterations\n",
      "'runworker'  14.82 ms\n"
     ]
    },
    {
     "name": "stderr",
     "output_type": "stream",
     "text": [
      "Loading molecular formula database: 246538it [00:07, 33677.67it/s] \n",
      "Started molecular formula search for class {\"N\": 3, \"O\": 15, \"Cu\": 1, \"Fe\": 1}, (de)protonated : 100%|██████████| 300/300 [00:03<00:00, 82.79it/s]\n",
      "Loading molecular formula database: 16580it [00:00, 47244.83it/s]\n",
      "Started molecular formula search for class {\"N\": 3, \"O\": 20, \"Cu\": 1, \"Fe\": 1}, (de)protonated : 100%|██████████| 20/20 [00:00<00:00, 757.06it/s]\n"
     ]
    },
    {
     "name": "stdout",
     "output_type": "stream",
     "text": [
      "'run_molecular_formula'  11391.50 ms\n",
      "1675 assigned peaks and 923 unassigned peaks, total  = 64.47 %, relative abundance = 81.90 %, RMS error (best candidate) (ppm) = 0.047\n",
      "timestart: 20\n",
      "MS Obj loaded - 2489 peaks found.\n",
      "MS Obj loaded - 2489 peaks found.\n",
      "Reference mass list loaded - 290 calibration masses loaded.\n",
      "119 calibration points matched within thresholds.\n",
      "minimize function completed with RMS error of: 0.019 ppm\n",
      "minimize function performed 369 fn evals and 7 iterations\n",
      "'runworker'  14.70 ms\n"
     ]
    },
    {
     "name": "stderr",
     "output_type": "stream",
     "text": [
      "Loading molecular formula database: 246538it [00:06, 37203.80it/s] \n",
      "Started molecular formula search for class {\"N\": 3, \"O\": 15, \"Cu\": 1, \"Fe\": 1}, (de)protonated : 100%|██████████| 300/300 [00:03<00:00, 83.85it/s]\n",
      "Loading molecular formula database: 16580it [00:00, 31792.00it/s]\n",
      "Started molecular formula search for class {\"N\": 3, \"O\": 20, \"Cu\": 1, \"Fe\": 1}, (de)protonated : 100%|██████████| 20/20 [00:00<00:00, 892.90it/s]\n"
     ]
    },
    {
     "name": "stdout",
     "output_type": "stream",
     "text": [
      "'run_molecular_formula'  10800.29 ms\n",
      "1667 assigned peaks and 822 unassigned peaks, total  = 66.97 %, relative abundance = 83.82 %, RMS error (best candidate) (ppm) = 0.048\n",
      "\n",
      "\n",
      "20221103_LBA_Boiteau_Zorbax3p5_spring_500_600.raw\n",
      "4 of 7 files\n",
      "timestart: 4\n",
      "MS Obj loaded - 622 peaks found.\n",
      "MS Obj loaded - 622 peaks found.\n",
      "Reference mass list loaded - 290 calibration masses loaded.\n",
      "9 calibration points matched within thresholds.\n",
      "minimize function completed with RMS error of: 0.035 ppm\n",
      "minimize function performed 259 fn evals and 3 iterations\n",
      "'runworker'  14.79 ms\n"
     ]
    },
    {
     "name": "stderr",
     "output_type": "stream",
     "text": [
      "Loading molecular formula database: 246538it [00:07, 34861.58it/s] \n",
      "Started molecular formula search for class {\"N\": 3, \"O\": 15, \"Cu\": 1, \"Fe\": 1}, (de)protonated : 100%|██████████| 300/300 [00:01<00:00, 262.91it/s]\n",
      "Loading molecular formula database: 16580it [00:00, 41656.00it/s]\n",
      "Started molecular formula search for class {\"N\": 3, \"O\": 20, \"Cu\": 1, \"Fe\": 1}, (de)protonated : 100%|██████████| 20/20 [00:00<00:00, 533.62it/s]\n"
     ]
    },
    {
     "name": "stdout",
     "output_type": "stream",
     "text": [
      "'run_molecular_formula'  8726.16 ms\n",
      "227 assigned peaks and 395 unassigned peaks, total  = 36.50 %, relative abundance = 30.52 %, RMS error (best candidate) (ppm) = 0.093\n",
      "timestart: 6\n",
      "MS Obj loaded - 876 peaks found.\n",
      "MS Obj loaded - 876 peaks found.\n",
      "Reference mass list loaded - 290 calibration masses loaded.\n",
      "12 calibration points matched within thresholds.\n",
      "minimize function completed with RMS error of: 0.019 ppm\n",
      "minimize function performed 271 fn evals and 3 iterations\n",
      "'runworker'  14.18 ms\n"
     ]
    },
    {
     "name": "stderr",
     "output_type": "stream",
     "text": [
      "Loading molecular formula database: 246538it [00:06, 35328.93it/s] \n",
      "Started molecular formula search for class {\"N\": 3, \"O\": 15, \"Cu\": 1, \"Fe\": 1}, (de)protonated : 100%|██████████| 300/300 [00:01<00:00, 179.75it/s]\n",
      "Loading molecular formula database: 16580it [00:00, 29034.00it/s]\n",
      "Started molecular formula search for class {\"N\": 3, \"O\": 20, \"Cu\": 1, \"Fe\": 1}, (de)protonated : 100%|██████████| 20/20 [00:00<00:00, 413.98it/s]\n"
     ]
    },
    {
     "name": "stdout",
     "output_type": "stream",
     "text": [
      "'run_molecular_formula'  9326.41 ms\n",
      "462 assigned peaks and 414 unassigned peaks, total  = 52.74 %, relative abundance = 54.25 %, RMS error (best candidate) (ppm) = 0.056\n",
      "timestart: 8\n",
      "MS Obj loaded - 1139 peaks found.\n",
      "MS Obj loaded - 1139 peaks found.\n",
      "Reference mass list loaded - 290 calibration masses loaded.\n",
      "22 calibration points matched within thresholds.\n",
      "minimize function completed with RMS error of: 0.030 ppm\n",
      "minimize function performed 263 fn evals and 3 iterations\n",
      "'runworker'  14.53 ms\n"
     ]
    },
    {
     "name": "stderr",
     "output_type": "stream",
     "text": [
      "Loading molecular formula database: 246538it [00:07, 32923.69it/s] \n",
      "Started molecular formula search for class {\"N\": 3, \"O\": 15, \"Cu\": 1, \"Fe\": 1}, (de)protonated : 100%|██████████| 300/300 [00:02<00:00, 145.72it/s]\n",
      "Loading molecular formula database: 16580it [00:00, 45116.52it/s]\n",
      "Started molecular formula search for class {\"N\": 3, \"O\": 20, \"Cu\": 1, \"Fe\": 1}, (de)protonated : 100%|██████████| 20/20 [00:00<00:00, 313.92it/s]\n"
     ]
    },
    {
     "name": "stdout",
     "output_type": "stream",
     "text": [
      "'run_molecular_formula'  10058.10 ms\n",
      "661 assigned peaks and 478 unassigned peaks, total  = 58.03 %, relative abundance = 62.36 %, RMS error (best candidate) (ppm) = 0.064\n",
      "timestart: 10\n",
      "MS Obj loaded - 1323 peaks found.\n",
      "MS Obj loaded - 1323 peaks found.\n",
      "Reference mass list loaded - 290 calibration masses loaded.\n",
      "36 calibration points matched within thresholds.\n",
      "minimize function completed with RMS error of: 0.023 ppm\n",
      "minimize function performed 842 fn evals and 12 iterations\n",
      "'runworker'  14.87 ms\n"
     ]
    },
    {
     "name": "stderr",
     "output_type": "stream",
     "text": [
      "Loading molecular formula database: 246538it [00:06, 36270.16it/s] \n",
      "Started molecular formula search for class {\"N\": 3, \"O\": 15, \"Cu\": 1, \"Fe\": 1}, (de)protonated : 100%|██████████| 300/300 [00:02<00:00, 130.20it/s]\n",
      "Loading molecular formula database: 16580it [00:00, 28590.49it/s]\n",
      "Started molecular formula search for class {\"N\": 3, \"O\": 20, \"Cu\": 1, \"Fe\": 1}, (de)protonated : 100%|██████████| 20/20 [00:00<00:00, 297.68it/s]\n"
     ]
    },
    {
     "name": "stdout",
     "output_type": "stream",
     "text": [
      "'run_molecular_formula'  9809.85 ms\n",
      "832 assigned peaks and 491 unassigned peaks, total  = 62.89 %, relative abundance = 67.86 %, RMS error (best candidate) (ppm) = 0.061\n",
      "timestart: 12\n",
      "MS Obj loaded - 1572 peaks found.\n",
      "MS Obj loaded - 1572 peaks found.\n",
      "Reference mass list loaded - 290 calibration masses loaded.\n",
      "43 calibration points matched within thresholds.\n",
      "minimize function completed with RMS error of: 0.014 ppm\n",
      "minimize function performed 680 fn evals and 10 iterations\n",
      "'runworker'  14.71 ms\n"
     ]
    },
    {
     "name": "stderr",
     "output_type": "stream",
     "text": [
      "Loading molecular formula database: 246538it [00:07, 33118.19it/s] \n",
      "Started molecular formula search for class {\"N\": 3, \"O\": 15, \"Cu\": 1, \"Fe\": 1}, (de)protonated : 100%|██████████| 300/300 [00:02<00:00, 111.27it/s]\n",
      "Loading molecular formula database: 16580it [00:00, 46342.38it/s]\n",
      "Started molecular formula search for class {\"N\": 3, \"O\": 20, \"Cu\": 1, \"Fe\": 1}, (de)protonated : 100%|██████████| 20/20 [00:00<00:00, 251.81it/s]\n"
     ]
    },
    {
     "name": "stdout",
     "output_type": "stream",
     "text": [
      "'run_molecular_formula'  10655.89 ms\n",
      "1015 assigned peaks and 557 unassigned peaks, total  = 64.57 %, relative abundance = 68.39 %, RMS error (best candidate) (ppm) = 0.062\n",
      "timestart: 14\n",
      "MS Obj loaded - 1751 peaks found.\n",
      "MS Obj loaded - 1751 peaks found.\n",
      "Reference mass list loaded - 290 calibration masses loaded.\n",
      "47 calibration points matched within thresholds.\n",
      "minimize function completed with RMS error of: 0.018 ppm\n",
      "minimize function performed 727 fn evals and 10 iterations\n",
      "'runworker'  14.34 ms\n"
     ]
    },
    {
     "name": "stderr",
     "output_type": "stream",
     "text": [
      "Loading molecular formula database: 246538it [00:06, 36374.95it/s] \n",
      "Started molecular formula search for class {\"N\": 3, \"O\": 15, \"Cu\": 1, \"Fe\": 1}, (de)protonated : 100%|██████████| 300/300 [00:02<00:00, 100.46it/s]\n",
      "Loading molecular formula database: 16580it [00:00, 45806.17it/s]\n",
      "Started molecular formula search for class {\"N\": 3, \"O\": 20, \"Cu\": 1, \"Fe\": 1}, (de)protonated : 100%|██████████| 20/20 [00:00<00:00, 218.13it/s]\n"
     ]
    },
    {
     "name": "stdout",
     "output_type": "stream",
     "text": [
      "'run_molecular_formula'  10299.08 ms\n",
      "1155 assigned peaks and 596 unassigned peaks, total  = 65.96 %, relative abundance = 74.50 %, RMS error (best candidate) (ppm) = 0.061\n",
      "timestart: 16\n",
      "MS Obj loaded - 1781 peaks found.\n",
      "MS Obj loaded - 1781 peaks found.\n",
      "Reference mass list loaded - 290 calibration masses loaded.\n",
      "51 calibration points matched within thresholds.\n",
      "minimize function completed with RMS error of: 0.017 ppm\n",
      "minimize function performed 379 fn evals and 7 iterations\n",
      "'runworker'  14.37 ms\n"
     ]
    },
    {
     "name": "stderr",
     "output_type": "stream",
     "text": [
      "Loading molecular formula database: 246538it [00:06, 35939.70it/s] \n",
      "Started molecular formula search for class {\"N\": 3, \"O\": 15, \"Cu\": 1, \"Fe\": 1}, (de)protonated : 100%|██████████| 300/300 [00:03<00:00, 98.76it/s] \n",
      "Loading molecular formula database: 16580it [00:00, 29686.23it/s]\n",
      "Started molecular formula search for class {\"N\": 3, \"O\": 20, \"Cu\": 1, \"Fe\": 1}, (de)protonated : 100%|██████████| 20/20 [00:00<00:00, 222.92it/s]\n"
     ]
    },
    {
     "name": "stdout",
     "output_type": "stream",
     "text": [
      "'run_molecular_formula'  10605.21 ms\n",
      "1213 assigned peaks and 568 unassigned peaks, total  = 68.11 %, relative abundance = 77.01 %, RMS error (best candidate) (ppm) = 0.065\n",
      "timestart: 18\n",
      "MS Obj loaded - 1779 peaks found.\n",
      "MS Obj loaded - 1779 peaks found.\n",
      "Reference mass list loaded - 290 calibration masses loaded.\n",
      "50 calibration points matched within thresholds.\n",
      "minimize function completed with RMS error of: 0.019 ppm\n",
      "minimize function performed 370 fn evals and 7 iterations\n",
      "'runworker'  14.46 ms\n"
     ]
    },
    {
     "name": "stderr",
     "output_type": "stream",
     "text": [
      "Loading molecular formula database: 246538it [00:07, 34799.93it/s] \n",
      "Started molecular formula search for class {\"N\": 3, \"O\": 15, \"Cu\": 1, \"Fe\": 1}, (de)protonated : 100%|██████████| 300/300 [00:03<00:00, 98.91it/s] \n",
      "Loading molecular formula database: 16580it [00:00, 46192.99it/s]\n",
      "Started molecular formula search for class {\"N\": 3, \"O\": 20, \"Cu\": 1, \"Fe\": 1}, (de)protonated : 100%|██████████| 20/20 [00:00<00:00, 222.44it/s]\n"
     ]
    },
    {
     "name": "stdout",
     "output_type": "stream",
     "text": [
      "'run_molecular_formula'  10644.83 ms\n",
      "1234 assigned peaks and 545 unassigned peaks, total  = 69.36 %, relative abundance = 78.43 %, RMS error (best candidate) (ppm) = 0.066\n",
      "timestart: 20\n",
      "MS Obj loaded - 1815 peaks found.\n",
      "MS Obj loaded - 1815 peaks found.\n",
      "Reference mass list loaded - 290 calibration masses loaded.\n",
      "50 calibration points matched within thresholds.\n",
      "minimize function completed with RMS error of: 0.020 ppm\n",
      "minimize function performed 369 fn evals and 7 iterations\n",
      "'runworker'  15.08 ms\n"
     ]
    },
    {
     "name": "stderr",
     "output_type": "stream",
     "text": [
      "Loading molecular formula database: 246538it [00:06, 35607.93it/s] \n",
      "Started molecular formula search for class {\"N\": 3, \"O\": 15, \"Cu\": 1, \"Fe\": 1}, (de)protonated : 100%|██████████| 300/300 [00:03<00:00, 97.41it/s] \n",
      "Loading molecular formula database: 16580it [00:00, 45984.64it/s]\n",
      "Started molecular formula search for class {\"N\": 3, \"O\": 20, \"Cu\": 1, \"Fe\": 1}, (de)protonated : 100%|██████████| 20/20 [00:00<00:00, 216.90it/s]\n"
     ]
    },
    {
     "name": "stdout",
     "output_type": "stream",
     "text": [
      "'run_molecular_formula'  10535.53 ms\n",
      "1266 assigned peaks and 549 unassigned peaks, total  = 69.75 %, relative abundance = 79.77 %, RMS error (best candidate) (ppm) = 0.062\n",
      "\n",
      "\n",
      "20221103_LBA_Boiteau_Zorbax3p5_qh2o_400_500.raw\n",
      "5 of 7 files\n",
      "timestart: 4\n",
      "MS Obj loaded - 163 peaks found.\n",
      "MS Obj loaded - 163 peaks found.\n",
      "Reference mass list loaded - 290 calibration masses loaded.\n",
      "0 calibration points matched within thresholds.\n",
      "'runworker'  15.16 ms\n"
     ]
    },
    {
     "name": "stderr",
     "output_type": "stream",
     "text": [
      "Loading molecular formula database: 246538it [00:06, 39419.70it/s] \n",
      "Started molecular formula search for class {\"N\": 3, \"O\": 15, \"Cu\": 1, \"Fe\": 1}, (de)protonated : 100%|██████████| 300/300 [00:00<00:00, 822.76it/s]\n",
      "Loading molecular formula database: 16580it [00:00, 30478.56it/s]\n",
      "Started molecular formula search for class {\"N\": 3, \"O\": 20, \"Cu\": 1, \"Fe\": 1}, (de)protonated : 100%|██████████| 20/20 [00:00<00:00, 2477.37it/s]\n"
     ]
    },
    {
     "name": "stdout",
     "output_type": "stream",
     "text": [
      "'run_molecular_formula'  7215.63 ms\n",
      "15 assigned peaks and 148 unassigned peaks, total  = 9.20 %, relative abundance = 10.28 %, RMS error (best candidate) (ppm) = 0.124\n",
      "timestart: 6\n",
      "MS Obj loaded - 149 peaks found.\n",
      "MS Obj loaded - 149 peaks found.\n",
      "Reference mass list loaded - 290 calibration masses loaded.\n",
      "0 calibration points matched within thresholds.\n",
      "'runworker'  14.40 ms\n"
     ]
    },
    {
     "name": "stderr",
     "output_type": "stream",
     "text": [
      "Loading molecular formula database: 246538it [00:06, 38306.86it/s] \n",
      "Started molecular formula search for class {\"N\": 3, \"O\": 15, \"Cu\": 1, \"Fe\": 1}, (de)protonated : 100%|██████████| 300/300 [00:00<00:00, 909.28it/s]\n",
      "Loading molecular formula database: 16580it [00:00, 43362.74it/s]\n",
      "Started molecular formula search for class {\"N\": 3, \"O\": 20, \"Cu\": 1, \"Fe\": 1}, (de)protonated : 100%|██████████| 20/20 [00:00<00:00, 2587.64it/s]\n"
     ]
    },
    {
     "name": "stdout",
     "output_type": "stream",
     "text": [
      "'run_molecular_formula'  7208.53 ms\n",
      "10 assigned peaks and 139 unassigned peaks, total  = 6.71 %, relative abundance = 9.69 %, RMS error (best candidate) (ppm) = 0.123\n",
      "timestart: 8\n",
      "MS Obj loaded - 190 peaks found.\n",
      "MS Obj loaded - 190 peaks found.\n",
      "Reference mass list loaded - 290 calibration masses loaded.\n",
      "0 calibration points matched within thresholds.\n",
      "'runworker'  14.68 ms\n"
     ]
    },
    {
     "name": "stderr",
     "output_type": "stream",
     "text": [
      "Loading molecular formula database: 246538it [00:06, 38141.31it/s] \n",
      "Started molecular formula search for class {\"N\": 3, \"O\": 15, \"Cu\": 1, \"Fe\": 1}, (de)protonated : 100%|██████████| 300/300 [00:00<00:00, 768.04it/s]\n",
      "Loading molecular formula database: 16580it [00:00, 30165.29it/s]\n",
      "Started molecular formula search for class {\"N\": 3, \"O\": 20, \"Cu\": 1, \"Fe\": 1}, (de)protonated : 100%|██████████| 20/20 [00:00<00:00, 2527.83it/s]\n"
     ]
    },
    {
     "name": "stdout",
     "output_type": "stream",
     "text": [
      "'run_molecular_formula'  7457.55 ms\n",
      "18 assigned peaks and 172 unassigned peaks, total  = 9.47 %, relative abundance = 11.10 %, RMS error (best candidate) (ppm) = 0.147\n",
      "timestart: 10\n",
      "MS Obj loaded - 222 peaks found.\n",
      "MS Obj loaded - 222 peaks found.\n",
      "Reference mass list loaded - 290 calibration masses loaded.\n",
      "0 calibration points matched within thresholds.\n",
      "'runworker'  14.80 ms\n"
     ]
    },
    {
     "name": "stderr",
     "output_type": "stream",
     "text": [
      "Loading molecular formula database: 246538it [00:06, 37799.64it/s] \n",
      "Started molecular formula search for class {\"N\": 3, \"O\": 15, \"Cu\": 1, \"Fe\": 1}, (de)protonated : 100%|██████████| 300/300 [00:00<00:00, 646.90it/s]\n",
      "Loading molecular formula database: 16580it [00:00, 39980.32it/s]\n",
      "Started molecular formula search for class {\"N\": 3, \"O\": 20, \"Cu\": 1, \"Fe\": 1}, (de)protonated : 100%|██████████| 20/20 [00:00<00:00, 2361.26it/s]\n"
     ]
    },
    {
     "name": "stdout",
     "output_type": "stream",
     "text": [
      "'run_molecular_formula'  7470.30 ms\n",
      "14 assigned peaks and 208 unassigned peaks, total  = 6.31 %, relative abundance = 9.56 %, RMS error (best candidate) (ppm) = 0.113\n",
      "timestart: 12\n",
      "MS Obj loaded - 268 peaks found.\n",
      "MS Obj loaded - 268 peaks found.\n",
      "Reference mass list loaded - 290 calibration masses loaded.\n",
      "0 calibration points matched within thresholds.\n",
      "'runworker'  15.34 ms\n"
     ]
    },
    {
     "name": "stderr",
     "output_type": "stream",
     "text": [
      "Loading molecular formula database: 246538it [00:06, 36598.67it/s] \n",
      "Started molecular formula search for class {\"N\": 3, \"O\": 15, \"Cu\": 1, \"Fe\": 1}, (de)protonated : 100%|██████████| 300/300 [00:00<00:00, 599.92it/s]\n",
      "Loading molecular formula database: 16580it [00:00, 41325.92it/s]\n",
      "Started molecular formula search for class {\"N\": 3, \"O\": 20, \"Cu\": 1, \"Fe\": 1}, (de)protonated : 100%|██████████| 20/20 [00:00<00:00, 2237.62it/s]\n"
     ]
    },
    {
     "name": "stdout",
     "output_type": "stream",
     "text": [
      "'run_molecular_formula'  7707.32 ms\n",
      "12 assigned peaks and 256 unassigned peaks, total  = 4.48 %, relative abundance = 8.96 %, RMS error (best candidate) (ppm) = 0.168\n",
      "timestart: 14\n",
      "MS Obj loaded - 400 peaks found.\n",
      "MS Obj loaded - 400 peaks found.\n",
      "Reference mass list loaded - 290 calibration masses loaded.\n",
      "0 calibration points matched within thresholds.\n",
      "'runworker'  14.95 ms\n"
     ]
    },
    {
     "name": "stderr",
     "output_type": "stream",
     "text": [
      "Loading molecular formula database: 246538it [00:06, 36410.64it/s] \n",
      "Started molecular formula search for class {\"N\": 3, \"O\": 15, \"Cu\": 1, \"Fe\": 1}, (de)protonated : 100%|██████████| 300/300 [00:00<00:00, 444.96it/s]\n",
      "Loading molecular formula database: 16580it [00:00, 28967.42it/s]\n",
      "Started molecular formula search for class {\"N\": 3, \"O\": 20, \"Cu\": 1, \"Fe\": 1}, (de)protonated : 100%|██████████| 20/20 [00:00<00:00, 1923.99it/s]\n"
     ]
    },
    {
     "name": "stdout",
     "output_type": "stream",
     "text": [
      "'run_molecular_formula'  8079.36 ms\n",
      "16 assigned peaks and 384 unassigned peaks, total  = 4.00 %, relative abundance = 2.80 %, RMS error (best candidate) (ppm) = 0.144\n",
      "timestart: 16\n",
      "MS Obj loaded - 430 peaks found.\n",
      "MS Obj loaded - 430 peaks found.\n",
      "Reference mass list loaded - 290 calibration masses loaded.\n",
      "4 calibration points matched within thresholds.\n",
      "minimize function completed with RMS error of: 0.000 ppm\n",
      "minimize function performed 1206 fn evals and 16 iterations\n",
      "'runworker'  15.42 ms\n"
     ]
    },
    {
     "name": "stderr",
     "output_type": "stream",
     "text": [
      "Loading molecular formula database: 246538it [00:06, 35992.34it/s] \n",
      "Started molecular formula search for class {\"N\": 3, \"O\": 15, \"Cu\": 1, \"Fe\": 1}, (de)protonated : 100%|██████████| 300/300 [00:00<00:00, 393.06it/s]\n",
      "Loading molecular formula database: 16580it [00:00, 45528.30it/s]\n",
      "Started molecular formula search for class {\"N\": 3, \"O\": 20, \"Cu\": 1, \"Fe\": 1}, (de)protonated : 100%|██████████| 20/20 [00:00<00:00, 1959.45it/s]\n"
     ]
    },
    {
     "name": "stdout",
     "output_type": "stream",
     "text": [
      "'run_molecular_formula'  8051.74 ms\n",
      "183 assigned peaks and 247 unassigned peaks, total  = 42.56 %, relative abundance = 29.60 %, RMS error (best candidate) (ppm) = 0.106\n",
      "timestart: 18\n",
      "MS Obj loaded - 506 peaks found.\n",
      "MS Obj loaded - 506 peaks found.\n",
      "Reference mass list loaded - 290 calibration masses loaded.\n",
      "9 calibration points matched within thresholds.\n",
      "minimize function completed with RMS error of: 0.018 ppm\n",
      "minimize function performed 589 fn evals and 8 iterations\n",
      "'runworker'  14.94 ms\n"
     ]
    },
    {
     "name": "stderr",
     "output_type": "stream",
     "text": [
      "Loading molecular formula database: 246538it [00:06, 35680.57it/s] \n",
      "Started molecular formula search for class {\"N\": 3, \"O\": 15, \"Cu\": 1, \"Fe\": 1}, (de)protonated : 100%|██████████| 300/300 [00:00<00:00, 342.84it/s]\n",
      "Loading molecular formula database: 16580it [00:00, 44794.00it/s]\n",
      "Started molecular formula search for class {\"N\": 3, \"O\": 20, \"Cu\": 1, \"Fe\": 1}, (de)protonated : 100%|██████████| 20/20 [00:00<00:00, 1729.82it/s]\n"
     ]
    },
    {
     "name": "stdout",
     "output_type": "stream",
     "text": [
      "'run_molecular_formula'  8231.00 ms\n",
      "224 assigned peaks and 282 unassigned peaks, total  = 44.27 %, relative abundance = 30.41 %, RMS error (best candidate) (ppm) = 0.107\n",
      "timestart: 20\n",
      "MS Obj loaded - 445 peaks found.\n",
      "MS Obj loaded - 445 peaks found.\n",
      "Reference mass list loaded - 290 calibration masses loaded.\n",
      "8 calibration points matched within thresholds.\n",
      "minimize function completed with RMS error of: 0.007 ppm\n",
      "minimize function performed 577 fn evals and 8 iterations\n",
      "'runworker'  15.11 ms\n"
     ]
    },
    {
     "name": "stderr",
     "output_type": "stream",
     "text": [
      "Loading molecular formula database: 246538it [00:06, 36596.65it/s] \n",
      "Started molecular formula search for class {\"N\": 3, \"O\": 15, \"Cu\": 1, \"Fe\": 1}, (de)protonated : 100%|██████████| 300/300 [00:00<00:00, 379.94it/s]\n",
      "Loading molecular formula database: 16580it [00:00, 45301.68it/s]\n",
      "Started molecular formula search for class {\"N\": 3, \"O\": 20, \"Cu\": 1, \"Fe\": 1}, (de)protonated : 100%|██████████| 20/20 [00:00<00:00, 1859.92it/s]\n"
     ]
    },
    {
     "name": "stdout",
     "output_type": "stream",
     "text": [
      "'run_molecular_formula'  7968.05 ms\n",
      "230 assigned peaks and 215 unassigned peaks, total  = 51.69 %, relative abundance = 36.97 %, RMS error (best candidate) (ppm) = 0.090\n",
      "\n",
      "\n",
      "20221103_LBA_Boiteau_Zorbax3p5_qh2o_500_600.raw\n",
      "6 of 7 files\n",
      "timestart: 4\n",
      "MS Obj loaded - 94 peaks found.\n",
      "MS Obj loaded - 94 peaks found.\n",
      "Reference mass list loaded - 290 calibration masses loaded.\n",
      "0 calibration points matched within thresholds.\n",
      "'runworker'  15.11 ms\n"
     ]
    },
    {
     "name": "stderr",
     "output_type": "stream",
     "text": [
      "Loading molecular formula database: 246538it [00:06, 39461.60it/s] \n",
      "Started molecular formula search for class {\"N\": 3, \"O\": 15, \"Cu\": 1, \"Fe\": 1}, (de)protonated : 100%|██████████| 300/300 [00:00<00:00, 936.40it/s]\n",
      "Loading molecular formula database: 16580it [00:00, 28874.66it/s]\n",
      "Started molecular formula search for class {\"N\": 3, \"O\": 20, \"Cu\": 1, \"Fe\": 1}, (de)protonated : 100%|██████████| 20/20 [00:00<00:00, 1443.23it/s]\n"
     ]
    },
    {
     "name": "stdout",
     "output_type": "stream",
     "text": [
      "'run_molecular_formula'  7205.53 ms\n",
      "19 assigned peaks and 75 unassigned peaks, total  = 20.21 %, relative abundance = 8.86 %, RMS error (best candidate) (ppm) = 0.122\n",
      "timestart: 6\n",
      "MS Obj loaded - 83 peaks found.\n",
      "MS Obj loaded - 83 peaks found.\n",
      "Reference mass list loaded - 290 calibration masses loaded.\n",
      "0 calibration points matched within thresholds.\n",
      "'runworker'  14.78 ms\n"
     ]
    },
    {
     "name": "stderr",
     "output_type": "stream",
     "text": [
      "Loading molecular formula database: 246538it [00:06, 36590.56it/s] \n",
      "Started molecular formula search for class {\"N\": 3, \"O\": 15, \"Cu\": 1, \"Fe\": 1}, (de)protonated : 100%|██████████| 300/300 [00:00<00:00, 988.94it/s] \n",
      "Loading molecular formula database: 16580it [00:00, 42266.39it/s]\n",
      "Started molecular formula search for class {\"N\": 3, \"O\": 20, \"Cu\": 1, \"Fe\": 1}, (de)protonated : 100%|██████████| 20/20 [00:00<00:00, 1695.94it/s]\n"
     ]
    },
    {
     "name": "stdout",
     "output_type": "stream",
     "text": [
      "'run_molecular_formula'  7505.89 ms\n",
      "15 assigned peaks and 68 unassigned peaks, total  = 18.07 %, relative abundance = 7.72 %, RMS error (best candidate) (ppm) = 0.102\n",
      "timestart: 8\n",
      "MS Obj loaded - 92 peaks found.\n",
      "MS Obj loaded - 92 peaks found.\n",
      "Reference mass list loaded - 290 calibration masses loaded.\n",
      "0 calibration points matched within thresholds.\n",
      "'runworker'  15.48 ms\n"
     ]
    },
    {
     "name": "stderr",
     "output_type": "stream",
     "text": [
      "Loading molecular formula database: 246538it [00:06, 39994.86it/s] \n",
      "Started molecular formula search for class {\"N\": 3, \"O\": 15, \"Cu\": 1, \"Fe\": 1}, (de)protonated : 100%|██████████| 300/300 [00:00<00:00, 926.71it/s]\n",
      "Loading molecular formula database: 16580it [00:00, 41939.98it/s]\n",
      "Started molecular formula search for class {\"N\": 3, \"O\": 20, \"Cu\": 1, \"Fe\": 1}, (de)protonated : 100%|██████████| 20/20 [00:00<00:00, 1575.68it/s]\n"
     ]
    },
    {
     "name": "stdout",
     "output_type": "stream",
     "text": [
      "'run_molecular_formula'  6956.22 ms\n",
      "14 assigned peaks and 78 unassigned peaks, total  = 15.22 %, relative abundance = 7.23 %, RMS error (best candidate) (ppm) = 0.124\n",
      "timestart: 10\n",
      "MS Obj loaded - 94 peaks found.\n",
      "MS Obj loaded - 94 peaks found.\n",
      "Reference mass list loaded - 290 calibration masses loaded.\n",
      "0 calibration points matched within thresholds.\n",
      "'runworker'  15.23 ms\n"
     ]
    },
    {
     "name": "stderr",
     "output_type": "stream",
     "text": [
      "Loading molecular formula database: 246538it [00:06, 38791.94it/s] \n",
      "Started molecular formula search for class {\"N\": 3, \"O\": 15, \"Cu\": 1, \"Fe\": 1}, (de)protonated : 100%|██████████| 300/300 [00:00<00:00, 972.96it/s]\n",
      "Loading molecular formula database: 16580it [00:00, 28383.56it/s]\n",
      "Started molecular formula search for class {\"N\": 3, \"O\": 20, \"Cu\": 1, \"Fe\": 1}, (de)protonated : 100%|██████████| 20/20 [00:00<00:00, 1516.79it/s]\n"
     ]
    },
    {
     "name": "stdout",
     "output_type": "stream",
     "text": [
      "'run_molecular_formula'  7311.00 ms\n",
      "14 assigned peaks and 80 unassigned peaks, total  = 14.89 %, relative abundance = 7.11 %, RMS error (best candidate) (ppm) = 0.168\n",
      "timestart: 12\n",
      "MS Obj loaded - 119 peaks found.\n",
      "MS Obj loaded - 119 peaks found.\n",
      "Reference mass list loaded - 290 calibration masses loaded.\n",
      "0 calibration points matched within thresholds.\n",
      "'runworker'  15.15 ms\n"
     ]
    },
    {
     "name": "stderr",
     "output_type": "stream",
     "text": [
      "Loading molecular formula database: 246538it [00:06, 36106.69it/s] \n",
      "Started molecular formula search for class {\"N\": 3, \"O\": 15, \"Cu\": 1, \"Fe\": 1}, (de)protonated : 100%|██████████| 300/300 [00:00<00:00, 843.04it/s]\n",
      "Loading molecular formula database: 16580it [00:00, 41325.62it/s]\n",
      "Started molecular formula search for class {\"N\": 3, \"O\": 20, \"Cu\": 1, \"Fe\": 1}, (de)protonated : 100%|██████████| 20/20 [00:00<00:00, 1412.65it/s]\n"
     ]
    },
    {
     "name": "stdout",
     "output_type": "stream",
     "text": [
      "'run_molecular_formula'  7661.29 ms\n",
      "13 assigned peaks and 106 unassigned peaks, total  = 10.92 %, relative abundance = 5.22 %, RMS error (best candidate) (ppm) = 0.163\n",
      "timestart: 14\n",
      "MS Obj loaded - 174 peaks found.\n",
      "MS Obj loaded - 174 peaks found.\n",
      "Reference mass list loaded - 290 calibration masses loaded.\n",
      "0 calibration points matched within thresholds.\n",
      "'runworker'  15.28 ms\n"
     ]
    },
    {
     "name": "stderr",
     "output_type": "stream",
     "text": [
      "Loading molecular formula database: 246538it [00:06, 35709.31it/s] \n",
      "Started molecular formula search for class {\"N\": 3, \"O\": 15, \"Cu\": 1, \"Fe\": 1}, (de)protonated : 100%|██████████| 300/300 [00:00<00:00, 686.43it/s]\n",
      "Loading molecular formula database: 16580it [00:00, 41153.16it/s]\n",
      "Started molecular formula search for class {\"N\": 3, \"O\": 20, \"Cu\": 1, \"Fe\": 1}, (de)protonated : 100%|██████████| 20/20 [00:00<00:00, 1171.02it/s]\n"
     ]
    },
    {
     "name": "stdout",
     "output_type": "stream",
     "text": [
      "'run_molecular_formula'  7828.20 ms\n",
      "11 assigned peaks and 163 unassigned peaks, total  = 6.32 %, relative abundance = 3.91 %, RMS error (best candidate) (ppm) = 0.170\n",
      "timestart: 16\n",
      "MS Obj loaded - 234 peaks found.\n",
      "MS Obj loaded - 234 peaks found.\n",
      "Reference mass list loaded - 290 calibration masses loaded.\n",
      "0 calibration points matched within thresholds.\n",
      "'runworker'  14.75 ms\n"
     ]
    },
    {
     "name": "stderr",
     "output_type": "stream",
     "text": [
      "Loading molecular formula database: 246538it [00:06, 38197.08it/s] \n",
      "Started molecular formula search for class {\"N\": 3, \"O\": 15, \"Cu\": 1, \"Fe\": 1}, (de)protonated : 100%|██████████| 300/300 [00:00<00:00, 563.30it/s]\n",
      "Loading molecular formula database: 16580it [00:00, 27519.13it/s]\n",
      "Started molecular formula search for class {\"N\": 3, \"O\": 20, \"Cu\": 1, \"Fe\": 1}, (de)protonated : 100%|██████████| 20/20 [00:00<00:00, 1055.65it/s]\n"
     ]
    },
    {
     "name": "stdout",
     "output_type": "stream",
     "text": [
      "'run_molecular_formula'  7664.96 ms\n",
      "11 assigned peaks and 223 unassigned peaks, total  = 4.70 %, relative abundance = 3.22 %, RMS error (best candidate) (ppm) = 0.165\n",
      "timestart: 18\n",
      "MS Obj loaded - 244 peaks found.\n",
      "MS Obj loaded - 244 peaks found.\n",
      "Reference mass list loaded - 290 calibration masses loaded.\n",
      "0 calibration points matched within thresholds.\n",
      "'runworker'  14.75 ms\n"
     ]
    },
    {
     "name": "stderr",
     "output_type": "stream",
     "text": [
      "Loading molecular formula database: 246538it [00:07, 34820.60it/s] \n",
      "Started molecular formula search for class {\"N\": 3, \"O\": 15, \"Cu\": 1, \"Fe\": 1}, (de)protonated : 100%|██████████| 300/300 [00:00<00:00, 556.88it/s]\n",
      "Loading molecular formula database: 16580it [00:00, 40168.92it/s]\n",
      "Started molecular formula search for class {\"N\": 3, \"O\": 20, \"Cu\": 1, \"Fe\": 1}, (de)protonated : 100%|██████████| 20/20 [00:00<00:00, 989.71it/s]\n"
     ]
    },
    {
     "name": "stdout",
     "output_type": "stream",
     "text": [
      "'run_molecular_formula'  8123.03 ms\n",
      "16 assigned peaks and 228 unassigned peaks, total  = 6.56 %, relative abundance = 2.25 %, RMS error (best candidate) (ppm) = 0.141\n",
      "timestart: 20\n",
      "MS Obj loaded - 197 peaks found.\n",
      "MS Obj loaded - 197 peaks found.\n",
      "Reference mass list loaded - 290 calibration masses loaded.\n",
      "0 calibration points matched within thresholds.\n",
      "'runworker'  15.19 ms\n"
     ]
    },
    {
     "name": "stderr",
     "output_type": "stream",
     "text": [
      "Loading molecular formula database: 246538it [00:06, 38961.60it/s] \n",
      "Started molecular formula search for class {\"N\": 3, \"O\": 15, \"Cu\": 1, \"Fe\": 1}, (de)protonated : 100%|██████████| 300/300 [00:00<00:00, 651.82it/s]\n",
      "Loading molecular formula database: 16580it [00:00, 28148.02it/s]\n",
      "Started molecular formula search for class {\"N\": 3, \"O\": 20, \"Cu\": 1, \"Fe\": 1}, (de)protonated : 100%|██████████| 20/20 [00:00<00:00, 1147.58it/s]\n"
     ]
    },
    {
     "name": "stdout",
     "output_type": "stream",
     "text": [
      "'run_molecular_formula'  7449.38 ms\n",
      "12 assigned peaks and 185 unassigned peaks, total  = 6.09 %, relative abundance = 3.41 %, RMS error (best candidate) (ppm) = 0.147\n",
      "\n",
      "\n",
      "20221103_LBA_Boiteau_Zorbax3p5_qh2o_fullmz.raw\n",
      "7 of 7 files\n",
      "timestart: 4\n",
      "MS Obj loaded - 344 peaks found.\n",
      "MS Obj loaded - 344 peaks found.\n",
      "Reference mass list loaded - 290 calibration masses loaded.\n",
      "11 calibration points matched within thresholds.\n",
      "minimize function completed with RMS error of: 0.012 ppm\n",
      "minimize function performed 390 fn evals and 7 iterations\n",
      "'runworker'  14.85 ms\n"
     ]
    },
    {
     "name": "stderr",
     "output_type": "stream",
     "text": [
      "Loading molecular formula database: 246538it [00:07, 33817.03it/s] \n",
      "Started molecular formula search for class {\"N\": 3, \"O\": 15, \"Cu\": 1, \"Fe\": 1}, (de)protonated : 100%|██████████| 300/300 [00:00<00:00, 457.88it/s]\n",
      "Loading molecular formula database: 16580it [00:00, 42813.83it/s]\n",
      "Started molecular formula search for class {\"N\": 3, \"O\": 20, \"Cu\": 1, \"Fe\": 1}, (de)protonated : 100%|██████████| 20/20 [00:00<00:00, 642.57it/s]\n"
     ]
    },
    {
     "name": "stdout",
     "output_type": "stream",
     "text": [
      "'run_molecular_formula'  8449.53 ms\n",
      "202 assigned peaks and 142 unassigned peaks, total  = 58.72 %, relative abundance = 33.88 %, RMS error (best candidate) (ppm) = 0.051\n",
      "timestart: 6\n",
      "MS Obj loaded - 406 peaks found.\n",
      "MS Obj loaded - 406 peaks found.\n",
      "Reference mass list loaded - 290 calibration masses loaded.\n",
      "11 calibration points matched within thresholds.\n",
      "minimize function completed with RMS error of: 0.009 ppm\n",
      "minimize function performed 395 fn evals and 7 iterations\n",
      "'runworker'  14.44 ms\n"
     ]
    },
    {
     "name": "stderr",
     "output_type": "stream",
     "text": [
      "Loading molecular formula database: 246538it [00:07, 34422.32it/s] \n",
      "Started molecular formula search for class {\"N\": 3, \"O\": 15, \"Cu\": 1, \"Fe\": 1}, (de)protonated : 100%|██████████| 300/300 [00:00<00:00, 431.29it/s]\n",
      "Loading molecular formula database: 16580it [00:00, 24704.09it/s]\n",
      "Started molecular formula search for class {\"N\": 3, \"O\": 20, \"Cu\": 1, \"Fe\": 1}, (de)protonated : 100%|██████████| 20/20 [00:00<00:00, 551.50it/s]\n"
     ]
    },
    {
     "name": "stdout",
     "output_type": "stream",
     "text": [
      "'run_molecular_formula'  8633.18 ms\n",
      "247 assigned peaks and 159 unassigned peaks, total  = 60.84 %, relative abundance = 37.72 %, RMS error (best candidate) (ppm) = 0.047\n",
      "timestart: 8\n",
      "MS Obj loaded - 493 peaks found.\n",
      "MS Obj loaded - 493 peaks found.\n",
      "Reference mass list loaded - 290 calibration masses loaded.\n",
      "14 calibration points matched within thresholds.\n",
      "minimize function completed with RMS error of: 0.007 ppm\n",
      "minimize function performed 333 fn evals and 6 iterations\n",
      "'runworker'  14.60 ms\n"
     ]
    },
    {
     "name": "stderr",
     "output_type": "stream",
     "text": [
      "Loading molecular formula database: 246538it [00:07, 33336.26it/s] \n",
      "Started molecular formula search for class {\"N\": 3, \"O\": 15, \"Cu\": 1, \"Fe\": 1}, (de)protonated : 100%|██████████| 300/300 [00:00<00:00, 357.74it/s]\n",
      "Loading molecular formula database: 16580it [00:00, 24310.39it/s]\n",
      "Started molecular formula search for class {\"N\": 3, \"O\": 20, \"Cu\": 1, \"Fe\": 1}, (de)protonated : 100%|██████████| 20/20 [00:00<00:00, 486.72it/s]\n"
     ]
    },
    {
     "name": "stdout",
     "output_type": "stream",
     "text": [
      "'run_molecular_formula'  9029.35 ms\n",
      "304 assigned peaks and 189 unassigned peaks, total  = 61.66 %, relative abundance = 39.63 %, RMS error (best candidate) (ppm) = 0.042\n",
      "timestart: 10\n",
      "MS Obj loaded - 580 peaks found.\n",
      "MS Obj loaded - 580 peaks found.\n",
      "Reference mass list loaded - 290 calibration masses loaded.\n",
      "18 calibration points matched within thresholds.\n",
      "minimize function completed with RMS error of: 0.007 ppm\n",
      "minimize function performed 365 fn evals and 7 iterations\n",
      "'runworker'  14.57 ms\n"
     ]
    },
    {
     "name": "stderr",
     "output_type": "stream",
     "text": [
      "Loading molecular formula database: 246538it [00:07, 32924.56it/s] \n",
      "Started molecular formula search for class {\"N\": 3, \"O\": 15, \"Cu\": 1, \"Fe\": 1}, (de)protonated : 100%|██████████| 300/300 [00:00<00:00, 324.47it/s]\n",
      "Loading molecular formula database: 16580it [00:00, 40681.64it/s]\n",
      "Started molecular formula search for class {\"N\": 3, \"O\": 20, \"Cu\": 1, \"Fe\": 1}, (de)protonated : 100%|██████████| 20/20 [00:00<00:00, 443.53it/s]\n"
     ]
    },
    {
     "name": "stdout",
     "output_type": "stream",
     "text": [
      "'run_molecular_formula'  8961.34 ms\n",
      "354 assigned peaks and 226 unassigned peaks, total  = 61.03 %, relative abundance = 41.32 %, RMS error (best candidate) (ppm) = 0.042\n",
      "timestart: 12\n",
      "MS Obj loaded - 571 peaks found.\n",
      "MS Obj loaded - 571 peaks found.\n",
      "Reference mass list loaded - 290 calibration masses loaded.\n",
      "19 calibration points matched within thresholds.\n",
      "minimize function completed with RMS error of: 0.006 ppm\n",
      "minimize function performed 364 fn evals and 7 iterations\n",
      "'runworker'  15.36 ms\n"
     ]
    },
    {
     "name": "stderr",
     "output_type": "stream",
     "text": [
      "Loading molecular formula database: 246538it [00:07, 32052.98it/s] \n",
      "Started molecular formula search for class {\"N\": 3, \"O\": 15, \"Cu\": 1, \"Fe\": 1}, (de)protonated : 100%|██████████| 300/300 [00:00<00:00, 326.51it/s]\n",
      "Loading molecular formula database: 16580it [00:00, 24187.92it/s]\n",
      "Started molecular formula search for class {\"N\": 3, \"O\": 20, \"Cu\": 1, \"Fe\": 1}, (de)protonated : 100%|██████████| 20/20 [00:00<00:00, 445.44it/s]\n"
     ]
    },
    {
     "name": "stdout",
     "output_type": "stream",
     "text": [
      "'run_molecular_formula'  9415.92 ms\n",
      "346 assigned peaks and 225 unassigned peaks, total  = 60.60 %, relative abundance = 42.14 %, RMS error (best candidate) (ppm) = 0.040\n",
      "timestart: 14\n",
      "MS Obj loaded - 646 peaks found.\n",
      "MS Obj loaded - 646 peaks found.\n",
      "Reference mass list loaded - 290 calibration masses loaded.\n",
      "22 calibration points matched within thresholds.\n",
      "minimize function completed with RMS error of: 0.007 ppm\n",
      "minimize function performed 370 fn evals and 7 iterations\n",
      "'runworker'  14.84 ms\n"
     ]
    },
    {
     "name": "stderr",
     "output_type": "stream",
     "text": [
      "Loading molecular formula database: 246538it [00:08, 29623.28it/s]\n",
      "Started molecular formula search for class {\"N\": 3, \"O\": 15, \"Cu\": 1, \"Fe\": 1}, (de)protonated : 100%|██████████| 300/300 [00:01<00:00, 285.33it/s]\n",
      "Loading molecular formula database: 16580it [00:00, 39893.85it/s]\n",
      "Started molecular formula search for class {\"N\": 3, \"O\": 20, \"Cu\": 1, \"Fe\": 1}, (de)protonated : 100%|██████████| 20/20 [00:00<00:00, 395.70it/s]\n"
     ]
    },
    {
     "name": "stdout",
     "output_type": "stream",
     "text": [
      "'run_molecular_formula'  9945.13 ms\n",
      "392 assigned peaks and 254 unassigned peaks, total  = 60.68 %, relative abundance = 43.45 %, RMS error (best candidate) (ppm) = 0.040\n",
      "timestart: 16\n",
      "MS Obj loaded - 681 peaks found.\n",
      "MS Obj loaded - 681 peaks found.\n",
      "Reference mass list loaded - 290 calibration masses loaded.\n",
      "26 calibration points matched within thresholds.\n",
      "minimize function completed with RMS error of: 0.010 ppm\n",
      "minimize function performed 369 fn evals and 7 iterations\n",
      "'runworker'  14.88 ms\n"
     ]
    },
    {
     "name": "stderr",
     "output_type": "stream",
     "text": [
      "Loading molecular formula database: 246538it [00:08, 30240.70it/s]\n",
      "Started molecular formula search for class {\"N\": 3, \"O\": 15, \"Cu\": 1, \"Fe\": 1}, (de)protonated : 100%|██████████| 300/300 [00:01<00:00, 280.48it/s]\n",
      "Loading molecular formula database: 16580it [00:00, 39812.24it/s]\n",
      "Started molecular formula search for class {\"N\": 3, \"O\": 20, \"Cu\": 1, \"Fe\": 1}, (de)protonated : 100%|██████████| 20/20 [00:00<00:00, 327.38it/s]\n"
     ]
    },
    {
     "name": "stdout",
     "output_type": "stream",
     "text": [
      "'run_molecular_formula'  9804.83 ms\n",
      "436 assigned peaks and 245 unassigned peaks, total  = 64.02 %, relative abundance = 46.61 %, RMS error (best candidate) (ppm) = 0.052\n",
      "timestart: 18\n",
      "MS Obj loaded - 760 peaks found.\n",
      "MS Obj loaded - 760 peaks found.\n",
      "Reference mass list loaded - 290 calibration masses loaded.\n",
      "28 calibration points matched within thresholds.\n",
      "minimize function completed with RMS error of: 0.022 ppm\n",
      "minimize function performed 323 fn evals and 6 iterations\n",
      "'runworker'  14.74 ms\n"
     ]
    },
    {
     "name": "stderr",
     "output_type": "stream",
     "text": [
      "Loading molecular formula database: 246538it [00:08, 29851.27it/s]\n",
      "Started molecular formula search for class {\"N\": 3, \"O\": 15, \"Cu\": 1, \"Fe\": 1}, (de)protonated : 100%|██████████| 300/300 [00:01<00:00, 257.02it/s]\n",
      "Loading molecular formula database: 16580it [00:00, 40767.23it/s]\n",
      "Started molecular formula search for class {\"N\": 3, \"O\": 20, \"Cu\": 1, \"Fe\": 1}, (de)protonated : 100%|██████████| 20/20 [00:00<00:00, 358.75it/s]\n"
     ]
    },
    {
     "name": "stdout",
     "output_type": "stream",
     "text": [
      "'run_molecular_formula'  9996.58 ms\n",
      "474 assigned peaks and 286 unassigned peaks, total  = 62.37 %, relative abundance = 51.21 %, RMS error (best candidate) (ppm) = 0.080\n",
      "timestart: 20\n",
      "MS Obj loaded - 753 peaks found.\n",
      "MS Obj loaded - 753 peaks found.\n",
      "Reference mass list loaded - 290 calibration masses loaded.\n",
      "26 calibration points matched within thresholds.\n",
      "minimize function completed with RMS error of: 0.008 ppm\n",
      "minimize function performed 327 fn evals and 6 iterations\n",
      "'runworker'  14.86 ms\n"
     ]
    },
    {
     "name": "stderr",
     "output_type": "stream",
     "text": [
      "Loading molecular formula database: 246538it [00:07, 32512.74it/s]\n",
      "Started molecular formula search for class {\"N\": 3, \"O\": 15, \"Cu\": 1, \"Fe\": 1}, (de)protonated : 100%|██████████| 300/300 [00:01<00:00, 260.16it/s]\n",
      "Loading molecular formula database: 16580it [00:00, 23190.56it/s]\n",
      "Started molecular formula search for class {\"N\": 3, \"O\": 20, \"Cu\": 1, \"Fe\": 1}, (de)protonated : 100%|██████████| 20/20 [00:00<00:00, 353.40it/s]\n"
     ]
    },
    {
     "name": "stdout",
     "output_type": "stream",
     "text": [
      "'run_molecular_formula'  9585.75 ms\n",
      "494 assigned peaks and 259 unassigned peaks, total  = 65.60 %, relative abundance = 49.31 %, RMS error (best candidate) (ppm) = 0.056\n"
     ]
    }
   ],
   "source": [
    "# run assignment algorithm\n",
    "timerange = [4,22]  # start (min) to stop (min)\n",
    "interval = 2  # min \n",
    "refmasslist = \"/Users/christiandewey/CoreMS/tests/tests_data/ftms/nom_pos.ref\"\n",
    "\n",
    "data.assign_formula(interval = interval, timerange = timerange, refmasslist = refmasslist, calorder =2)\n",
    "\n",
    "data_df = data.complete_results_df"
   ]
  },
  {
   "cell_type": "code",
   "execution_count": 48,
   "metadata": {},
   "outputs": [
    {
     "name": "stdout",
     "output_type": "stream",
     "text": [
      "20221103_LBA_Boiteau_Zorbax3p5_spring_400_600.raw\n",
      "20221103_LBA_Boiteau_Zorbax3p5_spring_fullmz.raw\n",
      "20221103_LBA_Boiteau_Zorbax3p5_spring_400_500.raw\n",
      "20221103_LBA_Boiteau_Zorbax3p5_spring_500_600.raw\n",
      "20221103_LBA_Boiteau_Zorbax3p5_qh2o_400_500.raw\n",
      "20221103_LBA_Boiteau_Zorbax3p5_qh2o_500_600.raw\n",
      "20221103_LBA_Boiteau_Zorbax3p5_qh2o_fullmz.raw\n",
      "[1]\n",
      "['400-600 m/z' '200-1200 m/z' '400-500 m/z' '500-600 m/z']\n",
      "[1]\n",
      "['20221103_LBA_Boiteau_Zorbax3p5_spring_400_600.raw'\n",
      " '20221103_LBA_Boiteau_Zorbax3p5_spring_fullmz.raw'\n",
      " '20221103_LBA_Boiteau_Zorbax3p5_spring_400_500.raw'\n",
      " '20221103_LBA_Boiteau_Zorbax3p5_spring_500_600.raw'\n",
      " '20221103_LBA_Boiteau_Zorbax3p5_qh2o_400_500.raw'\n",
      " '20221103_LBA_Boiteau_Zorbax3p5_qh2o_500_600.raw'\n",
      " '20221103_LBA_Boiteau_Zorbax3p5_qh2o_fullmz.raw']\n",
      "['200 m/z' '1000 m/z' '100 m/z']\n"
     ]
    }
   ],
   "source": [
    "# save assignment results as pd dataframe and export as .csv \n",
    "\n",
    "data_df.to_csv(\"/Users/christiandewey/Library/CloudStorage/Box-Box/data/assignments/back-up-\"+fname)\n"
   ]
  },
  {
   "cell_type": "code",
   "execution_count": 71,
   "metadata": {},
   "outputs": [
    {
     "name": "stdout",
     "output_type": "stream",
     "text": [
      "20221103_LBA_Boiteau_Zorbax3p5_spring_400_600.raw\n",
      "20221103_LBA_Boiteau_Zorbax3p5_spring_fullmz.raw\n",
      "20221103_LBA_Boiteau_Zorbax3p5_spring_400_500.raw\n",
      "20221103_LBA_Boiteau_Zorbax3p5_spring_500_600.raw\n",
      "20221103_LBA_Boiteau_Zorbax3p5_qh2o_400_500.raw\n",
      "20221103_LBA_Boiteau_Zorbax3p5_qh2o_500_600.raw\n",
      "20221103_LBA_Boiteau_Zorbax3p5_qh2o_fullmz.raw\n",
      "[1]\n",
      "['400-600 m/z' '200-1200 m/z' '400-500 m/z' '500-600 m/z']\n",
      "[1]\n",
      "['20221103_LBA_Boiteau_Zorbax3p5_spring_400_600.raw'\n",
      " '20221103_LBA_Boiteau_Zorbax3p5_spring_fullmz.raw'\n",
      " '20221103_LBA_Boiteau_Zorbax3p5_spring_400_500.raw'\n",
      " '20221103_LBA_Boiteau_Zorbax3p5_spring_500_600.raw'\n",
      " '20221103_LBA_Boiteau_Zorbax3p5_qh2o_400_500.raw'\n",
      " '20221103_LBA_Boiteau_Zorbax3p5_qh2o_500_600.raw'\n",
      " '20221103_LBA_Boiteau_Zorbax3p5_qh2o_fullmz.raw']\n",
      "['200 m/z' '1000 m/z' '100 m/z']\n"
     ]
    }
   ],
   "source": [
    "\n",
    "# add 'm/z window' and 'rep' columns\n",
    "\n",
    "data_df = pd.read_csv(\"/Users/christiandewey/Library/CloudStorage/Box-Box/data/assignments/back-up-\"+fname)\n",
    "data_df = lcmsfns.add_mzwindow_col(data_df)\n",
    "\n",
    "data_df = lcmsfns.addRepCol(data_df)\n",
    "\n",
    "print(data_df['m/z window'].unique())\n",
    "print(data_df['Rep'].unique())\n",
    "print(data_df['file'].unique())\n",
    "print(data_df['m/z Window Size'].unique())\n"
   ]
  },
  {
   "cell_type": "code",
   "execution_count": 72,
   "metadata": {},
   "outputs": [
    {
     "data": {
      "text/plain": [
       "['CHO',\n",
       " 'CHON',\n",
       " 'CHONCu',\n",
       " 'CHONFe',\n",
       " 'CHOCu',\n",
       " 'CHOCuFe',\n",
       " 'CHOFe',\n",
       " 'CHONCuFe',\n",
       " 'Unassigned']"
      ]
     },
     "execution_count": 72,
     "metadata": {},
     "output_type": "execute_result"
    }
   ],
   "source": [
    "importlib.reload(icrms)\n",
    "importlib.reload(lcmsfns)\n",
    "\n",
    "heter = ['N', 'Cu', 'Fe']\n",
    "molclasses = lcmsfns.get_mol_class(heter)\n",
    "\n",
    "molclasses"
   ]
  },
  {
   "cell_type": "code",
   "execution_count": 73,
   "metadata": {},
   "outputs": [
    {
     "name": "stdout",
     "output_type": "stream",
     "text": [
      "\n",
      "time: 4\n",
      "unassigned:  2587\n",
      "assigned:  1792\n",
      "\tCHO: 617\n",
      "\tCHON: 1130\n",
      "\tCHONCu: 3\n",
      "\tCHONFe: 15\n",
      "\tCHOCu: 7\n",
      "\tCHOCuFe: 10\n",
      "\tCHOFe: 1\n",
      "\tCHONCuFe: 9\n",
      "\tUnassigned: 2587\n",
      "\n",
      "time: 6\n",
      "unassigned:  3046\n",
      "assigned:  3752\n",
      "\tCHO: 1182\n",
      "\tCHON: 2525\n",
      "\tCHONCu: 3\n",
      "\tCHONFe: 17\n",
      "\tCHOCu: 7\n",
      "\tCHOCuFe: 13\n",
      "\tCHOFe: 0\n",
      "\tCHONCuFe: 5\n",
      "\tUnassigned: 3046\n",
      "\n",
      "time: 8\n",
      "unassigned:  3722\n",
      "assigned:  5233\n",
      "\tCHO: 1689\n",
      "\tCHON: 3428\n",
      "\tCHONCu: 7\n",
      "\tCHONFe: 56\n",
      "\tCHOCu: 10\n",
      "\tCHOCuFe: 13\n",
      "\tCHOFe: 3\n",
      "\tCHONCuFe: 27\n",
      "\tUnassigned: 3722\n",
      "\n",
      "time: 10\n",
      "unassigned:  3657\n",
      "assigned:  6099\n",
      "\tCHO: 2141\n",
      "\tCHON: 3888\n",
      "\tCHONCu: 4\n",
      "\tCHONFe: 34\n",
      "\tCHOCu: 7\n",
      "\tCHOCuFe: 10\n",
      "\tCHOFe: 2\n",
      "\tCHONCuFe: 13\n",
      "\tUnassigned: 3657\n",
      "\n",
      "time: 12\n",
      "unassigned:  4096\n",
      "assigned:  7023\n",
      "\tCHO: 2644\n",
      "\tCHON: 4307\n",
      "\tCHONCu: 7\n",
      "\tCHONFe: 38\n",
      "\tCHOCu: 8\n",
      "\tCHOCuFe: 11\n",
      "\tCHOFe: 1\n",
      "\tCHONCuFe: 7\n",
      "\tUnassigned: 4096\n",
      "\n",
      "time: 14\n",
      "unassigned:  4183\n",
      "assigned:  7680\n",
      "\tCHO: 3041\n",
      "\tCHON: 4569\n",
      "\tCHONCu: 11\n",
      "\tCHONFe: 31\n",
      "\tCHOCu: 8\n",
      "\tCHOCuFe: 10\n",
      "\tCHOFe: 1\n",
      "\tCHONCuFe: 9\n",
      "\tUnassigned: 4183\n",
      "\n",
      "time: 16\n",
      "unassigned:  3969\n",
      "assigned:  7872\n",
      "\tCHO: 3310\n",
      "\tCHON: 4497\n",
      "\tCHONCu: 5\n",
      "\tCHONFe: 31\n",
      "\tCHOCu: 8\n",
      "\tCHOCuFe: 15\n",
      "\tCHOFe: 2\n",
      "\tCHONCuFe: 4\n",
      "\tUnassigned: 3969\n",
      "\n",
      "time: 18\n",
      "unassigned:  4128\n",
      "assigned:  8579\n",
      "\tCHO: 3809\n",
      "\tCHON: 4695\n",
      "\tCHONCu: 6\n",
      "\tCHONFe: 35\n",
      "\tCHOCu: 10\n",
      "\tCHOCuFe: 15\n",
      "\tCHOFe: 3\n",
      "\tCHONCuFe: 6\n",
      "\tUnassigned: 4128\n",
      "\n",
      "time: 20\n",
      "unassigned:  3993\n",
      "assigned:  8947\n",
      "\tCHO: 4103\n",
      "\tCHON: 4767\n",
      "\tCHONCu: 6\n",
      "\tCHONFe: 32\n",
      "\tCHOCu: 16\n",
      "\tCHOCuFe: 20\n",
      "\tCHOFe: 1\n",
      "\tCHONCuFe: 2\n",
      "\tUnassigned: 3993\n"
     ]
    }
   ],
   "source": [
    "importlib.reload(icrms)\n",
    "importlib.reload(lcmsfns)\n",
    "data_df = lcmsfns.assign_mol_class(data_df,molclasses)\n",
    "\n"
   ]
  },
  {
   "cell_type": "code",
   "execution_count": 74,
   "metadata": {},
   "outputs": [
    {
     "name": "stdout",
     "output_type": "stream",
     "text": [
      "['20221103_LBA_Boiteau_Zorbax3p5_qh2o_400_500.raw'\n",
      " '20221103_LBA_Boiteau_Zorbax3p5_qh2o_500_600.raw' 'mz200_400_600_blnk']\n",
      "['400-500 m/z' '500-600 m/z' '400-600 m/z']\n"
     ]
    }
   ],
   "source": [
    "# create 200 m/z blank entries from 100 m/z blank data (200 m/z blank data were not measured) & add them to master df\n",
    "\n",
    "raw_filelist = data_df['file'].unique()\n",
    "\n",
    "blank_files = [f for f in raw_filelist if 'qh2o' in f]\n",
    "\n",
    "blank_data = []\n",
    "\n",
    "for f in blank_files:\n",
    "\n",
    "    if 'fullmz' not in f:\n",
    "        \n",
    "        temp = data_df[data_df['file'] == f] \n",
    "\n",
    "        blank_data.append(temp)\n",
    "\n",
    "blanks_df = pd.concat(blank_data)  # these are only 100 m/z blanks (200 m/z blanks were not collected)\n",
    "\n",
    "rep1_temp = blanks_df[~blanks_df['file'].str.contains('rep2')]\n",
    "rep1_temp = rep1_temp[rep1_temp['m/z'] <= 600]\n",
    "rep1_temp['file'] = 'mz200_400_600_blnk'\n",
    "rep1_temp['m/z window'] = '400-600 m/z'\n",
    "\n",
    "blanks_df = pd.concat([blanks_df,rep1_temp])\n",
    "\n",
    "#rep1_temp = blanks_df[~blanks_df['file'].str.contains('rep2')]\n",
    "#rep1_temp = rep1_temp[rep1_temp['m/z'] >= 600]\n",
    "#rep1_temp['file'] = 'mz200_600_800_blnk'\n",
    "#rep1_temp['m/z window'] = '600-800 m/z'\n",
    "\n",
    "#blanks_df = pd.concat([blanks_df,rep1_temp])\n",
    "\n",
    "\n",
    "rep2_temp = blanks_df[blanks_df['file'].str.contains('rep2')]\n",
    "rep2_temp = rep2_temp[rep2_temp['m/z'] <= 600]\n",
    "rep2_temp['file'] = 'mz200_400_600_blnk_rep2'\n",
    "rep2_temp['m/z window'] = '400-600 m/z'\n",
    "\n",
    "blanks_df = pd.concat([blanks_df,rep2_temp])\n",
    "\n",
    "#rep2_temp = blanks_df[~blanks_df['file'].str.contains('rep2')]\n",
    "#rep2_temp = rep2_temp[rep2_temp['m/z'] >= 600]\n",
    "#rep2_temp['file'] = 'mz200_600_800_blnk_rep2'\n",
    "#rep2_temp['m/z window'] = '600-800 m/z'\n",
    "\n",
    "#blanks_df = pd.concat([blanks_df,rep2_temp])\n",
    "\n",
    "print(blanks_df['file'].unique())\n",
    "\n",
    "print(blanks_df['m/z window'].unique())\n"
   ]
  },
  {
   "cell_type": "code",
   "execution_count": 75,
   "metadata": {},
   "outputs": [
    {
     "name": "stdout",
     "output_type": "stream",
     "text": [
      "['400-500 m/z' '500-600 m/z' '400-600 m/z' '200-1200 m/z']\n",
      "[1]\n",
      "(2854,)\n",
      "(2854,)\n",
      "[1]\n",
      "(3636,)\n",
      "(3636,)\n",
      "[1]\n",
      "(1892,)\n",
      "(1892,)\n",
      "[1]\n",
      "(962,)\n",
      "(962,)\n",
      "['mz200_400_600_blnk' '20221103_LBA_Boiteau_Zorbax3p5_qh2o_fullmz.raw'\n",
      " '20221103_LBA_Boiteau_Zorbax3p5_qh2o_400_500.raw'\n",
      " '20221103_LBA_Boiteau_Zorbax3p5_qh2o_500_600.raw']\n"
     ]
    }
   ],
   "source": [
    "# add 200 m/z blank data and fullmz blank data to blanks df & add column with blank file identity to use in blank subtraction\n",
    "\n",
    "mz200_blanks = blanks_df[blanks_df['m/z window'] == '400-600 m/z']\n",
    "data_df = pd.concat([data_df, mz200_blanks])\n",
    "\n",
    "blanks_df = pd.concat([blanks_df, data_df[data_df['file'] =='20221103_LBA_Boiteau_Zorbax3p5_qh2o_fullmz_rep2.raw' ]])\n",
    "blanks_df = pd.concat([blanks_df, data_df[data_df['file'] =='20221103_LBA_Boiteau_Zorbax3p5_qh2o_fullmz.raw' ]])\n",
    "\n",
    "print(blanks_df['m/z window'].unique())\n",
    "\n",
    "data_df['blank file'] = data_df.index\n",
    "\n",
    "for window in data_df['m/z window'].unique():\n",
    "\n",
    "    temp1 = data_df[data_df['m/z window'] == window] # all features collected in given m/z window       \n",
    "    btemp1 = blanks_df[blanks_df['m/z window'] == window] # all blank feautres collected in same m/z window\n",
    "    print(temp1['Rep'].unique())\n",
    "    for r in temp1['Rep'].unique():\n",
    "        temp2 = temp1[temp1['Rep'] == r]\n",
    "        btemp2 = btemp1[btemp1['Rep'] == r]\n",
    "\n",
    "        print(np.shape( btemp2['file']))\n",
    "\n",
    "        temp2['blank file'] = btemp2['file'].iloc[0]\n",
    "        print(np.shape( btemp2['file']))\n",
    "        data_df[(data_df['m/z window'] == window) & (data_df['Rep'] == r)]  = temp2\n",
    "\n",
    "\n",
    "print(data_df['blank file'].unique())\n"
   ]
  },
  {
   "cell_type": "code",
   "execution_count": 76,
   "metadata": {},
   "outputs": [],
   "source": [
    "# save assignment results as pd dataframe and export as .csv \n",
    "data_df.to_csv(\"/Users/christiandewey/Library/CloudStorage/Box-Box/data/assignments/\"+fname)\n"
   ]
  },
  {
   "cell_type": "code",
   "execution_count": 77,
   "metadata": {},
   "outputs": [],
   "source": [
    "#-#-#-# read assignment results from .csv\n",
    "data_df = pd.read_csv(\"/Users/christiandewey/Library/CloudStorage/Box-Box/data/assignments/\"+fname)"
   ]
  },
  {
   "cell_type": "code",
   "execution_count": 78,
   "metadata": {},
   "outputs": [],
   "source": [
    "# create subsets of assignments based m/z window\n",
    "\n",
    "list100mz = []\n",
    "list200mz = []\n",
    "listfullzmz = [] \n",
    "\n",
    "for mzwindow in data_df['m/z window'].unique():\n",
    "\n",
    "    r_df = data_df[data_df['m/z window'] == mzwindow]\n",
    "\n",
    "    if (mzwindow == '400-600 m/z') or (mzwindow == '600-800 m/z'):\n",
    "        list200mz.append(r_df)\n",
    "\n",
    "    if (mzwindow == '400-500 m/z') or (mzwindow == '500-600 m/z') or (mzwindow == '600-700 m/z') or (mzwindow == '700-800 m/z'):\n",
    "        list100mz.append(r_df) \n",
    "\n",
    "    elif (mzwindow == '200-1200 m/z'):\n",
    "        listfullzmz.append(r_df) \n",
    "\n",
    "mz100 = pd.concat(list100mz)\n",
    "mz200 = pd.concat(list200mz)\n",
    "mzfull = pd.concat(listfullzmz)\n"
   ]
  },
  {
   "cell_type": "code",
   "execution_count": 79,
   "metadata": {},
   "outputs": [
    {
     "data": {
      "image/png": "[encoded data removed]",
      "text/plain": [
       "<Figure size 600x900 with 3 Axes>"
      ]
     },
     "metadata": {},
     "output_type": "display_data"
    }
   ],
   "source": [
    "# plot assignment error kernel density CHON\n",
    "\n",
    "ttt = 'CHON3CuFe'  ## title for main plot\n",
    "\n",
    "dffull = mzfull[(mzfull['mol_class']=='CHO') | (mzfull['mol_class']=='CHON')]\n",
    "fig, (ax1, ax2, ax3) = plt.subplots(3, 1, figsize = (6,9))\n",
    "sns.kdeplot(data=dffull[dffull['mol_class']!='Unassigned'], x=\"m/z Error (ppm)\", hue=\"mol_class\", ax = ax1)\n",
    "ax1.set_xlim(-0.3,0.3)\n",
    "ax1.set_title( 'Full Window (1000 m/z)')\n",
    "legend = ax1.get_legend()\n",
    "handles = legend.legendHandles\n",
    "labels = dffull[dffull['mol_class']!='Unassigned']['mol_class'].unique()\n",
    "legend.remove()\n",
    "\n",
    "df100 = mz100[(mz100['mol_class']=='CHO') | (mz100['mol_class']=='CHON')]\n",
    "sns.kdeplot(data=df100[df100['mol_class']!='Unassigned'], x=\"m/z Error (ppm)\", hue=\"mol_class\", ax = ax2, legend = False)\n",
    "ax2.set_title( 'Narrow Window (100 m/z)')\n",
    "ax2.set_xlim(-0.3,0.3)\n",
    "\n",
    "df200 = mz200[(mz200['mol_class']=='CHO') | (mz200['mol_class']=='CHON')]\n",
    "sns.kdeplot(data=df200[df200['mol_class']!='Unassigned'], x=\"m/z Error (ppm)\", hue=\"mol_class\", ax = ax3, legend = False)\n",
    "ax3.set_title( 'Mid Window (200 m/z)')\n",
    "ax3.set_xlim(-0.3,0.3)\n",
    "\n",
    "\n",
    "fig.suptitle(ttt, fontsize=14)\n",
    "fig.legend(handles, labels, title='Mol. Class', frameon = False, bbox_to_anchor=(1.0,0.5), loc = 'center left')\n",
    "\n",
    "plt.tight_layout()\n",
    "\n",
    "plt.show()\n"
   ]
  },
  {
   "cell_type": "code",
   "execution_count": null,
   "metadata": {},
   "outputs": [],
   "source": [
    "# plot assignment error kernel density CHON\n",
    "import itertools\n",
    "ttt = 'CHON3CuFe'  ## title for main plot\n",
    "\n",
    "# set palette \n",
    "palette = itertools.cycle(sns.color_palette())\n",
    "\n",
    "\n",
    "\n",
    "dffull = mzfull[(mzfull['mol_class']!='CHO') & (mzfull['mol_class']!='CHON')]\n",
    "fig, (ax1, ax2, ax3) = plt.subplots(3, 1, figsize = (6,9))\n",
    "sns.kdeplot(data=dffull[dffull['mol_class']!='Unassigned'], x=\"m/z Error (ppm)\", hue=\"mol_class\", ax = ax1, palette=palette)\n",
    "ax1.set_xlim(-0.3,0.3)\n",
    "ax1.set_title( 'Full Window (1000 m/z)')\n",
    "legend = ax1.get_legend()\n",
    "handles = legend.legendHandles\n",
    "labels = dffull[dffull['mol_class']!='Unassigned']['mol_class'].unique()\n",
    "legend.remove()\n",
    "\n",
    "\n",
    "palette = itertools.cycle(sns.color_palette())\n",
    "\n",
    "\n",
    "df100 = mz100[(mz100['mol_class']!='CHO') & (mz100['mol_class']!='CHON')]\n",
    "sns.kdeplot(data=df100[df100['mol_class']!='Unassigned'], x=\"m/z Error (ppm)\", hue=\"mol_class\", ax = ax2, legend = False, palette=palette)\n",
    "ax2.set_title( 'Narrow Window (100 m/z)')\n",
    "ax2.set_xlim(-0.3,0.3)\n",
    "\n",
    "\n",
    "palette = itertools.cycle(sns.color_palette())\n",
    "\n",
    "df200 = mz200[(mz200['mol_class']!='CHO') & (mz200['mol_class']!='CHON')]\n",
    "sns.kdeplot(data=df200[df200['mol_class']!='Unassigned'], x=\"m/z Error (ppm)\", hue=\"mol_class\", ax = ax3, legend = False, palette=palette)\n",
    "ax3.set_title( 'Mid Window (200 m/z)')\n",
    "ax3.set_xlim(-0.3,0.3)\n",
    "\n",
    "\n",
    "fig.suptitle(ttt, fontsize=14)\n",
    "fig.legend(handles, labels, title='Mol. Class', frameon = False, bbox_to_anchor=(1.0,0.5), loc = 'center left')\n",
    "\n",
    "plt.tight_layout()\n",
    "\n",
    "plt.show()\n"
   ]
  },
  {
   "cell_type": "code",
   "execution_count": 80,
   "metadata": {},
   "outputs": [
    {
     "name": "stdout",
     "output_type": "stream",
     "text": [
      "400-600 m/z, 100 m/z windowing: \n",
      "30524 features total; 18390 assigned (60.2%)\n",
      "\n",
      "400-600 m/z, 200 m/z windowing: \n",
      "26946 features total; 16085 assigned (59.7%)\n",
      "\n",
      "200-800 m/z window (full scan): \n",
      "35742 features total; 23093 assigned (64.6%)\n"
     ]
    }
   ],
   "source": [
    "# create subsets of assigned features \n",
    "assigned_100mz = mz100[~mz100['Molecular Formula'].isnull()]\n",
    "assigned_200mz = mz200[~mz200['Molecular Formula'].isnull()]\n",
    "assigned_fullmz = mzfull[~mzfull['Molecular Formula'].isnull()]\n",
    "\n",
    "print('400-600 m/z, 100 m/z windowing: \\n%s features total; %s assigned (%.1f%%)' %(np.shape(mz100)[0],  np.shape(assigned_100mz)[0], np.shape(assigned_100mz)[0] / np.shape(mz100)[0] * 100))\n",
    "print('\\n400-600 m/z, 200 m/z windowing: \\n%s features total; %s assigned (%.1f%%)' %(np.shape(mz200)[0], np.shape(assigned_200mz)[0], np.shape(assigned_200mz)[0] / np.shape(mz200)[0] * 100))\n",
    "print('\\n200-800 m/z window (full scan): \\n%s features total; %s assigned (%.1f%%)' %(np.shape(mzfull)[0],np.shape(assigned_fullmz)[0],  np.shape(assigned_fullmz)[0] / np.shape(mzfull)[0] * 100))"
   ]
  },
  {
   "cell_type": "code",
   "execution_count": 81,
   "metadata": {},
   "outputs": [
    {
     "name": "stdout",
     "output_type": "stream",
     "text": [
      "400-600 m/z, 100 m/z windowing:\n",
      "\n",
      "400-600 m/z, 200 m/z windowing:\n",
      "\n",
      "200-800 m/z, 1000 m/z windowing:\n"
     ]
    }
   ],
   "source": [
    "# create subsets of unique features \n",
    "print('400-600 m/z, 100 m/z windowing:')\n",
    "unique_100mz = lcmsfns.getUniqueFeatures(assigned_100mz)\n",
    "\n",
    "print('\\n400-600 m/z, 200 m/z windowing:')\n",
    "unique_200mz = lcmsfns.getUniqueFeatures(assigned_200mz)\n",
    "\n",
    "print('\\n200-800 m/z, 1000 m/z windowing:')\n",
    "unique_fullmz = lcmsfns.getUniqueFeatures(assigned_fullmz)\n"
   ]
  },
  {
   "cell_type": "code",
   "execution_count": 82,
   "metadata": {},
   "outputs": [
    {
     "name": "stdout",
     "output_type": "stream",
     "text": [
      "400-600 m/z, 100 m/z windowing: \n",
      "30524 features total\n",
      "18390 assigned (60.2%)\n",
      "\n",
      "400-600 m/z, 200 m/z windowing: \n",
      "26946 features total\n",
      "16085 assigned (59.7%)\n",
      "\n",
      "400-600 m/z, full window: \n",
      "18597 features total\n",
      "11657 assigned (62.7%)\n"
     ]
    }
   ],
   "source": [
    "# subset assigned by m/z window between 400 and 600 m/z \n",
    "assigned_100mz_456 = assigned_100mz[(assigned_100mz['m/z']>=400)]\n",
    "assigned_100mz_456 = assigned_100mz_456[(assigned_100mz_456['m/z']<=600)]\n",
    "\n",
    "assigned_200mz_456 = assigned_200mz[(assigned_200mz['m/z']>=400)]\n",
    "assigned_200mz_456 = assigned_200mz_456[(assigned_200mz_456['m/z']<=600)]\n",
    "\n",
    "assigned_fullmz_456 = assigned_fullmz[(assigned_fullmz['m/z']>=400)]\n",
    "assigned_fullmz_456 = assigned_fullmz_456[(assigned_fullmz_456['m/z']<=600)]\n",
    "\n",
    "mz100_456 = mz100[(mz100['m/z']>=400)]\n",
    "mz100_456 = mz100_456[(mz100_456['m/z']<=600)]\n",
    "\n",
    "mz200_456 = mz200[(mz200['m/z']>=400)]\n",
    "mz200_456 = mz200_456[(mz200_456['m/z']<=600)]\n",
    "\n",
    "mzfull_456 = mzfull[(mzfull['m/z']>=400)]\n",
    "mzfull_456 = mzfull_456[(mzfull_456['m/z']<=600)]\n",
    "\n",
    "print('400-600 m/z, 100 m/z windowing: \\n%s features total\\n%s assigned (%.1f%%)' %(np.shape(mz100_456)[0],  np.shape(assigned_100mz_456)[0], np.shape(assigned_100mz_456)[0] / np.shape(mz100_456)[0] * 100))\n",
    "print('\\n400-600 m/z, 200 m/z windowing: \\n%s features total\\n%s assigned (%.1f%%)' %(np.shape(mz200_456)[0], np.shape(assigned_200mz_456)[0], np.shape(assigned_200mz_456)[0] / np.shape(mz200_456)[0] * 100))\n",
    "print('\\n400-600 m/z, full window: \\n%s features total\\n%s assigned (%.1f%%)' %(np.shape(mzfull_456)[0],np.shape(assigned_fullmz_456)[0],  np.shape(assigned_fullmz_456)[0] / np.shape(mzfull_456)[0] * 100))\n",
    "\n"
   ]
  },
  {
   "cell_type": "code",
   "execution_count": 83,
   "metadata": {},
   "outputs": [
    {
     "name": "stdout",
     "output_type": "stream",
     "text": [
      "400-600 m/z, 100 m/z windowing:\n",
      "\n",
      "400-600 m/z, 200 m/z windowing:\n",
      "\n",
      "200-800 m/z, 1000 m/z windowing:\n"
     ]
    }
   ],
   "source": [
    "print('400-600 m/z, 100 m/z windowing:')\n",
    "unique_100mz_456 = lcmsfns.getUniqueFeatures(assigned_100mz_456)\n",
    "\n",
    "print('\\n400-600 m/z, 200 m/z windowing:')\n",
    "unique_200mz_456 = lcmsfns.getUniqueFeatures(assigned_200mz_456)\n",
    "\n",
    "print('\\n200-800 m/z, 1000 m/z windowing:')\n",
    "unique_fullmz_456 = lcmsfns.getUniqueFeatures(assigned_fullmz_456)"
   ]
  },
  {
   "cell_type": "code",
   "execution_count": 84,
   "metadata": {},
   "outputs": [
    {
     "name": "stdout",
     "output_type": "stream",
     "text": [
      "1000 m/z\n",
      "1000 m/z\n",
      "1000 m/z\n",
      "1000 m/z\n",
      "1000 m/z\n",
      "1000 m/z\n",
      "1000 m/z\n",
      "1000 m/z\n",
      "1000 m/z\n",
      "100 m/z\n",
      "100 m/z\n",
      "100 m/z\n",
      "100 m/z\n",
      "100 m/z\n",
      "100 m/z\n",
      "100 m/z\n",
      "100 m/z\n",
      "100 m/z\n"
     ]
    },
    {
     "data": {
      "text/plain": [
       "<AxesSubplot:xlabel='Dynamic Range', ylabel='m/z Window Size'>"
      ]
     },
     "execution_count": 84,
     "metadata": {},
     "output_type": "execute_result"
    },
    {
     "data": {
      "image/png": "[encoded data removed]",
      "text/plain": [
       "<Figure size 640x480 with 1 Axes>"
      ]
     },
     "metadata": {},
     "output_type": "display_data"
    }
   ],
   "source": [
    "alldf = pd.concat([lcmsfns.blankSubtract(unique_fullmz_456, blnkthresh = 0.6), lcmsfns.blankSubtract(unique_100mz_456, blnkthresh = 0.6), lcmsfns.blankSubtract(unique_200mz_456, blnkthresh = 0.6)])\n",
    "alldf = pd.concat([unique_fullmz_456, unique_100mz_456])\n",
    "\n",
    "times = data_df['Time'].unique()\n",
    "\n",
    "holder = {}\n",
    "summary = []\n",
    "summary2 = []\n",
    "\n",
    "for mzw in alldf['m/z Window Size'].unique():\n",
    "    \n",
    "    sub1 = alldf[alldf['m/z Window Size'] == mzw]\n",
    "\n",
    "    for t in times:\n",
    "        \n",
    "        print(mzw)\n",
    "        lsh = {}\n",
    "        lsh['m/z Window Size'] = mzw\n",
    "\n",
    "        sub2 = sub1[sub1['Time'] == t]\n",
    "\n",
    "        sub2 = sub2[sub2['S/N'] > 3]\n",
    "        \n",
    "        dynamic_range_t = max(sub2['Peak Height']/min(sub2['Peak Height']))\n",
    "        \n",
    "        lsh['Time'] = t\n",
    "        lsh['Dynamic Range'] = dynamic_range_t        \n",
    "        lsh['n Features'] = len(sub2)\n",
    "        lsh['Max I'] = max(sub2['Peak Height'])\n",
    "        lsh['Min I'] = min(sub2['Peak Height'])\n",
    "        summary.append(lsh)\n",
    "\n",
    "\n",
    "df=pd.DataFrame(summary)\n",
    "\n",
    "sns.boxplot(data=df, x=\"Dynamic Range\", y=\"m/z Window Size\")"
   ]
  },
  {
   "cell_type": "code",
   "execution_count": 85,
   "metadata": {},
   "outputs": [
    {
     "name": "stdout",
     "output_type": "stream",
     "text": [
      "['100 m/z' '1000 m/z']\n",
      "(29068, 50) (49121, 42)\n"
     ]
    }
   ],
   "source": [
    "import matplotlib.gridspec as gridspec\n",
    "\n",
    "mz100_bs = lcmsfns.blankSubtract(unique_100mz, blnkthresh = 0.6)\n",
    "mzfull_bs = lcmsfns.blankSubtract(unique_fullmz, blnkthresh = 0.6)\n",
    "\n",
    "mzfull_bs_456 = mzfull_bs[(mzfull_bs['Calibrated m/z']>=400) & (mzfull_bs['Calibrated m/z']<=600)]\n",
    "combo = pd.concat([mz100_bs, mzfull_bs_456], ignore_index=True)\n",
    "\n",
    "\n",
    "for i in range(len(combo['m/z window'])):\n",
    "\n",
    "    w = combo['m/z window'].iloc[i]\n",
    "\n",
    "    if (w == '400-500 m/z') or (w == '500-600 m/z'):\n",
    "        \n",
    "        combo['m/z Window Size'].iloc[i] = '100 m/z'\n",
    "\n",
    "    elif (w == '400-600 m/z'):\n",
    "        \n",
    "        combo['m/z Window Size'].iloc[i] = '200 m/z'\n",
    "\n",
    "    elif (w == '200-1200 m/z'):\n",
    "        \n",
    "        combo['m/z Window Size'].iloc[i] = '1000 m/z'\n",
    "\n",
    "print(combo['m/z Window Size'].unique())\n",
    "\n",
    "\n",
    "mzfull_456 = mzfull[(mzfull['Calibrated m/z']>=400) & (mzfull['Calibrated m/z']<=600)]\n",
    "combo2 = pd.concat([mz100, mzfull_456], ignore_index=True)\n",
    "\n",
    "for i in range(len(combo['m/z window'])):\n",
    "\n",
    "    w = combo2['m/z window'].iloc[i]\n",
    "\n",
    "    if (w == '400-500 m/z') or (w == '500-600 m/z'):\n",
    "        \n",
    "        combo2['m/z Window Size'].iloc[i] = '100 m/z'\n",
    "\n",
    "    elif (w == '400-600 m/z'):\n",
    "        \n",
    "        combo2['m/z Window Size'].iloc[i] = '200 m/z'\n",
    "\n",
    "    elif (w == '200-1200 m/z'):\n",
    "        \n",
    "        combo2['m/z Window Size'].iloc[i] = '1000 m/z'\n",
    "\n",
    "print(np.shape(combo),np.shape(combo2))\n",
    "\n"
   ]
  },
  {
   "cell_type": "code",
   "execution_count": 86,
   "metadata": {},
   "outputs": [
    {
     "data": {
      "image/png": "[encoded data removed]",
      "text/plain": [
       "<Figure size 640x480 with 2 Axes>"
      ]
     },
     "metadata": {},
     "output_type": "display_data"
    }
   ],
   "source": [
    "\n",
    "import matplotlib.gridspec as gridspec\n",
    "\n",
    "#fig, (ax1_t,ax1_b, ax2) = plt.subplots(nrows=3, ncols=1, sharex = True, gridspec_kw={'hspace':0.02})\n",
    "plt.subplots_adjust(hspace=0.3)\n",
    "#make outer gridspec\n",
    "outer = gridspec.GridSpec(2, 1, height_ratios = [1, 1]) \n",
    "#make nested gridspecs\n",
    "gs2 = gridspec.GridSpecFromSubplotSpec(1, 1, subplot_spec = outer[1])\n",
    "gs1 = gridspec.GridSpecFromSubplotSpec(1, 1, subplot_spec = outer[0])\n",
    "\n",
    "\n",
    "ax1 = plt.subplot(gs2[0])\n",
    "\n",
    "sns.histplot(combo, x=\"Calibrated m/z\", hue=\"m/z Window Size\", multiple=\"stack\", ax=ax1,binwidth=5)\n",
    "ax1.set_ylabel('Assigned Features')\n",
    "ax1.legend_.remove()\n",
    "ax1.set_xlim(400,600)\n",
    "#ax1.set_ylim(0,4500)\n",
    "\n",
    "sns.despine(ax=ax1)\n",
    "\n",
    "\n",
    "ax2 = plt.subplot(gs1[0])\n",
    "\n",
    "sns.despine(ax=ax2)\n",
    "\n",
    "sns.histplot(combo2, x=\"Calibrated m/z\", hue=\"m/z Window Size\", multiple=\"stack\", ax=ax2,binwidth=5)\n",
    "ax2.set_ylabel('Detected Features')\n",
    "ax2.set_xlim(400,600)\n",
    "#ax2.set_ylim(0,4500)\n",
    "legend = ax2.get_legend()\n",
    "handles = legend.legendHandles\n",
    "labels = ['100 m/z','1000 m/z']\n",
    "ax2.legend_.remove()\n",
    "\n",
    "fig = plt.gcf()\n",
    "\n",
    "fig.legend(handles, labels, bbox_to_anchor=(0.98, 0.5), loc='center left',frameon=False, borderaxespad=0, title = 'Window Size')\n",
    "\n",
    "plt.show()"
   ]
  },
  {
   "cell_type": "code",
   "execution_count": 90,
   "metadata": {},
   "outputs": [
    {
     "name": "stdout",
     "output_type": "stream",
     "text": [
      "['CHO' 'CHON' 'CHONFe' 'CHOCu' 'CHOCuFe' 'Unassigned' 'CHONCuFe' 'CHONCu'\n",
      " 'CHOFe']\n"
     ]
    },
    {
     "data": {
      "image/png": "[encoded data removed]",
      "text/plain": [
       "<Figure size 640x480 with 1 Axes>"
      ]
     },
     "metadata": {},
     "output_type": "display_data"
    }
   ],
   "source": [
    "fig, ax4 = plt.subplots()\n",
    "\n",
    "all_results = pd.concat([mzfull[(mzfull['m/z']>=400) & (mzfull['m/z']<=600)],mz100[(mz100['m/z']>=400) & (mz100['m/z']<=600)]], ignore_index=True)\n",
    "\n",
    "print(all_results['mol_class'].unique())\n",
    "assign_summary=[]\n",
    "for time in all_results['Time'].unique():    \n",
    "    for w in all_results['m/z Window Size'].unique():\n",
    "        current={}\n",
    "        current['Time']=time\n",
    "        current['m/z Window'] = w\n",
    "        for mol_class in all_results['mol_class'].unique():\n",
    "            if mol_class == 'Unassigned':\n",
    "                current['Unassigned']=len(all_results[(all_results['mol_class']==mol_class) & (all_results['Time']==time) & (all_results['m/z Window Size']==w)])\n",
    "            else:\n",
    "                current['Assigned']=len(all_results[(all_results['mol_class']!='Unassigned') & (all_results['Time']==time) & (all_results['m/z Window Size']==w)])\n",
    "        assign_summary.append(current)\n",
    "\n",
    "df=pd.DataFrame(assign_summary)\n",
    "\n",
    "df100 = df[df['m/z Window']=='100 m/z']\n",
    "\n",
    "ax4 = df.plot.bar(x='Time',y=df.columns[1:],stacked=True,ylabel='Peaks',ax=ax4)\n",
    "#ax4 = df100.plot.bar(x='Time',y=df.columns[1:],stacked=True,ylabel='Peaks',ax=ax4)\n",
    "plt.rcParams['hatch.linewidth'] = 4\n",
    "n = 18\n",
    "for i in range(n):\n",
    "    new_x = ax4.patches[i].get_x() - ((i%2)/2)\n",
    "    ax4.patches[i].set_x(new_x)\n",
    "    ax4.patches[i+n].set_x(new_x)\n",
    "\n",
    "    if (i%2)/2 > 0:\n",
    "        ax4.patches[i].set_x(new_x+0.1)\n",
    "        ax4.patches[i+n].set_x(new_x+0.1)\n",
    "\n",
    "        ax4.patches[i].set_hatch('///')\n",
    "        ax4.patches[i].set_edgecolor('C0')\n",
    "        ax4.patches[i].set_fill(None)\n",
    "        #ax4.patches[i].set_alpha(0.7)\n",
    "        ax4.patches[i+n].set_hatch('///')\n",
    "        ax4.patches[i+n].set_edgecolor('C1')\n",
    "        ax4.patches[i+n].set_fill(None)\n",
    "\n",
    "# Update tick locations correspondingly\n",
    "#minor_tick_locs = [x.get_x()+1/4 for x in ax4.patches[:28]]\n",
    "major_tick_locs = np.array([x.get_x()+1/4 for x in ax4.patches[:18]]).reshape(9, 2).mean(axis=1)\n",
    "#ax4.set_xticks(minor_tick_locs, minor=True)\n",
    "ax4.set_xticks(major_tick_locs)\n",
    "\n",
    "# Use indices from dataframe as tick labels\n",
    "major_tick_labels = df['Time'].unique()\n",
    "#major_tick_labels = df_g.index.levels[0].values\n",
    "#ax4.xaxis.set_ticklabels(minor_tick_labels, minor=True)\n",
    "ax4.xaxis.set_ticklabels(major_tick_labels)\n",
    "\n",
    "# Remove ticks and organize tick labels to avoid overlap\n",
    "#ax4.tick_params(axis='x', which='both', bottom='off')\n",
    "#ax4.tick_params(axis='x', which='minor', rotation=45)\n",
    "ax4.tick_params(axis='x', which='major', pad=5, rotation=0)\n",
    "\n",
    "ax4.set_xlabel('Time (min)')\n",
    "ax4.set_ylabel('Features (count)')\n",
    "\n",
    "ax4.legend(loc='center left', bbox_to_anchor=(1, 0.5), frameon=False)\n",
    "sns.despine(ax=ax4)\n",
    "\n",
    "\n",
    "plt.show()\n"
   ]
  },
  {
   "cell_type": "code",
   "execution_count": 88,
   "metadata": {},
   "outputs": [
    {
     "name": "stdout",
     "output_type": "stream",
     "text": [
      "['CHO' 'CHON' 'CHONFe' 'CHOCu' 'CHOCuFe' 'Unassigned' 'CHONCuFe' 'CHONCu'\n",
      " 'CHOFe']\n"
     ]
    },
    {
     "data": {
      "image/png": "[encoded data removed]",
      "text/plain": [
       "<Figure size 640x480 with 1 Axes>"
      ]
     },
     "metadata": {},
     "output_type": "display_data"
    }
   ],
   "source": [
    "fig, ax4 = plt.subplots()\n",
    "\n",
    "all_results = pd.concat([mzfull[(mzfull['m/z']>=400) & (mzfull['m/z']<=600)],mz100[(mz100['m/z']>=400) & (mz100['m/z']<=600)]], ignore_index=True)\n",
    "\n",
    "print(all_results['mol_class'].unique())\n",
    "assign_summary=[]\n",
    "for time in all_results['Time'].unique():    \n",
    "    for w in all_results['m/z Window Size'].unique():\n",
    "        current={}\n",
    "        current['Time']=time\n",
    "        current['m/z Window'] = w\n",
    "        for mol_class in ['CHO','CHON', 'Unassigned']:\n",
    "            current[mol_class]=len(all_results[(all_results['mol_class']==mol_class) & (all_results['Time']==time) & (all_results['m/z Window Size']==w)])\n",
    "        assign_summary.append(current)\n",
    "df=pd.DataFrame(assign_summary)\n",
    "\n",
    "df100 = df[df['m/z Window']=='100 m/z']\n",
    "\n",
    "ax4 = df.plot.bar(x='Time',y=df.columns[1:],stacked=True,ylabel='Peaks',ax=ax4)\n",
    "#ax4 = df100.plot.bar(x='Time',y=df.columns[1:],stacked=True,ylabel='Peaks',ax=ax4)\n",
    "plt.rcParams['hatch.linewidth'] = 4\n",
    "n = 18\n",
    "for i in range(n):\n",
    "    new_x = ax4.patches[i].get_x() - ((i%2)/2)\n",
    "    ax4.patches[i].set_x(new_x)\n",
    "    ax4.patches[i+n].set_x(new_x)\n",
    "    ax4.patches[i+(2*n)].set_x(new_x)\n",
    "\n",
    "    if (i%2)/2 > 0:\n",
    "        ax4.patches[i].set_x(new_x+0.1)\n",
    "        ax4.patches[i+n].set_x(new_x+0.1)\n",
    "        ax4.patches[i+(2*n)].set_x(new_x+0.1)\n",
    "\n",
    "        ax4.patches[i].set_hatch('///')\n",
    "        ax4.patches[i].set_edgecolor('C0')\n",
    "        ax4.patches[i].set_fill(None)\n",
    "        #ax4.patches[i].set_alpha(0.7)\n",
    "        ax4.patches[i+n].set_hatch('///')\n",
    "        ax4.patches[i+n].set_edgecolor('C1')\n",
    "        ax4.patches[i+n].set_fill(None)\n",
    "        #ax4.patches[i+(2*n)].set_alpha(0.7)\n",
    "        ax4.patches[i+(2*n)].set_hatch('///')\n",
    "        ax4.patches[i+(2*n)].set_edgecolor('C2')\n",
    "        ax4.patches[i+(2*n)].set_fill(None)\n",
    "\n",
    "\n",
    "\n",
    "# Update tick locations correspondingly\n",
    "#minor_tick_locs = [x.get_x()+1/4 for x in ax4.patches[:28]]\n",
    "major_tick_locs = np.array([x.get_x()+1/4 for x in ax4.patches[:18]]).reshape(9, 2).mean(axis=1)\n",
    "#ax4.set_xticks(minor_tick_locs, minor=True)\n",
    "ax4.set_xticks(major_tick_locs)\n",
    "\n",
    "# Use indices from dataframe as tick labels\n",
    "major_tick_labels = df['Time'].unique()\n",
    "#major_tick_labels = df_g.index.levels[0].values\n",
    "#ax4.xaxis.set_ticklabels(minor_tick_labels, minor=True)\n",
    "ax4.xaxis.set_ticklabels(major_tick_labels)\n",
    "\n",
    "# Remove ticks and organize tick labels to avoid overlap\n",
    "#ax4.tick_params(axis='x', which='both', bottom='off')\n",
    "#ax4.tick_params(axis='x', which='minor', rotation=45)\n",
    "ax4.tick_params(axis='x', which='major', pad=5, rotation=0)\n",
    "\n",
    "ax4.set_xlabel('Time (min)')\n",
    "ax4.set_ylabel('Features (count)')\n",
    "\n",
    "ax4.legend(loc='center left', bbox_to_anchor=(1, 0.5), frameon=False)\n",
    "sns.despine(ax=ax4)\n",
    "\n",
    "plt.show()\n"
   ]
  },
  {
   "cell_type": "code",
   "execution_count": 133,
   "metadata": {},
   "outputs": [
    {
     "name": "stdout",
     "output_type": "stream",
     "text": [
      "['CHO' 'CHON' 'CHONFe' 'CHOCu' 'CHOCuFe' 'Unassigned' 'CHONCuFe' 'CHONCu'\n",
      " 'CHOFe']\n"
     ]
    },
    {
     "data": {
      "image/png": "[encoded data removed]",
      "text/plain": [
       "<Figure size 640x480 with 2 Axes>"
      ]
     },
     "metadata": {},
     "output_type": "display_data"
    }
   ],
   "source": [
    "\n",
    "import matplotlib.gridspec as gridspec\n",
    "import matplotlib.patches as mpatches\n",
    "\n",
    "#fig, (ax1_t,ax1_b, ax2) = plt.subplots(nrows=3, ncols=1, sharex = True, gridspec_kw={'hspace':0.02})\n",
    "plt.subplots_adjust(hspace=0.3)\n",
    "#make outer gridspec\n",
    "outer = gridspec.GridSpec(2, 1, height_ratios = [1, 1]) \n",
    "#make nested gridspecs\n",
    "gs2 = gridspec.GridSpecFromSubplotSpec(1, 1, subplot_spec = outer[1])\n",
    "gs1 = gridspec.GridSpecFromSubplotSpec(1, 1, subplot_spec = outer[0])\n",
    "\n",
    "plt.rcParams['legend.title_fontsize'] = 8\n",
    "\n",
    "\n",
    "ax2 = plt.subplot(gs1[0])\n",
    "\n",
    "sns.despine(ax=ax2)\n",
    "\n",
    "sns.histplot(combo2, x=\"Calibrated m/z\", hue=\"m/z Window Size\", multiple=\"stack\", ax=ax2,binwidth=5)\n",
    "ax2.set_ylabel('Features')\n",
    "ax2.set_xlim(400,600)\n",
    "#ax2.set_ylim(0,4500)\n",
    "legend = ax2.get_legend()\n",
    "handles = legend.legendHandles\n",
    "labels = ['100 m/z','1000 m/z']\n",
    "#ax2.legend_.remove()\n",
    "\n",
    "fig = plt.gcf()\n",
    "\n",
    "ax2.legend(handles, labels, bbox_to_anchor=(1, 0.5), loc='center left',frameon=False, borderaxespad=0, title = 'Window Size', prop={'size': 8})\n",
    "ax2.text(-0.15, 1.05,'a',\n",
    "    horizontalalignment='center',\n",
    "    verticalalignment='center',\n",
    "    transform = ax2.transAxes, fontweight='bold', fontsize = 10)\n",
    "\n",
    "ax4 = plt.subplot(gs2[0])\n",
    "\n",
    "\n",
    "all_results = pd.concat([mzfull[(mzfull['m/z']>=400) & (mzfull['m/z']<=600)],mz100[(mz100['m/z']>=400) & (mz100['m/z']<=600)]], ignore_index=True)\n",
    "\n",
    "print(all_results['mol_class'].unique())\n",
    "assign_summary=[]\n",
    "for time in all_results['Time'].unique():    \n",
    "    for w in all_results['m/z Window Size'].unique():\n",
    "        current={}\n",
    "        current['Time']=time\n",
    "        current['m/z Window'] = w\n",
    "        for mol_class in ['CHO','CHON', 'Unassigned']:\n",
    "            current[mol_class]=len(all_results[(all_results['mol_class']==mol_class) & (all_results['Time']==time) & (all_results['m/z Window Size']==w)])\n",
    "        assign_summary.append(current)\n",
    "df=pd.DataFrame(assign_summary)\n",
    "\n",
    "df100 = df[df['m/z Window']=='100 m/z']\n",
    "ax4 = df.plot.bar(x='Time',y=df.columns[1:],stacked=True,ylabel='Peaks',ax=ax4)\n",
    "#ax4 = df100.plot.bar(x='Time',y=df.columns[1:],stacked=True,ylabel='Peaks',ax=ax4)\n",
    "plt.rcParams['hatch.linewidth'] = 4\n",
    "n = 18\n",
    "for i in range(n):\n",
    "    new_x = ax4.patches[i].get_x() - ((i%2)/2)\n",
    "    ax4.patches[i].set_x(new_x)\n",
    "    ax4.patches[i+n].set_x(new_x)\n",
    "    ax4.patches[i+(2*n)].set_x(new_x)\n",
    "\n",
    "    if (i%2)/2 > 0:\n",
    "        ax4.patches[i].set_x(new_x+0.1)\n",
    "        ax4.patches[i+n].set_x(new_x+0.1)\n",
    "        ax4.patches[i+(2*n)].set_x(new_x+0.1)\n",
    "\n",
    "        ax4.patches[i].set_hatch('///')\n",
    "        ax4.patches[i].set_edgecolor('C0')\n",
    "        ax4.patches[i].set_fill(None)\n",
    "        #ax4.patches[i].set_alpha(0.7)\n",
    "        ax4.patches[i+n].set_hatch('///')\n",
    "        ax4.patches[i+n].set_edgecolor('C1')\n",
    "        ax4.patches[i+n].set_fill(None)\n",
    "        #ax4.patches[i+(2*n)].set_alpha(0.7)\n",
    "        ax4.patches[i+(2*n)].set_hatch('///')\n",
    "        ax4.patches[i+(2*n)].set_edgecolor('C2')\n",
    "        ax4.patches[i+(2*n)].set_fill(None)\n",
    "\n",
    "\n",
    "\n",
    "# Update tick locations correspondingly\n",
    "#minor_tick_locs = [x.get_x()+1/4 for x in ax4.patches[:28]]\n",
    "major_tick_locs = np.array([x.get_x()+1/4 for x in ax4.patches[:18]]).reshape(9, 2).mean(axis=1)\n",
    "#ax4.set_xticks(minor_tick_locs, minor=True)\n",
    "ax4.set_xticks(major_tick_locs)\n",
    "\n",
    "# Use indices from dataframe as tick labels\n",
    "major_tick_labels = df['Time'].unique()\n",
    "#major_tick_labels = df_g.index.levels[0].values\n",
    "#ax4.xaxis.set_ticklabels(minor_tick_labels, minor=True)\n",
    "ax4.xaxis.set_ticklabels(major_tick_labels)\n",
    "\n",
    "# Remove ticks and organize tick labels to avoid overlap\n",
    "#ax4.tick_params(axis='x', which='both', bottom='off')\n",
    "#ax4.tick_params(axis='x', which='minor', rotation=45)\n",
    "ax4.tick_params(axis='x', which='major', pad=5, rotation=0)\n",
    "\n",
    "ax4.set_xlabel('Time (min)')\n",
    "ax4.set_ylabel('Features')\n",
    "\n",
    "ax4.legend(loc='center left', bbox_to_anchor=(1, 0.5), frameon=False, title='Mol. Class')\n",
    "\n",
    "leg = plt.legend(loc='center left', bbox_to_anchor=(1, 0.5), frameon=False, title='Mol. Class', prop={'size': 8})\n",
    "ax4.add_artist(leg)\n",
    "\n",
    "a_val = 0.6\n",
    "\n",
    "patch_full = mpatches.Patch(color='gray', alpha=a_val,label='1000 m/z')\n",
    "patch_100 = mpatches.Patch(edgecolor='gray', facecolor = 'white', hatch = '///',label='100 m/z')\n",
    "\n",
    "\n",
    "\n",
    "colors = ['#EA5739','#FEFFBE','#4BB05C']\n",
    "\n",
    "\n",
    "#circ1 = mpatches.Patch( facecolor=colors[0],alpha=a_val,hatch=r'\\\\\\\\',label='Label1')\n",
    "#circ2= mpatches.Patch( facecolor=colors[1],alpha=a_val,hatch='o',label='Label2')\n",
    "#circ3 = mpatches.Patch(facecolor=colors[2],alpha=a_val,hatch='+',label='Label3')\n",
    "\n",
    "\n",
    "plt.legend(handles=[patch_full, patch_100], loc='upper left', bbox_to_anchor=(0.01, 0.99), frameon = False, title='Window Size', prop={'size': 8}) #.legend(handles = [circ1,circ2,circ3],loc=2)#.\n",
    "sns.despine(ax=ax4)\n",
    "ax4.text(-.15, 1.05,'b',\n",
    "    horizontalalignment='center',\n",
    "    verticalalignment='center',\n",
    "    transform = ax4.transAxes, fontweight='bold', fontsize = 10)\n",
    "fig = plt.gcf()\n",
    "\n",
    "\n",
    "plt.show()"
   ]
  },
  {
   "cell_type": "code",
   "execution_count": 163,
   "metadata": {},
   "outputs": [
    {
     "name": "stderr",
     "output_type": "stream",
     "text": [
      "No artists with labels found to put in legend.  Note that artists whose label start with an underscore are ignored when legend() is called with no argument.\n"
     ]
    },
    {
     "name": "stdout",
     "output_type": "stream",
     "text": [
      "here\n"
     ]
    },
    {
     "data": {
      "image/png": "[encoded data removed]",
      "text/plain": [
       "<Figure size 650x300 with 1 Axes>"
      ]
     },
     "metadata": {},
     "output_type": "display_data"
    }
   ],
   "source": [
    "importlib.reload(icrms)\n",
    "importlib.reload(lcmsfns)\n",
    "import matplotlib.gridspec as gridspec\n",
    "\n",
    "\n",
    "\n",
    "fig, ax2 = plt.subplots(figsize = (6.5,3))\n",
    "\n",
    "mz100_bs = lcmsfns.blankSubtract(unique_100mz, blnkthresh = 0.6)\n",
    "mzfull_bs = lcmsfns.blankSubtract(unique_fullmz, blnkthresh = 0.6)\n",
    "\n",
    "mzfull_bs_456 = mzfull_bs[(mzfull_bs['Calibrated m/z']>=400) & (mzfull_bs['Calibrated m/z']<=600)]\n",
    "\n",
    "d1=lcmsfns.normMS(mz100_bs[mz100_bs['Cu']>0],mz100_bs[mz100_bs['Cu']>0])\n",
    "d2=lcmsfns.normMS(mzfull_bs_456[mzfull_bs_456['Cu']>0],mzfull_bs_456[mzfull_bs_456['Cu']>0])\n",
    "\n",
    "#d1=mz100_bs[mz100_bs['Cu']>0]\n",
    "#d2=mzfull_bs_456[mzfull_bs_456['Cu']>0]\n",
    "\n",
    "\n",
    "ax2 = lcmsfns.plot_ms(df1=d1,  df2=d2, start_mz=400, end_mz=600,ax_ms=ax2, norm=True)\n",
    "\n",
    "sns.despine(ax=ax2)\n",
    "\n",
    "ax2.set_xlim(400,600)\n",
    "ax2.set_ylim(bottom=0)\n",
    "\n",
    "print('here')\n",
    "\n",
    "ax2.legend(handles, labels, bbox_to_anchor=(0.98, 0.5), loc='center left',frameon=False, borderaxespad=0, title = 'Window Size', prop={'size': 8})\n",
    "\n",
    "plt.tight_layout()\n",
    "plt.show()"
   ]
  },
  {
   "cell_type": "code",
   "execution_count": 89,
   "metadata": {},
   "outputs": [
    {
     "name": "stdout",
     "output_type": "stream",
     "text": [
      "(18159, 47)\n",
      "(17669, 48)\n",
      "[0 1 2 3]\n"
     ]
    },
    {
     "ename": "ValueError",
     "evalue": "The palette list has the wrong number of colors.",
     "output_type": "error",
     "traceback": [
      "\u001b[0;31m---------------------------------------------------------------------------\u001b[0m",
      "\u001b[0;31mValueError\u001b[0m                                Traceback (most recent call last)",
      "Cell \u001b[0;32mIn [89], line 8\u001b[0m\n\u001b[1;32m      6\u001b[0m \u001b[39mprint\u001b[39m(np\u001b[39m.\u001b[39mshape(unique_100mz))\n\u001b[1;32m      7\u001b[0m \u001b[39mprint\u001b[39m(np\u001b[39m.\u001b[39mshape(df))\n\u001b[0;32m----> 8\u001b[0m fig \u001b[39m=\u001b[39m lcmsfns\u001b[39m.\u001b[39;49mplotUnique(df,ps\u001b[39m=\u001b[39;49m\u001b[39m10\u001b[39;49m)\n\u001b[1;32m     10\u001b[0m fig\u001b[39m.\u001b[39msuptitle(\u001b[39m'\u001b[39m\u001b[39m100 m/z window, \u001b[39m\u001b[39m'\u001b[39m\u001b[39m+\u001b[39mttt, fontsize\u001b[39m=\u001b[39m\u001b[39m14\u001b[39m)\n\u001b[1;32m     12\u001b[0m fig\u001b[39m.\u001b[39mset_size_inches(\u001b[39m8\u001b[39m,\u001b[39m9\u001b[39m)\n",
      "File \u001b[0;32m~/CoreMS/corems/lc_icpms_ftms/calc/lc_icrms_helpers.py:616\u001b[0m, in \u001b[0;36mplotUnique\u001b[0;34m(df, ps, includeBlanks, xlim)\u001b[0m\n\u001b[1;32m    613\u001b[0m df \u001b[39m=\u001b[39m df\u001b[39m.\u001b[39mastype({\u001b[39m\"\u001b[39m\u001b[39mN\u001b[39m\u001b[39m\"\u001b[39m:\u001b[39m'\u001b[39m\u001b[39mint\u001b[39m\u001b[39m'\u001b[39m}) \n\u001b[1;32m    615\u001b[0m \u001b[39mprint\u001b[39m(np\u001b[39m.\u001b[39msort(df[\u001b[39m'\u001b[39m\u001b[39mN\u001b[39m\u001b[39m'\u001b[39m]\u001b[39m.\u001b[39munique()))\n\u001b[0;32m--> 616\u001b[0m sns\u001b[39m.\u001b[39;49mscatterplot(x\u001b[39m=\u001b[39;49m\u001b[39m'\u001b[39;49m\u001b[39mm/z\u001b[39;49m\u001b[39m'\u001b[39;49m,y\u001b[39m=\u001b[39;49m\u001b[39m'\u001b[39;49m\u001b[39mm/z Error (ppm)\u001b[39;49m\u001b[39m'\u001b[39;49m,hue\u001b[39m=\u001b[39;49m\u001b[39m'\u001b[39;49m\u001b[39mN\u001b[39;49m\u001b[39m'\u001b[39;49m,data\u001b[39m=\u001b[39;49mdf[df[\u001b[39m'\u001b[39;49m\u001b[39mN\u001b[39;49m\u001b[39m'\u001b[39;49m]\u001b[39m>\u001b[39;49m\u001b[39m0\u001b[39;49m]\u001b[39m.\u001b[39;49msort_values(by\u001b[39m=\u001b[39;49m\u001b[39m'\u001b[39;49m\u001b[39mN\u001b[39;49m\u001b[39m'\u001b[39;49m),palette \u001b[39m=\u001b[39;49m cmap,ax\u001b[39m=\u001b[39;49max3,s\u001b[39m=\u001b[39;49mps)\n\u001b[1;32m    618\u001b[0m sns\u001b[39m.\u001b[39mscatterplot(x\u001b[39m=\u001b[39m\u001b[39m'\u001b[39m\u001b[39mm/z\u001b[39m\u001b[39m'\u001b[39m,y\u001b[39m=\u001b[39m\u001b[39m'\u001b[39m\u001b[39mResolving Power\u001b[39m\u001b[39m'\u001b[39m,hue\u001b[39m=\u001b[39m\u001b[39m'\u001b[39m\u001b[39mmol_class\u001b[39m\u001b[39m'\u001b[39m,data\u001b[39m=\u001b[39mdf,ax\u001b[39m=\u001b[39max4)\n\u001b[1;32m    621\u001b[0m ax2\u001b[39m.\u001b[39mlegend(loc\u001b[39m=\u001b[39m\u001b[39m'\u001b[39m\u001b[39mcenter left\u001b[39m\u001b[39m'\u001b[39m, bbox_to_anchor\u001b[39m=\u001b[39m(\u001b[39m1\u001b[39m, \u001b[39m0.5\u001b[39m), frameon \u001b[39m=\u001b[39m \u001b[39mFalse\u001b[39;00m, title \u001b[39m=\u001b[39m \u001b[39m'\u001b[39m\u001b[39mm/z Window\u001b[39m\u001b[39m'\u001b[39m)\n",
      "File \u001b[0;32m~/CoreMS/env/lib/python3.8/site-packages/seaborn/_decorators.py:46\u001b[0m, in \u001b[0;36m_deprecate_positional_args.<locals>.inner_f\u001b[0;34m(*args, **kwargs)\u001b[0m\n\u001b[1;32m     36\u001b[0m     warnings\u001b[39m.\u001b[39mwarn(\n\u001b[1;32m     37\u001b[0m         \u001b[39m\"\u001b[39m\u001b[39mPass the following variable\u001b[39m\u001b[39m{}\u001b[39;00m\u001b[39m as \u001b[39m\u001b[39m{}\u001b[39;00m\u001b[39mkeyword arg\u001b[39m\u001b[39m{}\u001b[39;00m\u001b[39m: \u001b[39m\u001b[39m{}\u001b[39;00m\u001b[39m. \u001b[39m\u001b[39m\"\u001b[39m\n\u001b[1;32m     38\u001b[0m         \u001b[39m\"\u001b[39m\u001b[39mFrom version 0.12, the only valid positional argument \u001b[39m\u001b[39m\"\u001b[39m\n\u001b[0;32m   (...)\u001b[0m\n\u001b[1;32m     43\u001b[0m         \u001b[39mFutureWarning\u001b[39;00m\n\u001b[1;32m     44\u001b[0m     )\n\u001b[1;32m     45\u001b[0m kwargs\u001b[39m.\u001b[39mupdate({k: arg \u001b[39mfor\u001b[39;00m k, arg \u001b[39min\u001b[39;00m \u001b[39mzip\u001b[39m(sig\u001b[39m.\u001b[39mparameters, args)})\n\u001b[0;32m---> 46\u001b[0m \u001b[39mreturn\u001b[39;00m f(\u001b[39m*\u001b[39;49m\u001b[39m*\u001b[39;49mkwargs)\n",
      "File \u001b[0;32m~/CoreMS/env/lib/python3.8/site-packages/seaborn/relational.py:815\u001b[0m, in \u001b[0;36mscatterplot\u001b[0;34m(x, y, hue, style, size, data, palette, hue_order, hue_norm, sizes, size_order, size_norm, markers, style_order, x_bins, y_bins, units, estimator, ci, n_boot, alpha, x_jitter, y_jitter, legend, ax, **kwargs)\u001b[0m\n\u001b[1;32m    807\u001b[0m variables \u001b[39m=\u001b[39m _ScatterPlotter\u001b[39m.\u001b[39mget_semantics(\u001b[39mlocals\u001b[39m())\n\u001b[1;32m    808\u001b[0m p \u001b[39m=\u001b[39m _ScatterPlotter(\n\u001b[1;32m    809\u001b[0m     data\u001b[39m=\u001b[39mdata, variables\u001b[39m=\u001b[39mvariables,\n\u001b[1;32m    810\u001b[0m     x_bins\u001b[39m=\u001b[39mx_bins, y_bins\u001b[39m=\u001b[39my_bins,\n\u001b[1;32m    811\u001b[0m     estimator\u001b[39m=\u001b[39mestimator, ci\u001b[39m=\u001b[39mci, n_boot\u001b[39m=\u001b[39mn_boot,\n\u001b[1;32m    812\u001b[0m     alpha\u001b[39m=\u001b[39malpha, x_jitter\u001b[39m=\u001b[39mx_jitter, y_jitter\u001b[39m=\u001b[39my_jitter, legend\u001b[39m=\u001b[39mlegend,\n\u001b[1;32m    813\u001b[0m )\n\u001b[0;32m--> 815\u001b[0m p\u001b[39m.\u001b[39;49mmap_hue(palette\u001b[39m=\u001b[39;49mpalette, order\u001b[39m=\u001b[39;49mhue_order, norm\u001b[39m=\u001b[39;49mhue_norm)\n\u001b[1;32m    816\u001b[0m p\u001b[39m.\u001b[39mmap_size(sizes\u001b[39m=\u001b[39msizes, order\u001b[39m=\u001b[39msize_order, norm\u001b[39m=\u001b[39msize_norm)\n\u001b[1;32m    817\u001b[0m p\u001b[39m.\u001b[39mmap_style(markers\u001b[39m=\u001b[39mmarkers, order\u001b[39m=\u001b[39mstyle_order)\n",
      "File \u001b[0;32m~/CoreMS/env/lib/python3.8/site-packages/seaborn/_core.py:53\u001b[0m, in \u001b[0;36mSemanticMapping.map\u001b[0;34m(cls, plotter, *args, **kwargs)\u001b[0m\n\u001b[1;32m     50\u001b[0m \u001b[39mdef\u001b[39;00m \u001b[39mmap\u001b[39m(\u001b[39mcls\u001b[39m, plotter, \u001b[39m*\u001b[39margs, \u001b[39m*\u001b[39m\u001b[39m*\u001b[39mkwargs):\n\u001b[1;32m     51\u001b[0m     \u001b[39m# This method is assigned the __init__ docstring\u001b[39;00m\n\u001b[1;32m     52\u001b[0m     method_name \u001b[39m=\u001b[39m \u001b[39m\"\u001b[39m\u001b[39m_\u001b[39m\u001b[39m{}\u001b[39;00m\u001b[39m_map\u001b[39m\u001b[39m\"\u001b[39m\u001b[39m.\u001b[39mformat(\u001b[39mcls\u001b[39m\u001b[39m.\u001b[39m\u001b[39m__name__\u001b[39m[:\u001b[39m-\u001b[39m\u001b[39m7\u001b[39m]\u001b[39m.\u001b[39mlower())\n\u001b[0;32m---> 53\u001b[0m     \u001b[39msetattr\u001b[39m(plotter, method_name, \u001b[39mcls\u001b[39;49m(plotter, \u001b[39m*\u001b[39;49margs, \u001b[39m*\u001b[39;49m\u001b[39m*\u001b[39;49mkwargs))\n\u001b[1;32m     54\u001b[0m     \u001b[39mreturn\u001b[39;00m plotter\n",
      "File \u001b[0;32m~/CoreMS/env/lib/python3.8/site-packages/seaborn/_core.py:118\u001b[0m, in \u001b[0;36mHueMapping.__init__\u001b[0;34m(self, plotter, palette, order, norm)\u001b[0m\n\u001b[1;32m    115\u001b[0m \u001b[39melif\u001b[39;00m map_type \u001b[39m==\u001b[39m \u001b[39m\"\u001b[39m\u001b[39mcategorical\u001b[39m\u001b[39m\"\u001b[39m:\n\u001b[1;32m    117\u001b[0m     cmap \u001b[39m=\u001b[39m norm \u001b[39m=\u001b[39m \u001b[39mNone\u001b[39;00m\n\u001b[0;32m--> 118\u001b[0m     levels, lookup_table \u001b[39m=\u001b[39m \u001b[39mself\u001b[39;49m\u001b[39m.\u001b[39;49mcategorical_mapping(\n\u001b[1;32m    119\u001b[0m         data, palette, order,\n\u001b[1;32m    120\u001b[0m     )\n\u001b[1;32m    122\u001b[0m \u001b[39m# --- Option 3: datetime mapping\u001b[39;00m\n\u001b[1;32m    123\u001b[0m \n\u001b[1;32m    124\u001b[0m \u001b[39melse\u001b[39;00m:\n\u001b[1;32m    125\u001b[0m     \u001b[39m# TODO this needs actual implementation\u001b[39;00m\n\u001b[1;32m    126\u001b[0m     cmap \u001b[39m=\u001b[39m norm \u001b[39m=\u001b[39m \u001b[39mNone\u001b[39;00m\n",
      "File \u001b[0;32m~/CoreMS/env/lib/python3.8/site-packages/seaborn/_core.py:204\u001b[0m, in \u001b[0;36mHueMapping.categorical_mapping\u001b[0;34m(self, data, palette, order)\u001b[0m\n\u001b[1;32m    202\u001b[0m     \u001b[39mif\u001b[39;00m \u001b[39mlen\u001b[39m(palette) \u001b[39m!=\u001b[39m n_colors:\n\u001b[1;32m    203\u001b[0m         err \u001b[39m=\u001b[39m \u001b[39m\"\u001b[39m\u001b[39mThe palette list has the wrong number of colors.\u001b[39m\u001b[39m\"\u001b[39m\n\u001b[0;32m--> 204\u001b[0m         \u001b[39mraise\u001b[39;00m \u001b[39mValueError\u001b[39;00m(err)\n\u001b[1;32m    205\u001b[0m     colors \u001b[39m=\u001b[39m palette\n\u001b[1;32m    206\u001b[0m \u001b[39melse\u001b[39;00m:\n",
      "\u001b[0;31mValueError\u001b[0m: The palette list has the wrong number of colors."
     ]
    },
    {
     "data": {
      "image/png": "[encoded data removed]",
      "text/plain": [
       "<Figure size 1200x1200 with 3 Axes>"
      ]
     },
     "metadata": {},
     "output_type": "display_data"
    }
   ],
   "source": [
    "# 100 m/z window, error plots with blank substraction\n",
    "\n",
    "importlib.reload(icrms)\n",
    "importlib.reload(lcmsfns)\n",
    "df = lcmsfns.blankSubtract(unique_100mz, blnkthresh = 0.6)\n",
    "print(np.shape(unique_100mz))\n",
    "print(np.shape(df))\n",
    "fig = lcmsfns.plotUnique(df,ps=10)\n",
    "\n",
    "fig.suptitle('100 m/z window, '+ttt, fontsize=14)\n",
    "\n",
    "fig.set_size_inches(8,9)\n",
    "plt.tight_layout()\n",
    "\n",
    "plt.show()\n",
    "\n"
   ]
  },
  {
   "cell_type": "code",
   "execution_count": null,
   "metadata": {},
   "outputs": [],
   "source": [
    "# 100 m/z window, error plots with blank substraction\n",
    "\n",
    "cu_features = data_df[(data_df['Cu']>0)]\n",
    "\n",
    "print(cu_features)\n",
    "\n",
    "#410.151212\n",
    "\n",
    "#data.master_data_holder['20221103_LBA_Boiteau_Zorbax3p5_spring_400_500_rep2.raw'] #[file]={'parser': parser}\n",
    "\n",
    "EICdic = {}\n",
    "for mz,mf in zip(cu_features['m/z'],cu_features['Molecular Formula']):\n",
    " \n",
    "    EIC=parser.get_eics(target_mzs=[mz],tic_data={},peak_detection=False,smooth=False)\n",
    "    EICdic[mf]=EIC[0][mz]"
   ]
  },
  {
   "cell_type": "code",
   "execution_count": null,
   "metadata": {},
   "outputs": [],
   "source": [
    "#ax.set_ylim(0,maxicp*1.1)\n",
    "\n",
    "for mf in EICdic:   \n",
    "\n",
    "    fig, ax = plt.subplots()\n",
    "    \n",
    "    eict=EICdic[mf].time\n",
    "    eics=EICdic[mf].eic\n",
    "\n",
    "    inds = np.where(np.asarray(eict)<28)\n",
    "\n",
    "    eict = np.asarray(eict)[inds]\n",
    "    eics = np.asarray(eics)[inds]\n",
    "\n",
    "    ax.plot(eict, eics,color = 'red', label=r'$\\Delta$m/z 100 window')\n",
    "\n",
    "    ax.set_xlim(4,22)\n",
    "    ax.set_title(mf)\n",
    "    ax.legend(frameon = False,bbox_to_anchor=(1.05,0.5),loc='center left')\n",
    "    fig.tight_layout()\n",
    "\n",
    "    plt.show()"
   ]
  },
  {
   "cell_type": "code",
   "execution_count": null,
   "metadata": {},
   "outputs": [],
   "source": [
    "# 200 m/z window, error plots with blanks removed \n",
    "\n",
    "df = lcmsfns.blankSubtract(unique_200mz, blnkthresh = 0.6)\n",
    "print(np.shape(unique_200mz))\n",
    "print(np.shape(df))\n",
    "\n",
    "fig = lcmsfns.plotUnique(df,ps=10)\n",
    "fig.suptitle('200 m/z window, '+ttt, fontsize=14)\n",
    "\n",
    "fig.set_size_inches(8,9)\n",
    "plt.tight_layout()\n",
    "\n",
    "plt.show()\n"
   ]
  },
  {
   "cell_type": "code",
   "execution_count": null,
   "metadata": {},
   "outputs": [],
   "source": [
    "# full m/z window, error plots with blanks removed \n",
    "\n",
    "mask = ~unique_fullmz_456['file'].str.contains('qh2o', case=False, na=False)\n",
    "unique_fullmz_nb=unique_fullmz_456[mask]\n",
    "df = lcmsfns.blankSubtract(unique_fullmz_456, blnkthresh = 0.6)\n",
    "print(np.shape(unique_fullmz_456))\n",
    "print(np.shape(df))\n",
    "\n",
    "fig = lcmsfns.plotUnique(df,ps=10)\n",
    "fig.suptitle('1000 m/z window, '+ttt, fontsize=14)\n",
    "\n",
    "fig.set_size_inches(8,9)\n",
    "plt.tight_layout()\n",
    "\n",
    "plt.show()"
   ]
  },
  {
   "cell_type": "code",
   "execution_count": null,
   "metadata": {},
   "outputs": [],
   "source": [
    "##### here \n",
    "\n",
    "temp = df_bs[abs(df_bs['m/z Error (ppm)'])<0.15]\n",
    "print(np.shape(temp))\n",
    "fig = lcmsfns.plotUnique(pd.concat([temp[temp['m/z window']== '400-500 m/z'], temp[temp['m/z window']=='500-600 m/z'], temp[temp['m/z window']=='400-600 m/z'], temp[temp['m/z window']=='200-1200 m/z']]),ps=5)\n",
    "\n",
    "plt.tight_layout()\n",
    "plt.show()\n",
    "plt.close('all')"
   ]
  },
  {
   "cell_type": "code",
   "execution_count": null,
   "metadata": {},
   "outputs": [],
   "source": [
    "mz100_bs = df_bs[(df_bs['m/z window'] == '400-500 m/z') | (df_bs['m/z window'] == '500-600 m/z')]\n",
    "\n",
    "mz200_bs = df_bs[(df_bs['m/z window'] == '400-600 m/z')]\n",
    "\n",
    "mzfull_bs = df_bs[(df_bs['m/z window'] == '200-1200 m/z')]\n",
    "mzfull_bs = mzfull_bs[(mzfull_bs['m/z']>=400) & (mzfull_bs['m/z']<= 600)]\n",
    "\n",
    "df = mz100_bs\n",
    "df2 = mz200_bs\n",
    "df3 = mzfull_bs\n",
    "fig, ax = plt.subplots()\n",
    "ax.scatter(x=df['N/C'],y=df['O/C'],c='C3',s=50,label='400-500 m/z\\n500-600 m/z')#,s=df['S/N']\n",
    "#sns.scatterplot(x='N/C',y='O/C', hue='m/z', data=df, ax=ax,s=50)\n",
    "ax.scatter(x=df2['N/C'],y=df2['O/C'],c='C0',s=5,label='400-600 m/z') #s=df2['S/N'],\n",
    "#ax.scatter(x=df3['N/C'],y=df3['O/C'],c='C5',label='200-1200 m/z') #s=df3['S/N']\n",
    "ax.set(xlabel='O/C',ylabel='N/C')\n",
    "#ax.set_xlim(0,1.2)\n",
    "#ax.set_ylim(0,0.5)\n",
    "ax.legend(frameon=False, bbox_to_anchor=(1.0,0.5), loc='center left')\n",
    "plt.title(r'Narrow window ($\\Delta$m/z 100) and mid window ($\\Delta$m/z 200)')\n",
    "plt.show()\n"
   ]
  },
  {
   "cell_type": "code",
   "execution_count": null,
   "metadata": {},
   "outputs": [],
   "source": [
    "mz100_bs = df_bs[(df_bs['m/z window'] == '400-500 m/z') | (df_bs['m/z window'] == '500-600 m/z')]\n",
    "\n",
    "mz200_bs = df_bs[(df_bs['m/z window'] == '400-600 m/z')]\n",
    "\n",
    "mzfull_bs = df_bs[(df_bs['m/z window'] == '200-1200 m/z')]\n",
    "mzfull_bs = mzfull_bs[(mzfull_bs['m/z']>=400) & (mzfull_bs['m/z']<= 600)]\n",
    "\n",
    "df = mz100_bs\n",
    "df2 = mz200_bs\n",
    "df3 = mzfull_bs\n",
    "fig, ax = plt.subplots()\n",
    "ax.scatter(x=df['N/C'],y=df['O/C'],c='C3',label='400-500 m/z\\n500-600 m/z')#,s=df['S/N']\n",
    "#ax.scatter(x=df2['N/C'],y=df2['O/C'],c='black',s=5,label='400-600 m/z') #s=df2['S/N'],\n",
    "ax.scatter(x=df3['N/C'],y=df3['O/C'],c='black',s=5,label='200-1200 m/z') #s=df3['S/N']\n",
    "ax.set(xlabel='O/C',ylabel='N/C')\n",
    "#ax.set_xlim(0,1.2)\n",
    "#ax.set_ylim(0,0.5)\n",
    "ax.legend(frameon=False, bbox_to_anchor=(1.0,0.5), loc='center left')\n",
    "plt.title(r'Narrow window ($\\Delta$m/z 100) and full window')\n",
    "plt.show()\n"
   ]
  },
  {
   "cell_type": "code",
   "execution_count": null,
   "metadata": {},
   "outputs": [],
   "source": [
    "mz100_contains_cu = mz100_bs[(mz100_bs['Cu'] == 1) ]\n",
    "print(np.shape(mz100_contains_cu))\n",
    "\n",
    "\n",
    "mz200_contains_cu = mz200_bs[(mz200_bs['Cu'] == 1) ]\n",
    "print(np.shape(mz200_contains_cu))\n",
    "\n",
    "\n",
    "mzfull_contains_cu = mzfull_bs[(mzfull_bs['Cu'] == 1)]\n",
    "print(np.shape(mzfull_contains_cu))\n",
    "\n"
   ]
  },
  {
   "cell_type": "code",
   "execution_count": null,
   "metadata": {},
   "outputs": [],
   "source": [
    "temp = temp[temp['Cu'] == 1]\n",
    "\n",
    "temp['overlap'] = temp.Index\n",
    "\n",
    "for i in range(len(temp['Molecular Formula'])):\n",
    "\n",
    "    mf = temp['Molecular Formula'].iloc[i]\n",
    "\n",
    "    if (mf not in mzfull_contains_cu['Molecular Formula'].values) and (mf not in mz200_contains_cu['Molecular Formula'].values):\n",
    "        temp['overlap'].iloc[i] = 'n'\n",
    "\n",
    "    elif (mf in mzfull_contains_cu['Molecular Formula'].values) and (mf not in mz200_contains_cu['Molecular Formula'].values):\n",
    "        \n",
    "        temp['overlap'].iloc[i] = 'nw'\n",
    "\n",
    "    elif (mf not in mzfull_contains_cu['Molecular Formula'].values) and (mf in mz200_contains_cu['Molecular Formula'].values):\n",
    "        \n",
    "        temp['overlap'].iloc[i] = 'nm'\n",
    "\n",
    "    elif (mf in mzfull_contains_cu['Molecular Formula'].values) and (mf in mz200_contains_cu['Molecular Formula'].values):\n",
    "        \n",
    "        temp['overlap'].iloc[i] = 'nmw'\n",
    "\n"
   ]
  },
  {
   "cell_type": "code",
   "execution_count": null,
   "metadata": {},
   "outputs": [],
   "source": [
    "sns.jointplot(data=temp, x='N/C',y='O/C', hue='overlap')"
   ]
  },
  {
   "cell_type": "code",
   "execution_count": null,
   "metadata": {},
   "outputs": [],
   "source": [
    "print(np.shape(mzfull_contains_cu))\n",
    "print(np.shape(mz100_contains_cu))\n",
    "\n",
    "combo_cu = pd.concat([mz100_contains_cu, mzfull_contains_cu])\n"
   ]
  },
  {
   "cell_type": "code",
   "execution_count": null,
   "metadata": {},
   "outputs": [],
   "source": [
    "\n",
    "combo_cu['m/z Window Size'] = combo_cu.Index\n",
    "\n",
    "for i in range(len(combo_cu['m/z window'])):\n",
    "\n",
    "    w = combo_cu['m/z window'].iloc[i]\n",
    "\n",
    "    if (w == '400-500 m/z') or (w == '500-600 m/z'):\n",
    "        \n",
    "        combo_cu['m/z Window Size'].iloc[i] = '100 m/z'\n",
    "\n",
    "    elif (w == '400-600 m/z'):\n",
    "        \n",
    "        combo_cu['m/z Window Size'].iloc[i] = '200 m/z'\n",
    "\n",
    "    elif (w == '200-1200 m/z'):\n",
    "        \n",
    "        combo_cu['m/z Window Size'].iloc[i] = '1000 m/z'\n",
    "\n",
    "combo_cu['m/z Window Size'].unique()"
   ]
  },
  {
   "cell_type": "code",
   "execution_count": null,
   "metadata": {},
   "outputs": [],
   "source": [
    "mz100_cu_limited_err.columns"
   ]
  },
  {
   "cell_type": "code",
   "execution_count": null,
   "metadata": {},
   "outputs": [],
   "source": [
    "import matplotlib.gridspec as gridspec\n",
    "\n",
    "#fig, (ax1_t,ax1_b, ax2) = plt.subplots(nrows=3, ncols=1, sharex = True, gridspec_kw={'hspace':0.02})\n",
    "plt.subplots_adjust(hspace=0.02)\n",
    "#make outer gridspec\n",
    "outer = gridspec.GridSpec(2, 1, height_ratios = [1, 1]) \n",
    "#make nested gridspecs\n",
    "gs2 = gridspec.GridSpecFromSubplotSpec(1, 1, subplot_spec = outer[1])\n",
    "gs1 = gridspec.GridSpecFromSubplotSpec(1, 1, subplot_spec = outer[0], hspace = .05)\n",
    "\n",
    "d1=lcmsfns.normMS(mz100_cu_limited_err,mz100_cu_limited_err)\n",
    "d2=lcmsfns.normMS(mzfull_cu_limited_err,mzfull_cu_limited_err)\n",
    "\n",
    "ax1_b = plt.subplot(gs1[0])\n",
    "ax1_b = lcmsfns.plot_ms(df1=d1,  df2=d2, start_mz=400, end_mz=600,ax_ms=ax1_b, norm=True)\n",
    "\n",
    "sns.despine(ax=ax1_b)\n",
    "\n",
    "ax1_b.set_ylim(bottom=0)\n",
    "\n",
    "\n",
    "\n",
    "\n",
    "\n",
    "ax2 = plt.subplot(gs2[0])\n",
    "\n",
    "sns.despine(ax=ax2)\n",
    "\n",
    "sns.histplot(combo_cu, x=\"Calibrated m/z\", hue=\"m/z Window Size\", multiple=\"stack\", ax=ax2)\n",
    "ax2.set_ylabel('Assigned Features (count)')\n",
    "ax2.set_xlim(400,600)\n",
    "legend = ax2.get_legend()\n",
    "handles = legend.legendHandles\n",
    "labels = ['100 m/z','1000 m/z']\n",
    "ax2.legend_.remove()\n",
    "\n",
    "fig = plt.gcf()\n",
    "\n",
    "fig.legend(handles, labels, bbox_to_anchor=(1.02, 0.5), loc='center left',frameon=False, borderaxespad=0, title = 'Window Size')\n",
    "\n",
    "plt.show()"
   ]
  },
  {
   "cell_type": "code",
   "execution_count": null,
   "metadata": {},
   "outputs": [],
   "source": [
    "combo = pd.concat([mz100_bs, mzfull_bs])\n",
    "\n",
    "combo['m/z Window Size'] = combo.Index\n",
    "\n",
    "for i in range(len(combo['m/z window'])):\n",
    "\n",
    "    w = combo['m/z window'].iloc[i]\n",
    "\n",
    "    if (w == '400-500 m/z') or (w == '500-600 m/z'):\n",
    "        \n",
    "        combo['m/z Window Size'].iloc[i] = '100 m/z'\n",
    "\n",
    "    elif (w == '400-600 m/z'):\n",
    "        \n",
    "        combo['m/z Window Size'].iloc[i] = '200 m/z'\n",
    "\n",
    "    elif (w == '200-1200 m/z'):\n",
    "        \n",
    "        combo['m/z Window Size'].iloc[i] = '1000 m/z'\n",
    "\n",
    "combo['m/z Window Size'].unique()\n",
    "\n",
    "combo_n = combo[combo['N']>=1]\n",
    "\n",
    "import matplotlib.gridspec as gridspec\n",
    "\n",
    "#fig, (ax1_t,ax1_b, ax2) = plt.subplots(nrows=3, ncols=1, sharex = True, gridspec_kw={'hspace':0.02})\n",
    "plt.subplots_adjust(hspace=0.3)\n",
    "#make outer gridspec\n",
    "outer = gridspec.GridSpec(2, 1, height_ratios = [1, 1]) \n",
    "#make nested gridspecs\n",
    "gs2 = gridspec.GridSpecFromSubplotSpec(1, 1, subplot_spec = outer[1])\n",
    "gs1 = gridspec.GridSpecFromSubplotSpec(1, 1, subplot_spec = outer[0])\n",
    "\n",
    "ax1 = plt.subplot(gs1[0])\n",
    "\n",
    "sns.histplot(combo, x=\"Calibrated m/z\", hue=\"m/z Window Size\", multiple=\"stack\", ax=ax1)\n",
    "ax1.set_ylabel('Assigned Features\\n(count)')\n",
    "ax1.legend_.remove()\n",
    "ax1.set_xlim(400,600)\n",
    "sns.despine(ax=ax1)\n",
    "\n",
    "\n",
    "\n",
    "\n",
    "\n",
    "ax2 = plt.subplot(gs2[0])\n",
    "\n",
    "sns.despine(ax=ax2)\n",
    "\n",
    "sns.histplot(combo_cu, x=\"Calibrated m/z\", hue=\"m/z Window Size\", multiple=\"stack\", ax=ax2)\n",
    "ax2.set_ylabel('Assigned Cu Features\\n(count)')\n",
    "ax2.set_xlim(400,600)\n",
    "legend = ax2.get_legend()\n",
    "handles = legend.legendHandles\n",
    "labels = ['100 m/z','1000 m/z']\n",
    "ax2.legend_.remove()\n",
    "\n",
    "fig = plt.gcf()\n",
    "\n",
    "fig.legend(handles, labels, bbox_to_anchor=(1.02, 0.5), loc='center left',frameon=False, borderaxespad=0, title = 'Window Size')\n",
    "\n",
    "plt.show()"
   ]
  },
  {
   "cell_type": "code",
   "execution_count": null,
   "metadata": {},
   "outputs": [],
   "source": [
    "\n",
    "print((np.shape(combo[combo['m/z Window Size']=='100 m/z'])[0] - np.shape(combo[combo['m/z Window Size']=='1000 m/z'])[0]) /  np.shape(combo[combo['m/z Window Size']=='1000 m/z'])[0])\n",
    "\n",
    "print((np.shape(combo_cu[combo_cu['m/z Window Size']=='100 m/z'])[0] - np.shape(combo_cu[combo_cu['m/z Window Size']=='1000 m/z'])[0]) / np.shape(combo_cu[combo_cu['m/z Window Size']=='1000 m/z'])[0])"
   ]
  },
  {
   "cell_type": "code",
   "execution_count": null,
   "metadata": {},
   "outputs": [],
   "source": [
    "#data.master_data_holder['20221103_LBA_Boiteau_Zorbax3p5_spring_400_500_rep2.raw'] #[file]={'parser': parser}\n",
    "mz100_cu_limited_err = mz100_contains_cu[abs(mz100_contains_cu['m/z Error (ppm)']) < 0.25]\n",
    "mz100_EICdic = {}\n",
    "for mz,file,mf in zip(mz100_cu_limited_err['m/z'],mz100_cu_limited_err['file'],mz100_cu_limited_err['Molecular Formula']):\n",
    "    \n",
    "    parser = data.master_data_holder[file]['parser']    \n",
    " \n",
    "    EIC=parser.get_eics(target_mzs=[mz],tic_data={},peak_detection=False,smooth=False)\n",
    "    mz100_EICdic[mf]=EIC[0][mz]\n",
    "    #mz100_EICdic[mz]={'eic':EIC[0][mz],'formula':mf}\n"
   ]
  },
  {
   "cell_type": "code",
   "execution_count": null,
   "metadata": {},
   "outputs": [],
   "source": [
    "mzfull_cu_limited_err = mzfull_contains_cu[abs(mzfull_contains_cu['m/z Error (ppm)']) < 0.25]\n",
    "fullmz_EICdic = {}\n",
    "for mz,file,mf in zip(mzfull_cu_limited_err['m/z'],mzfull_cu_limited_err['file'],mzfull_cu_limited_err['Molecular Formula']):\n",
    "    \n",
    "    parser = data.master_data_holder[file]['parser']\n",
    " \n",
    "    EIC=parser.get_eics(target_mzs=[mz],tic_data={},peak_detection=False,smooth=False)\n",
    "    fullmz_EICdic[mf]=EIC[0][mz]"
   ]
  },
  {
   "cell_type": "code",
   "execution_count": null,
   "metadata": {},
   "outputs": [],
   "source": [
    "from matplotlib.backends.backend_pdf import PdfPages\n",
    "\n",
    "icpms_file = '/Users/christiandewey/Library/CloudStorage/Box-Box/Boiteau Lab/Mass Spec Data/Keck iCAP Q/2022/2022-09/Tillamook, Sept 2022/spring_ENV.csv'\n",
    "icpms = pd.read_csv(icpms_file, sep=';',header=1)\n",
    "\n",
    "\n",
    "metals = ['63Cu', '115In']\n",
    "\n",
    "pdf = PdfPages('/Users/christiandewey/Library/CloudStorage/Box-Box/data/assignments/spring/eics_cu_100mz_fullmz-dec13.pdf')\n",
    "\n",
    "fig, ax = plt.subplots()\n",
    "\n",
    "maxicp = 0 \n",
    "for me in metals:\n",
    "    me_key = 'Time %s' %me\n",
    "    ax.plot(icpms[me_key]/60, icpms[me], label=me)        \n",
    "    \n",
    "\n",
    "\n",
    "\n",
    "#ax.set_ylim(0,maxicp*1.1)\n",
    "ax.set_title('Cu ICPMS Trace')\n",
    "ax.set_xlabel('Time (min)')\n",
    "ax.set_ylabel('ICPMS signal (cps)')\n",
    "ax.legend(bbox_to_anchor=(1.05,0.5),loc='center left',frameon =False)\n",
    "ax.set_xlim(2,30)\n",
    "fig.tight_layout()\n",
    "pdf.savefig()\n",
    "\n",
    "for mf in mz100_EICdic:   \n",
    "\n",
    "    fig, ax = plt.subplots()\n",
    "    \n",
    "    eict=mz100_EICdic[mf].time\n",
    "    eics=mz100_EICdic[mf].eic\n",
    "\n",
    "    inds = np.where(np.asarray(eict)<28)\n",
    "\n",
    "    eict = np.asarray(eict)[inds]\n",
    "    eics = np.asarray(eics)[inds]\n",
    "\n",
    "    ax.plot(eict, eics,color = 'red', label=r'$\\Delta$m/z 100 window')\n",
    "\n",
    "    if mf in fullmz_EICdic:\n",
    "        eic2t = fullmz_EICdic[mf].time\n",
    "        eic2s = fullmz_EICdic[mf].eic\n",
    "\n",
    "        eic2t = np.asarray(eic2t)[inds]\n",
    "        eic2s = np.asarray(eic2s)[inds]\n",
    "        ax.plot(eic2t,eic2s, color ='C0', label = 'full window')\n",
    "    ax.set_xlim(4,28)\n",
    "    ax.set_title(mf)\n",
    "    ax.legend(frameon = False,bbox_to_anchor=(1.05,0.5),loc='center left')\n",
    "    fig.tight_layout()\n",
    "    pdf.savefig()\n",
    "\n",
    "for mf in fullmz_EICdic:   \n",
    "\n",
    "    if mf not in mz100_EICdic:\n",
    "\n",
    "        fig, ax = plt.subplots()\n",
    "\n",
    "        eic2t = fullmz_EICdic[mf].time\n",
    "        eic2s = fullmz_EICdic[mf].eic\n",
    "\n",
    "        inds = np.where(np.asarray(eic2t)<28)\n",
    "\n",
    "        eic2t = np.asarray(eic2t)[inds]\n",
    "        eic2s = np.asarray(eic2s)[inds]\n",
    "        ax.plot(eic2t,eic2s, color ='C5', label = 'full window')\n",
    "\n",
    "        ax.set_xlim(4,28)\n",
    "        ax.set_title(mf)\n",
    "        ax.legend(frameon = False,bbox_to_anchor=(1.05,0.5),loc='center left')\n",
    "        fig.tight_layout()\n",
    "        pdf.savefig()\n",
    "\n",
    "pdf.close()"
   ]
  },
  {
   "cell_type": "code",
   "execution_count": null,
   "metadata": {},
   "outputs": [],
   "source": [
    "# C23 H32 O3 Cu\n",
    "\n",
    "sub = combo[combo['Molecular Formula'] == 'C23 H32 O3 Cu1']\n",
    "\n",
    "sub"
   ]
  },
  {
   "cell_type": "code",
   "execution_count": null,
   "metadata": {},
   "outputs": [],
   "source": [
    "for i in range(len(mz100_cu_limited_err.index)):\n",
    "\n",
    "    mf = mz100_cu_limited_err['Molecular Formula'].iloc[i]\n",
    "    \n",
    "    if mf in mzfull_cu_limited_err['Molecular Formula'].values:\n",
    "\n",
    "        print('\\n\\nNarrow m/z:')\n",
    "        print(mz100_cu_limited_err.iloc[i,:])\n",
    "\n",
    "        ind = mzfull_cu_limited_err[mzfull_cu_limited_err['Molecular Formula'] == mf].index \n",
    "        print('\\nFull m/z:')\n",
    "        print(mzfull_cu_limited_err.loc[ind].squeeze())\n",
    "\n",
    "\n"
   ]
  },
  {
   "cell_type": "code",
   "execution_count": null,
   "metadata": {},
   "outputs": [],
   "source": [
    "from matplotlib.backends.backend_pdf import PdfPages\n",
    "\n",
    "pdf = PdfPages('/Users/christiandewey/Library/CloudStorage/Box-Box/data/assignments/spring/eics_cu_100mz_fullmz-dec5.pdf')\n",
    "\n",
    "\n",
    "for mf in mz100_EICdic:   \n",
    "\n",
    "    fig, ax = plt.subplots()\n",
    "    \n",
    "    eict=mz100_EICdic[mf].time\n",
    "    eics=mz100_EICdic[mf].eic\n",
    "\n",
    "    inds = np.where(np.asarray(eict)<28)\n",
    "\n",
    "    eict = np.asarray(eict)[inds]\n",
    "    eics = np.asarray(eics)[inds]\n",
    "\n",
    "    ax.plot(eict, eics,color = 'red', label=r'$\\Delta$m/z 100 window')\n",
    "\n",
    "    if mf in fullmz_EICdic:\n",
    "        eic2t = fullmz_EICdic[mf].time\n",
    "        eic2s = fullmz_EICdic[mf].eic\n",
    "\n",
    "        eic2t = np.asarray(eic2t)[inds]\n",
    "        eic2s = np.asarray(eic2s)[inds]\n",
    "        ax.plot(eic2t,eic2s, color ='C0', label = 'full window')\n",
    "    ax.set_xlim(4,28)\n",
    "    ax.set_title(mf)\n",
    "    ax.legend(frameon = False,bbox_to_anchor=(1.05,0.5),loc='center left')\n",
    "    fig.tight_layout()\n",
    "    pdf.savefig()\n",
    "\n",
    "for mf in fullmz_EICdic:   \n",
    "\n",
    "    if mf not in mz100_EICdic:\n",
    "\n",
    "        fig, ax = plt.subplots()\n",
    "\n",
    "        eic2t = fullmz_EICdic[mf].time\n",
    "        eic2s = fullmz_EICdic[mf].eic\n",
    "\n",
    "        inds = np.where(np.asarray(eic2t)<28)\n",
    "\n",
    "        eic2t = np.asarray(eic2t)[inds]\n",
    "        eic2s = np.asarray(eic2s)[inds]\n",
    "        ax.plot(eic2t,eic2s, color ='C5', label = 'full window')\n",
    "\n",
    "        ax.set_xlim(4,28)\n",
    "        ax.set_title(mf)\n",
    "        ax.legend(frameon = False,bbox_to_anchor=(1.05,0.5),loc='center left')\n",
    "        fig.tight_layout()\n",
    "        pdf.savefig()\n",
    "\n",
    "pdf.close()"
   ]
  },
  {
   "cell_type": "code",
   "execution_count": null,
   "metadata": {},
   "outputs": [],
   "source": [
    "refs = pd.read_csv('/Users/christiandewey/CoreMS/tests/tests_data/ftms/nom_pos.ref')\n",
    "#r45 = refs[(refs['m/z value']>=400) & (refs['m/z value']<=500)]\n",
    "\n",
    "print(refs[' m/z value'])\n"
   ]
  },
  {
   "cell_type": "code",
   "execution_count": null,
   "metadata": {},
   "outputs": [],
   "source": []
  },
  {
   "cell_type": "code",
   "execution_count": null,
   "metadata": {},
   "outputs": [],
   "source": [
    "import math\n",
    "#assigned_100mz\n",
    "#assigned_200mz\n",
    "#assigned_fullmz[assigned_fullmz['13C'] == 1]\n",
    "test1 = []\n",
    "test2 = []\n",
    "for i in range(len(unique_fullmz[unique_fullmz['13C'] == 1].index)):\n",
    "    \n",
    "    r13c = unique_fullmz[unique_fullmz['13C'] == 1].iloc[i]\n",
    "    mf13c = r13c['Molecular Formula']\n",
    "    iso_sim = r13c['Isotopologue Similarity']\n",
    "    \n",
    "    mono_index = int(r13c['Mono Isotopic Index'])\n",
    "\n",
    "    r13c.fillna(0,inplace=True)\n",
    "    nC = int(r13c['C'])\n",
    "    n13C = int(r13c['13C'])\n",
    "    nH = int(r13c['H'])\n",
    "    nO = int(r13c['O'])\n",
    "    nN = int(r13c['N'])\n",
    "\n",
    "    if (nO > 0) and (~math.isnan(nO)):\n",
    "        mf_t = 'C%s H%s O%s' %((nC + n13C),nH,nO)\n",
    "    elif (nN > 0) and (~math.isnan(nN)):\n",
    "        mf_t = 'C%s H%s O%s N%s' %((nC + n13C),nH,nO, nN)\n",
    "    else:\n",
    "        mf_t = 'C%s H%s' %((nC + n13C),nH)\n",
    "\n",
    "   # print('\\n',mf_t)\n",
    "    if mf_t in unique_fullmz['Molecular Formula']:\n",
    "        print('yyy')\n",
    "        print(unique_fullmz[unique_fullmz['Molecular Formula'] == mf_t])\n",
    "    #mf12c = unique_fullmz[unique_fullmz['Isotopologue Similarity']==iso_sim]['Molecular Formula']\n",
    "\n",
    "    #temp2 = mf12c.values\n",
    "    #print('\\ntemp2')\n",
    "    #print(temp2)\n",
    "    #for i in range(len(temp2)):\n",
    "    #    test2.append(temp2[i])\n",
    "\n",
    "    mf12c_in = unique_fullmz[unique_fullmz['Index']==mono_index]\n",
    "    best_match = mf12c_in[mf12c_in['Isotopologue Similarity']==iso_sim]['Molecular Formula']\n",
    "\n",
    "    temp=best_match.values\n",
    "    print('temp')\n",
    "    print(mf13c,mono_index,temp)\n",
    "    for i in range(len(temp)):\n",
    "        test1.append(temp[i])\n",
    "\n",
    "\n",
    "#print('\\n', mf13c,'\\n',best_match)\n",
    "\n",
    "print(len(test1))"
   ]
  },
  {
   "cell_type": "code",
   "execution_count": null,
   "metadata": {},
   "outputs": [],
   "source": [
    "mono_indices = []\n",
    "iso_indices = []\n",
    "for i in unique_fullmz[unique_fullmz['13C'] == 1].index:\n",
    "\n",
    "    r13c = unique_fullmz.loc[i]\n",
    "\n",
    "    mf13c = r13c['Molecular Formula']\n",
    "    iso_sim = r13c['Isotopologue Similarity']    \n",
    "    mono_index = int(r13c['Mono Isotopic Index'])\n",
    "\n",
    "    mf12c_in = unique_fullmz[unique_fullmz['Index']==mono_index]\n",
    "    best_match = mf12c_in[mf12c_in['Isotopologue Similarity']==iso_sim].index\n",
    "\n",
    "    if len(best_match.values) > 0:\n",
    "        \n",
    "        mono_indices.append(best_match.values[0])\n",
    "\n",
    "        iso_indices.append(i)\n",
    "\n",
    "print(len(mono_indices),len(iso_indices))"
   ]
  },
  {
   "cell_type": "code",
   "execution_count": null,
   "metadata": {},
   "outputs": [],
   "source": [
    "df = assigned_fullmz[assigned_fullmz['file'] == '20221103_LBA_Boiteau_Zorbax3p5_spring_fullmz.raw']\n",
    "df = assigned_100mz_456[assigned_fullmz['file'] == '20221103_LBA_Boiteau_Zorbax3p5_spring_fullmz.raw']\n",
    "\n",
    "intensity_v_ratio = []\n",
    "\n",
    "for t in df['Time'].unique():\n",
    "\n",
    "    print(t)\n",
    "\n",
    "    time_sub = df[df['Time'] == t]\n",
    "\n",
    "    time_sub['13C'].fillna(0)\n",
    "   # print(time_sub['Index'])\n",
    "    if 1.0 in time_sub['13C'].values:\n",
    "\n",
    "        for i in time_sub[time_sub['13C'] == 1].index:\n",
    "\n",
    "            iso_row = time_sub.loc[i]\n",
    "\n",
    "            #print(iso_row)\n",
    "\n",
    "            mf_13C = iso_row['Molecular Formula']\n",
    "            mono_index = int(iso_row['Mono Isotopic Index'])\n",
    "            mf_12C = time_sub[time_sub['Index']==mono_index]['Molecular Formula']\n",
    "            nC =  time_sub[time_sub['Index']==mono_index]['C'].iloc[0]\n",
    "            #print(mf_13C, mono_index, mf_12C)\n",
    "\n",
    "            int_13C = iso_row['Peak Height']\n",
    "            mz_13C = iso_row['Calibrated m/z']\n",
    "            int_12C =  time_sub[time_sub['Index']==mono_index]['Peak Height'].iloc[0]\n",
    "            mz_12C =  time_sub[time_sub['Index']==mono_index]['Calibrated m/z'].iloc[0]\n",
    "            print(int_12C, int_13C, nC, mz_12C, mz_13C)\n",
    "            intensity_v_ratio.append([int_12C, int_13C, nC, mz_12C, mz_13C])\n",
    "\n",
    "\n",
    "\n",
    "\n",
    "\n"
   ]
  },
  {
   "cell_type": "code",
   "execution_count": null,
   "metadata": {},
   "outputs": [],
   "source": [
    "df = np.asarray(intensity_v_ratio)\n",
    "np.shape(df)\n",
    "df1 = df #[df[:,0]<1e5]\n",
    "\n",
    "pddf = pd.DataFrame(df1,columns=['12C Intensity','13C Intensity','nC', 'm/z 12C', 'm/z 13C'])\n"
   ]
  },
  {
   "cell_type": "code",
   "execution_count": null,
   "metadata": {},
   "outputs": [],
   "source": [
    "import scipy\n",
    "\n",
    "df1 = df[df[:,0]<1e5]\n",
    "logx = np.log10(df1[:,0])\n",
    "logy = np.log10(df1[:,2])\n",
    "\n",
    "logyerr = np.std(df1[:,1]) / df1[:,2]\n",
    "\n",
    "# define our (line) fitting function\n",
    "fitfunc = lambda p, x: p[0] + p[1] * x\n",
    "errfunc = lambda p, x, y, err: (y - fitfunc(p, x)) / err\n",
    "\n",
    "pinit = [1.0, -1.0]\n",
    "out = scipy.optimize.leastsq(errfunc, pinit,\n",
    "                       args=(logx, logy, logyerr), full_output=1)\n",
    "\n",
    "pfinal = out[0]\n",
    "covar = out[1]\n",
    "print(pfinal)\n",
    "print(covar)\n",
    "\n",
    "index = pfinal[1]\n",
    "amp = 10.0**pfinal[0]\n",
    "\n",
    "indexErr = np.sqrt( covar[1][1] )\n",
    "ampErr = np.sqrt( covar[0][0] ) * amp"
   ]
  },
  {
   "cell_type": "code",
   "execution_count": null,
   "metadata": {},
   "outputs": [],
   "source": [
    "from scipy.optimize import curve_fit\n",
    "from scipy.optimize import differential_evolution\n",
    "import warnings\n",
    "\n",
    "nn = 1e4\n",
    "df1 = df[df[:,0]<nn]\n",
    "\n",
    "xData = df1[:,0]\n",
    "yData = df1[:,1]\n",
    "\n",
    "xmin = min(xData)\n",
    "print(xmin)\n",
    "def func(x, a,  b, c, d): # Sigmoid A With Offset from zunzun.com\n",
    "    #return a*(x-d)**3 + b*(x-d)**2 + c*x \n",
    "    return a*np.exp(b/((x-800)))\n",
    "    return a*(x-d)**5 + b*(x-d)**2 + c*(x-d)\n",
    "\n",
    "def func2(x, a,  b, c, d): # Sigmoid A With Offset from zunzun.com\n",
    "    #return a*(x-d)**3 + b*(x-d)**2 + c*x \n",
    "    return a*np.exp((b-x)/((x)))\n",
    "    return a*(x-d)**5 + b*(x-d)**2 + c*(x-d)\n",
    "\n",
    "# function for genetic algorithm to minimize (sum of squared error)\n",
    "def sumOfSquaredError(parameterTuple):\n",
    "    warnings.filterwarnings(\"ignore\") # do not print warnings by genetic algorithm\n",
    "    val = func(xData, *parameterTuple)\n",
    "    return np.sum((yData - val) ** 2.0)\n",
    "\n",
    "\n",
    "\n",
    "# curve fit the test data\n",
    "fittedParameters, pcov = curve_fit(func, xData, yData)\n",
    "fittedParameters2, pcov2 = curve_fit(func2, xData, yData)\n",
    "\n",
    "print('Parameters', fittedParameters)\n",
    "\n",
    "modelPredictions = func(xData, *fittedParameters) \n",
    "\n",
    "absError = modelPredictions - yData\n",
    "\n",
    "SE = np.square(absError) # squared errors\n",
    "MSE = np.mean(SE) # mean squared errors\n",
    "RMSE = np.sqrt(MSE) # Root Mean Squared Error, RMSE\n",
    "Rsquared = 1.0 - (np.var(absError) / np.var(yData))\n",
    "print('RMSE:', RMSE)\n",
    "print('R-squared:', Rsquared)\n",
    "\n",
    "\n",
    "\n",
    "##########################################################\n",
    "# graphics output section\n",
    "def ModelAndScatterPlot(graphWidth, graphHeight):\n",
    "    f = plt.figure(figsize=(graphWidth/100.0, graphHeight/100.0), dpi=100)\n",
    "    axes = f.add_subplot(111)\n",
    "\n",
    "    # first the raw data as a scatter plot\n",
    "    axes.plot(df[:,0], df[:,1],  'D')\n",
    "\n",
    "    # create data for the fitted equation plot\n",
    "    xModel = np.linspace(1000, nn, int(1e6))\n",
    "    yModel = func(xModel, *fittedParameters)\n",
    "\n",
    "    xModel2 = np.linspace(1000, nn, int(1e6))\n",
    "    yModel2 = func2(xModel2, *fittedParameters2)\n",
    "    # now the model as a line plot \n",
    "    axes.plot(xModel, yModel)\n",
    "\n",
    "    axes.plot(xModel2, yModel2, color ='red')\n",
    "\n",
    "    axes.set_xlim(0,1.1*nn)\n",
    "    axes.set_ylim(0,1)\n",
    "\n",
    "    axes.set_xlabel('X Data') # X axis data label\n",
    "    axes.set_ylabel('Y Data') # Y axis data label\n",
    "\n",
    "    plt.show()\n",
    "    plt.close('all') # clean up after using pyplot\n",
    "\n",
    "graphWidth = 800\n",
    "graphHeight = 600\n",
    "ModelAndScatterPlot(graphWidth, graphHeight)"
   ]
  },
  {
   "cell_type": "code",
   "execution_count": null,
   "metadata": {},
   "outputs": [],
   "source": [
    "\n",
    "\n",
    "fig, ax = plt.subplots()\n",
    "\n",
    "ax.scatter(pddf['12C Intensity'], pddf['12C Intensity']/pddf['13C Intensity']/pddf['nC'])\n",
    "\n",
    "#ax.errorbar(df1[:,0], df1[:,1], yerr=np.std(df1[:,1]), fmt='k.')  # Data\n",
    "\n",
    "ax.set_ylim(0,1)\n",
    "\n",
    "ax.set_xlim(0,1.1e4)\n",
    "plt.show()"
   ]
  },
  {
   "cell_type": "code",
   "execution_count": null,
   "metadata": {},
   "outputs": [],
   "source": [
    "\n",
    "\n",
    "xx = np.linspace(1, int(5e5), int(1e4))\n",
    "yy = np.linspace(1, int(5e5), int(1e4))\n",
    "\n",
    "\n",
    "fig, ax = plt.subplots()\n",
    "\n",
    "#ax.scatter((pddf['nC']*1.1/100*pddf['12C Intensity']),(pddf['13C Intensity']-(pddf['nC']*1.1/100*pddf['12C Intensity']))/(pddf['nC']*1.1/100*pddf['12C Intensity']))\n",
    "ax.scatter((pddf['nC']*1.1/100*pddf['12C Intensity']),pddf['13C Intensity'])\n",
    "#ax.scatter((pddf['nC']*pddf['12C Intensity']),pddf['13C Intensity'])\n",
    "\n",
    "ax.scatter(xx, yy, color='orange',s=1)\n",
    "\n",
    "ax.set_xlim(0,10e4)\n",
    "ax.set_ylim(0,10e4)\n",
    "ax.plot\n",
    "\n",
    "plt.show()"
   ]
  },
  {
   "cell_type": "code",
   "execution_count": null,
   "metadata": {},
   "outputs": [],
   "source": [
    "def func2(x, a,  b, c): # Sigmoid A With Offset from zunzun.com\n",
    "    return 1 - b/((x)**0.5)\n",
    "\n",
    "\n",
    "yy = (pddf['nC']*1.07/100*pddf['12C Intensity'])\n",
    "xx = pddf['12C Intensity']\n",
    "\n",
    "fittedParameters2, pcov2 = curve_fit(func2, xx,  pddf['13C Intensity']/yy)\n",
    "\n",
    "print(fittedParameters2)\n",
    "fig, ax = plt.subplots()\n",
    "\n",
    "ax.scatter(pddf['12C Intensity'], pddf['13C Intensity']/yy,s=1)\n",
    "\n",
    "\n",
    "xModel2 = np.linspace(1000, 1e6, int(1e6))\n",
    "yModel2 = func2(xModel2, *fittedParameters2)\n",
    "# now the model as a line plot \n",
    "ax.plot(xModel2, yModel2)\n",
    "\n",
    "ax.plot(xModel2, yModel2, color ='red')\n",
    "\n",
    "ax.set_xlim(0,0.5e6)\n",
    "ax.set_ylim(0,1.05)\n",
    "\n",
    "xlabels = ['{:,.0f}'.format(x) for x in ax.get_xticks()/1000]\n",
    "ax.set_xticklabels(xlabels)\n",
    "\n",
    "ax.set_xlabel(r'Intensity $^{12}$C$_{M}$' + ' (1000s cps)') #'Monoisotopic intensity (1000s cps)')\n",
    "ax.set_ylabel(r'Intensity $^{13}$C$_{M}$ / Intensity $^{13}$C$_{T}$')\n",
    "#ax.set_ylabel(r'$\\frac{{{%s}}}{%s}$' %(nom,den))\n",
    "\n",
    "plt.show()"
   ]
  },
  {
   "cell_type": "code",
   "execution_count": null,
   "metadata": {},
   "outputs": [],
   "source": [
    "df_cu = mz100_contains_cu\n",
    "df_cu['13C'] = df_cu['13C'].fillna(0)\n",
    "df_cu_mono = df_cu[df_cu['13C']==0]\n",
    "\n",
    "print(np.shape(df_cu))\n",
    "print(np.shape(df_cu_mono))\n",
    "\n",
    "df_cu_mono['Theoretical 65Cu Peak Height'] = df_cu_mono['Peak Height']*.3083\n",
    "\n",
    "#69.17 and 30.83% 63Cu 65Cu\n",
    "\n",
    "for i, j in zip(df_cu_mono['Peak Height'], df_cu_mono['Theoretical 65Cu Peak Height']):\n",
    "    iso_ph = df_cu_mono['C'].iloc[0]*1.1/100*i\n",
    "    print(i,j, iso_ph)\n",
    "\n"
   ]
  }
 ],
 "metadata": {
  "kernelspec": {
   "display_name": "Python 3.8.15 ('env': venv)",
   "language": "python",
   "name": "python3"
  },
  "language_info": {
   "codemirror_mode": {
    "name": "ipython",
    "version": 3
   },
   "file_extension": ".py",
   "mimetype": "text/x-python",
   "name": "python",
   "nbconvert_exporter": "python",
   "pygments_lexer": "ipython3",
   "version": "3.8.15 (default, Nov 27 2022, 21:17:29) \n[Clang 14.0.0 (clang-1400.0.29.202)]"
  },
  "orig_nbformat": 4,
  "vscode": {
   "interpreter": {
    "hash": "4a89ef0f0087d043516959840435a1ba2fc11671454c58b55cd65c8c9ca3f627"
   }
  }
 },
 "nbformat": 4,
 "nbformat_minor": 2
}
