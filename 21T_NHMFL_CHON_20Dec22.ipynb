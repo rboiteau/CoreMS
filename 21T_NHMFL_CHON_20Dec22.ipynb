{
 "cells": [
  {
   "cell_type": "code",
   "execution_count": 1,
   "metadata": {},
   "outputs": [],
   "source": [
    "import os\n",
    "from tempfile import tempdir\n",
    "from time import time\n",
    "from turtle import color\n",
    "from unittest.mock import NonCallableMagicMock\n",
    "import pandas as pd\n",
    "import numpy as np\n",
    "import warnings\n",
    "import math\n",
    "import re\n",
    "\n",
    "import seaborn as sns\n",
    "warnings.filterwarnings(\"ignore\")\n",
    "\n",
    "import sys\n",
    "sys.path.append(\"./\")\n",
    "\n",
    "from pathlib import Path\n",
    "\n",
    "import tqdm\n",
    "import importlib\n",
    "\n",
    "import matplotlib.pyplot as plt\n",
    "# from PySide2.QtWidgets import QFileDialog, QApplication\n",
    "# from PySide2.QtCore import Qt\n",
    "from copy import copy \n",
    "\n",
    "from corems.mass_spectra.input import rawFileReader\n",
    "from corems.molecular_id.factory.classification import HeteroatomsClassification, Labels\n",
    "from corems.molecular_id.search.priorityAssignment import OxygenPriorityAssignment\n",
    "from corems.molecular_id.search.molecularFormulaSearch import SearchMolecularFormulas\n",
    "from corems.encapsulation.factory.parameters import MSParameters\n",
    "from corems.encapsulation.constant import Atoms\n",
    "from corems.mass_spectrum.calc.Calibration import MzDomainCalibration\n",
    "\n",
    "import corems.lc_icpms_ftms.calc.lc_icrms_qc_assign as icrms\n",
    "import corems.lc_icpms_ftms.calc.lc_icrms_helpers as lcmsfns\n",
    "\n",
    "import importlib\n",
    "importlib.reload(icrms)\n",
    "\n",
    "\n",
    "rawfile='/Users/christiandewey/Library/CloudStorage/Box-Box/Boiteau Lab/Mass Spec Data/21T at NHMFL/2022-10 Nicole & Christian/Christian/backup/20221102_LBA_Boiteau_Zorbax3p5_slough_400_500_02.raw'\n",
    "\n"
   ]
  },
  {
   "cell_type": "code",
   "execution_count": 10,
   "metadata": {},
   "outputs": [
    {
     "data": {
      "text/plain": [
       "<module 'corems.lc_icpms_ftms.calc.lc_icrms_helpers' from '/Users/christiandewey/CoreMS/corems/lc_icpms_ftms/calc/lc_icrms_helpers.py'>"
      ]
     },
     "execution_count": 10,
     "metadata": {},
     "output_type": "execute_result"
    }
   ],
   "source": [
    "# reload modules \n",
    "importlib.reload(icrms)\n",
    "importlib.reload(lcmsfns)"
   ]
  },
  {
   "cell_type": "code",
   "execution_count": 2,
   "metadata": {},
   "outputs": [],
   "source": [
    "# set fname\n",
    "\n",
    "fname = 'slough-CHON3Cu_22-12-20.csv'"
   ]
  },
  {
   "cell_type": "code",
   "execution_count": 3,
   "metadata": {},
   "outputs": [],
   "source": [
    "# get parser\n",
    "\n",
    "parser = rawFileReader.ImportMassSpectraThermoMSFileReader(rawfile) \n"
   ]
  },
  {
   "cell_type": "code",
   "execution_count": 4,
   "metadata": {},
   "outputs": [],
   "source": [
    "# set assignment parameters\n",
    "MSParameters.mass_spectrum.threshold_method = 'signal_noise'\n",
    "MSParameters.mass_spectrum.s2n_threshold = 2\n",
    "MSParameters.ms_peak.peak_min_prominence_percent = 0.001\n",
    "\n",
    "MSParameters.molecular_search.error_method = 'None'\n",
    "MSParameters.molecular_search.min_ppm_error = -0.25\n",
    "MSParameters.molecular_search.max_ppm_error = 0.25\n",
    "\n",
    "MSParameters.molecular_search.isProtonated = True\n",
    "MSParameters.molecular_search.isRadical = False\n",
    "MSParameters.molecular_search.isAdduct = False\n",
    "\n",
    "MSParameters.molecular_search.score_method = \"prob_score\"\n",
    "MSParameters.molecular_search.output_score_method = \"prob_score\"\n",
    "\n",
    "MSParameters.molecular_search.url_database = None\n",
    "MSParameters.molecular_search.min_dbe = -1\n",
    "MSParameters.molecular_search.max_dbe = 20\n",
    "\n",
    "MSParameters.molecular_search.usedAtoms['C'] = (1,50)\n",
    "MSParameters.molecular_search.usedAtoms['H'] = (4,100)\n",
    "MSParameters.molecular_search.usedAtoms['O'] = (1,20)\n",
    "MSParameters.molecular_search.usedAtoms['N'] = (0,3)\n",
    "MSParameters.molecular_search.usedAtoms['Cu'] = (0,1)\n",
    "MSParameters.molecular_search.usedAtoms['Fe'] = (0,1)\n",
    "MSParameters.molecular_search.usedAtoms['S'] = (0,1)\n",
    "MSParameters.molecular_search.usedAtoms['P'] = (0,1)\n",
    "\n",
    "\n"
   ]
  },
  {
   "cell_type": "code",
   "execution_count": 11,
   "metadata": {},
   "outputs": [
    {
     "name": "stdout",
     "output_type": "stream",
     "text": [
      "timestart: 4\n",
      "MS Obj loaded - 1844 peaks found.\n",
      "MS Obj loaded - 1844 peaks found.\n",
      "Reference mass list loaded - 290 calibration masses loaded.\n",
      "40 calibration points matched within thresholds.\n",
      "minimize function completed with RMS error of: 0.027 ppm\n",
      "minimize function performed 335 fn evals and 4 iterations\n",
      "'runworker'  4934.11 ms\n"
     ]
    },
    {
     "name": "stderr",
     "output_type": "stream",
     "text": [
      "Loading molecular formula database: 133878it [00:04, 32414.50it/s]\n",
      "Started molecular formula search for class {\"N\": 3, \"O\": 20, \"Cu\": 1}, (de)protonated : 100%|██████████| 160/160 [00:01<00:00, 106.04it/s]\n"
     ]
    },
    {
     "name": "stdout",
     "output_type": "stream",
     "text": [
      "'run_molecular_formula'  10626.51 ms\n",
      "734 assigned peaks and 1110 unassigned peaks, total  = 39.80 %, relative abundance = 35.71 %, RMS error (best candidate) (ppm) = 0.065\n",
      "timestart: 6\n",
      "MS Obj loaded - 1923 peaks found.\n",
      "MS Obj loaded - 1923 peaks found.\n",
      "Reference mass list loaded - 290 calibration masses loaded.\n",
      "63 calibration points matched within thresholds.\n",
      "minimize function completed with RMS error of: 0.018 ppm\n",
      "minimize function performed 254 fn evals and 3 iterations\n",
      "'runworker'  4884.86 ms\n"
     ]
    },
    {
     "name": "stderr",
     "output_type": "stream",
     "text": [
      "Loading molecular formula database: 133878it [00:03, 33528.76it/s] \n",
      "Started molecular formula search for class {\"N\": 3, \"O\": 20, \"Cu\": 1}, (de)protonated : 100%|██████████| 160/160 [00:01<00:00, 99.75it/s]\n"
     ]
    },
    {
     "name": "stdout",
     "output_type": "stream",
     "text": [
      "'run_molecular_formula'  10511.95 ms\n",
      "1017 assigned peaks and 906 unassigned peaks, total  = 52.89 %, relative abundance = 46.30 %, RMS error (best candidate) (ppm) = 0.061\n",
      "timestart: 8\n",
      "MS Obj loaded - 2017 peaks found.\n",
      "MS Obj loaded - 2017 peaks found.\n",
      "Reference mass list loaded - 290 calibration masses loaded.\n",
      "83 calibration points matched within thresholds.\n",
      "minimize function completed with RMS error of: 0.030 ppm\n",
      "minimize function performed 269 fn evals and 3 iterations\n",
      "'runworker'  5067.48 ms\n"
     ]
    },
    {
     "name": "stderr",
     "output_type": "stream",
     "text": [
      "Loading molecular formula database: 133878it [00:03, 37027.90it/s] \n",
      "Started molecular formula search for class {\"N\": 3, \"O\": 20, \"Cu\": 1}, (de)protonated : 100%|██████████| 160/160 [00:01<00:00, 96.82it/s] \n"
     ]
    },
    {
     "name": "stdout",
     "output_type": "stream",
     "text": [
      "'run_molecular_formula'  10366.10 ms\n",
      "1121 assigned peaks and 896 unassigned peaks, total  = 55.58 %, relative abundance = 54.28 %, RMS error (best candidate) (ppm) = 0.067\n",
      "timestart: 10\n",
      "MS Obj loaded - 1914 peaks found.\n",
      "MS Obj loaded - 1914 peaks found.\n",
      "Reference mass list loaded - 290 calibration masses loaded.\n",
      "98 calibration points matched within thresholds.\n",
      "minimize function completed with RMS error of: 0.015 ppm\n",
      "minimize function performed 272 fn evals and 3 iterations\n",
      "'runworker'  5156.29 ms\n"
     ]
    },
    {
     "name": "stderr",
     "output_type": "stream",
     "text": [
      "Loading molecular formula database: 133878it [00:03, 37500.71it/s] \n",
      "Started molecular formula search for class {\"N\": 3, \"O\": 20, \"Cu\": 1}, (de)protonated : 100%|██████████| 160/160 [00:01<00:00, 101.79it/s]\n"
     ]
    },
    {
     "name": "stdout",
     "output_type": "stream",
     "text": [
      "'run_molecular_formula'  10329.06 ms\n",
      "1138 assigned peaks and 776 unassigned peaks, total  = 59.46 %, relative abundance = 60.55 %, RMS error (best candidate) (ppm) = 0.050\n",
      "timestart: 12\n",
      "MS Obj loaded - 2051 peaks found.\n",
      "MS Obj loaded - 2051 peaks found.\n",
      "Reference mass list loaded - 290 calibration masses loaded.\n",
      "110 calibration points matched within thresholds.\n",
      "minimize function completed with RMS error of: 0.066 ppm\n",
      "minimize function performed 260 fn evals and 3 iterations\n",
      "'runworker'  5139.43 ms\n"
     ]
    },
    {
     "name": "stderr",
     "output_type": "stream",
     "text": [
      "Loading molecular formula database: 133878it [00:03, 34057.09it/s]\n",
      "Started molecular formula search for class {\"N\": 3, \"O\": 20, \"Cu\": 1}, (de)protonated : 100%|██████████| 160/160 [00:01<00:00, 95.46it/s] \n"
     ]
    },
    {
     "name": "stdout",
     "output_type": "stream",
     "text": [
      "'run_molecular_formula'  10776.67 ms\n",
      "1185 assigned peaks and 866 unassigned peaks, total  = 57.78 %, relative abundance = 64.25 %, RMS error (best candidate) (ppm) = 0.051\n",
      "timestart: 14\n",
      "MS Obj loaded - 1980 peaks found.\n",
      "MS Obj loaded - 1980 peaks found.\n",
      "Reference mass list loaded - 290 calibration masses loaded.\n",
      "116 calibration points matched within thresholds.\n",
      "minimize function completed with RMS error of: 0.023 ppm\n",
      "minimize function performed 266 fn evals and 3 iterations\n",
      "'runworker'  5079.71 ms\n"
     ]
    },
    {
     "name": "stderr",
     "output_type": "stream",
     "text": [
      "Loading molecular formula database: 133878it [00:03, 37854.15it/s] \n",
      "Started molecular formula search for class {\"N\": 3, \"O\": 20, \"Cu\": 1}, (de)protonated : 100%|██████████| 160/160 [00:01<00:00, 98.22it/s] \n"
     ]
    },
    {
     "name": "stdout",
     "output_type": "stream",
     "text": [
      "'run_molecular_formula'  10274.77 ms\n",
      "1184 assigned peaks and 796 unassigned peaks, total  = 59.80 %, relative abundance = 67.85 %, RMS error (best candidate) (ppm) = 0.059\n",
      "timestart: 16\n",
      "MS Obj loaded - 1920 peaks found.\n",
      "MS Obj loaded - 1920 peaks found.\n",
      "Reference mass list loaded - 290 calibration masses loaded.\n",
      "122 calibration points matched within thresholds.\n",
      "minimize function completed with RMS error of: 0.015 ppm\n",
      "minimize function performed 265 fn evals and 3 iterations\n",
      "'runworker'  5057.74 ms\n"
     ]
    },
    {
     "name": "stderr",
     "output_type": "stream",
     "text": [
      "Loading molecular formula database: 133878it [00:03, 39674.16it/s] \n",
      "Started molecular formula search for class {\"N\": 3, \"O\": 20, \"Cu\": 1}, (de)protonated : 100%|██████████| 160/160 [00:01<00:00, 102.21it/s]\n"
     ]
    },
    {
     "name": "stdout",
     "output_type": "stream",
     "text": [
      "'run_molecular_formula'  10028.16 ms\n",
      "1124 assigned peaks and 796 unassigned peaks, total  = 58.54 %, relative abundance = 70.38 %, RMS error (best candidate) (ppm) = 0.053\n",
      "timestart: 18\n",
      "MS Obj loaded - 1580 peaks found.\n",
      "MS Obj loaded - 1580 peaks found.\n",
      "Reference mass list loaded - 290 calibration masses loaded.\n",
      "118 calibration points matched within thresholds.\n",
      "minimize function completed with RMS error of: 0.015 ppm\n",
      "minimize function performed 179 fn evals and 2 iterations\n",
      "'runworker'  5312.71 ms\n"
     ]
    },
    {
     "name": "stderr",
     "output_type": "stream",
     "text": [
      "Loading molecular formula database: 133878it [00:03, 39557.44it/s] \n",
      "Started molecular formula search for class {\"N\": 3, \"O\": 20, \"Cu\": 1}, (de)protonated : 100%|██████████| 160/160 [00:01<00:00, 123.00it/s]\n"
     ]
    },
    {
     "name": "stdout",
     "output_type": "stream",
     "text": [
      "'run_molecular_formula'  10027.55 ms\n",
      "917 assigned peaks and 663 unassigned peaks, total  = 58.04 %, relative abundance = 75.80 %, RMS error (best candidate) (ppm) = 0.050\n",
      "timestart: 20\n",
      "MS Obj loaded - 1251 peaks found.\n",
      "MS Obj loaded - 1251 peaks found.\n",
      "Reference mass list loaded - 290 calibration masses loaded.\n",
      "104 calibration points matched within thresholds.\n",
      "minimize function completed with RMS error of: 0.029 ppm\n",
      "minimize function performed 178 fn evals and 2 iterations\n",
      "'runworker'  5491.68 ms\n"
     ]
    },
    {
     "name": "stderr",
     "output_type": "stream",
     "text": [
      "Loading molecular formula database: 133878it [00:03, 41298.34it/s] \n",
      "Started molecular formula search for class {\"N\": 3, \"O\": 20, \"Cu\": 1}, (de)protonated : 100%|██████████| 160/160 [00:01<00:00, 156.33it/s]\n"
     ]
    },
    {
     "name": "stdout",
     "output_type": "stream",
     "text": [
      "'run_molecular_formula'  9785.49 ms\n",
      "730 assigned peaks and 521 unassigned peaks, total  = 58.35 %, relative abundance = 79.69 %, RMS error (best candidate) (ppm) = 0.061\n"
     ]
    }
   ],
   "source": [
    "# run assignment algorithm\n",
    "timerange = [4,22]  # start (min) to stop (min)\n",
    "interval = 2  # min \n",
    "refmasslist = \"/Users/christiandewey/CoreMS/tests/tests_data/ftms/nom_pos.ref\"\n",
    "\n",
    "data_df = lcmsfns.assign_formula(parser=parser, interval = interval, timerange = timerange, refmasslist = refmasslist, calorder =2)\n",
    "\n"
   ]
  },
  {
   "cell_type": "code",
   "execution_count": 25,
   "metadata": {},
   "outputs": [
    {
     "name": "stdout",
     "output_type": "stream",
     "text": [
      "['400-500 m/z']\n",
      "['20221102_LBA_Boiteau_Zorbax3p5_slough_400_500_02.raw']\n",
      "['100 m/z']\n"
     ]
    }
   ],
   "source": [
    "# add 'm/z window' and 'rep' columns\n",
    "data_df['file'] ='20221102_LBA_Boiteau_Zorbax3p5_slough_400_500_02.raw'\n",
    "data_df = lcmsfns.add_mzwindow_col(data_df)\n",
    "\n",
    "\n",
    "print(data_df['m/z window'].unique())\n",
    "print(data_df['file'].unique())\n",
    "print(data_df['m/z Window Size'].unique())\n"
   ]
  },
  {
   "cell_type": "code",
   "execution_count": 26,
   "metadata": {},
   "outputs": [
    {
     "name": "stdout",
     "output_type": "stream",
     "text": [
      "Molecule classes:  ['CHON' 'CHO' 'Unassigned' 'CHOCu']\n"
     ]
    }
   ],
   "source": [
    "# assign molecule classes \n",
    "# \n",
    "\n",
    "heter = ['N','Cu']\n",
    "\n",
    "molclasses = lcmsfns.get_mol_classes(heter)\n",
    "\n",
    "data_df = lcmsfns.assign_mol_class(data_df,molclasses)\n",
    "\n",
    "print('Molecule classes: ', data_df['mol_class'].unique() )\n"
   ]
  },
  {
   "cell_type": "code",
   "execution_count": 10,
   "metadata": {},
   "outputs": [],
   "source": [
    "# save assignment results as pd dataframe and export as .csv \n",
    "data_df.to_csv(\"/Users/christiandewey/Library/CloudStorage/Box-Box/data/assignments/\"+fname)\n"
   ]
  },
  {
   "cell_type": "code",
   "execution_count": 11,
   "metadata": {},
   "outputs": [],
   "source": [
    "#-#-#-# read assignment results from .csv\n",
    "data_df = pd.read_csv(\"/Users/christiandewey/Library/CloudStorage/Box-Box/data/assignments/\"+fname)"
   ]
  },
  {
   "cell_type": "code",
   "execution_count": 27,
   "metadata": {},
   "outputs": [
    {
     "data": {
      "image/png": "[encoded data removed]",
      "text/plain": [
       "<Figure size 640x480 with 1 Axes>"
      ]
     },
     "metadata": {},
     "output_type": "display_data"
    }
   ],
   "source": [
    "# plot assignment error kernel density\n",
    "\n",
    "ttt = 'Slough CHON3Cu'  ## title for main plot\n",
    "\n",
    "fig, ax1 = plt.subplots()\n",
    "sns.kdeplot(data=data_df[data_df['mol_class']!='Unassigned'], x=\"m/z Error (ppm)\", hue=\"mol_class\", ax = ax1)\n",
    "ax1.set_xlim(-0.3,0.3)\n",
    "ax1.set_title( 'Full Window (1000 m/z)')\n",
    "legend = ax1.get_legend()\n",
    "handles = legend.legendHandles\n",
    "labels = data_df[data_df['mol_class']!='Unassigned']['mol_class'].unique()\n",
    "legend.remove()\n",
    "\n",
    "\n",
    "\n",
    "\n",
    "fig.suptitle(ttt, fontsize=14)\n",
    "fig.legend(handles, labels, title='Mol. Class', frameon = False, bbox_to_anchor=(1.0,0.5), loc = 'center left')\n",
    "\n",
    "plt.tight_layout()\n",
    "\n",
    "plt.show()\n"
   ]
  },
  {
   "cell_type": "code",
   "execution_count": 28,
   "metadata": {},
   "outputs": [
    {
     "name": "stdout",
     "output_type": "stream",
     "text": [
      "400-500 m/z, 100 m/z windowing: \n",
      "14405 features total; 8377 assigned (58.2%)\n"
     ]
    }
   ],
   "source": [
    "# create subsets of assigned features \n",
    "assigned = data_df[~data_df['Molecular Formula'].isnull()]\n",
    "\n",
    "\n",
    "print('400-500 m/z, 100 m/z windowing: \\n%s features total; %s assigned (%.1f%%)' %(np.shape(data_df)[0],  np.shape(assigned)[0], np.shape(assigned)[0] / np.shape(data_df)[0] * 100))\n"
   ]
  },
  {
   "cell_type": "code",
   "execution_count": 29,
   "metadata": {},
   "outputs": [
    {
     "name": "stdout",
     "output_type": "stream",
     "text": [
      "400-500 m/z, 100 m/z windowing:\n",
      "total # results: 8377\n",
      "# unique results: 8377\n"
     ]
    }
   ],
   "source": [
    "# create subsets of unique features \n",
    "print('400-500 m/z, 100 m/z windowing:')\n",
    "unique = lcmsfns.getUniqueFeatures(assigned)\n",
    "\n"
   ]
  },
  {
   "cell_type": "code",
   "execution_count": 41,
   "metadata": {},
   "outputs": [
    {
     "name": "stdout",
     "output_type": "stream",
     "text": [
      "       Index         m/z  Calibrated m/z  Calculated m/z  Peak Height  \\\n",
      "2429    1130  452.142513      452.142595      452.142569   591.155025   \n",
      "3923     271  414.048284      414.048375      414.048275   986.973090   \n",
      "8753    1811  487.006986      487.007078      487.007139   974.815510   \n",
      "10801   1743  487.001577      487.001683      487.001778   564.280810   \n",
      "11821    161  410.151212      410.151314      410.151284  1295.122841   \n",
      "13725    123  410.151210      410.151310      410.151284   850.442536   \n",
      "15863   1066  485.100540      485.100649      485.100645   348.454069   \n",
      "\n",
      "       Peak Area  Resolving Power        S/N  Ion Charge  m/z Error (ppm)  \\\n",
      "2429   -0.775557    313546.072344   3.388962           1         0.056495   \n",
      "3923   -0.656339    599188.626486   5.159268           1         0.241458   \n",
      "8753   -1.606461    291099.358109   6.964883           1        -0.124008   \n",
      "10801  -0.593241    169810.208900   4.379951           1        -0.195625   \n",
      "11821  -0.879182    604881.876794  10.756307           1         0.074414   \n",
      "13725  -0.549815    604881.936215   7.145864           1         0.063663   \n",
      "15863  -0.347312    511425.686615   3.458462           1         0.008975   \n",
      "\n",
      "       ...    N  13C  Time  18O   Cu   m/z window m/z Window Size mol_class  \\\n",
      "2429   ...  2.0  NaN     6  NaN  1.0  400-500 m/z         100 m/z     CHOCu   \n",
      "3923   ...  2.0  NaN     8  NaN  1.0  400-500 m/z         100 m/z     CHOCu   \n",
      "8753   ...  3.0  NaN    12  NaN  1.0  400-500 m/z         100 m/z     CHOCu   \n",
      "10801  ...  1.0  NaN    14  NaN  1.0  400-500 m/z         100 m/z     CHOCu   \n",
      "11821  ...  NaN  NaN    16  NaN  1.0  400-500 m/z         100 m/z     CHOCu   \n",
      "13725  ...  NaN  NaN    18  NaN  1.0  400-500 m/z         100 m/z     CHOCu   \n",
      "15863  ...  3.0  NaN    20  NaN  1.0  400-500 m/z         100 m/z     CHOCu   \n",
      "\n",
      "                                                    file    Rep  \n",
      "2429   20221102_LBA_Boiteau_Zorbax3p5_slough_400_500_...   2429  \n",
      "3923   20221102_LBA_Boiteau_Zorbax3p5_slough_400_500_...   3923  \n",
      "8753   20221102_LBA_Boiteau_Zorbax3p5_slough_400_500_...   8753  \n",
      "10801  20221102_LBA_Boiteau_Zorbax3p5_slough_400_500_...  10801  \n",
      "11821  20221102_LBA_Boiteau_Zorbax3p5_slough_400_500_...  11821  \n",
      "13725  20221102_LBA_Boiteau_Zorbax3p5_slough_400_500_...  13725  \n",
      "15863  20221102_LBA_Boiteau_Zorbax3p5_slough_400_500_...  15863  \n",
      "\n",
      "[7 rows x 34 columns]\n"
     ]
    }
   ],
   "source": [
    "# 100 m/z window, error plots with blank substraction\n",
    "\n",
    "cu_features = data_df[(data_df['Cu']>0)]\n",
    "\n",
    "print(cu_features)\n",
    "\n",
    "#410.151212\n",
    "\n",
    "#data.master_data_holder['20221103_LBA_Boiteau_Zorbax3p5_spring_400_500_rep2.raw'] #[file]={'parser': parser}\n",
    "\n",
    "EICdic = {}\n",
    "for mz,mf in zip(cu_features['m/z'],cu_features['Molecular Formula']):\n",
    " \n",
    "    EIC=parser.get_eics(target_mzs=[mz],tic_data={},peak_detection=False,smooth=False)\n",
    "    EICdic[mf]=EIC[0][mz]"
   ]
  },
  {
   "cell_type": "code",
   "execution_count": 43,
   "metadata": {},
   "outputs": [
    {
     "data": {
      "image/png": "[encoded data removed]",
      "text/plain": [
       "<Figure size 640x480 with 1 Axes>"
      ]
     },
     "metadata": {},
     "output_type": "display_data"
    },
    {
     "data": {
      "image/png": "[encoded data removed]",
      "text/plain": [
       "<Figure size 640x480 with 1 Axes>"
      ]
     },
     "metadata": {},
     "output_type": "display_data"
    },
    {
     "data": {
      "image/png": "[encoded data removed]",
      "text/plain": [
       "<Figure size 640x480 with 1 Axes>"
      ]
     },
     "metadata": {},
     "output_type": "display_data"
    },
    {
     "data": {
      "image/png": "[encoded data removed]",
      "text/plain": [
       "<Figure size 640x480 with 1 Axes>"
      ]
     },
     "metadata": {},
     "output_type": "display_data"
    },
    {
     "data": {
      "image/png": "[encoded data removed]",
      "text/plain": [
       "<Figure size 640x480 with 1 Axes>"
      ]
     },
     "metadata": {},
     "output_type": "display_data"
    },
    {
     "data": {
      "image/png": "[encoded data removed]",
      "text/plain": [
       "<Figure size 640x480 with 1 Axes>"
      ]
     },
     "metadata": {},
     "output_type": "display_data"
    }
   ],
   "source": [
    "#ax.set_ylim(0,maxicp*1.1)\n",
    "\n",
    "for mf in EICdic:   \n",
    "\n",
    "    fig, ax = plt.subplots()\n",
    "    \n",
    "    eict=EICdic[mf].time\n",
    "    eics=EICdic[mf].eic\n",
    "\n",
    "    inds = np.where(np.asarray(eict)<28)\n",
    "\n",
    "    eict = np.asarray(eict)[inds]\n",
    "    eics = np.asarray(eics)[inds]\n",
    "\n",
    "    ax.plot(eict, eics,color = 'red', label=r'$\\Delta$m/z 100 window')\n",
    "\n",
    "    ax.set_xlim(4,22)\n",
    "    ax.set_title(mf)\n",
    "    ax.legend(frameon = False,bbox_to_anchor=(1.05,0.5),loc='center left')\n",
    "    fig.tight_layout()\n",
    "\n",
    "    plt.show()"
   ]
  },
  {
   "cell_type": "code",
   "execution_count": null,
   "metadata": {},
   "outputs": [],
   "source": [
    "# 200 m/z window, error plots with blanks removed \n",
    "\n",
    "df = lcmsfns.blankSubtract(unique_200mz, blnkthresh = 0.6)\n",
    "print(np.shape(unique_200mz))\n",
    "print(np.shape(df))\n",
    "\n",
    "fig = lcmsfns.plotUnique(df,ps=10)\n",
    "fig.suptitle('200 m/z window, '+ttt, fontsize=14)\n",
    "\n",
    "fig.set_size_inches(8,9)\n",
    "plt.tight_layout()\n",
    "\n",
    "plt.show()\n"
   ]
  },
  {
   "cell_type": "code",
   "execution_count": null,
   "metadata": {},
   "outputs": [],
   "source": [
    "# full m/z window, error plots with blanks removed \n",
    "\n",
    "mask = ~unique_fullmz_456['file'].str.contains('qh2o', case=False, na=False)\n",
    "unique_fullmz_nb=unique_fullmz_456[mask]\n",
    "df = lcmsfns.blankSubtract(unique_fullmz_456, blnkthresh = 0.6)\n",
    "print(np.shape(unique_fullmz_456))\n",
    "print(np.shape(df))\n",
    "\n",
    "fig = lcmsfns.plotUnique(df,ps=10)\n",
    "fig.suptitle('1000 m/z window, '+ttt, fontsize=14)\n",
    "\n",
    "fig.set_size_inches(8,9)\n",
    "plt.tight_layout()\n",
    "\n",
    "plt.show()"
   ]
  },
  {
   "cell_type": "code",
   "execution_count": null,
   "metadata": {},
   "outputs": [],
   "source": [
    "##### here \n",
    "\n",
    "temp = df_bs[abs(df_bs['m/z Error (ppm)'])<0.15]\n",
    "print(np.shape(temp))\n",
    "fig = lcmsfns.plotUnique(pd.concat([temp[temp['m/z window']== '400-500 m/z'], temp[temp['m/z window']=='500-600 m/z'], temp[temp['m/z window']=='400-600 m/z'], temp[temp['m/z window']=='200-1200 m/z']]),ps=5)\n",
    "\n",
    "plt.tight_layout()\n",
    "plt.show()\n",
    "plt.close('all')"
   ]
  },
  {
   "cell_type": "code",
   "execution_count": null,
   "metadata": {},
   "outputs": [],
   "source": [
    "mz100_bs = df_bs[(df_bs['m/z window'] == '400-500 m/z') | (df_bs['m/z window'] == '500-600 m/z')]\n",
    "\n",
    "mz200_bs = df_bs[(df_bs['m/z window'] == '400-600 m/z')]\n",
    "\n",
    "mzfull_bs = df_bs[(df_bs['m/z window'] == '200-1200 m/z')]\n",
    "mzfull_bs = mzfull_bs[(mzfull_bs['m/z']>=400) & (mzfull_bs['m/z']<= 600)]\n",
    "\n",
    "df = mz100_bs\n",
    "df2 = mz200_bs\n",
    "df3 = mzfull_bs\n",
    "fig, ax = plt.subplots()\n",
    "ax.scatter(x=df['N/C'],y=df['O/C'],c='C3',s=50,label='400-500 m/z\\n500-600 m/z')#,s=df['S/N']\n",
    "#sns.scatterplot(x='N/C',y='O/C', hue='m/z', data=df, ax=ax,s=50)\n",
    "ax.scatter(x=df2['N/C'],y=df2['O/C'],c='C0',s=5,label='400-600 m/z') #s=df2['S/N'],\n",
    "#ax.scatter(x=df3['N/C'],y=df3['O/C'],c='C5',label='200-1200 m/z') #s=df3['S/N']\n",
    "ax.set(xlabel='O/C',ylabel='N/C')\n",
    "#ax.set_xlim(0,1.2)\n",
    "#ax.set_ylim(0,0.5)\n",
    "ax.legend(frameon=False, bbox_to_anchor=(1.0,0.5), loc='center left')\n",
    "plt.title(r'Narrow window ($\\Delta$m/z 100) and mid window ($\\Delta$m/z 200)')\n",
    "plt.show()\n"
   ]
  },
  {
   "cell_type": "code",
   "execution_count": null,
   "metadata": {},
   "outputs": [],
   "source": [
    "mz100_bs = df_bs[(df_bs['m/z window'] == '400-500 m/z') | (df_bs['m/z window'] == '500-600 m/z')]\n",
    "\n",
    "mz200_bs = df_bs[(df_bs['m/z window'] == '400-600 m/z')]\n",
    "\n",
    "mzfull_bs = df_bs[(df_bs['m/z window'] == '200-1200 m/z')]\n",
    "mzfull_bs = mzfull_bs[(mzfull_bs['m/z']>=400) & (mzfull_bs['m/z']<= 600)]\n",
    "\n",
    "df = mz100_bs\n",
    "df2 = mz200_bs\n",
    "df3 = mzfull_bs\n",
    "fig, ax = plt.subplots()\n",
    "ax.scatter(x=df['N/C'],y=df['O/C'],c='C3',label='400-500 m/z\\n500-600 m/z')#,s=df['S/N']\n",
    "#ax.scatter(x=df2['N/C'],y=df2['O/C'],c='black',s=5,label='400-600 m/z') #s=df2['S/N'],\n",
    "ax.scatter(x=df3['N/C'],y=df3['O/C'],c='black',s=5,label='200-1200 m/z') #s=df3['S/N']\n",
    "ax.set(xlabel='O/C',ylabel='N/C')\n",
    "#ax.set_xlim(0,1.2)\n",
    "#ax.set_ylim(0,0.5)\n",
    "ax.legend(frameon=False, bbox_to_anchor=(1.0,0.5), loc='center left')\n",
    "plt.title(r'Narrow window ($\\Delta$m/z 100) and full window')\n",
    "plt.show()\n"
   ]
  },
  {
   "cell_type": "code",
   "execution_count": null,
   "metadata": {},
   "outputs": [],
   "source": [
    "mz100_contains_cu = mz100_bs[(mz100_bs['Cu'] == 1) ]\n",
    "print(np.shape(mz100_contains_cu))\n",
    "\n",
    "\n",
    "mz200_contains_cu = mz200_bs[(mz200_bs['Cu'] == 1) ]\n",
    "print(np.shape(mz200_contains_cu))\n",
    "\n",
    "\n",
    "mzfull_contains_cu = mzfull_bs[(mzfull_bs['Cu'] == 1)]\n",
    "print(np.shape(mzfull_contains_cu))\n",
    "\n"
   ]
  },
  {
   "cell_type": "code",
   "execution_count": null,
   "metadata": {},
   "outputs": [],
   "source": [
    "temp = temp[temp['Cu'] == 1]\n",
    "\n",
    "temp['overlap'] = temp.Index\n",
    "\n",
    "for i in range(len(temp['Molecular Formula'])):\n",
    "\n",
    "    mf = temp['Molecular Formula'].iloc[i]\n",
    "\n",
    "    if (mf not in mzfull_contains_cu['Molecular Formula'].values) and (mf not in mz200_contains_cu['Molecular Formula'].values):\n",
    "        temp['overlap'].iloc[i] = 'n'\n",
    "\n",
    "    elif (mf in mzfull_contains_cu['Molecular Formula'].values) and (mf not in mz200_contains_cu['Molecular Formula'].values):\n",
    "        \n",
    "        temp['overlap'].iloc[i] = 'nw'\n",
    "\n",
    "    elif (mf not in mzfull_contains_cu['Molecular Formula'].values) and (mf in mz200_contains_cu['Molecular Formula'].values):\n",
    "        \n",
    "        temp['overlap'].iloc[i] = 'nm'\n",
    "\n",
    "    elif (mf in mzfull_contains_cu['Molecular Formula'].values) and (mf in mz200_contains_cu['Molecular Formula'].values):\n",
    "        \n",
    "        temp['overlap'].iloc[i] = 'nmw'\n",
    "\n"
   ]
  },
  {
   "cell_type": "code",
   "execution_count": null,
   "metadata": {},
   "outputs": [],
   "source": [
    "sns.jointplot(data=temp, x='N/C',y='O/C', hue='overlap')"
   ]
  },
  {
   "cell_type": "code",
   "execution_count": null,
   "metadata": {},
   "outputs": [],
   "source": [
    "print(np.shape(mzfull_contains_cu))\n",
    "print(np.shape(mz100_contains_cu))\n",
    "\n",
    "combo_cu = pd.concat([mz100_contains_cu, mzfull_contains_cu])\n"
   ]
  },
  {
   "cell_type": "code",
   "execution_count": null,
   "metadata": {},
   "outputs": [],
   "source": [
    "\n",
    "combo_cu['m/z Window Size'] = combo_cu.Index\n",
    "\n",
    "for i in range(len(combo_cu['m/z window'])):\n",
    "\n",
    "    w = combo_cu['m/z window'].iloc[i]\n",
    "\n",
    "    if (w == '400-500 m/z') or (w == '500-600 m/z'):\n",
    "        \n",
    "        combo_cu['m/z Window Size'].iloc[i] = '100 m/z'\n",
    "\n",
    "    elif (w == '400-600 m/z'):\n",
    "        \n",
    "        combo_cu['m/z Window Size'].iloc[i] = '200 m/z'\n",
    "\n",
    "    elif (w == '200-1200 m/z'):\n",
    "        \n",
    "        combo_cu['m/z Window Size'].iloc[i] = '1000 m/z'\n",
    "\n",
    "combo_cu['m/z Window Size'].unique()"
   ]
  },
  {
   "cell_type": "code",
   "execution_count": null,
   "metadata": {},
   "outputs": [],
   "source": [
    "mz100_cu_limited_err.columns"
   ]
  },
  {
   "cell_type": "code",
   "execution_count": null,
   "metadata": {},
   "outputs": [],
   "source": [
    "import matplotlib.gridspec as gridspec\n",
    "\n",
    "#fig, (ax1_t,ax1_b, ax2) = plt.subplots(nrows=3, ncols=1, sharex = True, gridspec_kw={'hspace':0.02})\n",
    "plt.subplots_adjust(hspace=0.02)\n",
    "#make outer gridspec\n",
    "outer = gridspec.GridSpec(2, 1, height_ratios = [1, 1]) \n",
    "#make nested gridspecs\n",
    "gs2 = gridspec.GridSpecFromSubplotSpec(1, 1, subplot_spec = outer[1])\n",
    "gs1 = gridspec.GridSpecFromSubplotSpec(1, 1, subplot_spec = outer[0], hspace = .05)\n",
    "\n",
    "d1=lcmsfns.normMS(mz100_cu_limited_err,mz100_cu_limited_err)\n",
    "d2=lcmsfns.normMS(mzfull_cu_limited_err,mzfull_cu_limited_err)\n",
    "\n",
    "ax1_b = plt.subplot(gs1[0])\n",
    "ax1_b = lcmsfns.plot_ms(df1=d1,  df2=d2, start_mz=400, end_mz=600,ax_ms=ax1_b, norm=True)\n",
    "\n",
    "sns.despine(ax=ax1_b)\n",
    "\n",
    "ax1_b.set_ylim(bottom=0)\n",
    "\n",
    "\n",
    "\n",
    "\n",
    "\n",
    "ax2 = plt.subplot(gs2[0])\n",
    "\n",
    "sns.despine(ax=ax2)\n",
    "\n",
    "sns.histplot(combo_cu, x=\"Calibrated m/z\", hue=\"m/z Window Size\", multiple=\"stack\", ax=ax2)\n",
    "ax2.set_ylabel('Assigned Features (count)')\n",
    "ax2.set_xlim(400,600)\n",
    "legend = ax2.get_legend()\n",
    "handles = legend.legendHandles\n",
    "labels = ['100 m/z','1000 m/z']\n",
    "ax2.legend_.remove()\n",
    "\n",
    "fig = plt.gcf()\n",
    "\n",
    "fig.legend(handles, labels, bbox_to_anchor=(1.02, 0.5), loc='center left',frameon=False, borderaxespad=0, title = 'Window Size')\n",
    "\n",
    "plt.show()"
   ]
  },
  {
   "cell_type": "code",
   "execution_count": null,
   "metadata": {},
   "outputs": [],
   "source": [
    "combo = pd.concat([mz100_bs, mzfull_bs])\n",
    "\n",
    "combo['m/z Window Size'] = combo.Index\n",
    "\n",
    "for i in range(len(combo['m/z window'])):\n",
    "\n",
    "    w = combo['m/z window'].iloc[i]\n",
    "\n",
    "    if (w == '400-500 m/z') or (w == '500-600 m/z'):\n",
    "        \n",
    "        combo['m/z Window Size'].iloc[i] = '100 m/z'\n",
    "\n",
    "    elif (w == '400-600 m/z'):\n",
    "        \n",
    "        combo['m/z Window Size'].iloc[i] = '200 m/z'\n",
    "\n",
    "    elif (w == '200-1200 m/z'):\n",
    "        \n",
    "        combo['m/z Window Size'].iloc[i] = '1000 m/z'\n",
    "\n",
    "combo['m/z Window Size'].unique()\n",
    "\n",
    "combo_n = combo[combo['N']>=1]\n",
    "\n",
    "import matplotlib.gridspec as gridspec\n",
    "\n",
    "#fig, (ax1_t,ax1_b, ax2) = plt.subplots(nrows=3, ncols=1, sharex = True, gridspec_kw={'hspace':0.02})\n",
    "plt.subplots_adjust(hspace=0.3)\n",
    "#make outer gridspec\n",
    "outer = gridspec.GridSpec(2, 1, height_ratios = [1, 1]) \n",
    "#make nested gridspecs\n",
    "gs2 = gridspec.GridSpecFromSubplotSpec(1, 1, subplot_spec = outer[1])\n",
    "gs1 = gridspec.GridSpecFromSubplotSpec(1, 1, subplot_spec = outer[0])\n",
    "\n",
    "ax1 = plt.subplot(gs1[0])\n",
    "\n",
    "sns.histplot(combo, x=\"Calibrated m/z\", hue=\"m/z Window Size\", multiple=\"stack\", ax=ax1)\n",
    "ax1.set_ylabel('Assigned Features\\n(count)')\n",
    "ax1.legend_.remove()\n",
    "ax1.set_xlim(400,600)\n",
    "sns.despine(ax=ax1)\n",
    "\n",
    "\n",
    "\n",
    "\n",
    "\n",
    "ax2 = plt.subplot(gs2[0])\n",
    "\n",
    "sns.despine(ax=ax2)\n",
    "\n",
    "sns.histplot(combo_cu, x=\"Calibrated m/z\", hue=\"m/z Window Size\", multiple=\"stack\", ax=ax2)\n",
    "ax2.set_ylabel('Assigned Cu Features\\n(count)')\n",
    "ax2.set_xlim(400,600)\n",
    "legend = ax2.get_legend()\n",
    "handles = legend.legendHandles\n",
    "labels = ['100 m/z','1000 m/z']\n",
    "ax2.legend_.remove()\n",
    "\n",
    "fig = plt.gcf()\n",
    "\n",
    "fig.legend(handles, labels, bbox_to_anchor=(1.02, 0.5), loc='center left',frameon=False, borderaxespad=0, title = 'Window Size')\n",
    "\n",
    "plt.show()"
   ]
  },
  {
   "cell_type": "code",
   "execution_count": null,
   "metadata": {},
   "outputs": [],
   "source": [
    "\n",
    "print((np.shape(combo[combo['m/z Window Size']=='100 m/z'])[0] - np.shape(combo[combo['m/z Window Size']=='1000 m/z'])[0]) /  np.shape(combo[combo['m/z Window Size']=='1000 m/z'])[0])\n",
    "\n",
    "print((np.shape(combo_cu[combo_cu['m/z Window Size']=='100 m/z'])[0] - np.shape(combo_cu[combo_cu['m/z Window Size']=='1000 m/z'])[0]) / np.shape(combo_cu[combo_cu['m/z Window Size']=='1000 m/z'])[0])"
   ]
  },
  {
   "cell_type": "code",
   "execution_count": null,
   "metadata": {},
   "outputs": [],
   "source": [
    "#data.master_data_holder['20221103_LBA_Boiteau_Zorbax3p5_spring_400_500_rep2.raw'] #[file]={'parser': parser}\n",
    "mz100_cu_limited_err = mz100_contains_cu[abs(mz100_contains_cu['m/z Error (ppm)']) < 0.25]\n",
    "mz100_EICdic = {}\n",
    "for mz,file,mf in zip(mz100_cu_limited_err['m/z'],mz100_cu_limited_err['file'],mz100_cu_limited_err['Molecular Formula']):\n",
    "    \n",
    "    parser = data.master_data_holder[file]['parser']    \n",
    " \n",
    "    EIC=parser.get_eics(target_mzs=[mz],tic_data={},peak_detection=False,smooth=False)\n",
    "    mz100_EICdic[mf]=EIC[0][mz]\n",
    "    #mz100_EICdic[mz]={'eic':EIC[0][mz],'formula':mf}\n"
   ]
  },
  {
   "cell_type": "code",
   "execution_count": null,
   "metadata": {},
   "outputs": [],
   "source": [
    "mzfull_cu_limited_err = mzfull_contains_cu[abs(mzfull_contains_cu['m/z Error (ppm)']) < 0.25]\n",
    "fullmz_EICdic = {}\n",
    "for mz,file,mf in zip(mzfull_cu_limited_err['m/z'],mzfull_cu_limited_err['file'],mzfull_cu_limited_err['Molecular Formula']):\n",
    "    \n",
    "    parser = data.master_data_holder[file]['parser']\n",
    " \n",
    "    EIC=parser.get_eics(target_mzs=[mz],tic_data={},peak_detection=False,smooth=False)\n",
    "    fullmz_EICdic[mf]=EIC[0][mz]"
   ]
  },
  {
   "cell_type": "code",
   "execution_count": null,
   "metadata": {},
   "outputs": [],
   "source": [
    "from matplotlib.backends.backend_pdf import PdfPages\n",
    "\n",
    "icpms_file = '/Users/christiandewey/Library/CloudStorage/Box-Box/Boiteau Lab/Mass Spec Data/Keck iCAP Q/2022/2022-09/Tillamook, Sept 2022/spring_ENV.csv'\n",
    "icpms = pd.read_csv(icpms_file, sep=';',header=1)\n",
    "\n",
    "\n",
    "metals = ['63Cu', '115In']\n",
    "\n",
    "pdf = PdfPages('/Users/christiandewey/Library/CloudStorage/Box-Box/data/assignments/spring/eics_cu_100mz_fullmz-dec13.pdf')\n",
    "\n",
    "fig, ax = plt.subplots()\n",
    "\n",
    "maxicp = 0 \n",
    "for me in metals:\n",
    "    me_key = 'Time %s' %me\n",
    "    ax.plot(icpms[me_key]/60, icpms[me], label=me)        \n",
    "    \n",
    "\n",
    "\n",
    "\n",
    "#ax.set_ylim(0,maxicp*1.1)\n",
    "ax.set_title('Cu ICPMS Trace')\n",
    "ax.set_xlabel('Time (min)')\n",
    "ax.set_ylabel('ICPMS signal (cps)')\n",
    "ax.legend(bbox_to_anchor=(1.05,0.5),loc='center left',frameon =False)\n",
    "ax.set_xlim(2,30)\n",
    "fig.tight_layout()\n",
    "pdf.savefig()\n",
    "\n",
    "for mf in mz100_EICdic:   \n",
    "\n",
    "    fig, ax = plt.subplots()\n",
    "    \n",
    "    eict=mz100_EICdic[mf].time\n",
    "    eics=mz100_EICdic[mf].eic\n",
    "\n",
    "    inds = np.where(np.asarray(eict)<28)\n",
    "\n",
    "    eict = np.asarray(eict)[inds]\n",
    "    eics = np.asarray(eics)[inds]\n",
    "\n",
    "    ax.plot(eict, eics,color = 'red', label=r'$\\Delta$m/z 100 window')\n",
    "\n",
    "    if mf in fullmz_EICdic:\n",
    "        eic2t = fullmz_EICdic[mf].time\n",
    "        eic2s = fullmz_EICdic[mf].eic\n",
    "\n",
    "        eic2t = np.asarray(eic2t)[inds]\n",
    "        eic2s = np.asarray(eic2s)[inds]\n",
    "        ax.plot(eic2t,eic2s, color ='C0', label = 'full window')\n",
    "    ax.set_xlim(4,28)\n",
    "    ax.set_title(mf)\n",
    "    ax.legend(frameon = False,bbox_to_anchor=(1.05,0.5),loc='center left')\n",
    "    fig.tight_layout()\n",
    "    pdf.savefig()\n",
    "\n",
    "for mf in fullmz_EICdic:   \n",
    "\n",
    "    if mf not in mz100_EICdic:\n",
    "\n",
    "        fig, ax = plt.subplots()\n",
    "\n",
    "        eic2t = fullmz_EICdic[mf].time\n",
    "        eic2s = fullmz_EICdic[mf].eic\n",
    "\n",
    "        inds = np.where(np.asarray(eic2t)<28)\n",
    "\n",
    "        eic2t = np.asarray(eic2t)[inds]\n",
    "        eic2s = np.asarray(eic2s)[inds]\n",
    "        ax.plot(eic2t,eic2s, color ='C5', label = 'full window')\n",
    "\n",
    "        ax.set_xlim(4,28)\n",
    "        ax.set_title(mf)\n",
    "        ax.legend(frameon = False,bbox_to_anchor=(1.05,0.5),loc='center left')\n",
    "        fig.tight_layout()\n",
    "        pdf.savefig()\n",
    "\n",
    "pdf.close()"
   ]
  },
  {
   "cell_type": "code",
   "execution_count": null,
   "metadata": {},
   "outputs": [],
   "source": [
    "# C23 H32 O3 Cu\n",
    "\n",
    "sub = combo[combo['Molecular Formula'] == 'C23 H32 O3 Cu1']\n",
    "\n",
    "sub"
   ]
  },
  {
   "cell_type": "code",
   "execution_count": null,
   "metadata": {},
   "outputs": [],
   "source": [
    "for i in range(len(mz100_cu_limited_err.index)):\n",
    "\n",
    "    mf = mz100_cu_limited_err['Molecular Formula'].iloc[i]\n",
    "    \n",
    "    if mf in mzfull_cu_limited_err['Molecular Formula'].values:\n",
    "\n",
    "        print('\\n\\nNarrow m/z:')\n",
    "        print(mz100_cu_limited_err.iloc[i,:])\n",
    "\n",
    "        ind = mzfull_cu_limited_err[mzfull_cu_limited_err['Molecular Formula'] == mf].index \n",
    "        print('\\nFull m/z:')\n",
    "        print(mzfull_cu_limited_err.loc[ind].squeeze())\n",
    "\n",
    "\n"
   ]
  },
  {
   "cell_type": "code",
   "execution_count": null,
   "metadata": {},
   "outputs": [],
   "source": [
    "from matplotlib.backends.backend_pdf import PdfPages\n",
    "\n",
    "pdf = PdfPages('/Users/christiandewey/Library/CloudStorage/Box-Box/data/assignments/spring/eics_cu_100mz_fullmz-dec5.pdf')\n",
    "\n",
    "\n",
    "for mf in mz100_EICdic:   \n",
    "\n",
    "    fig, ax = plt.subplots()\n",
    "    \n",
    "    eict=mz100_EICdic[mf].time\n",
    "    eics=mz100_EICdic[mf].eic\n",
    "\n",
    "    inds = np.where(np.asarray(eict)<28)\n",
    "\n",
    "    eict = np.asarray(eict)[inds]\n",
    "    eics = np.asarray(eics)[inds]\n",
    "\n",
    "    ax.plot(eict, eics,color = 'red', label=r'$\\Delta$m/z 100 window')\n",
    "\n",
    "    if mf in fullmz_EICdic:\n",
    "        eic2t = fullmz_EICdic[mf].time\n",
    "        eic2s = fullmz_EICdic[mf].eic\n",
    "\n",
    "        eic2t = np.asarray(eic2t)[inds]\n",
    "        eic2s = np.asarray(eic2s)[inds]\n",
    "        ax.plot(eic2t,eic2s, color ='C0', label = 'full window')\n",
    "    ax.set_xlim(4,28)\n",
    "    ax.set_title(mf)\n",
    "    ax.legend(frameon = False,bbox_to_anchor=(1.05,0.5),loc='center left')\n",
    "    fig.tight_layout()\n",
    "    pdf.savefig()\n",
    "\n",
    "for mf in fullmz_EICdic:   \n",
    "\n",
    "    if mf not in mz100_EICdic:\n",
    "\n",
    "        fig, ax = plt.subplots()\n",
    "\n",
    "        eic2t = fullmz_EICdic[mf].time\n",
    "        eic2s = fullmz_EICdic[mf].eic\n",
    "\n",
    "        inds = np.where(np.asarray(eic2t)<28)\n",
    "\n",
    "        eic2t = np.asarray(eic2t)[inds]\n",
    "        eic2s = np.asarray(eic2s)[inds]\n",
    "        ax.plot(eic2t,eic2s, color ='C5', label = 'full window')\n",
    "\n",
    "        ax.set_xlim(4,28)\n",
    "        ax.set_title(mf)\n",
    "        ax.legend(frameon = False,bbox_to_anchor=(1.05,0.5),loc='center left')\n",
    "        fig.tight_layout()\n",
    "        pdf.savefig()\n",
    "\n",
    "pdf.close()"
   ]
  },
  {
   "cell_type": "code",
   "execution_count": null,
   "metadata": {},
   "outputs": [],
   "source": [
    "refs = pd.read_csv('/Users/christiandewey/CoreMS/tests/tests_data/ftms/nom_pos.ref')\n",
    "#r45 = refs[(refs['m/z value']>=400) & (refs['m/z value']<=500)]\n",
    "\n",
    "print(refs[' m/z value'])\n"
   ]
  },
  {
   "cell_type": "code",
   "execution_count": null,
   "metadata": {},
   "outputs": [],
   "source": []
  },
  {
   "cell_type": "code",
   "execution_count": null,
   "metadata": {},
   "outputs": [],
   "source": [
    "import math\n",
    "#assigned_100mz\n",
    "#assigned_200mz\n",
    "#assigned_fullmz[assigned_fullmz['13C'] == 1]\n",
    "test1 = []\n",
    "test2 = []\n",
    "for i in range(len(unique_fullmz[unique_fullmz['13C'] == 1].index)):\n",
    "    \n",
    "    r13c = unique_fullmz[unique_fullmz['13C'] == 1].iloc[i]\n",
    "    mf13c = r13c['Molecular Formula']\n",
    "    iso_sim = r13c['Isotopologue Similarity']\n",
    "    \n",
    "    mono_index = int(r13c['Mono Isotopic Index'])\n",
    "\n",
    "    r13c.fillna(0,inplace=True)\n",
    "    nC = int(r13c['C'])\n",
    "    n13C = int(r13c['13C'])\n",
    "    nH = int(r13c['H'])\n",
    "    nO = int(r13c['O'])\n",
    "    nN = int(r13c['N'])\n",
    "\n",
    "    if (nO > 0) and (~math.isnan(nO)):\n",
    "        mf_t = 'C%s H%s O%s' %((nC + n13C),nH,nO)\n",
    "    elif (nN > 0) and (~math.isnan(nN)):\n",
    "        mf_t = 'C%s H%s O%s N%s' %((nC + n13C),nH,nO, nN)\n",
    "    else:\n",
    "        mf_t = 'C%s H%s' %((nC + n13C),nH)\n",
    "\n",
    "   # print('\\n',mf_t)\n",
    "    if mf_t in unique_fullmz['Molecular Formula']:\n",
    "        print('yyy')\n",
    "        print(unique_fullmz[unique_fullmz['Molecular Formula'] == mf_t])\n",
    "    #mf12c = unique_fullmz[unique_fullmz['Isotopologue Similarity']==iso_sim]['Molecular Formula']\n",
    "\n",
    "    #temp2 = mf12c.values\n",
    "    #print('\\ntemp2')\n",
    "    #print(temp2)\n",
    "    #for i in range(len(temp2)):\n",
    "    #    test2.append(temp2[i])\n",
    "\n",
    "    mf12c_in = unique_fullmz[unique_fullmz['Index']==mono_index]\n",
    "    best_match = mf12c_in[mf12c_in['Isotopologue Similarity']==iso_sim]['Molecular Formula']\n",
    "\n",
    "    temp=best_match.values\n",
    "    print('temp')\n",
    "    print(mf13c,mono_index,temp)\n",
    "    for i in range(len(temp)):\n",
    "        test1.append(temp[i])\n",
    "\n",
    "\n",
    "#print('\\n', mf13c,'\\n',best_match)\n",
    "\n",
    "print(len(test1))"
   ]
  },
  {
   "cell_type": "code",
   "execution_count": null,
   "metadata": {},
   "outputs": [],
   "source": [
    "mono_indices = []\n",
    "iso_indices = []\n",
    "for i in unique_fullmz[unique_fullmz['13C'] == 1].index:\n",
    "\n",
    "    r13c = unique_fullmz.loc[i]\n",
    "\n",
    "    mf13c = r13c['Molecular Formula']\n",
    "    iso_sim = r13c['Isotopologue Similarity']    \n",
    "    mono_index = int(r13c['Mono Isotopic Index'])\n",
    "\n",
    "    mf12c_in = unique_fullmz[unique_fullmz['Index']==mono_index]\n",
    "    best_match = mf12c_in[mf12c_in['Isotopologue Similarity']==iso_sim].index\n",
    "\n",
    "    if len(best_match.values) > 0:\n",
    "        \n",
    "        mono_indices.append(best_match.values[0])\n",
    "\n",
    "        iso_indices.append(i)\n",
    "\n",
    "print(len(mono_indices),len(iso_indices))"
   ]
  },
  {
   "cell_type": "code",
   "execution_count": null,
   "metadata": {},
   "outputs": [],
   "source": [
    "df = assigned_fullmz[assigned_fullmz['file'] == '20221103_LBA_Boiteau_Zorbax3p5_spring_fullmz.raw']\n",
    "df = assigned_100mz_456[assigned_fullmz['file'] == '20221103_LBA_Boiteau_Zorbax3p5_spring_fullmz.raw']\n",
    "\n",
    "intensity_v_ratio = []\n",
    "\n",
    "for t in df['Time'].unique():\n",
    "\n",
    "    print(t)\n",
    "\n",
    "    time_sub = df[df['Time'] == t]\n",
    "\n",
    "    time_sub['13C'].fillna(0)\n",
    "   # print(time_sub['Index'])\n",
    "    if 1.0 in time_sub['13C'].values:\n",
    "\n",
    "        for i in time_sub[time_sub['13C'] == 1].index:\n",
    "\n",
    "            iso_row = time_sub.loc[i]\n",
    "\n",
    "            #print(iso_row)\n",
    "\n",
    "            mf_13C = iso_row['Molecular Formula']\n",
    "            mono_index = int(iso_row['Mono Isotopic Index'])\n",
    "            mf_12C = time_sub[time_sub['Index']==mono_index]['Molecular Formula']\n",
    "            nC =  time_sub[time_sub['Index']==mono_index]['C'].iloc[0]\n",
    "            #print(mf_13C, mono_index, mf_12C)\n",
    "\n",
    "            int_13C = iso_row['Peak Height']\n",
    "            mz_13C = iso_row['Calibrated m/z']\n",
    "            int_12C =  time_sub[time_sub['Index']==mono_index]['Peak Height'].iloc[0]\n",
    "            mz_12C =  time_sub[time_sub['Index']==mono_index]['Calibrated m/z'].iloc[0]\n",
    "            print(int_12C, int_13C, nC, mz_12C, mz_13C)\n",
    "            intensity_v_ratio.append([int_12C, int_13C, nC, mz_12C, mz_13C])\n",
    "\n",
    "\n",
    "\n",
    "\n",
    "\n"
   ]
  },
  {
   "cell_type": "code",
   "execution_count": null,
   "metadata": {},
   "outputs": [],
   "source": [
    "df = np.asarray(intensity_v_ratio)\n",
    "np.shape(df)\n",
    "df1 = df #[df[:,0]<1e5]\n",
    "\n",
    "pddf = pd.DataFrame(df1,columns=['12C Intensity','13C Intensity','nC', 'm/z 12C', 'm/z 13C'])\n"
   ]
  },
  {
   "cell_type": "code",
   "execution_count": null,
   "metadata": {},
   "outputs": [],
   "source": [
    "import scipy\n",
    "\n",
    "df1 = df[df[:,0]<1e5]\n",
    "logx = np.log10(df1[:,0])\n",
    "logy = np.log10(df1[:,2])\n",
    "\n",
    "logyerr = np.std(df1[:,1]) / df1[:,2]\n",
    "\n",
    "# define our (line) fitting function\n",
    "fitfunc = lambda p, x: p[0] + p[1] * x\n",
    "errfunc = lambda p, x, y, err: (y - fitfunc(p, x)) / err\n",
    "\n",
    "pinit = [1.0, -1.0]\n",
    "out = scipy.optimize.leastsq(errfunc, pinit,\n",
    "                       args=(logx, logy, logyerr), full_output=1)\n",
    "\n",
    "pfinal = out[0]\n",
    "covar = out[1]\n",
    "print(pfinal)\n",
    "print(covar)\n",
    "\n",
    "index = pfinal[1]\n",
    "amp = 10.0**pfinal[0]\n",
    "\n",
    "indexErr = np.sqrt( covar[1][1] )\n",
    "ampErr = np.sqrt( covar[0][0] ) * amp"
   ]
  },
  {
   "cell_type": "code",
   "execution_count": null,
   "metadata": {},
   "outputs": [],
   "source": [
    "from scipy.optimize import curve_fit\n",
    "from scipy.optimize import differential_evolution\n",
    "import warnings\n",
    "\n",
    "nn = 1e4\n",
    "df1 = df[df[:,0]<nn]\n",
    "\n",
    "xData = df1[:,0]\n",
    "yData = df1[:,1]\n",
    "\n",
    "xmin = min(xData)\n",
    "print(xmin)\n",
    "def func(x, a,  b, c, d): # Sigmoid A With Offset from zunzun.com\n",
    "    #return a*(x-d)**3 + b*(x-d)**2 + c*x \n",
    "    return a*np.exp(b/((x-800)))\n",
    "    return a*(x-d)**5 + b*(x-d)**2 + c*(x-d)\n",
    "\n",
    "def func2(x, a,  b, c, d): # Sigmoid A With Offset from zunzun.com\n",
    "    #return a*(x-d)**3 + b*(x-d)**2 + c*x \n",
    "    return a*np.exp((b-x)/((x)))\n",
    "    return a*(x-d)**5 + b*(x-d)**2 + c*(x-d)\n",
    "\n",
    "# function for genetic algorithm to minimize (sum of squared error)\n",
    "def sumOfSquaredError(parameterTuple):\n",
    "    warnings.filterwarnings(\"ignore\") # do not print warnings by genetic algorithm\n",
    "    val = func(xData, *parameterTuple)\n",
    "    return np.sum((yData - val) ** 2.0)\n",
    "\n",
    "\n",
    "\n",
    "# curve fit the test data\n",
    "fittedParameters, pcov = curve_fit(func, xData, yData)\n",
    "fittedParameters2, pcov2 = curve_fit(func2, xData, yData)\n",
    "\n",
    "print('Parameters', fittedParameters)\n",
    "\n",
    "modelPredictions = func(xData, *fittedParameters) \n",
    "\n",
    "absError = modelPredictions - yData\n",
    "\n",
    "SE = np.square(absError) # squared errors\n",
    "MSE = np.mean(SE) # mean squared errors\n",
    "RMSE = np.sqrt(MSE) # Root Mean Squared Error, RMSE\n",
    "Rsquared = 1.0 - (np.var(absError) / np.var(yData))\n",
    "print('RMSE:', RMSE)\n",
    "print('R-squared:', Rsquared)\n",
    "\n",
    "\n",
    "\n",
    "##########################################################\n",
    "# graphics output section\n",
    "def ModelAndScatterPlot(graphWidth, graphHeight):\n",
    "    f = plt.figure(figsize=(graphWidth/100.0, graphHeight/100.0), dpi=100)\n",
    "    axes = f.add_subplot(111)\n",
    "\n",
    "    # first the raw data as a scatter plot\n",
    "    axes.plot(df[:,0], df[:,1],  'D')\n",
    "\n",
    "    # create data for the fitted equation plot\n",
    "    xModel = np.linspace(1000, nn, int(1e6))\n",
    "    yModel = func(xModel, *fittedParameters)\n",
    "\n",
    "    xModel2 = np.linspace(1000, nn, int(1e6))\n",
    "    yModel2 = func2(xModel2, *fittedParameters2)\n",
    "    # now the model as a line plot \n",
    "    axes.plot(xModel, yModel)\n",
    "\n",
    "    axes.plot(xModel2, yModel2, color ='red')\n",
    "\n",
    "    axes.set_xlim(0,1.1*nn)\n",
    "    axes.set_ylim(0,1)\n",
    "\n",
    "    axes.set_xlabel('X Data') # X axis data label\n",
    "    axes.set_ylabel('Y Data') # Y axis data label\n",
    "\n",
    "    plt.show()\n",
    "    plt.close('all') # clean up after using pyplot\n",
    "\n",
    "graphWidth = 800\n",
    "graphHeight = 600\n",
    "ModelAndScatterPlot(graphWidth, graphHeight)"
   ]
  },
  {
   "cell_type": "code",
   "execution_count": null,
   "metadata": {},
   "outputs": [],
   "source": [
    "\n",
    "\n",
    "fig, ax = plt.subplots()\n",
    "\n",
    "ax.scatter(pddf['12C Intensity'], pddf['12C Intensity']/pddf['13C Intensity']/pddf['nC'])\n",
    "\n",
    "#ax.errorbar(df1[:,0], df1[:,1], yerr=np.std(df1[:,1]), fmt='k.')  # Data\n",
    "\n",
    "ax.set_ylim(0,1)\n",
    "\n",
    "ax.set_xlim(0,1.1e4)\n",
    "plt.show()"
   ]
  },
  {
   "cell_type": "code",
   "execution_count": null,
   "metadata": {},
   "outputs": [],
   "source": [
    "\n",
    "\n",
    "xx = np.linspace(1, int(5e5), int(1e4))\n",
    "yy = np.linspace(1, int(5e5), int(1e4))\n",
    "\n",
    "\n",
    "fig, ax = plt.subplots()\n",
    "\n",
    "#ax.scatter((pddf['nC']*1.1/100*pddf['12C Intensity']),(pddf['13C Intensity']-(pddf['nC']*1.1/100*pddf['12C Intensity']))/(pddf['nC']*1.1/100*pddf['12C Intensity']))\n",
    "ax.scatter((pddf['nC']*1.1/100*pddf['12C Intensity']),pddf['13C Intensity'])\n",
    "#ax.scatter((pddf['nC']*pddf['12C Intensity']),pddf['13C Intensity'])\n",
    "\n",
    "ax.scatter(xx, yy, color='orange',s=1)\n",
    "\n",
    "ax.set_xlim(0,10e4)\n",
    "ax.set_ylim(0,10e4)\n",
    "ax.plot\n",
    "\n",
    "plt.show()"
   ]
  },
  {
   "cell_type": "code",
   "execution_count": null,
   "metadata": {},
   "outputs": [],
   "source": [
    "def func2(x, a,  b, c): # Sigmoid A With Offset from zunzun.com\n",
    "    return 1 - b/((x)**0.5)\n",
    "\n",
    "\n",
    "yy = (pddf['nC']*1.07/100*pddf['12C Intensity'])\n",
    "xx = pddf['12C Intensity']\n",
    "\n",
    "fittedParameters2, pcov2 = curve_fit(func2, xx,  pddf['13C Intensity']/yy)\n",
    "\n",
    "print(fittedParameters2)\n",
    "fig, ax = plt.subplots()\n",
    "\n",
    "ax.scatter(pddf['12C Intensity'], pddf['13C Intensity']/yy,s=1)\n",
    "\n",
    "\n",
    "xModel2 = np.linspace(1000, 1e6, int(1e6))\n",
    "yModel2 = func2(xModel2, *fittedParameters2)\n",
    "# now the model as a line plot \n",
    "ax.plot(xModel2, yModel2)\n",
    "\n",
    "ax.plot(xModel2, yModel2, color ='red')\n",
    "\n",
    "ax.set_xlim(0,0.5e6)\n",
    "ax.set_ylim(0,1.05)\n",
    "\n",
    "xlabels = ['{:,.0f}'.format(x) for x in ax.get_xticks()/1000]\n",
    "ax.set_xticklabels(xlabels)\n",
    "\n",
    "ax.set_xlabel(r'Intensity $^{12}$C$_{M}$' + ' (1000s cps)') #'Monoisotopic intensity (1000s cps)')\n",
    "ax.set_ylabel(r'Intensity $^{13}$C$_{M}$ / Intensity $^{13}$C$_{T}$')\n",
    "#ax.set_ylabel(r'$\\frac{{{%s}}}{%s}$' %(nom,den))\n",
    "\n",
    "plt.show()"
   ]
  },
  {
   "cell_type": "code",
   "execution_count": null,
   "metadata": {},
   "outputs": [],
   "source": [
    "df_cu = mz100_contains_cu\n",
    "df_cu['13C'] = df_cu['13C'].fillna(0)\n",
    "df_cu_mono = df_cu[df_cu['13C']==0]\n",
    "\n",
    "print(np.shape(df_cu))\n",
    "print(np.shape(df_cu_mono))\n",
    "\n",
    "df_cu_mono['Theoretical 65Cu Peak Height'] = df_cu_mono['Peak Height']*.3083\n",
    "\n",
    "#69.17 and 30.83% 63Cu 65Cu\n",
    "\n",
    "for i, j in zip(df_cu_mono['Peak Height'], df_cu_mono['Theoretical 65Cu Peak Height']):\n",
    "    iso_ph = df_cu_mono['C'].iloc[0]*1.1/100*i\n",
    "    print(i,j, iso_ph)\n",
    "\n"
   ]
  }
 ],
 "metadata": {
  "kernelspec": {
   "display_name": "Python 3.8.15 ('env': venv)",
   "language": "python",
   "name": "python3"
  },
  "language_info": {
   "codemirror_mode": {
    "name": "ipython",
    "version": 3
   },
   "file_extension": ".py",
   "mimetype": "text/x-python",
   "name": "python",
   "nbconvert_exporter": "python",
   "pygments_lexer": "ipython3",
   "version": "3.8.13 (default, Aug 25 2022, 17:45:12) \n[Clang 13.1.6 (clang-1316.0.21.2.5)]"
  },
  "orig_nbformat": 4,
  "vscode": {
   "interpreter": {
    "hash": "4a89ef0f0087d043516959840435a1ba2fc11671454c58b55cd65c8c9ca3f627"
   }
  }
 },
 "nbformat": 4,
 "nbformat_minor": 2
}
