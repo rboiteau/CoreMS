{
 "cells": [
  {
   "cell_type": "code",
   "execution_count": 1,
   "metadata": {},
   "outputs": [],
   "source": [
    "import warnings\n",
    "warnings.filterwarnings(\"ignore\")"
   ]
  },
  {
   "cell_type": "code",
   "execution_count": 2,
   "metadata": {},
   "outputs": [],
   "source": [
    "import sys\n",
    "from pathlib import Path\n",
    "\n",
    "from PySide2.QtWidgets import QFileDialog, QApplication\n",
    "from PySide2.QtCore import Qt\n",
    "\n",
    "from corems.mass_spectrum.input.massList import ReadMassList\n",
    "from corems.molecular_id.search.priorityAssignment import OxygenPriorityAssignment\n"
   ]
  },
  {
   "cell_type": "markdown",
   "metadata": {},
   "source": [
    "### Get the full path of the file using Pyside2 \n",
    "Install Pyside2 separately. It is not a requirement from CoreMS, therefore you need to install it using:\n",
    "- pip install PySide2, or\n",
    "- pip3 install PySide2, or\n",
    "- python -m install PySide2"
   ]
  },
  {
   "cell_type": "code",
   "execution_count": 3,
   "metadata": {},
   "outputs": [],
   "source": [
    "app = QApplication(sys.argv)"
   ]
  },
  {
   "cell_type": "code",
   "execution_count": 4,
   "metadata": {},
   "outputs": [],
   "source": [
    "file_dialog = QFileDialog()\n",
    "file_dialog.setWindowFlags(Qt.WindowStaysOnTopHint)\n",
    "\n",
    "file_location = file_dialog.getOpenFileName()[0]\n",
    "app.quit()"
   ]
  },
  {
   "cell_type": "markdown",
   "metadata": {},
   "source": [
    "### Load the mass spectrum data from a text mass list in centroid mode (default behaviour)"
   ]
  },
  {
   "cell_type": "code",
   "execution_count": 5,
   "metadata": {},
   "outputs": [
    {
     "name": "stdout",
     "output_type": "stream",
     "text": [
      "<corems.mass_spectrum.factory.MassSpectrumClasses.MassSpecCentroid object at 0x0000021BF340E948>\n"
     ]
    }
   ],
   "source": [
    "mass_spectrum = ReadMassList(file_location).get_mass_spectrum(polarity=-1)\n",
    "print(mass_spectrum)"
   ]
  },
  {
   "cell_type": "markdown",
   "metadata": {},
   "source": [
    "### Mass error settings"
   ]
  },
  {
   "cell_type": "code",
   "execution_count": 6,
   "metadata": {},
   "outputs": [],
   "source": [
    "mass_spectrum.molecular_search_settings.error_method = 'None'\n",
    "mass_spectrum.molecular_search_settings.min_mz_error = -1\n",
    "mass_spectrum.molecular_search_settings.max_mz_error = 1"
   ]
  },
  {
   "cell_type": "markdown",
   "metadata": {},
   "source": [
    "## Oxygen prioritization approach\n",
    "The oxygen priority assignment algorithm automatically finds the best oxygen series across a broad m/z range (for each m/z 14 Da) and use this series as the reference for a top-down priority assignment. \n",
    "The steps are: \n",
    "1. Sets Kendrick base to C1H2O1\n",
    "2. Kendrick filter using DBSCAN\n",
    "3. Identify the most abundant peak \n",
    "4. Search for molecular formulae candidates for classes Oo, then OoSs, OoNn, \n",
    "5. Stop the search on the first candidate found, or store all then select the best candidate based on mass error, or another metric \n",
    "6. \"Walks\" in 14 Da increments in ascending and descending m/z order, pick the most abundant peak, and repeat steps 3, 4, and 5.\n",
    "7. Sort identified serie by the reverse order for peak height\n",
    "8. Use heteroatom class order for an assignment of all peaks\n",
    "9. Look for non-oxygen classes, i.e Nn, NnOo\n"
   ]
  },
  {
   "cell_type": "code",
   "execution_count": 7,
   "metadata": {},
   "outputs": [],
   "source": [
    "mass_spectrum.molecular_search_settings.usedAtoms['C'] = (1,90)\n",
    "mass_spectrum.molecular_search_settings.usedAtoms['H'] = (4,200)\n",
    "mass_spectrum.molecular_search_settings.usedAtoms['O'] = (0,20)\n",
    "mass_spectrum.molecular_search_settings.usedAtoms['N'] = (0,0)\n",
    "mass_spectrum.molecular_search_settings.usedAtoms['S'] = (0,0)\n",
    "mass_spectrum.molecular_search_settings.usedAtoms['Cl'] = (0,1)\n",
    "\n",
    "mass_spectrum.molecular_search_settings.isProtonated = True\n",
    "mass_spectrum.molecular_search_settings.isRadical= False\n",
    "mass_spectrum.molecular_search_settings.isAdduct = True"
   ]
  },
  {
   "cell_type": "code",
   "execution_count": 8,
   "metadata": {},
   "outputs": [
    {
     "name": "stdout",
     "output_type": "stream",
     "text": [
      "Started Find Oxygen Peaks series\n",
      "Estimated number of clusters: 9\n",
      "Estimated number of noise points: 180\n",
      "199097933.52905455 1147469824.0\n",
      "min_mz 144.86974130000002\n",
      "max_mz 680.3056276000001\n",
      "Finished Find Oxygen Peaks series\n"
     ]
    },
    {
     "ename": "TypeError",
     "evalue": "sort_by_abundance() got an unexpected keyword argument 'reverse'",
     "output_type": "error",
     "traceback": [
      "\u001b[1;31m---------------------------------------------------------------------------\u001b[0m",
      "\u001b[1;31mTypeError\u001b[0m                                 Traceback (most recent call last)",
      "\u001b[1;32m<ipython-input-8-812492f0c544>\u001b[0m in \u001b[0;36m<module>\u001b[1;34m\u001b[0m\n\u001b[1;32m----> 1\u001b[1;33m \u001b[0massignOx\u001b[0m \u001b[1;33m=\u001b[0m \u001b[0mOxygenPriorityAssignment\u001b[0m\u001b[1;33m(\u001b[0m\u001b[0mmass_spectrum\u001b[0m\u001b[1;33m)\u001b[0m\u001b[1;33m.\u001b[0m\u001b[0mrun\u001b[0m\u001b[1;33m(\u001b[0m\u001b[1;33m)\u001b[0m\u001b[1;33m\u001b[0m\u001b[1;33m\u001b[0m\u001b[0m\n\u001b[0m",
      "\u001b[1;32m~\\Desenvolvimento\\Projects-Python\\CoreMS\\corems\\molecular_id\\search\\priorityAssignment.py\u001b[0m in \u001b[0;36mrun\u001b[1;34m(self)\u001b[0m\n\u001b[0;32m     33\u001b[0m \u001b[1;33m\u001b[0m\u001b[0m\n\u001b[0;32m     34\u001b[0m \u001b[1;33m\u001b[0m\u001b[0m\n\u001b[1;32m---> 35\u001b[1;33m         \u001b[0massign_classes_order_str_dict_tuple_list\u001b[0m \u001b[1;33m=\u001b[0m \u001b[0mself\u001b[0m\u001b[1;33m.\u001b[0m\u001b[0mcreate_data_base\u001b[0m\u001b[1;33m(\u001b[0m\u001b[1;33m)\u001b[0m\u001b[1;33m\u001b[0m\u001b[1;33m\u001b[0m\u001b[0m\n\u001b[0m\u001b[0;32m     36\u001b[0m \u001b[1;33m\u001b[0m\u001b[0m\n\u001b[0;32m     37\u001b[0m         \u001b[1;32mif\u001b[0m \u001b[0massign_classes_order_str_dict_tuple_list\u001b[0m\u001b[1;33m:\u001b[0m\u001b[1;33m\u001b[0m\u001b[1;33m\u001b[0m\u001b[0m\n",
      "\u001b[1;32m~\\Desenvolvimento\\Projects-Python\\CoreMS\\corems\\molecular_id\\search\\priorityAssignment.py\u001b[0m in \u001b[0;36mcreate_data_base\u001b[1;34m(self)\u001b[0m\n\u001b[0;32m     86\u001b[0m \u001b[1;33m\u001b[0m\u001b[0m\n\u001b[0;32m     87\u001b[0m         \u001b[1;31m#get the Ox class and the DBE for the lowest error molecular formula candidate\u001b[0m\u001b[1;33m\u001b[0m\u001b[1;33m\u001b[0m\u001b[1;33m\u001b[0m\u001b[0m\n\u001b[1;32m---> 88\u001b[1;33m         \u001b[0mdict_ox_class_and_ms_peak\u001b[0m \u001b[1;33m=\u001b[0m \u001b[0mself\u001b[0m\u001b[1;33m.\u001b[0m\u001b[0mox_classes_and_peaks_in_order_\u001b[0m\u001b[1;33m(\u001b[0m\u001b[1;33m)\u001b[0m\u001b[1;33m\u001b[0m\u001b[1;33m\u001b[0m\u001b[0m\n\u001b[0m\u001b[0;32m     89\u001b[0m \u001b[1;33m\u001b[0m\u001b[0m\n\u001b[0;32m     90\u001b[0m         \u001b[1;31m# sort the classes by abundance\u001b[0m\u001b[1;33m\u001b[0m\u001b[1;33m\u001b[0m\u001b[1;33m\u001b[0m\u001b[0m\n",
      "\u001b[1;32m~\\Desenvolvimento\\Projects-Python\\CoreMS\\corems\\molecular_id\\search\\priorityAssignment.py\u001b[0m in \u001b[0;36mox_classes_and_peaks_in_order_\u001b[1;34m(self)\u001b[0m\n\u001b[0;32m    241\u001b[0m         \u001b[0mdict_ox_class_and_ms_peak\u001b[0m \u001b[1;33m=\u001b[0m \u001b[0mdict\u001b[0m\u001b[1;33m(\u001b[0m\u001b[1;33m)\u001b[0m\u001b[1;33m\u001b[0m\u001b[1;33m\u001b[0m\u001b[0m\n\u001b[0;32m    242\u001b[0m \u001b[1;33m\u001b[0m\u001b[0m\n\u001b[1;32m--> 243\u001b[1;33m         \u001b[1;32mfor\u001b[0m \u001b[0mmspeak\u001b[0m \u001b[1;32min\u001b[0m \u001b[0mself\u001b[0m\u001b[1;33m.\u001b[0m\u001b[0mmass_spectrum_obj\u001b[0m\u001b[1;33m.\u001b[0m\u001b[0msort_by_abundance\u001b[0m\u001b[1;33m(\u001b[0m\u001b[0mreverse\u001b[0m\u001b[1;33m=\u001b[0m\u001b[1;32mTrue\u001b[0m\u001b[1;33m)\u001b[0m\u001b[1;33m:\u001b[0m\u001b[1;33m\u001b[0m\u001b[1;33m\u001b[0m\u001b[0m\n\u001b[0m\u001b[0;32m    244\u001b[0m \u001b[1;33m\u001b[0m\u001b[0m\n\u001b[0;32m    245\u001b[0m             \u001b[1;31m#change this filter to cia filter, give more option here, confidence, number of isotopologue found etc\u001b[0m\u001b[1;33m\u001b[0m\u001b[1;33m\u001b[0m\u001b[1;33m\u001b[0m\u001b[0m\n",
      "\u001b[1;31mTypeError\u001b[0m: sort_by_abundance() got an unexpected keyword argument 'reverse'"
     ]
    }
   ],
   "source": [
    "OxygenPriorityAssignment(mass_spectrum).run()\n"
   ]
  },
  {
   "cell_type": "markdown",
   "metadata": {},
   "source": [
    "### Export data to CSV \n",
    "No need to change the filename suffix, the function \"to_csv()\" convert the suffix to .csv automatically"
   ]
  },
  {
   "cell_type": "code",
   "execution_count": 14,
   "metadata": {},
   "outputs": [
    {
     "name": "stdout",
     "output_type": "stream",
     "text": [
      "C:/Users/eber373/Desktop/Data/Fendorf_DISHR_15_14_A_19_Rep1_14Nov19_AlderInf_IATp1_1_01_49979_Oxygen_Priority_Lowest_Error_no_N\n"
     ]
    }
   ],
   "source": [
    "output_file = file_location.split(\".txt\")[0]\n",
    "\n",
    "output_file = output_file + \"_Oxygen_Priority_Lowest_Error_no_N\"\n",
    "\n",
    "print(output_file)\n",
    "\n",
    "mass_spectrum.to_csv(output_file)"
   ]
  },
  {
   "cell_type": "code",
   "execution_count": null,
   "metadata": {},
   "outputs": [],
   "source": []
  }
 ],
 "metadata": {
  "kernelspec": {
   "display_name": "Python 3",
   "language": "python",
   "name": "python3"
  },
  "language_info": {
   "codemirror_mode": {
    "name": "ipython",
    "version": 3
   },
   "file_extension": ".py",
   "mimetype": "text/x-python",
   "name": "python",
   "nbconvert_exporter": "python",
   "pygments_lexer": "ipython3",
   "version": "3.7.4"
  }
 },
 "nbformat": 4,
 "nbformat_minor": 2
}
