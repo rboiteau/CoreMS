{
 "cells": [
  {
   "cell_type": "markdown",
   "metadata": {},
   "source": [
    "# CoreMS Tutorial\n",
    "`CoreMS` framework for mass spectrum"
   ]
  },
  {
   "cell_type": "markdown",
   "metadata": {},
   "source": [
    "### 1. Create the reader object"
   ]
  },
  {
   "cell_type": "code",
   "execution_count": null,
   "metadata": {},
   "outputs": [],
   "source": [
    "from pathlib import Path\n",
    "from corems.mass_spectrum.input.massList import ReadMassList\n",
    "from corems.transient.input.BrukerSolarix import ReadBrukerSolarix\n",
    "\n",
    "file_location = Path.cwd() / \"ESI_NEG_SRFA.d\"\n",
    "\n",
    "reader_obj = ReadBrukerSolarix(file_location)\n",
    "\n",
    "bruker_transient = reader_obj.get_transient()\n",
    "\n",
    "#reader_obj = ReadMassList(file_location, isCentroid=True)\n",
    "#reader_obj = ReadMassList(file_location)\n",
    "#reader_obj = ReadMassList(file_location)\n",
    "#reader_obj = ReadHDF_BoosterMassSpectrum(file_location, polarity)\n",
    "reader_obj.file_location"
   ]
  },
  {
   "cell_type": "markdown",
   "metadata": {},
   "source": [
    "### 2. Create the mass spectrum object\n"
   ]
  },
  {
   "cell_type": "code",
   "execution_count": null,
   "metadata": {},
   "outputs": [],
   "source": [
    "mass_spectrum = bruker_transient.get_mass_spectrum(plot_result=False, auto_process=True)\n",
    "mass_spectrum.mz_exp, mass_spectrum.abundance\n"
   ]
  },
  {
   "cell_type": "markdown",
   "metadata": {},
   "source": [
    "### 3. Access mass spectrum peak objects"
   ]
  },
  {
   "cell_type": "code",
   "execution_count": null,
   "metadata": {},
   "outputs": [],
   "source": [
    "kb = {'C': 1, 'H': 2}\n",
    "\n",
    "for mspeak in mass_spectrum.sort_by_abundance():\n",
    "    \n",
    "    print(mspeak.mz_exp, mspeak.abundance, mspeak.resolving_power, \n",
    "          mspeak.signal_to_noise, mspeak.kmd, mspeak.is_assigned)\n",
    "    \n",
    "    mspeak.change_kendrick_base(kb)\n",
    "\n"
   ]
  },
  {
   "cell_type": "markdown",
   "metadata": {},
   "source": [
    "### 4. Mass spectrum calibration"
   ]
  },
  {
   "cell_type": "code",
   "execution_count": null,
   "metadata": {},
   "outputs": [],
   "source": [
    "from corems.molecular_id.search.findOxigenPeaks import FindOxygenPeaks\n",
    "from corems.mass_spectrum.calc.CalibrationCalc import FreqDomain_Calibration\n",
    "\n",
    "mass_spectrum.molecular_search_settings.error_method = 'None'\n",
    "mass_spectrum.molecular_search_settings.min_mz_error = -5\n",
    "mass_spectrum.molecular_search_settings.max_mz_error = 5\n",
    "mass_spectrum.molecular_search_settings.mz_error_range = 1\n",
    "\n",
    "mass_spectrum.molecular_search_settings.usedAtoms['C'] = (1,90)\n",
    "mass_spectrum.molecular_search_settings.usedAtoms['H'] = (4,200)\n",
    "mass_spectrum.molecular_search_settings.usedAtoms['O'] = (0,20)\n",
    "mass_spectrum.molecular_search_settings.usedAtoms['N'] = (0,0)\n",
    "mass_spectrum.molecular_search_settings.usedAtoms['S'] = (0,0)\n",
    "\n",
    "\n",
    "find_formula_thread = FindOxygenPeaks(mass_spectrum)\n",
    "find_formula_thread.start()\n",
    "find_formula_thread.join()\n",
    "\n",
    "mspeaks_results = find_formula_thread.get_list_found_peaks()\n",
    "    \n",
    "calibrate = FreqDomain_Calibration(mass_spectrum, mspeaks_results)\n",
    "calibrate.ledford_calibration()\n",
    "#calibrate.step_fit()\n",
    "mass_spectrum.clear_molecular_formulas()\n"
   ]
  },
  {
   "cell_type": "markdown",
   "metadata": {},
   "source": [
    "### 5. Molecular formula search"
   ]
  },
  {
   "cell_type": "code",
   "execution_count": null,
   "metadata": {},
   "outputs": [],
   "source": [
    "from corems.molecular_id.calc.ClusterFilter import ClusteringFilter\n",
    "from corems.molecular_id.search.molecularFormulaSearch import SearchMolecularFormulas\n",
    "\n",
    "#ClusteringFilter().filter_kendrick(mass_spectrum)\n",
    "\n",
    "mass_spectrum.molecular_search_settings.min_mz_error = -1\n",
    "mass_spectrum.molecular_search_settings.max_mz_error = 1\n",
    "mass_spectrum.molecular_search_settings.mz_error_range = 1\n",
    "mass_spectrum.molecular_search_settings.mz_error_average = 0\n",
    "mass_spectrum.molecular_search_settings.min_abun_error = -30 # percentage \n",
    "mass_spectrum.molecular_search_settings.max_abun_error = 70 # percentage \n",
    "\n",
    "mass_spectrum.molecular_search_settings.isProtonated = True \n",
    "mass_spectrum.molecular_search_settings.isRadical= True \n",
    "mass_spectrum.molecular_search_settings.isadduct = True \n",
    "\n",
    "mass_spectrum.molecular_search_settings.usedAtoms['C'] = (1,90)\n",
    "mass_spectrum.molecular_search_settings.usedAtoms['H'] = (4,200)\n",
    "mass_spectrum.molecular_search_settings.usedAtoms['O'] = (1,20)\n",
    "mass_spectrum.molecular_search_settings.usedAtoms['N'] = (0,0)\n",
    "mass_spectrum.molecular_search_settings.usedAtoms['S'] = (0,0)\n",
    "\n",
    "SearchMolecularFormulas(first_hit=True).run_worker_mass_spectrum(mass_spectrum)\n",
    "print('ok')\n"
   ]
  },
  {
   "cell_type": "markdown",
   "metadata": {},
   "source": [
    "### 6. Accessing the molecular formula  objects"
   ]
  },
  {
   "cell_type": "code",
   "execution_count": null,
   "metadata": {},
   "outputs": [],
   "source": [
    "for mspeaks in mass_spectrum.sort_by_abundance():\n",
    "   if mspeak.is_assigned: #or just if mspeak:\n",
    "        for mf in mspeaks:\n",
    "            print(mf.mz_theor,mf.dbe, mf.class_label, mf.to_string_formated)\n",
    "   "
   ]
  },
  {
   "cell_type": "code",
   "execution_count": null,
   "metadata": {},
   "outputs": [],
   "source": [
    "print (mass_spectrum.analyzer)"
   ]
  },
  {
   "cell_type": "markdown",
   "metadata": {},
   "source": [
    "### 7. Export the results"
   ]
  },
  {
   "cell_type": "code",
   "execution_count": null,
   "metadata": {},
   "outputs": [],
   "source": [
    "from corems.mass_spectrum.output.export import MassSpecExport\n",
    "\n",
    "out_filename = 'neg_esi_srfa_1ppm_test'\n",
    "\n",
    "exportMS= MassSpecExport(out_filename, mass_spectrum)\n",
    "exportMS.run()\n",
    "\n",
    "exportMS.output_type = 'csv'\n",
    "exportMS.run()\n",
    "\n",
    "exportMS.output_type = 'pandas'\n",
    "exportMS.run()\n",
    "\n",
    "# carefull if the file exits it will write another dataset to the scan number group 0\n",
    "exportMS.output_type = 'hdf5'\n",
    "exportMS.run()\n",
    "\n",
    "df = exportMS.get_pandas_df()\n",
    "\n",
    "print( df.head())"
   ]
  },
  {
   "cell_type": "code",
   "execution_count": null,
   "metadata": {},
   "outputs": [],
   "source": []
  }
 ],
 "metadata": {
  "kernelspec": {
   "display_name": "Python 3",
   "language": "python",
   "name": "python3"
  },
  "language_info": {
   "codemirror_mode": {
    "name": "ipython",
    "version": 3
   },
   "file_extension": ".py",
   "mimetype": "text/x-python",
   "name": "python",
   "nbconvert_exporter": "python",
   "pygments_lexer": "ipython3",
   "version": "3.7.4"
  }
 },
 "nbformat": 4,
 "nbformat_minor": 2
}