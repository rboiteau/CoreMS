{
 "cells": [
  {
   "cell_type": "code",
   "execution_count": 1,
   "metadata": {},
   "outputs": [],
   "source": [
    "import warnings\n",
    "warnings.filterwarnings(\"ignore\")"
   ]
  },
  {
   "cell_type": "code",
   "execution_count": null,
   "metadata": {},
   "outputs": [],
   "source": [
    "import sys\n",
    "from pathlib import Path\n",
    "\n",
    "from PySide2.QtWidgets import QFileDialog, QApplication\n",
    "# if using outside the docker container append corems path to sys.path and then: \n",
    "from corems.mass_spectrum.input.massList import ReadMassList\n",
    "from corems.molecular_id.search.molecularFormulaSearch import SearchMolecularFormulas\n"
   ]
  },
  {
   "cell_type": "markdown",
   "metadata": {},
   "source": [
    "### Get the full path of the file using Pyside2 \n",
    "Install Pyside2 separately. It is not a requirement from CoreMS, therefore you need to install it using:\n",
    "- pip install PySide2, or\n",
    "- pip3 install PySide2, or\n",
    "- python -m install PySide2"
   ]
  },
  {
   "cell_type": "code",
   "execution_count": null,
   "metadata": {},
   "outputs": [],
   "source": [
    "app = QApplication(sys.argv)"
   ]
  },
  {
   "cell_type": "code",
   "execution_count": 2,
   "metadata": {},
   "outputs": [],
   "source": [
    "file_location = QFileDialog.getOpenFileName()[0]\n",
    "app.quit()"
   ]
  },
  {
   "cell_type": "markdown",
   "metadata": {},
   "source": [
    "### Load the mass spectrum data from a text mass list in centroid mode (default behaviour)"
   ]
  },
  {
   "cell_type": "code",
   "execution_count": 3,
   "metadata": {},
   "outputs": [
    {
     "name": "stdout",
     "output_type": "stream",
     "text": [
      "<corems.mass_spectrum.factory.MassSpectrumClasses.MassSpecCentroid object at 0x000001FB73C81F08>\n"
     ]
    }
   ],
   "source": [
    "mass_spectrum = ReadMassList(file_location).get_mass_spectrum(polarity=-1)\n",
    "print(mass_spectrum)"
   ]
  },
  {
   "cell_type": "markdown",
   "metadata": {},
   "source": [
    "### Mass error settings"
   ]
  },
  {
   "cell_type": "code",
   "execution_count": 4,
   "metadata": {},
   "outputs": [],
   "source": [
    "mass_spectrum.molecular_search_settings.error_method = 'None'\n",
    "mass_spectrum.molecular_search_settings.min_ppm_error  = -1\n",
    "mass_spectrum.molecular_search_settings.max_ppm_error = 1"
   ]
  },
  {
   "cell_type": "markdown",
   "metadata": {},
   "source": [
    "## Manual prioritization approach\n",
    "\n",
    "Enabling first_hit parameter in the SearchMolecularFormulas class forces the algorithm to ignore any mass spectrum peak object that already has a molecular formula associated with it.\n",
    "\n",
    "Therefore you can run the run_worker_mass_spectrum() function multiple times with different settings for atoms constrains to prioritize the assignments manually."
   ]
  },
  {
   "cell_type": "markdown",
   "metadata": {},
   "source": [
    "### Search for Cl adducts classes "
   ]
  },
  {
   "cell_type": "code",
   "execution_count": 5,
   "metadata": {},
   "outputs": [],
   "source": [
    "mass_spectrum.molecular_search_settings.usedAtoms['C'] = (1,90)\n",
    "mass_spectrum.molecular_search_settings.usedAtoms['H'] = (4,200)\n",
    "mass_spectrum.molecular_search_settings.usedAtoms['O'] = (0,20)\n",
    "mass_spectrum.molecular_search_settings.usedAtoms['N'] = (0,0)\n",
    "mass_spectrum.molecular_search_settings.usedAtoms['S'] = (0,2)\n",
    "mass_spectrum.molecular_search_settings.usedAtoms['Cl'] = (1,1)\n",
    "\n",
    "mass_spectrum.molecular_search_settings.isProtonated = False \n",
    "mass_spectrum.molecular_search_settings.isRadical= False \n",
    "mass_spectrum.molecular_search_settings.isadduct = True \n",
    "\n",
    "SearchMolecularFormulas(first_hit=True).run_worker_mass_spectrum(mass_spectrum)"
   ]
  },
  {
   "cell_type": "markdown",
   "metadata": {},
   "source": [
    "### Search for O and OS classes"
   ]
  },
  {
   "cell_type": "code",
   "execution_count": 6,
   "metadata": {},
   "outputs": [],
   "source": [
    "mass_spectrum.molecular_search_settings.usedAtoms['O'] = (0,20)\n",
    "mass_spectrum.molecular_search_settings.usedAtoms['N'] = (0,0)\n",
    "mass_spectrum.molecular_search_settings.usedAtoms['S'] = (0,2)\n",
    "mass_spectrum.molecular_search_settings.usedAtoms['Cl'] = (0,0)\n",
    "\n",
    "mass_spectrum.molecular_search_settings.isProtonated = True \n",
    "mass_spectrum.molecular_search_settings.isRadical= False \n",
    "mass_spectrum.molecular_search_settings.isadduct = False \n",
    "\n",
    "SearchMolecularFormulas(first_hit=True).run_worker_mass_spectrum(mass_spectrum)"
   ]
  },
  {
   "cell_type": "markdown",
   "metadata": {},
   "source": [
    "### Search for N, NO, NS and NOS classes"
   ]
  },
  {
   "cell_type": "code",
   "execution_count": 7,
   "metadata": {},
   "outputs": [],
   "source": [
    "\n",
    "mass_spectrum.molecular_search_settings.usedAtoms['O'] = (0,20)\n",
    "mass_spectrum.molecular_search_settings.usedAtoms['N'] = (1,3)\n",
    "mass_spectrum.molecular_search_settings.usedAtoms['S'] = (0,2)\n",
    "\n",
    "\n",
    "mass_spectrum.molecular_search_settings.isProtonated = True \n",
    "mass_spectrum.molecular_search_settings.isRadical= False \n",
    "mass_spectrum.molecular_search_settings.isadduct = False \n",
    "\n",
    "SearchMolecularFormulas(first_hit=True).run_worker_mass_spectrum(mass_spectrum)"
   ]
  },
  {
   "cell_type": "markdown",
   "metadata": {},
   "source": [
    "### Export data to CSV \n",
    "No need to change the filename suffix, the function \"to_csv()\" convert the suffix to .csv automatically"
   ]
  },
  {
   "cell_type": "code",
   "execution_count": 8,
   "metadata": {},
   "outputs": [],
   "source": [
    "mass_spectrum.to_csv(file_location)"
   ]
  }
 ],
 "metadata": {
  "kernelspec": {
   "display_name": "Python 3",
   "language": "python",
   "name": "python3"
  },
  "language_info": {
   "codemirror_mode": {
    "name": "ipython",
    "version": 3
   },
   "file_extension": ".py",
   "mimetype": "text/x-python",
   "name": "python",
   "nbconvert_exporter": "python",
   "pygments_lexer": "ipython3",
   "version": "3.7.4"
  }
 },
 "nbformat": 4,
 "nbformat_minor": 2
}