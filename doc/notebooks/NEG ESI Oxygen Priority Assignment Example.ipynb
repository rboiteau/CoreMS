{
 "cells": [
  {
   "cell_type": "code",
   "execution_count": null,
   "metadata": {},
   "outputs": [],
   "source": [
    "import warnings\n",
    "warnings.filterwarnings(\"ignore\")"
   ]
  },
  {
   "cell_type": "code",
   "execution_count": null,
   "metadata": {},
   "outputs": [],
   "source": [
    "import sys\n",
    "sys.path.append(\"C:\\\\Users\\\\eber373\\\\\\Desenvolvimento\\\\\\Projects-Python\\\\\\CoreMS\")\n",
    "\n",
    "from pathlib import Path\n",
    "\n",
    "from PySide2.QtWidgets import QFileDialog, QApplication\n",
    "from PySide2.QtCore import Qt\n",
    "\n",
    "from corems.mass_spectrum.input.massList import ReadMassList\n",
    "from corems.molecular_id.search.priorityAssignment import OxygenPriorityAssignment\n"
   ]
  },
  {
   "cell_type": "markdown",
   "execution_count": null,
   "metadata": {},
   "outputs": [],
   "source": [
    "### Get the full path of the file using Pyside2 \n",
    "Install Pyside2 separately. It is not a requirement from CoreMS, therefore you need to install it using:\n",
    "- pip install PySide2, or\n",
    "- pip3 install PySide2, or\n",
    "- python -m install PySide2"
   ]
  },
  {
   "cell_type": "code",
   "execution_count": null,
   "metadata": {},
   "outputs": [],
   "source": [
    "app = QApplication(sys.argv)"
   ]
  },
  {
   "cell_type": "code",
   "execution_count": null,
   "metadata": {},
   "outputs": [],
   "source": [
    "file_dialog = QFileDialog()\n",
    "file_dialog.setWindowFlags(Qt.WindowStaysOnTopHint)\n",
    "\n",
    "file_location = file_dialog.getOpenFileName()[0]\n",
    "app.quit()"
   ]
  },
  {
   "cell_type": "markdown",
   "execution_count": null,
   "metadata": {},
   "outputs": [],
   "source": [
    "### Load the mass spectrum data from a text mass list in centroid mode (default behaviour)"
   ]
  },
  {
   "cell_type": "code",
   "execution_count": null,
   "metadata": {},
   "outputs": [],
   "source": [
    "mass_spectrum = ReadMassList(file_location).get_mass_spectrum(polarity=-1)\n",
    "print(mass_spectrum)"
   ]
  },
  {
   "cell_type": "markdown",
   "execution_count": null,
   "metadata": {},
   "outputs": [],
   "source": [
    "### Mass error settings"
   ]
  },
  {
   "cell_type": "code",
   "execution_count": null,
   "metadata": {},
   "outputs": [],
   "source": [
    "mass_spectrum.molecular_search_settings.error_method = 'None'\n",
    "mass_spectrum.molecular_search_settings.min_mz_error = -1\n",
    "mass_spectrum.molecular_search_settings.max_mz_error = 1"
   ]
  },
  {
   "cell_type": "markdown",
   "execution_count": null,
   "metadata": {},
   "outputs": [],
   "source": [
    "## Oxygen prioritization approach\n",
    "The oxygen priority assignment algorithm automatically finds the best oxygen series across a broad m/z range (for each m/z 14 Da) and use this series as the reference for a top-down priority assignment. \n",
    "The steps are: \n",
    "1. Sets Kendrick base to C1H2O1\n",
    "2. Noise removal using Kendrick filter using DBSCAN\n",
    "3. Identify the most abundant peak \n",
    "4. Search for molecular formulae candidates of classes Oo, then SsOo, NnOo, \n",
    "5. Stop the search on the first candidate found\n",
    "6. \"Walks\" in 14 Da increments in ascending and descending m/z order, pick the most abundant peak, and repeat steps 3, 4, and 5.\n",
    "7. Sort the identified series by reverse order of peak height\n",
    "8. Use heteroatom class order for an assignment of all peaks\n",
    "9. Look for non-oxygen classes, i.e Nn, NnSs\n"
   ]
  },
  {
   "cell_type": "code",
   "execution_count": null,
   "metadata": {},
   "outputs": [],
   "source": [
    "mass_spectrum.molecular_search_settings.usedAtoms['C'] = (1,90)\n",
    "mass_spectrum.molecular_search_settings.usedAtoms['H'] = (4,200)\n",
    "mass_spectrum.molecular_search_settings.usedAtoms['O'] = (0,20)\n",
    "mass_spectrum.molecular_search_settings.usedAtoms['N'] = (0,0)\n",
    "mass_spectrum.molecular_search_settings.usedAtoms['S'] = (0,0)\n",
    "mass_spectrum.molecular_search_settings.usedAtoms['Cl'] = (0,1)\n",
    "\n",
    "mass_spectrum.molecular_search_settings.isProtonated = True\n",
    "mass_spectrum.molecular_search_settings.isRadical= False\n",
    "mass_spectrum.molecular_search_settings.isAdduct = True"
   ]
  },
  {
   "cell_type": "code",
   "execution_count": null,
   "metadata": {},
   "outputs": [],
   "source": [
    "OxygenPriorityAssignment(mass_spectrum).run()\n"
   ]
  },
  {
   "cell_type": "markdown",
   "execution_count": null,
   "metadata": {},
   "outputs": [],
   "source": [
    "### Molecular Formula Statistics"
   ]
  },
  {
   "cell_type": "code",
   "execution_count": null,
   "metadata": {},
   "outputs": [],
   "source": [
    "mass_spectrum.percentile_assigned()"
   ]
  },
  {
   "cell_type": "markdown",
   "execution_count": null,
   "metadata": {},
   "outputs": [],
   "source": [
    "### Export data to CSV \n",
    "No need to change the filename suffix, the function \"to_csv()\" convert the suffix to .csv automatically"
   ]
  },
  {
   "cell_type": "code",
   "execution_count": null,
   "metadata": {},
   "outputs": [],
   "source": [
    "output_file = file_location.split(\".txt\")[0]\n",
    "\n",
    "output_file = output_file + \"_Oxygen_Priority_CIA_Score\"\n",
    "\n",
    "print(output_file)\n",
    "\n",
    "mass_spectrum.to_csv(output_file)"
   ]
  },
  {
   "cell_type": "code",
   "execution_count": null,
   "metadata": {},
   "outputs": [],
   "source": []
  }
 ],
 "metadata": {
  "kernelspec": {
   "display_name": "Python 3",
   "language": "python",
   "name": "python3"
  },
  "language_info": {
   "codemirror_mode": {
    "name": "ipython",
    "version": 3
   },
   "file_extension": ".py",
   "mimetype": "text/x-python",
   "name": "python",
   "nbconvert_exporter": "python",
   "pygments_lexer": "ipython3",
   "version": "3.7.4"
  }
 },
 "nbformat": 4,
 "nbformat_minor": 2
}