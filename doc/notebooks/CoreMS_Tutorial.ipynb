{
 "cells": [
  {
   "cell_type": "markdown",
   "metadata": {},
   "source": [
    "# CoreMS Tutorial\n",
    "`CoreMS` framework for mass spectrum"
   ]
  },
  {
   "cell_type": "code",
   "execution_count": 11,
   "metadata": {},
   "outputs": [
    {
     "output_type": "stream",
     "name": "stdout",
     "text": "/Users/eber373/Desenvolvimento/corems/doc/notebooks\n"
    },
    {
     "output_type": "error",
     "ename": "FileNotFoundError",
     "evalue": "File does not exist: /Users/eber373/Desenvolvimento/corems/doc/notebooks/ESI_NEG_SRFA.d",
     "traceback": [
      "\u001b[0;31m---------------------------------------------------------------------------\u001b[0m",
      "\u001b[0;31mFileNotFoundError\u001b[0m                         Traceback (most recent call last)",
      "\u001b[0;32m<ipython-input-11-a2236cc5add1>\u001b[0m in \u001b[0;36m<module>\u001b[0;34m\u001b[0m\n\u001b[1;32m      9\u001b[0m \u001b[0mfile_location\u001b[0m \u001b[0;34m=\u001b[0m \u001b[0mPath\u001b[0m\u001b[0;34m.\u001b[0m\u001b[0mcwd\u001b[0m\u001b[0;34m(\u001b[0m\u001b[0;34m)\u001b[0m \u001b[0;34m/\u001b[0m \u001b[0;34m\"ESI_NEG_SRFA.d\"\u001b[0m\u001b[0;34m\u001b[0m\u001b[0;34m\u001b[0m\u001b[0m\n\u001b[1;32m     10\u001b[0m \u001b[0;34m\u001b[0m\u001b[0m\n\u001b[0;32m---> 11\u001b[0;31m \u001b[0mreader_obj\u001b[0m \u001b[0;34m=\u001b[0m\u001b[0mReadBrukerSolarix\u001b[0m\u001b[0;34m(\u001b[0m\u001b[0mfile_location\u001b[0m\u001b[0;34m)\u001b[0m\u001b[0;34m\u001b[0m\u001b[0;34m\u001b[0m\u001b[0m\n\u001b[0m\u001b[1;32m     12\u001b[0m \u001b[0;34m\u001b[0m\u001b[0m\n\u001b[1;32m     13\u001b[0m \u001b[0mbruker_transent\u001b[0m \u001b[0;34m=\u001b[0m \u001b[0mreader_obj\u001b[0m\u001b[0;34m.\u001b[0m\u001b[0mget_transient\u001b[0m\u001b[0;34m(\u001b[0m\u001b[0;34m)\u001b[0m\u001b[0;34m\u001b[0m\u001b[0;34m\u001b[0m\u001b[0m\n",
      "\u001b[0;32m~/Desenvolvimento/corems/corems/transient/input/brukerSolarix.py\u001b[0m in \u001b[0;36m__init__\u001b[0;34m(self, d_directory_location)\u001b[0m\n\u001b[1;32m     40\u001b[0m \u001b[0;34m\u001b[0m\u001b[0m\n\u001b[1;32m     41\u001b[0m         \u001b[0;32mif\u001b[0m \u001b[0;32mnot\u001b[0m \u001b[0md_directory_location\u001b[0m\u001b[0;34m.\u001b[0m\u001b[0mexists\u001b[0m\u001b[0;34m(\u001b[0m\u001b[0;34m)\u001b[0m\u001b[0;34m:\u001b[0m\u001b[0;34m\u001b[0m\u001b[0;34m\u001b[0m\u001b[0m\n\u001b[0;32m---> 42\u001b[0;31m             \u001b[0;32mraise\u001b[0m \u001b[0mFileNotFoundError\u001b[0m\u001b[0;34m(\u001b[0m\u001b[0;34m\"File does not exist: \"\u001b[0m \u001b[0;34m+\u001b[0m \u001b[0mstr\u001b[0m\u001b[0;34m(\u001b[0m\u001b[0md_directory_location\u001b[0m\u001b[0;34m)\u001b[0m\u001b[0;34m)\u001b[0m\u001b[0;34m\u001b[0m\u001b[0;34m\u001b[0m\u001b[0m\n\u001b[0m\u001b[1;32m     43\u001b[0m \u001b[0;34m\u001b[0m\u001b[0m\n\u001b[1;32m     44\u001b[0m         \u001b[0mself\u001b[0m\u001b[0;34m.\u001b[0m\u001b[0md_directory_location\u001b[0m \u001b[0;34m=\u001b[0m \u001b[0md_directory_location\u001b[0m\u001b[0;34m\u001b[0m\u001b[0;34m\u001b[0m\u001b[0m\n",
      "\u001b[0;31mFileNotFoundError\u001b[0m: File does not exist: /Users/eber373/Desenvolvimento/corems/doc/notebooks/ESI_NEG_SRFA.d"
     ]
    }
   ],
   "source": [
    "from pathlib import Path\n",
    "from corems.mass_spectrum.input.massList import ReadMassList\n",
    "from corems.transient.input.brukerSolarix import ReadBrukerSolarix\n",
    "# if using outside the docker container append corems path to sys.path and change the file location: \n",
    "file_location = Path.cwd() / \"ESI_NEG_SRFA.d\"\n",
    "\n",
    "reader_obj =ReadBrukerSolarix(file_location)\n",
    "\n",
    "bruker_transent = reader_obj.get_transient()\n",
    "\n",
    "#reader_obj = ReadMassList(file_location, isCentroid=True)\n",
    "#reader_obj = ReadMassList(file_location)\n",
    "#reader_obj = ReadMassList(file_location)\n",
    "#reader_obj = ReadHDF_BoosterMassSpectrum(file_location, polarity)\n",
    "reader_obj.file_location"
   ]
  },
  {
   "cell_type": "markdown",
   "metadata": {},
   "source": [
    "### 1. Create the reader object"
   ]
  },
  {
   "cell_type": "markdown",
   "metadata": {},
   "source": [
    "### 2. Create the mass spectrum object\n"
   ]
  },
  {
   "cell_type": "code",
   "execution_count": null,
   "metadata": {},
   "outputs": [],
   "source": [
    "mass_spectrum = bruker_transient.get_mass_spectrum(plot_result=False, auto_process=True)\n",
    "mass_spectrum.mz_exp, mass_spectrum.abundance\n"
   ]
  },
  {
   "cell_type": "markdown",
   "metadata": {},
   "source": [
    "### 3. Access mass spectrum peak objects"
   ]
  },
  {
   "cell_type": "code",
   "execution_count": null,
   "metadata": {},
   "outputs": [],
   "source": [
    "kb = {'C': 1, 'H': 2}\n",
    "\n",
    "for mspeak in mass_spectrum.sort_by_abundance():\n",
    "    \n",
    "    print(mspeak.mz_exp, mspeak.abundance, mspeak.resolving_power, \n",
    "          mspeak.signal_to_noise, mspeak.kmd, mspeak.is_assigned)\n",
    "    \n",
    "    mspeak.change_kendrick_base(kb)\n",
    "\n"
   ]
  },
  {
   "cell_type": "markdown",
   "metadata": {},
   "source": [
    "### 4. How to change settings"
   ]
  },
  {
   "cell_type": "code",
   "execution_count": null,
   "metadata": {},
   "outputs": [],
   "source": [
    "from corems.encapsulation.settings.io import settings_parsers\n",
    "\n",
    "# Make chages on SettingsCoreMS.json before generate the mass spectrum file and load it:\n",
    "# Looks for \"SettingsCoreMS.json\" at directory from where the code is being executed\n",
    "# If SettingsCoreMS.json is not in the same directory pass parameters_path= \"path location of SettingsCoreMS.json\"\n",
    "\n",
    "settings_parsers.load_search_setting_json()    \n",
    "\n",
    "# Option 2. After mass spectrum object is generate you can manually change the settings inside the object:\n",
    "\n",
    "mass_spectrum.molecular_search_settings.error_method = 'None'\n",
    "mass_spectrum.molecular_search_settings.min_ppm_error  = -1\n",
    "mass_spectrum.molecular_search_settings.max_ppm_error = 1\n",
    "mass_spectrum.molecular_search_settings.mz_error_range = 1\n",
    "\n",
    "mass_spectrum.molecular_search_settings.usedAtoms['C'] = (1,90)\n",
    "mass_spectrum.molecular_search_settings.usedAtoms['H'] = (4,200)\n",
    "mass_spectrum.molecular_search_settings.usedAtoms['O'] = (0,20)\n",
    "mass_spectrum.molecular_search_settings.usedAtoms['N'] = (0,0)\n",
    "mass_spectrum.molecular_search_settings.usedAtoms['S'] = (0,0)\n",
    "\n",
    "# Option 3. make changes on SettingsCoreMS.json and call the function:\n",
    "\n",
    "settings_parsers.load_setting_ms_obj(mass_spectrum)"
   ]
  },
  {
   "cell_type": "markdown",
   "metadata": {},
   "source": [
    "### 5. Mass spectrum calibration"
   ]
  },
  {
   "cell_type": "code",
   "execution_count": null,
   "metadata": {},
   "outputs": [],
   "source": [
    "from corems.molecular_id.search.findOxygenPeaks import FindOxygenPeaks\n",
    "from corems.mass_spectrum.calc.calibrationCalc import FreqDomain_Calibration\n",
    "\n",
    "\n",
    "\n",
    "\n",
    "find_formula_thread = FindOxygenPeaks(mass_spectrum)\n",
    "find_formula_thread.start()\n",
    "find_formula_thread.join()\n",
    "\n",
    "mspeaks_results = find_formula_thread.get_list_found_peaks()\n",
    "    \n",
    "calibrate = FreqDomain_Calibration(mass_spectrum, mspeaks_results)\n",
    "calibrate.ledford_calibration()\n",
    "#calibrate.step_fit()\n",
    "mass_spectrum.clear_molecular_formulas()\n"
   ]
  },
  {
   "cell_type": "markdown",
   "metadata": {},
   "source": [
    "### 6. Molecular formula search"
   ]
  },
  {
   "cell_type": "code",
   "execution_count": null,
   "metadata": {},
   "outputs": [],
   "source": [
    "from corems.molecular_id.calc.ClusterFilter import ClusteringFilter\n",
    "from corems.molecular_id.search.molecularFormulaSearch import SearchMolecularFormulas\n",
    "\n",
    "#ClusteringFilter().filter_kendrick(mass_spectrum)\n",
    "\n",
    "mass_spectrum.molecular_search_settings.min_ppm_error  = -1\n",
    "mass_spectrum.molecular_search_settings.max_ppm_error = 1\n",
    "mass_spectrum.molecular_search_settings.mz_error_range = 1\n",
    "mass_spectrum.molecular_search_settings.mz_error_average = 0\n",
    "mass_spectrum.molecular_search_settings.min_abun_error = -30 # percentage \n",
    "mass_spectrum.molecular_search_settings.max_abun_error = 70 # percentage \n",
    "\n",
    "mass_spectrum.molecular_search_settings.isProtonated = True \n",
    "mass_spectrum.molecular_search_settings.isRadical= True \n",
    "mass_spectrum.molecular_search_settings.isadduct = True \n",
    "\n",
    "mass_spectrum.molecular_search_settings.usedAtoms['C'] = (1,90)\n",
    "mass_spectrum.molecular_search_settings.usedAtoms['H'] = (4,200)\n",
    "mass_spectrum.molecular_search_settings.usedAtoms['O'] = (1,20)\n",
    "mass_spectrum.molecular_search_settings.usedAtoms['N'] = (0,0)\n",
    "mass_spectrum.molecular_search_settings.usedAtoms['S'] = (0,0)\n",
    "\n",
    "SearchMolecularFormulas(first_hit=True).run_worker_mass_spectrum(mass_spectrum)\n",
    "print('ok')\n"
   ]
  },
  {
   "cell_type": "markdown",
   "metadata": {},
   "source": [
    "### 7. Accessing the molecular formula  objects"
   ]
  },
  {
   "cell_type": "code",
   "execution_count": null,
   "metadata": {},
   "outputs": [],
   "source": [
    "for mspeaks in mass_spectrum.sort_by_abundance():\n",
    "   if mspeak.is_assigned: #or just if mspeak:\n",
    "        for mf in mspeaks:\n",
    "            print(mf.mz_calc,mf.dbe, mf.class_label, mf.string_formated)\n",
    "   "
   ]
  },
  {
   "cell_type": "code",
   "execution_count": null,
   "metadata": {},
   "outputs": [],
   "source": [
    "print (mass_spectrum.analyzer)"
   ]
  },
  {
   "cell_type": "markdown",
   "metadata": {},
   "source": [
    "### 8. Export the results"
   ]
  },
  {
   "cell_type": "code",
   "execution_count": null,
   "metadata": {},
   "outputs": [],
   "source": [
    "from corems.mass_spectrum.output.export import HighResMassSpecExport\n",
    "\n",
    "out_filename = 'neg_esi_srfa_1ppm_test'\n",
    "\n",
    "exportMS= HighResMassSpecExport(out_filename, mass_spectrum)\n",
    "exportMS.run()\n",
    "\n",
    "exportMS.output_type = 'csv'\n",
    "exportMS.run()\n",
    "\n",
    "exportMS.output_type = 'pandas'\n",
    "exportMS.run()\n",
    "\n",
    "# carefull if the file exits it will write another dataset to the scan number group 0\n",
    "exportMS.output_type = 'hdf5'\n",
    "exportMS.run()\n",
    "\n",
    "df = exportMS.get_pandas_df()\n",
    "\n",
    "print( df.head())"
   ]
  },
  {
   "cell_type": "code",
   "execution_count": null,
   "metadata": {},
   "outputs": [],
   "source": []
  }
 ],
 "metadata": {
  "kernelspec": {
   "display_name": "Python 3",
   "language": "python",
   "name": "python3"
  },
  "language_info": {
   "codemirror_mode": {
    "name": "ipython",
    "version": 3
   },
   "file_extension": ".py",
   "mimetype": "text/x-python",
   "name": "python",
   "nbconvert_exporter": "python",
   "pygments_lexer": "ipython3",
   "version": "3.7.5-final"
  }
 },
 "nbformat": 4,
 "nbformat_minor": 2
}