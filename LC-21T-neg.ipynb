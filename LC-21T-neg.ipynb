{
 "cells": [
  {
   "cell_type": "code",
   "execution_count": 1,
   "metadata": {},
   "outputs": [],
   "source": [
    "import os\n",
    "from tempfile import tempdir\n",
    "from time import time\n",
    "from turtle import color\n",
    "from unittest.mock import NonCallableMagicMock\n",
    "import pandas as pd\n",
    "import numpy as np\n",
    "import warnings\n",
    "import math\n",
    "import re\n",
    "\n",
    "import seaborn as sns\n",
    "warnings.filterwarnings(\"ignore\")\n",
    "\n",
    "import sys\n",
    "sys.path.append(\"./\")\n",
    "\n",
    "from pathlib import Path\n",
    "\n",
    "import tqdm\n",
    "import importlib\n",
    "\n",
    "import matplotlib.pyplot as plt\n",
    "# from PySide2.QtWidgets import QFileDialog, QApplication\n",
    "# from PySide2.QtCore import Qt\n",
    "from copy import copy \n",
    "\n",
    "from corems.mass_spectra.input import rawFileReader\n",
    "from corems.molecular_id.factory.classification import HeteroatomsClassification, Labels\n",
    "from corems.molecular_id.search.priorityAssignment import OxygenPriorityAssignment\n",
    "from corems.molecular_id.search.molecularFormulaSearch import SearchMolecularFormulas\n",
    "from corems.encapsulation.factory.parameters import MSParameters\n",
    "from corems.encapsulation.constant import Atoms\n",
    "from corems.mass_spectrum.calc.Calibration import MzDomainCalibration\n",
    "\n",
    "import corems.lc_icpms_ftms.calc.lc_icrms_qc_assign as icrms\n",
    "import corems.lc_icpms_ftms.calc.lc_icrms_helpers as lcmsfns\n",
    "\n",
    "import importlib\n",
    "dir='/Volumes/Samsung_T5/NHMFL/2023_January_Christian/wastewater/Zorbax_5um_inject_1500ms/neg'\n",
    "flist=os.listdir(dir)\n",
    "os.chdir(dir)"
   ]
  },
  {
   "cell_type": "code",
   "execution_count": 2,
   "metadata": {},
   "outputs": [
    {
     "name": "stdout",
     "output_type": "stream",
     "text": [
      "20230113_LBA_Boiteau_Zorbax5um_1500IT_neg_qh2o_300_500_02.raw\n",
      "20230113_LBA_Boiteau_Zorbax5um_1500IT_neg_qh2o_300_500_01.raw\n",
      "20230113_LBA_Boiteau_Zorbax5um_1500IT_neg_FinalEff_300_500_02.raw\n",
      "20230113_LBA_Boiteau_Zorbax5um_1500IT_neg_FinalEff_300_500_01.raw\n",
      "20230113_LBA_Boiteau_Zorbax5um_1500IT_neg_qh2o_fullmz_02.raw\n",
      "20230113_LBA_Boiteau_Zorbax5um_1500IT_neg_qh2o_fullmz_01.raw\n",
      "20230113_LBA_Boiteau_Zorbax5um_1500IT_neg_FinalEff_fullmz_02.raw\n",
      "20230113_LBA_Boiteau_Zorbax5um_1500IT_neg_NovWastewater_300_500_02.raw\n",
      "20230113_LBA_Boiteau_Zorbax5um_1500IT_neg_NovWastewater_300_500_01.raw\n",
      "20230113_LBA_Boiteau_Zorbax5um_1500IT_neg_NovWastewater_fullmz_02.raw\n",
      "20230113_LBA_Boiteau_Zorbax5um_1500IT_neg_NovWastewater_fullmz_01.raw\n",
      "20230113_LBA_Boiteau_Zorbax5um_1500IT_neg_FinalEff_fullmz_01.raw\n"
     ]
    }
   ],
   "source": [
    "# get files & parsers\n",
    "\n",
    "dir='/Volumes/Samsung_T5/NHMFL/2023_January_Christian/wastewater/Zorbax_5um_inject_1500ms/neg'\n",
    "flist=os.listdir(dir)\n",
    "os.chdir(dir)\n",
    "\n",
    "# get parsers\n",
    "\n",
    "MSfiles={}\n",
    "\n",
    "for f in flist:\n",
    "    if ('.raw' in f) & ('._' not in f) :\n",
    "        print(f)\n",
    "        parser = rawFileReader.ImportMassSpectraThermoMSFileReader(f)\n",
    "        MSfiles[f]={'parser': parser}\n",
    "\n",
    "data = icrms.lc_icr_assign(dir)\n",
    "\n",
    "data.master_data_holder = MSfiles\n",
    "\n",
    "data._raw_filelist = data.master_data_holder.keys()"
   ]
  },
  {
   "cell_type": "code",
   "execution_count": 4,
   "metadata": {},
   "outputs": [],
   "source": [
    "# set assignment parameters\n",
    "MSParameters.mass_spectrum.threshold_method = 'signal_noise'\n",
    "MSParameters.mass_spectrum.s2n_threshold = 2\n",
    "MSParameters.ms_peak.peak_min_prominence_percent = 0.001\n",
    "\n",
    "MSParameters.molecular_search.error_method = 'None'\n",
    "MSParameters.molecular_search.min_ppm_error = -0.25\n",
    "MSParameters.molecular_search.max_ppm_error = 0.25\n",
    "\n",
    "MSParameters.molecular_search.isProtonated = True\n",
    "MSParameters.molecular_search.isRadical = False\n",
    "MSParameters.molecular_search.isAdduct = False\n",
    "\n",
    "MSParameters.molecular_search.score_method = \"prob_score\"\n",
    "MSParameters.molecular_search.output_score_method = \"prob_score\"\n",
    "\n",
    "MSParameters.molecular_search.url_database = None\n",
    "MSParameters.molecular_search.min_dbe = -1\n",
    "MSParameters.molecular_search.max_dbe = 20\n",
    "\n",
    "MSParameters.molecular_search.usedAtoms['C'] = (1,50)\n",
    "MSParameters.molecular_search.usedAtoms['H'] = (4,100)\n",
    "MSParameters.molecular_search.usedAtoms['O'] = (1,20)\n",
    "MSParameters.molecular_search.usedAtoms['N'] = (0,3)\n",
    "MSParameters.molecular_search.usedAtoms['I'] = (0,0)\n",
    "MSParameters.molecular_search.usedAtoms['F'] = (0,4)\n",
    "MSParameters.molecular_search.usedAtoms['Cl'] = (0,0)\n",
    "MSParameters.molecular_search.usedAtoms['S'] = (0,1)\n"
   ]
  },
  {
   "cell_type": "code",
   "execution_count": 5,
   "metadata": {},
   "outputs": [
    {
     "name": "stdout",
     "output_type": "stream",
     "text": [
      "\n",
      "\n",
      "20230113_LBA_Boiteau_Zorbax5um_1500IT_neg_qh2o_300_500_02.raw\n",
      "1 of 12 files\n",
      "timestart: 4\n",
      "negative\n",
      "MS Obj loaded - 268 peaks found.\n",
      "MS Obj loaded - 268 peaks found.\n",
      "Reference mass list loaded - 2030 calibration masses loaded.\n",
      "64 calibration points matched within thresholds.\n",
      "minimize function completed with RMS error of: 0.060 ppm\n",
      "minimize function performed 363 fn evals and 7 iterations\n",
      "'runworker'  48.00 ms\n"
     ]
    },
    {
     "name": "stderr",
     "output_type": "stream",
     "text": [
      "Loading molecular formula database: 244178it [00:05, 43503.41it/s] \n",
      "Started molecular formula search for class {\"N\": 1, \"S\": 1, \"O\": 10, \"F\": 4}, (de)protonated : 100%|██████████| 300/300 [00:00<00:00, 578.99it/s]\n",
      "Loading molecular formula database: 247740it [00:05, 43199.38it/s] \n",
      "Started molecular formula search for class {\"N\": 2, \"S\": 1, \"O\": 20, \"F\": 4}, (de)protonated : 100%|██████████| 300/300 [00:00<00:00, 860.81it/s] \n",
      "Loading molecular formula database: 166880it [00:04, 39814.87it/s] \n",
      "Started molecular formula search for class {\"N\": 3, \"S\": 1, \"O\": 20, \"F\": 4}, (de)protonated : 100%|██████████| 200/200 [00:00<00:00, 832.28it/s]\n"
     ]
    },
    {
     "name": "stdout",
     "output_type": "stream",
     "text": [
      "'run_molecular_formula'  16801.04 ms\n",
      "173 assigned peaks and 95 unassigned peaks, total  = 64.55 %, relative abundance = 62.36 %, RMS error (best candidate) (ppm) = 0.070\n",
      "timestart: 6\n",
      "negative\n",
      "MS Obj loaded - 295 peaks found.\n",
      "MS Obj loaded - 295 peaks found.\n",
      "Reference mass list loaded - 2030 calibration masses loaded.\n",
      "89 calibration points matched within thresholds.\n",
      "minimize function completed with RMS error of: 0.062 ppm\n",
      "minimize function performed 352 fn evals and 7 iterations\n",
      "'runworker'  32.07 ms\n"
     ]
    },
    {
     "name": "stderr",
     "output_type": "stream",
     "text": [
      "Loading molecular formula database: 244178it [00:05, 42369.56it/s] \n",
      "Started molecular formula search for class {\"N\": 1, \"S\": 1, \"O\": 10, \"F\": 4}, (de)protonated : 100%|██████████| 300/300 [00:00<00:00, 577.84it/s]\n",
      "Loading molecular formula database: 247740it [00:06, 41059.47it/s] \n",
      "Started molecular formula search for class {\"N\": 2, \"S\": 1, \"O\": 20, \"F\": 4}, (de)protonated : 100%|██████████| 300/300 [00:00<00:00, 801.95it/s] \n",
      "Loading molecular formula database: 166880it [00:04, 41570.44it/s] \n",
      "Started molecular formula search for class {\"N\": 3, \"S\": 1, \"O\": 20, \"F\": 4}, (de)protonated : 100%|██████████| 200/200 [00:00<00:00, 819.93it/s]\n"
     ]
    },
    {
     "name": "stdout",
     "output_type": "stream",
     "text": [
      "'run_molecular_formula'  17067.97 ms\n",
      "209 assigned peaks and 86 unassigned peaks, total  = 70.85 %, relative abundance = 68.52 %, RMS error (best candidate) (ppm) = 0.072\n",
      "timestart: 8\n",
      "negative\n",
      "MS Obj loaded - 352 peaks found.\n",
      "MS Obj loaded - 352 peaks found.\n",
      "Reference mass list loaded - 2030 calibration masses loaded.\n",
      "98 calibration points matched within thresholds.\n",
      "minimize function completed with RMS error of: 0.062 ppm\n",
      "minimize function performed 357 fn evals and 7 iterations\n",
      "'runworker'  31.58 ms\n"
     ]
    },
    {
     "name": "stderr",
     "output_type": "stream",
     "text": [
      "Loading molecular formula database: 244178it [00:05, 44356.77it/s] \n",
      "Started molecular formula search for class {\"N\": 1, \"S\": 1, \"O\": 10, \"F\": 4}, (de)protonated : 100%|██████████| 300/300 [00:00<00:00, 514.75it/s]\n",
      "Loading molecular formula database: 247740it [00:06, 39928.88it/s] \n",
      "Started molecular formula search for class {\"N\": 2, \"S\": 1, \"O\": 20, \"F\": 4}, (de)protonated : 100%|██████████| 300/300 [00:00<00:00, 706.06it/s] \n",
      "Loading molecular formula database: 166880it [00:04, 38506.71it/s] \n",
      "Started molecular formula search for class {\"N\": 3, \"S\": 1, \"O\": 20, \"F\": 4}, (de)protonated : 100%|██████████| 200/200 [00:00<00:00, 825.66it/s]\n"
     ]
    },
    {
     "name": "stdout",
     "output_type": "stream",
     "text": [
      "'run_molecular_formula'  17416.64 ms\n",
      "246 assigned peaks and 106 unassigned peaks, total  = 69.89 %, relative abundance = 72.08 %, RMS error (best candidate) (ppm) = 0.067\n",
      "timestart: 10\n",
      "negative\n",
      "MS Obj loaded - 368 peaks found.\n",
      "MS Obj loaded - 368 peaks found.\n",
      "Reference mass list loaded - 2030 calibration masses loaded.\n",
      "106 calibration points matched within thresholds.\n",
      "minimize function completed with RMS error of: 0.066 ppm\n",
      "minimize function performed 320 fn evals and 6 iterations\n",
      "'runworker'  31.11 ms\n"
     ]
    },
    {
     "name": "stderr",
     "output_type": "stream",
     "text": [
      "Loading molecular formula database: 244178it [00:05, 43683.33it/s] \n",
      "Started molecular formula search for class {\"N\": 1, \"S\": 1, \"O\": 10, \"F\": 4}, (de)protonated : 100%|██████████| 300/300 [00:00<00:00, 478.18it/s]\n",
      "Loading molecular formula database: 247740it [00:06, 38506.17it/s] \n",
      "Started molecular formula search for class {\"N\": 2, \"S\": 1, \"O\": 20, \"F\": 4}, (de)protonated : 100%|██████████| 300/300 [00:00<00:00, 677.87it/s]\n",
      "Loading molecular formula database: 166880it [00:04, 38871.16it/s] \n",
      "Started molecular formula search for class {\"N\": 3, \"S\": 1, \"O\": 20, \"F\": 4}, (de)protonated : 100%|██████████| 200/200 [00:00<00:00, 730.03it/s]\n"
     ]
    },
    {
     "name": "stdout",
     "output_type": "stream",
     "text": [
      "'run_molecular_formula'  17788.40 ms\n",
      "273 assigned peaks and 95 unassigned peaks, total  = 74.18 %, relative abundance = 74.88 %, RMS error (best candidate) (ppm) = 0.066\n",
      "timestart: 12\n",
      "negative\n",
      "MS Obj loaded - 353 peaks found.\n",
      "MS Obj loaded - 353 peaks found.\n",
      "Reference mass list loaded - 2030 calibration masses loaded.\n",
      "101 calibration points matched within thresholds.\n",
      "minimize function completed with RMS error of: 0.054 ppm\n",
      "minimize function performed 352 fn evals and 7 iterations\n",
      "'runworker'  32.66 ms\n"
     ]
    },
    {
     "name": "stderr",
     "output_type": "stream",
     "text": [
      "Loading molecular formula database: 244178it [00:06, 40622.50it/s] \n",
      "Started molecular formula search for class {\"N\": 1, \"S\": 1, \"O\": 10, \"F\": 4}, (de)protonated : 100%|██████████| 300/300 [00:00<00:00, 514.00it/s]\n",
      "Loading molecular formula database: 247740it [00:06, 39822.18it/s] \n",
      "Started molecular formula search for class {\"N\": 2, \"S\": 1, \"O\": 20, \"F\": 4}, (de)protonated : 100%|██████████| 300/300 [00:00<00:00, 696.91it/s] \n",
      "Loading molecular formula database: 166880it [00:03, 43688.77it/s] \n",
      "Started molecular formula search for class {\"N\": 3, \"S\": 1, \"O\": 20, \"F\": 4}, (de)protonated : 100%|██████████| 200/200 [00:00<00:00, 763.38it/s]\n"
     ]
    },
    {
     "name": "stdout",
     "output_type": "stream",
     "text": [
      "'run_molecular_formula'  17457.64 ms\n",
      "269 assigned peaks and 84 unassigned peaks, total  = 76.20 %, relative abundance = 76.11 %, RMS error (best candidate) (ppm) = 0.066\n",
      "timestart: 14\n",
      "negative\n",
      "MS Obj loaded - 442 peaks found.\n",
      "MS Obj loaded - 442 peaks found.\n",
      "Reference mass list loaded - 2030 calibration masses loaded.\n",
      "97 calibration points matched within thresholds.\n",
      "minimize function completed with RMS error of: 0.071 ppm\n",
      "minimize function performed 317 fn evals and 6 iterations\n",
      "'runworker'  32.11 ms\n"
     ]
    },
    {
     "name": "stderr",
     "output_type": "stream",
     "text": [
      "Loading molecular formula database: 244178it [00:05, 41820.85it/s] \n",
      "Started molecular formula search for class {\"N\": 1, \"S\": 1, \"O\": 10, \"F\": 4}, (de)protonated : 100%|██████████| 300/300 [00:00<00:00, 428.44it/s]\n",
      "Loading molecular formula database: 247740it [00:06, 39384.29it/s] \n",
      "Started molecular formula search for class {\"N\": 2, \"S\": 1, \"O\": 20, \"F\": 4}, (de)protonated : 100%|██████████| 300/300 [00:00<00:00, 579.65it/s]\n",
      "Loading molecular formula database: 166880it [00:04, 41074.49it/s] \n",
      "Started molecular formula search for class {\"N\": 3, \"S\": 1, \"O\": 20, \"F\": 4}, (de)protonated : 100%|██████████| 200/200 [00:00<00:00, 695.95it/s]\n"
     ]
    },
    {
     "name": "stdout",
     "output_type": "stream",
     "text": [
      "'run_molecular_formula'  17831.33 ms\n",
      "310 assigned peaks and 132 unassigned peaks, total  = 70.14 %, relative abundance = 71.68 %, RMS error (best candidate) (ppm) = 0.077\n",
      "timestart: 16\n",
      "negative\n",
      "MS Obj loaded - 397 peaks found.\n",
      "MS Obj loaded - 397 peaks found.\n",
      "Reference mass list loaded - 2030 calibration masses loaded.\n",
      "92 calibration points matched within thresholds.\n",
      "minimize function completed with RMS error of: 0.052 ppm\n",
      "minimize function performed 350 fn evals and 7 iterations\n",
      "'runworker'  77.19 ms\n"
     ]
    },
    {
     "name": "stderr",
     "output_type": "stream",
     "text": [
      "Loading molecular formula database: 244178it [00:06, 39454.48it/s] \n",
      "Started molecular formula search for class {\"N\": 1, \"S\": 1, \"O\": 10, \"F\": 4}, (de)protonated : 100%|██████████| 300/300 [00:00<00:00, 475.86it/s]\n",
      "Loading molecular formula database: 247740it [00:05, 42123.56it/s] \n",
      "Started molecular formula search for class {\"N\": 2, \"S\": 1, \"O\": 20, \"F\": 4}, (de)protonated : 100%|██████████| 300/300 [00:00<00:00, 640.91it/s]\n",
      "Loading molecular formula database: 166880it [00:04, 39243.79it/s] \n",
      "Started molecular formula search for class {\"N\": 3, \"S\": 1, \"O\": 20, \"F\": 4}, (de)protonated : 100%|██████████| 200/200 [00:00<00:00, 772.48it/s]\n"
     ]
    },
    {
     "name": "stdout",
     "output_type": "stream",
     "text": [
      "'run_molecular_formula'  17854.63 ms\n",
      "283 assigned peaks and 114 unassigned peaks, total  = 71.28 %, relative abundance = 73.35 %, RMS error (best candidate) (ppm) = 0.069\n",
      "timestart: 18\n",
      "negative\n",
      "MS Obj loaded - 382 peaks found.\n",
      "MS Obj loaded - 382 peaks found.\n",
      "Reference mass list loaded - 2030 calibration masses loaded.\n",
      "78 calibration points matched within thresholds.\n",
      "minimize function completed with RMS error of: 0.050 ppm\n",
      "minimize function performed 357 fn evals and 7 iterations\n",
      "'runworker'  31.15 ms\n"
     ]
    },
    {
     "name": "stderr",
     "output_type": "stream",
     "text": [
      "Loading molecular formula database: 244178it [00:05, 42573.57it/s] \n",
      "Started molecular formula search for class {\"N\": 1, \"S\": 1, \"O\": 10, \"F\": 4}, (de)protonated : 100%|██████████| 300/300 [00:00<00:00, 383.76it/s]\n",
      "Loading molecular formula database: 247740it [00:06, 40098.67it/s] \n",
      "Started molecular formula search for class {\"N\": 2, \"S\": 1, \"O\": 20, \"F\": 4}, (de)protonated : 100%|██████████| 300/300 [00:00<00:00, 516.07it/s]\n",
      "Loading molecular formula database: 166880it [00:04, 37405.55it/s]\n",
      "Started molecular formula search for class {\"N\": 3, \"S\": 1, \"O\": 20, \"F\": 4}, (de)protonated : 100%|██████████| 200/200 [00:00<00:00, 723.07it/s]\n"
     ]
    },
    {
     "name": "stdout",
     "output_type": "stream",
     "text": [
      "'run_molecular_formula'  18143.13 ms\n",
      "274 assigned peaks and 108 unassigned peaks, total  = 71.73 %, relative abundance = 71.62 %, RMS error (best candidate) (ppm) = 0.078\n",
      "timestart: 20\n",
      "negative\n",
      "MS Obj loaded - 401 peaks found.\n",
      "MS Obj loaded - 401 peaks found.\n",
      "Reference mass list loaded - 2030 calibration masses loaded.\n",
      "71 calibration points matched within thresholds.\n",
      "minimize function completed with RMS error of: 0.064 ppm\n",
      "minimize function performed 357 fn evals and 7 iterations\n",
      "'runworker'  31.72 ms\n"
     ]
    },
    {
     "name": "stderr",
     "output_type": "stream",
     "text": [
      "Loading molecular formula database: 244178it [00:06, 40654.20it/s] \n",
      "Started molecular formula search for class {\"N\": 1, \"S\": 1, \"O\": 10, \"F\": 4}, (de)protonated : 100%|██████████| 300/300 [00:00<00:00, 353.13it/s]\n",
      "Loading molecular formula database: 247740it [00:05, 42246.86it/s] \n",
      "Started molecular formula search for class {\"N\": 2, \"S\": 1, \"O\": 20, \"F\": 4}, (de)protonated : 100%|██████████| 300/300 [00:00<00:00, 632.51it/s]\n",
      "Loading molecular formula database: 166880it [00:04, 36619.37it/s]\n",
      "Started molecular formula search for class {\"N\": 3, \"S\": 1, \"O\": 20, \"F\": 4}, (de)protonated : 100%|██████████| 200/200 [00:00<00:00, 512.23it/s]\n"
     ]
    },
    {
     "name": "stdout",
     "output_type": "stream",
     "text": [
      "'run_molecular_formula'  18271.27 ms\n",
      "270 assigned peaks and 131 unassigned peaks, total  = 67.33 %, relative abundance = 73.35 %, RMS error (best candidate) (ppm) = 0.079\n",
      "timestart: 22\n",
      "negative\n",
      "MS Obj loaded - 226 peaks found.\n",
      "MS Obj loaded - 226 peaks found.\n",
      "Reference mass list loaded - 2030 calibration masses loaded.\n",
      "39 calibration points matched within thresholds.\n",
      "minimize function completed with RMS error of: 0.029 ppm\n",
      "minimize function performed 390 fn evals and 8 iterations\n",
      "'runworker'  30.40 ms\n"
     ]
    },
    {
     "name": "stderr",
     "output_type": "stream",
     "text": [
      "Loading molecular formula database: 244178it [00:05, 43374.01it/s] \n",
      "Started molecular formula search for class {\"N\": 1, \"S\": 1, \"O\": 10, \"F\": 4}, (de)protonated : 100%|██████████| 300/300 [00:00<00:00, 698.16it/s]\n",
      "Loading molecular formula database: 247740it [00:05, 43096.50it/s] \n",
      "Started molecular formula search for class {\"N\": 2, \"S\": 1, \"O\": 20, \"F\": 4}, (de)protonated : 100%|██████████| 300/300 [00:00<00:00, 971.52it/s] \n",
      "Loading molecular formula database: 166880it [00:03, 44429.82it/s] \n",
      "Started molecular formula search for class {\"N\": 3, \"S\": 1, \"O\": 20, \"F\": 4}, (de)protonated : 100%|██████████| 200/200 [00:00<00:00, 1080.25it/s]\n"
     ]
    },
    {
     "name": "stdout",
     "output_type": "stream",
     "text": [
      "'run_molecular_formula'  16170.38 ms\n",
      "172 assigned peaks and 54 unassigned peaks, total  = 76.11 %, relative abundance = 76.19 %, RMS error (best candidate) (ppm) = 0.047\n",
      "\n",
      "\n",
      "20230113_LBA_Boiteau_Zorbax5um_1500IT_neg_qh2o_300_500_01.raw\n",
      "2 of 12 files\n",
      "timestart: 4\n",
      "negative\n",
      "MS Obj loaded - 295 peaks found.\n",
      "MS Obj loaded - 295 peaks found.\n",
      "Reference mass list loaded - 2030 calibration masses loaded.\n",
      "79 calibration points matched within thresholds.\n",
      "minimize function completed with RMS error of: 0.058 ppm\n",
      "minimize function performed 397 fn evals and 8 iterations\n",
      "'runworker'  31.07 ms\n"
     ]
    },
    {
     "name": "stderr",
     "output_type": "stream",
     "text": [
      "Loading molecular formula database: 244178it [00:05, 42153.41it/s] \n",
      "Started molecular formula search for class {\"N\": 1, \"S\": 1, \"O\": 10, \"F\": 4}, (de)protonated : 100%|██████████| 300/300 [00:00<00:00, 536.11it/s]\n",
      "Loading molecular formula database: 247740it [00:05, 43305.22it/s] \n",
      "Started molecular formula search for class {\"N\": 2, \"S\": 1, \"O\": 20, \"F\": 4}, (de)protonated : 100%|██████████| 300/300 [00:00<00:00, 831.35it/s] \n",
      "Loading molecular formula database: 166880it [00:03, 42823.14it/s] \n",
      "Started molecular formula search for class {\"N\": 3, \"S\": 1, \"O\": 20, \"F\": 4}, (de)protonated : 100%|██████████| 200/200 [00:00<00:00, 860.26it/s]\n"
     ]
    },
    {
     "name": "stdout",
     "output_type": "stream",
     "text": [
      "'run_molecular_formula'  16676.73 ms\n",
      "205 assigned peaks and 90 unassigned peaks, total  = 69.49 %, relative abundance = 67.51 %, RMS error (best candidate) (ppm) = 0.063\n",
      "timestart: 6\n",
      "negative\n",
      "MS Obj loaded - 335 peaks found.\n",
      "MS Obj loaded - 335 peaks found.\n",
      "Reference mass list loaded - 2030 calibration masses loaded.\n",
      "96 calibration points matched within thresholds.\n",
      "minimize function completed with RMS error of: 0.056 ppm\n",
      "minimize function performed 355 fn evals and 7 iterations\n",
      "'runworker'  31.54 ms\n"
     ]
    },
    {
     "name": "stderr",
     "output_type": "stream",
     "text": [
      "Loading molecular formula database: 244178it [00:05, 41049.97it/s] \n",
      "Started molecular formula search for class {\"N\": 1, \"S\": 1, \"O\": 10, \"F\": 4}, (de)protonated : 100%|██████████| 300/300 [00:00<00:00, 522.11it/s]\n",
      "Loading molecular formula database: 247740it [00:05, 43604.01it/s] \n",
      "Started molecular formula search for class {\"N\": 2, \"S\": 1, \"O\": 20, \"F\": 4}, (de)protonated : 100%|██████████| 300/300 [00:00<00:00, 698.39it/s] \n",
      "Loading molecular formula database: 166880it [00:03, 42111.19it/s] \n",
      "Started molecular formula search for class {\"N\": 3, \"S\": 1, \"O\": 20, \"F\": 4}, (de)protonated : 100%|██████████| 200/200 [00:00<00:00, 893.34it/s]\n"
     ]
    },
    {
     "name": "stdout",
     "output_type": "stream",
     "text": [
      "'run_molecular_formula'  16937.55 ms\n",
      "252 assigned peaks and 83 unassigned peaks, total  = 75.22 %, relative abundance = 73.43 %, RMS error (best candidate) (ppm) = 0.067\n",
      "timestart: 8\n",
      "negative\n",
      "MS Obj loaded - 297 peaks found.\n",
      "MS Obj loaded - 297 peaks found.\n",
      "Reference mass list loaded - 2030 calibration masses loaded.\n",
      "94 calibration points matched within thresholds.\n",
      "minimize function completed with RMS error of: 0.041 ppm\n",
      "minimize function performed 353 fn evals and 7 iterations\n",
      "'runworker'  31.40 ms\n"
     ]
    },
    {
     "name": "stderr",
     "output_type": "stream",
     "text": [
      "Loading molecular formula database: 244178it [00:05, 41781.87it/s] \n",
      "Started molecular formula search for class {\"N\": 1, \"S\": 1, \"O\": 10, \"F\": 4}, (de)protonated : 100%|██████████| 300/300 [00:00<00:00, 589.37it/s]\n",
      "Loading molecular formula database: 247740it [00:05, 43842.59it/s] \n",
      "Started molecular formula search for class {\"N\": 2, \"S\": 1, \"O\": 20, \"F\": 4}, (de)protonated : 100%|██████████| 300/300 [00:00<00:00, 765.54it/s] \n",
      "Loading molecular formula database: 166880it [00:04, 39585.78it/s] \n",
      "Started molecular formula search for class {\"N\": 3, \"S\": 1, \"O\": 20, \"F\": 4}, (de)protonated : 100%|██████████| 200/200 [00:00<00:00, 980.81it/s]\n"
     ]
    },
    {
     "name": "stdout",
     "output_type": "stream",
     "text": [
      "'run_molecular_formula'  16931.79 ms\n",
      "242 assigned peaks and 55 unassigned peaks, total  = 81.48 %, relative abundance = 77.39 %, RMS error (best candidate) (ppm) = 0.058\n",
      "timestart: 10\n",
      "negative\n",
      "MS Obj loaded - 327 peaks found.\n",
      "MS Obj loaded - 327 peaks found.\n",
      "Reference mass list loaded - 2030 calibration masses loaded.\n",
      "104 calibration points matched within thresholds.\n",
      "minimize function completed with RMS error of: 0.061 ppm\n",
      "minimize function performed 318 fn evals and 6 iterations\n",
      "'runworker'  32.86 ms\n"
     ]
    },
    {
     "name": "stderr",
     "output_type": "stream",
     "text": [
      "Loading molecular formula database: 244178it [00:05, 43679.11it/s] \n",
      "Started molecular formula search for class {\"N\": 1, \"S\": 1, \"O\": 10, \"F\": 4}, (de)protonated : 100%|██████████| 300/300 [00:00<00:00, 531.96it/s]\n",
      "Loading molecular formula database: 247740it [00:05, 41902.78it/s] \n",
      "Started molecular formula search for class {\"N\": 2, \"S\": 1, \"O\": 20, \"F\": 4}, (de)protonated : 100%|██████████| 300/300 [00:00<00:00, 705.98it/s]\n",
      "Loading molecular formula database: 166880it [00:04, 39606.25it/s] \n",
      "Started molecular formula search for class {\"N\": 3, \"S\": 1, \"O\": 20, \"F\": 4}, (de)protonated : 100%|██████████| 200/200 [00:00<00:00, 904.24it/s]\n"
     ]
    },
    {
     "name": "stdout",
     "output_type": "stream",
     "text": [
      "'run_molecular_formula'  17047.06 ms\n",
      "269 assigned peaks and 58 unassigned peaks, total  = 82.26 %, relative abundance = 81.36 %, RMS error (best candidate) (ppm) = 0.067\n",
      "timestart: 12\n",
      "negative\n",
      "MS Obj loaded - 341 peaks found.\n",
      "MS Obj loaded - 341 peaks found.\n",
      "Reference mass list loaded - 2030 calibration masses loaded.\n",
      "103 calibration points matched within thresholds.\n",
      "minimize function completed with RMS error of: 0.056 ppm\n",
      "minimize function performed 349 fn evals and 7 iterations\n",
      "'runworker'  31.33 ms\n"
     ]
    },
    {
     "name": "stderr",
     "output_type": "stream",
     "text": [
      "Loading molecular formula database: 244178it [00:05, 41302.35it/s] \n",
      "Started molecular formula search for class {\"N\": 1, \"S\": 1, \"O\": 10, \"F\": 4}, (de)protonated : 100%|██████████| 300/300 [00:00<00:00, 528.78it/s]\n",
      "Loading molecular formula database: 247740it [00:05, 43026.79it/s] \n",
      "Started molecular formula search for class {\"N\": 2, \"S\": 1, \"O\": 20, \"F\": 4}, (de)protonated : 100%|██████████| 300/300 [00:00<00:00, 721.04it/s] \n",
      "Loading molecular formula database: 166880it [00:03, 42958.92it/s] \n",
      "Started molecular formula search for class {\"N\": 3, \"S\": 1, \"O\": 20, \"F\": 4}, (de)protonated : 100%|██████████| 200/200 [00:00<00:00, 894.85it/s]\n"
     ]
    },
    {
     "name": "stdout",
     "output_type": "stream",
     "text": [
      "'run_molecular_formula'  16881.10 ms\n",
      "278 assigned peaks and 63 unassigned peaks, total  = 81.52 %, relative abundance = 82.31 %, RMS error (best candidate) (ppm) = 0.062\n",
      "timestart: 14\n",
      "negative\n",
      "MS Obj loaded - 353 peaks found.\n",
      "MS Obj loaded - 353 peaks found.\n",
      "Reference mass list loaded - 2030 calibration masses loaded.\n",
      "98 calibration points matched within thresholds.\n",
      "minimize function completed with RMS error of: 0.046 ppm\n",
      "minimize function performed 353 fn evals and 7 iterations\n",
      "'runworker'  29.80 ms\n"
     ]
    },
    {
     "name": "stderr",
     "output_type": "stream",
     "text": [
      "Loading molecular formula database: 244178it [00:05, 42185.15it/s] \n",
      "Started molecular formula search for class {\"N\": 1, \"S\": 1, \"O\": 10, \"F\": 4}, (de)protonated : 100%|██████████| 300/300 [00:00<00:00, 518.61it/s]\n",
      "Loading molecular formula database: 247740it [00:06, 40665.81it/s] \n",
      "Started molecular formula search for class {\"N\": 2, \"S\": 1, \"O\": 20, \"F\": 4}, (de)protonated : 100%|██████████| 300/300 [00:00<00:00, 690.11it/s] \n",
      "Loading molecular formula database: 166880it [00:03, 42402.04it/s] \n",
      "Started molecular formula search for class {\"N\": 3, \"S\": 1, \"O\": 20, \"F\": 4}, (de)protonated : 100%|██████████| 200/200 [00:00<00:00, 869.33it/s]\n"
     ]
    },
    {
     "name": "stdout",
     "output_type": "stream",
     "text": [
      "'run_molecular_formula'  17175.57 ms\n",
      "299 assigned peaks and 54 unassigned peaks, total  = 84.70 %, relative abundance = 81.05 %, RMS error (best candidate) (ppm) = 0.059\n",
      "timestart: 16\n",
      "negative\n",
      "MS Obj loaded - 373 peaks found.\n",
      "MS Obj loaded - 373 peaks found.\n",
      "Reference mass list loaded - 2030 calibration masses loaded.\n",
      "99 calibration points matched within thresholds.\n",
      "minimize function completed with RMS error of: 0.078 ppm\n",
      "minimize function performed 320 fn evals and 6 iterations\n",
      "'runworker'  30.86 ms\n"
     ]
    },
    {
     "name": "stderr",
     "output_type": "stream",
     "text": [
      "Loading molecular formula database: 244178it [00:06, 40355.50it/s] \n",
      "Started molecular formula search for class {\"N\": 1, \"S\": 1, \"O\": 10, \"F\": 4}, (de)protonated : 100%|██████████| 300/300 [00:00<00:00, 500.70it/s]\n",
      "Loading molecular formula database: 247740it [00:05, 42116.07it/s] \n",
      "Started molecular formula search for class {\"N\": 2, \"S\": 1, \"O\": 20, \"F\": 4}, (de)protonated : 100%|██████████| 300/300 [00:00<00:00, 665.67it/s] \n",
      "Loading molecular formula database: 166880it [00:04, 41161.87it/s]\n",
      "Started molecular formula search for class {\"N\": 3, \"S\": 1, \"O\": 20, \"F\": 4}, (de)protonated : 100%|██████████| 200/200 [00:00<00:00, 840.50it/s]\n"
     ]
    },
    {
     "name": "stdout",
     "output_type": "stream",
     "text": [
      "'run_molecular_formula'  17394.90 ms\n",
      "294 assigned peaks and 79 unassigned peaks, total  = 78.82 %, relative abundance = 83.04 %, RMS error (best candidate) (ppm) = 0.067\n",
      "timestart: 18\n",
      "negative\n",
      "MS Obj loaded - 431 peaks found.\n",
      "MS Obj loaded - 431 peaks found.\n",
      "Reference mass list loaded - 2030 calibration masses loaded.\n",
      "88 calibration points matched within thresholds.\n",
      "minimize function completed with RMS error of: 0.060 ppm\n",
      "minimize function performed 351 fn evals and 7 iterations\n",
      "'runworker'  31.77 ms\n"
     ]
    },
    {
     "name": "stderr",
     "output_type": "stream",
     "text": [
      "Loading molecular formula database: 244178it [00:06, 40195.00it/s] \n",
      "Started molecular formula search for class {\"N\": 1, \"S\": 1, \"O\": 10, \"F\": 4}, (de)protonated : 100%|██████████| 300/300 [00:00<00:00, 357.77it/s]\n",
      "Loading molecular formula database: 247740it [00:06, 39817.93it/s] \n",
      "Started molecular formula search for class {\"N\": 2, \"S\": 1, \"O\": 20, \"F\": 4}, (de)protonated : 100%|██████████| 300/300 [00:00<00:00, 604.08it/s]\n",
      "Loading molecular formula database: 166880it [00:03, 43843.16it/s] \n",
      "Started molecular formula search for class {\"N\": 3, \"S\": 1, \"O\": 20, \"F\": 4}, (de)protonated : 100%|██████████| 200/200 [00:00<00:00, 721.90it/s]\n"
     ]
    },
    {
     "name": "stdout",
     "output_type": "stream",
     "text": [
      "'run_molecular_formula'  17843.19 ms\n",
      "310 assigned peaks and 121 unassigned peaks, total  = 71.93 %, relative abundance = 80.38 %, RMS error (best candidate) (ppm) = 0.077\n",
      "timestart: 20\n",
      "negative\n",
      "MS Obj loaded - 413 peaks found.\n",
      "MS Obj loaded - 413 peaks found.\n",
      "Reference mass list loaded - 2030 calibration masses loaded.\n",
      "87 calibration points matched within thresholds.\n",
      "minimize function completed with RMS error of: 0.065 ppm\n",
      "minimize function performed 354 fn evals and 7 iterations\n",
      "'runworker'  30.24 ms\n"
     ]
    },
    {
     "name": "stderr",
     "output_type": "stream",
     "text": [
      "Loading molecular formula database: 244178it [00:05, 41214.18it/s] \n",
      "Started molecular formula search for class {\"N\": 1, \"S\": 1, \"O\": 10, \"F\": 4}, (de)protonated : 100%|██████████| 300/300 [00:00<00:00, 365.35it/s]\n",
      "Loading molecular formula database: 247740it [00:06, 38194.01it/s] \n",
      "Started molecular formula search for class {\"N\": 2, \"S\": 1, \"O\": 20, \"F\": 4}, (de)protonated : 100%|██████████| 300/300 [00:00<00:00, 617.49it/s]\n",
      "Loading molecular formula database: 166880it [00:03, 42126.39it/s] \n",
      "Started molecular formula search for class {\"N\": 3, \"S\": 1, \"O\": 20, \"F\": 4}, (de)protonated : 100%|██████████| 200/200 [00:00<00:00, 636.19it/s]\n"
     ]
    },
    {
     "name": "stdout",
     "output_type": "stream",
     "text": [
      "'run_molecular_formula'  18121.00 ms\n",
      "311 assigned peaks and 102 unassigned peaks, total  = 75.30 %, relative abundance = 81.29 %, RMS error (best candidate) (ppm) = 0.074\n",
      "timestart: 22\n",
      "negative\n",
      "MS Obj loaded - 355 peaks found.\n",
      "MS Obj loaded - 355 peaks found.\n",
      "Reference mass list loaded - 2030 calibration masses loaded.\n",
      "84 calibration points matched within thresholds.\n",
      "minimize function completed with RMS error of: 0.052 ppm\n",
      "minimize function performed 353 fn evals and 7 iterations\n",
      "'runworker'  31.33 ms\n"
     ]
    },
    {
     "name": "stderr",
     "output_type": "stream",
     "text": [
      "Loading molecular formula database: 244178it [00:05, 41045.33it/s] \n",
      "Started molecular formula search for class {\"N\": 1, \"S\": 1, \"O\": 10, \"F\": 4}, (de)protonated : 100%|██████████| 300/300 [00:00<00:00, 428.88it/s]\n",
      "Loading molecular formula database: 247740it [00:06, 40389.78it/s] \n",
      "Started molecular formula search for class {\"N\": 2, \"S\": 1, \"O\": 20, \"F\": 4}, (de)protonated : 100%|██████████| 300/300 [00:00<00:00, 588.68it/s] \n",
      "Loading molecular formula database: 166880it [00:03, 42316.47it/s] \n",
      "Started molecular formula search for class {\"N\": 3, \"S\": 1, \"O\": 20, \"F\": 4}, (de)protonated : 100%|██████████| 200/200 [00:00<00:00, 793.41it/s]\n"
     ]
    },
    {
     "name": "stdout",
     "output_type": "stream",
     "text": [
      "'run_molecular_formula'  17612.08 ms\n",
      "290 assigned peaks and 65 unassigned peaks, total  = 81.69 %, relative abundance = 80.62 %, RMS error (best candidate) (ppm) = 0.061\n",
      "\n",
      "\n",
      "20230113_LBA_Boiteau_Zorbax5um_1500IT_neg_FinalEff_300_500_02.raw\n",
      "3 of 12 files\n",
      "timestart: 4\n",
      "negative\n",
      "MS Obj loaded - 595 peaks found.\n",
      "MS Obj loaded - 595 peaks found.\n",
      "Reference mass list loaded - 2030 calibration masses loaded.\n",
      "111 calibration points matched within thresholds.\n",
      "minimize function completed with RMS error of: 0.037 ppm\n",
      "minimize function performed 360 fn evals and 7 iterations\n",
      "'runworker'  29.94 ms\n"
     ]
    },
    {
     "name": "stderr",
     "output_type": "stream",
     "text": [
      "Loading molecular formula database: 244178it [00:06, 39001.66it/s] \n",
      "Started molecular formula search for class {\"N\": 1, \"S\": 1, \"O\": 10, \"F\": 4}, (de)protonated : 100%|██████████| 300/300 [00:00<00:00, 329.11it/s]\n",
      "Loading molecular formula database: 247740it [00:05, 41354.76it/s] \n",
      "Started molecular formula search for class {\"N\": 2, \"S\": 1, \"O\": 20, \"F\": 4}, (de)protonated : 100%|██████████| 300/300 [00:00<00:00, 449.04it/s]\n",
      "Loading molecular formula database: 166880it [00:04, 40710.96it/s] \n",
      "Started molecular formula search for class {\"N\": 3, \"S\": 1, \"O\": 20, \"F\": 4}, (de)protonated : 100%|██████████| 200/200 [00:00<00:00, 544.74it/s]\n"
     ]
    },
    {
     "name": "stdout",
     "output_type": "stream",
     "text": [
      "'run_molecular_formula'  18424.67 ms\n",
      "554 assigned peaks and 41 unassigned peaks, total  = 93.11 %, relative abundance = 95.84 %, RMS error (best candidate) (ppm) = 0.048\n",
      "timestart: 6\n",
      "negative\n",
      "MS Obj loaded - 700 peaks found.\n",
      "MS Obj loaded - 700 peaks found.\n",
      "Reference mass list loaded - 2030 calibration masses loaded.\n",
      "109 calibration points matched within thresholds.\n",
      "minimize function completed with RMS error of: 0.040 ppm\n",
      "minimize function performed 362 fn evals and 7 iterations\n",
      "'runworker'  29.24 ms\n"
     ]
    },
    {
     "name": "stderr",
     "output_type": "stream",
     "text": [
      "Loading molecular formula database: 244178it [00:05, 40760.06it/s] \n",
      "Started molecular formula search for class {\"N\": 1, \"S\": 1, \"O\": 10, \"F\": 4}, (de)protonated : 100%|██████████| 300/300 [00:01<00:00, 293.23it/s]\n",
      "Loading molecular formula database: 247740it [00:06, 38980.69it/s] \n",
      "Started molecular formula search for class {\"N\": 2, \"S\": 1, \"O\": 20, \"F\": 4}, (de)protonated : 100%|██████████| 300/300 [00:00<00:00, 407.34it/s]\n",
      "Loading molecular formula database: 166880it [00:03, 41834.62it/s] \n",
      "Started molecular formula search for class {\"N\": 3, \"S\": 1, \"O\": 20, \"F\": 4}, (de)protonated : 100%|██████████| 200/200 [00:00<00:00, 437.40it/s]\n"
     ]
    },
    {
     "name": "stdout",
     "output_type": "stream",
     "text": [
      "'run_molecular_formula'  18677.04 ms\n",
      "655 assigned peaks and 45 unassigned peaks, total  = 93.57 %, relative abundance = 95.50 %, RMS error (best candidate) (ppm) = 0.045\n",
      "timestart: 8\n",
      "negative\n",
      "MS Obj loaded - 461 peaks found.\n",
      "MS Obj loaded - 461 peaks found.\n",
      "Reference mass list loaded - 2030 calibration masses loaded.\n",
      "84 calibration points matched within thresholds.\n",
      "minimize function completed with RMS error of: 0.031 ppm\n",
      "minimize function performed 355 fn evals and 7 iterations\n",
      "'runworker'  30.10 ms\n"
     ]
    },
    {
     "name": "stderr",
     "output_type": "stream",
     "text": [
      "Loading molecular formula database: 244178it [00:06, 39099.25it/s] \n",
      "Started molecular formula search for class {\"N\": 1, \"S\": 1, \"O\": 10, \"F\": 4}, (de)protonated : 100%|██████████| 300/300 [00:01<00:00, 269.01it/s]\n",
      "Loading molecular formula database: 247740it [00:06, 38443.74it/s] \n",
      "Started molecular formula search for class {\"N\": 2, \"S\": 1, \"O\": 20, \"F\": 4}, (de)protonated : 100%|██████████| 300/300 [00:00<00:00, 490.33it/s]\n",
      "Loading molecular formula database: 166880it [00:03, 45900.83it/s] \n",
      "Started molecular formula search for class {\"N\": 3, \"S\": 1, \"O\": 20, \"F\": 4}, (de)protonated : 100%|██████████| 200/200 [00:00<00:00, 555.04it/s]\n"
     ]
    },
    {
     "name": "stdout",
     "output_type": "stream",
     "text": [
      "'run_molecular_formula'  18536.88 ms\n",
      "426 assigned peaks and 35 unassigned peaks, total  = 92.41 %, relative abundance = 68.22 %, RMS error (best candidate) (ppm) = 0.046\n",
      "timestart: 10\n",
      "negative\n",
      "MS Obj loaded - 657 peaks found.\n",
      "MS Obj loaded - 657 peaks found.\n",
      "Reference mass list loaded - 2030 calibration masses loaded.\n",
      "110 calibration points matched within thresholds.\n",
      "minimize function completed with RMS error of: 0.039 ppm\n",
      "minimize function performed 352 fn evals and 7 iterations\n",
      "'runworker'  29.30 ms\n"
     ]
    },
    {
     "name": "stderr",
     "output_type": "stream",
     "text": [
      "Loading molecular formula database: 244178it [00:06, 38706.51it/s] \n",
      "Started molecular formula search for class {\"N\": 1, \"S\": 1, \"O\": 10, \"F\": 4}, (de)protonated : 100%|██████████| 300/300 [00:01<00:00, 203.74it/s]\n",
      "Loading molecular formula database: 247740it [00:06, 35898.71it/s] \n",
      "Started molecular formula search for class {\"N\": 2, \"S\": 1, \"O\": 20, \"F\": 4}, (de)protonated : 100%|██████████| 300/300 [00:00<00:00, 392.80it/s]\n",
      "Loading molecular formula database: 166880it [00:03, 43384.10it/s] \n",
      "Started molecular formula search for class {\"N\": 3, \"S\": 1, \"O\": 20, \"F\": 4}, (de)protonated : 100%|██████████| 200/200 [00:00<00:00, 502.43it/s]\n"
     ]
    },
    {
     "name": "stdout",
     "output_type": "stream",
     "text": [
      "'run_molecular_formula'  19825.97 ms\n",
      "616 assigned peaks and 41 unassigned peaks, total  = 93.76 %, relative abundance = 96.09 %, RMS error (best candidate) (ppm) = 0.047\n",
      "timestart: 12\n",
      "negative\n",
      "MS Obj loaded - 1045 peaks found.\n",
      "MS Obj loaded - 1045 peaks found.\n",
      "Reference mass list loaded - 2030 calibration masses loaded.\n",
      "124 calibration points matched within thresholds.\n",
      "minimize function completed with RMS error of: 0.133 ppm\n",
      "minimize function performed 313 fn evals and 6 iterations\n",
      "'runworker'  29.96 ms\n"
     ]
    },
    {
     "name": "stderr",
     "output_type": "stream",
     "text": [
      "Loading molecular formula database: 244178it [00:06, 36182.20it/s] \n",
      "Started molecular formula search for class {\"N\": 1, \"S\": 1, \"O\": 10, \"F\": 4}, (de)protonated : 100%|██████████| 300/300 [00:02<00:00, 114.54it/s]\n",
      "Loading molecular formula database: 247740it [00:06, 38845.58it/s] \n",
      "Started molecular formula search for class {\"N\": 2, \"S\": 1, \"O\": 20, \"F\": 4}, (de)protonated : 100%|██████████| 300/300 [00:01<00:00, 233.01it/s]\n",
      "Loading molecular formula database: 166880it [00:04, 38426.71it/s] \n",
      "Started molecular formula search for class {\"N\": 3, \"S\": 1, \"O\": 20, \"F\": 4}, (de)protonated : 100%|██████████| 200/200 [00:00<00:00, 250.85it/s]\n"
     ]
    },
    {
     "name": "stdout",
     "output_type": "stream",
     "text": [
      "'run_molecular_formula'  22319.34 ms\n",
      "869 assigned peaks and 176 unassigned peaks, total  = 83.16 %, relative abundance = 95.18 %, RMS error (best candidate) (ppm) = 0.062\n",
      "timestart: 14\n",
      "negative\n",
      "MS Obj loaded - 689 peaks found.\n",
      "MS Obj loaded - 689 peaks found.\n",
      "Reference mass list loaded - 2030 calibration masses loaded.\n",
      "103 calibration points matched within thresholds.\n",
      "minimize function completed with RMS error of: 0.147 ppm\n",
      "minimize function performed 314 fn evals and 6 iterations\n",
      "'runworker'  37.09 ms\n"
     ]
    },
    {
     "name": "stderr",
     "output_type": "stream",
     "text": [
      "Loading molecular formula database: 244178it [00:06, 39441.53it/s] \n",
      "Started molecular formula search for class {\"N\": 1, \"S\": 1, \"O\": 10, \"F\": 4}, (de)protonated : 100%|██████████| 300/300 [00:01<00:00, 173.04it/s]\n",
      "Loading molecular formula database: 247740it [00:06, 35908.98it/s]\n",
      "Started molecular formula search for class {\"N\": 2, \"S\": 1, \"O\": 20, \"F\": 4}, (de)protonated : 100%|██████████| 300/300 [00:00<00:00, 423.75it/s]\n",
      "Loading molecular formula database: 166880it [00:03, 43202.99it/s] \n",
      "Started molecular formula search for class {\"N\": 3, \"S\": 1, \"O\": 20, \"F\": 4}, (de)protonated : 100%|██████████| 200/200 [00:00<00:00, 448.16it/s]\n"
     ]
    },
    {
     "name": "stdout",
     "output_type": "stream",
     "text": [
      "'run_molecular_formula'  19983.62 ms\n",
      "632 assigned peaks and 57 unassigned peaks, total  = 91.73 %, relative abundance = 97.64 %, RMS error (best candidate) (ppm) = 0.047\n",
      "timestart: 16\n",
      "negative\n",
      "MS Obj loaded - 619 peaks found.\n",
      "MS Obj loaded - 619 peaks found.\n",
      "Reference mass list loaded - 2030 calibration masses loaded.\n",
      "102 calibration points matched within thresholds.\n",
      "minimize function completed with RMS error of: 0.133 ppm\n",
      "minimize function performed 314 fn evals and 6 iterations\n",
      "'runworker'  29.14 ms\n"
     ]
    },
    {
     "name": "stderr",
     "output_type": "stream",
     "text": [
      "Loading molecular formula database: 244178it [00:06, 39294.29it/s] \n",
      "Started molecular formula search for class {\"N\": 1, \"S\": 1, \"O\": 10, \"F\": 4}, (de)protonated : 100%|██████████| 300/300 [00:01<00:00, 192.97it/s]\n",
      "Loading molecular formula database: 247740it [00:06, 35908.15it/s] \n",
      "Started molecular formula search for class {\"N\": 2, \"S\": 1, \"O\": 20, \"F\": 4}, (de)protonated : 100%|██████████| 300/300 [00:00<00:00, 453.48it/s]\n",
      "Loading molecular formula database: 166880it [00:04, 41105.99it/s] \n",
      "Started molecular formula search for class {\"N\": 3, \"S\": 1, \"O\": 20, \"F\": 4}, (de)protonated : 100%|██████████| 200/200 [00:00<00:00, 527.27it/s]\n"
     ]
    },
    {
     "name": "stdout",
     "output_type": "stream",
     "text": [
      "'run_molecular_formula'  19905.33 ms\n",
      "587 assigned peaks and 32 unassigned peaks, total  = 94.83 %, relative abundance = 98.39 %, RMS error (best candidate) (ppm) = 0.039\n",
      "timestart: 18\n",
      "negative\n",
      "MS Obj loaded - 1073 peaks found.\n",
      "MS Obj loaded - 1073 peaks found.\n",
      "Reference mass list loaded - 2030 calibration masses loaded.\n",
      "119 calibration points matched within thresholds.\n",
      "minimize function completed with RMS error of: 0.104 ppm\n",
      "minimize function performed 314 fn evals and 6 iterations\n",
      "'runworker'  29.61 ms\n"
     ]
    },
    {
     "name": "stderr",
     "output_type": "stream",
     "text": [
      "Loading molecular formula database: 244178it [00:06, 37664.72it/s] \n",
      "Started molecular formula search for class {\"N\": 1, \"S\": 1, \"O\": 10, \"F\": 4}, (de)protonated : 100%|██████████| 300/300 [00:02<00:00, 114.82it/s]\n",
      "Loading molecular formula database: 247740it [00:06, 37414.65it/s] \n",
      "Started molecular formula search for class {\"N\": 2, \"S\": 1, \"O\": 20, \"F\": 4}, (de)protonated : 100%|██████████| 300/300 [00:01<00:00, 265.65it/s]\n",
      "Loading molecular formula database: 166880it [00:04, 36299.95it/s] \n",
      "Started molecular formula search for class {\"N\": 3, \"S\": 1, \"O\": 20, \"F\": 4}, (de)protonated : 100%|██████████| 200/200 [00:00<00:00, 268.13it/s]\n"
     ]
    },
    {
     "name": "stdout",
     "output_type": "stream",
     "text": [
      "'run_molecular_formula'  22336.89 ms\n",
      "903 assigned peaks and 170 unassigned peaks, total  = 84.16 %, relative abundance = 96.71 %, RMS error (best candidate) (ppm) = 0.058\n",
      "timestart: 20\n",
      "negative\n",
      "MS Obj loaded - 861 peaks found.\n",
      "MS Obj loaded - 861 peaks found.\n",
      "Reference mass list loaded - 2030 calibration masses loaded.\n",
      "106 calibration points matched within thresholds.\n",
      "minimize function completed with RMS error of: 0.094 ppm\n",
      "minimize function performed 314 fn evals and 6 iterations\n",
      "'runworker'  29.45 ms\n"
     ]
    },
    {
     "name": "stderr",
     "output_type": "stream",
     "text": [
      "Loading molecular formula database: 244178it [00:06, 37754.19it/s] \n",
      "Started molecular formula search for class {\"N\": 1, \"S\": 1, \"O\": 10, \"F\": 4}, (de)protonated : 100%|██████████| 300/300 [00:02<00:00, 123.41it/s]\n",
      "Loading molecular formula database: 247740it [04:49, 855.01it/s]  \n",
      "Started molecular formula search for class {\"N\": 2, \"S\": 1, \"O\": 20, \"F\": 4}, (de)protonated : 100%|██████████| 300/300 [00:00<00:00, 343.97it/s]\n",
      "Loading molecular formula database: 166880it [00:04, 41575.63it/s] \n",
      "Started molecular formula search for class {\"N\": 3, \"S\": 1, \"O\": 20, \"F\": 4}, (de)protonated : 100%|██████████| 200/200 [00:00<00:00, 379.80it/s]\n"
     ]
    },
    {
     "name": "stdout",
     "output_type": "stream",
     "text": [
      "'run_molecular_formula'  304207.96 ms\n",
      "761 assigned peaks and 100 unassigned peaks, total  = 88.39 %, relative abundance = 97.50 %, RMS error (best candidate) (ppm) = 0.051\n",
      "timestart: 22\n",
      "negative\n",
      "MS Obj loaded - 779 peaks found.\n",
      "MS Obj loaded - 779 peaks found.\n",
      "Reference mass list loaded - 2030 calibration masses loaded.\n",
      "108 calibration points matched within thresholds.\n",
      "minimize function completed with RMS error of: 0.110 ppm\n",
      "minimize function performed 315 fn evals and 6 iterations\n",
      "'runworker'  28.81 ms\n"
     ]
    },
    {
     "name": "stderr",
     "output_type": "stream",
     "text": [
      "Loading molecular formula database: 244178it [00:06, 37395.63it/s] \n",
      "Started molecular formula search for class {\"N\": 1, \"S\": 1, \"O\": 10, \"F\": 4}, (de)protonated : 100%|██████████| 300/300 [00:01<00:00, 173.10it/s]\n",
      "Loading molecular formula database: 247740it [00:06, 39815.74it/s] \n",
      "Started molecular formula search for class {\"N\": 2, \"S\": 1, \"O\": 20, \"F\": 4}, (de)protonated : 100%|██████████| 300/300 [00:00<00:00, 354.35it/s]\n",
      "Loading molecular formula database: 166880it [00:04, 36170.37it/s] \n",
      "Started molecular formula search for class {\"N\": 3, \"S\": 1, \"O\": 20, \"F\": 4}, (de)protonated : 100%|██████████| 200/200 [00:00<00:00, 352.44it/s]\n"
     ]
    },
    {
     "name": "stdout",
     "output_type": "stream",
     "text": [
      "'run_molecular_formula'  20652.39 ms\n",
      "700 assigned peaks and 79 unassigned peaks, total  = 89.86 %, relative abundance = 97.21 %, RMS error (best candidate) (ppm) = 0.060\n",
      "\n",
      "\n",
      "20230113_LBA_Boiteau_Zorbax5um_1500IT_neg_FinalEff_300_500_01.raw\n",
      "4 of 12 files\n",
      "timestart: 4\n",
      "negative\n",
      "MS Obj loaded - 746 peaks found.\n",
      "MS Obj loaded - 746 peaks found.\n",
      "Reference mass list loaded - 2030 calibration masses loaded.\n",
      "119 calibration points matched within thresholds.\n",
      "minimize function completed with RMS error of: 0.040 ppm\n",
      "minimize function performed 358 fn evals and 7 iterations\n",
      "'runworker'  28.89 ms\n"
     ]
    },
    {
     "name": "stderr",
     "output_type": "stream",
     "text": [
      "Loading molecular formula database: 244178it [00:05, 42215.12it/s] \n",
      "Started molecular formula search for class {\"N\": 1, \"S\": 1, \"O\": 10, \"F\": 4}, (de)protonated : 100%|██████████| 300/300 [12:59<00:00,  2.60s/it]\n",
      "Loading molecular formula database: 247740it [00:06, 37652.65it/s] \n",
      "Started molecular formula search for class {\"N\": 2, \"S\": 1, \"O\": 20, \"F\": 4}, (de)protonated : 100%|██████████| 300/300 [00:00<00:00, 353.26it/s]\n",
      "Loading molecular formula database: 166880it [00:04, 36268.78it/s] \n",
      "Started molecular formula search for class {\"N\": 3, \"S\": 1, \"O\": 20, \"F\": 4}, (de)protonated : 100%|██████████| 200/200 [00:00<00:00, 418.65it/s]\n"
     ]
    },
    {
     "name": "stdout",
     "output_type": "stream",
     "text": [
      "'run_molecular_formula'  797824.84 ms\n",
      "674 assigned peaks and 72 unassigned peaks, total  = 90.35 %, relative abundance = 95.32 %, RMS error (best candidate) (ppm) = 0.053\n",
      "timestart: 6\n",
      "negative\n",
      "MS Obj loaded - 780 peaks found.\n",
      "MS Obj loaded - 780 peaks found.\n",
      "Reference mass list loaded - 2030 calibration masses loaded.\n",
      "111 calibration points matched within thresholds.\n",
      "minimize function completed with RMS error of: 0.039 ppm\n",
      "minimize function performed 353 fn evals and 7 iterations\n",
      "'runworker'  29.88 ms\n"
     ]
    },
    {
     "name": "stderr",
     "output_type": "stream",
     "text": [
      "Loading molecular formula database: 244178it [00:05, 41790.52it/s] \n",
      "Started molecular formula search for class {\"N\": 1, \"S\": 1, \"O\": 10, \"F\": 4}, (de)protonated : 100%|██████████| 300/300 [00:01<00:00, 262.81it/s]\n",
      "Loading molecular formula database: 247740it [00:06, 38412.37it/s] \n",
      "Started molecular formula search for class {\"N\": 2, \"S\": 1, \"O\": 20, \"F\": 4}, (de)protonated : 100%|██████████| 300/300 [00:00<00:00, 365.54it/s]\n",
      "Loading molecular formula database: 166880it [00:04, 40891.45it/s] \n",
      "Started molecular formula search for class {\"N\": 3, \"S\": 1, \"O\": 20, \"F\": 4}, (de)protonated : 100%|██████████| 200/200 [00:00<00:00, 399.43it/s]\n"
     ]
    },
    {
     "name": "stdout",
     "output_type": "stream",
     "text": [
      "'run_molecular_formula'  18968.74 ms\n",
      "712 assigned peaks and 68 unassigned peaks, total  = 91.28 %, relative abundance = 94.77 %, RMS error (best candidate) (ppm) = 0.050\n",
      "timestart: 8\n",
      "negative\n",
      "MS Obj loaded - 515 peaks found.\n",
      "MS Obj loaded - 515 peaks found.\n",
      "Reference mass list loaded - 2030 calibration masses loaded.\n",
      "91 calibration points matched within thresholds.\n",
      "minimize function completed with RMS error of: 0.034 ppm\n",
      "minimize function performed 363 fn evals and 7 iterations\n",
      "'runworker'  29.91 ms\n"
     ]
    },
    {
     "name": "stderr",
     "output_type": "stream",
     "text": [
      "Loading molecular formula database: 244178it [00:06, 38924.40it/s] \n",
      "Started molecular formula search for class {\"N\": 1, \"S\": 1, \"O\": 10, \"F\": 4}, (de)protonated : 100%|██████████| 300/300 [00:01<00:00, 249.98it/s]\n",
      "Loading molecular formula database: 247740it [00:05, 41395.74it/s] \n",
      "Started molecular formula search for class {\"N\": 2, \"S\": 1, \"O\": 20, \"F\": 4}, (de)protonated : 100%|██████████| 300/300 [00:00<00:00, 464.60it/s]\n",
      "Loading molecular formula database: 166880it [00:03, 41942.71it/s] \n",
      "Started molecular formula search for class {\"N\": 3, \"S\": 1, \"O\": 20, \"F\": 4}, (de)protonated : 100%|██████████| 200/200 [00:00<00:00, 534.54it/s]\n"
     ]
    },
    {
     "name": "stdout",
     "output_type": "stream",
     "text": [
      "'run_molecular_formula'  18591.78 ms\n",
      "466 assigned peaks and 49 unassigned peaks, total  = 90.49 %, relative abundance = 67.98 %, RMS error (best candidate) (ppm) = 0.046\n",
      "timestart: 10\n",
      "negative\n",
      "MS Obj loaded - 565 peaks found.\n",
      "MS Obj loaded - 565 peaks found.\n",
      "Reference mass list loaded - 2030 calibration masses loaded.\n",
      "102 calibration points matched within thresholds.\n",
      "minimize function completed with RMS error of: 0.031 ppm\n",
      "minimize function performed 356 fn evals and 7 iterations\n",
      "'runworker'  29.46 ms\n"
     ]
    },
    {
     "name": "stderr",
     "output_type": "stream",
     "text": [
      "Loading molecular formula database: 244178it [00:06, 40224.80it/s] \n",
      "Started molecular formula search for class {\"N\": 1, \"S\": 1, \"O\": 10, \"F\": 4}, (de)protonated : 100%|██████████| 300/300 [00:01<00:00, 243.28it/s]\n",
      "Loading molecular formula database: 247740it [00:06, 38315.30it/s] \n",
      "Started molecular formula search for class {\"N\": 2, \"S\": 1, \"O\": 20, \"F\": 4}, (de)protonated : 100%|██████████| 300/300 [00:00<00:00, 445.03it/s]\n",
      "Loading molecular formula database: 166880it [00:04, 39576.64it/s] \n",
      "Started molecular formula search for class {\"N\": 3, \"S\": 1, \"O\": 20, \"F\": 4}, (de)protonated : 100%|██████████| 200/200 [00:00<00:00, 581.59it/s]\n"
     ]
    },
    {
     "name": "stdout",
     "output_type": "stream",
     "text": [
      "'run_molecular_formula'  19141.71 ms\n",
      "538 assigned peaks and 27 unassigned peaks, total  = 95.22 %, relative abundance = 96.28 %, RMS error (best candidate) (ppm) = 0.041\n",
      "timestart: 12\n",
      "negative\n",
      "MS Obj loaded - 1102 peaks found.\n",
      "MS Obj loaded - 1102 peaks found.\n",
      "Reference mass list loaded - 2030 calibration masses loaded.\n",
      "125 calibration points matched within thresholds.\n",
      "minimize function completed with RMS error of: 0.129 ppm\n",
      "minimize function performed 316 fn evals and 6 iterations\n",
      "'runworker'  29.27 ms\n"
     ]
    },
    {
     "name": "stderr",
     "output_type": "stream",
     "text": [
      "Loading molecular formula database: 244178it [00:06, 36649.59it/s] \n",
      "Started molecular formula search for class {\"N\": 1, \"S\": 1, \"O\": 10, \"F\": 4}, (de)protonated : 100%|██████████| 300/300 [00:02<00:00, 108.02it/s]\n",
      "Loading molecular formula database: 247740it [00:06, 37128.56it/s] \n",
      "Started molecular formula search for class {\"N\": 2, \"S\": 1, \"O\": 20, \"F\": 4}, (de)protonated : 100%|██████████| 300/300 [00:01<00:00, 231.87it/s]\n",
      "Loading molecular formula database: 166880it [00:04, 39391.19it/s] \n",
      "Started molecular formula search for class {\"N\": 3, \"S\": 1, \"O\": 20, \"F\": 4}, (de)protonated : 100%|██████████| 200/200 [00:00<00:00, 245.87it/s]\n"
     ]
    },
    {
     "name": "stdout",
     "output_type": "stream",
     "text": [
      "'run_molecular_formula'  22601.70 ms\n",
      "899 assigned peaks and 203 unassigned peaks, total  = 81.58 %, relative abundance = 95.17 %, RMS error (best candidate) (ppm) = 0.063\n",
      "timestart: 14\n",
      "negative\n",
      "MS Obj loaded - 642 peaks found.\n",
      "MS Obj loaded - 642 peaks found.\n",
      "Reference mass list loaded - 2030 calibration masses loaded.\n",
      "100 calibration points matched within thresholds.\n",
      "minimize function completed with RMS error of: 0.147 ppm\n",
      "minimize function performed 314 fn evals and 6 iterations\n",
      "'runworker'  29.61 ms\n"
     ]
    },
    {
     "name": "stderr",
     "output_type": "stream",
     "text": [
      "Loading molecular formula database: 244178it [00:06, 36918.89it/s] \n",
      "Started molecular formula search for class {\"N\": 1, \"S\": 1, \"O\": 10, \"F\": 4}, (de)protonated : 100%|██████████| 300/300 [00:01<00:00, 186.89it/s]\n",
      "Loading molecular formula database: 247740it [00:06, 38055.70it/s] \n",
      "Started molecular formula search for class {\"N\": 2, \"S\": 1, \"O\": 20, \"F\": 4}, (de)protonated : 100%|██████████| 300/300 [00:00<00:00, 437.34it/s]\n",
      "Loading molecular formula database: 166880it [00:04, 39291.63it/s]\n",
      "Started molecular formula search for class {\"N\": 3, \"S\": 1, \"O\": 20, \"F\": 4}, (de)protonated : 100%|██████████| 200/200 [00:00<00:00, 479.54it/s]\n"
     ]
    },
    {
     "name": "stdout",
     "output_type": "stream",
     "text": [
      "'run_molecular_formula'  20214.84 ms\n",
      "604 assigned peaks and 38 unassigned peaks, total  = 94.08 %, relative abundance = 98.16 %, RMS error (best candidate) (ppm) = 0.045\n",
      "timestart: 16\n",
      "negative\n",
      "MS Obj loaded - 624 peaks found.\n",
      "MS Obj loaded - 624 peaks found.\n",
      "Reference mass list loaded - 2030 calibration masses loaded.\n",
      "103 calibration points matched within thresholds.\n",
      "minimize function completed with RMS error of: 0.111 ppm\n",
      "minimize function performed 314 fn evals and 6 iterations\n",
      "'runworker'  30.09 ms\n"
     ]
    },
    {
     "name": "stderr",
     "output_type": "stream",
     "text": [
      "Loading molecular formula database: 244178it [00:06, 38282.63it/s] \n",
      "Started molecular formula search for class {\"N\": 1, \"S\": 1, \"O\": 10, \"F\": 4}, (de)protonated : 100%|██████████| 300/300 [00:01<00:00, 204.58it/s]\n",
      "Loading molecular formula database: 247740it [00:06, 39655.76it/s] \n",
      "Started molecular formula search for class {\"N\": 2, \"S\": 1, \"O\": 20, \"F\": 4}, (de)protonated : 100%|██████████| 300/300 [00:00<00:00, 444.15it/s]\n",
      "Loading molecular formula database: 166880it [00:04, 39798.62it/s] \n",
      "Started molecular formula search for class {\"N\": 3, \"S\": 1, \"O\": 20, \"F\": 4}, (de)protonated : 100%|██████████| 200/200 [00:00<00:00, 522.59it/s]\n"
     ]
    },
    {
     "name": "stdout",
     "output_type": "stream",
     "text": [
      "'run_molecular_formula'  19479.49 ms\n",
      "596 assigned peaks and 28 unassigned peaks, total  = 95.51 %, relative abundance = 98.50 %, RMS error (best candidate) (ppm) = 0.040\n",
      "timestart: 18\n",
      "negative\n",
      "MS Obj loaded - 1041 peaks found.\n",
      "MS Obj loaded - 1041 peaks found.\n",
      "Reference mass list loaded - 2030 calibration masses loaded.\n",
      "115 calibration points matched within thresholds.\n",
      "minimize function completed with RMS error of: 0.076 ppm\n",
      "minimize function performed 315 fn evals and 6 iterations\n",
      "'runworker'  78.80 ms\n"
     ]
    },
    {
     "name": "stderr",
     "output_type": "stream",
     "text": [
      "Loading molecular formula database: 244178it [00:06, 37970.42it/s] \n",
      "Started molecular formula search for class {\"N\": 1, \"S\": 1, \"O\": 10, \"F\": 4}, (de)protonated : 100%|██████████| 300/300 [00:02<00:00, 111.24it/s]\n",
      "Loading molecular formula database: 247740it [00:07, 34408.31it/s] \n",
      "Started molecular formula search for class {\"N\": 2, \"S\": 1, \"O\": 20, \"F\": 4}, (de)protonated : 100%|██████████| 300/300 [00:01<00:00, 275.98it/s]\n",
      "Loading molecular formula database: 166880it [00:04, 39588.67it/s] \n",
      "Started molecular formula search for class {\"N\": 3, \"S\": 1, \"O\": 20, \"F\": 4}, (de)protonated : 100%|██████████| 200/200 [00:00<00:00, 283.28it/s]\n"
     ]
    },
    {
     "name": "stdout",
     "output_type": "stream",
     "text": [
      "'run_molecular_formula'  22533.28 ms\n",
      "880 assigned peaks and 161 unassigned peaks, total  = 84.53 %, relative abundance = 97.15 %, RMS error (best candidate) (ppm) = 0.056\n",
      "timestart: 20\n",
      "negative\n",
      "MS Obj loaded - 863 peaks found.\n",
      "MS Obj loaded - 863 peaks found.\n",
      "Reference mass list loaded - 2030 calibration masses loaded.\n",
      "109 calibration points matched within thresholds.\n",
      "minimize function completed with RMS error of: 0.050 ppm\n",
      "minimize function performed 317 fn evals and 6 iterations\n",
      "'runworker'  81.87 ms\n"
     ]
    },
    {
     "name": "stderr",
     "output_type": "stream",
     "text": [
      "Loading molecular formula database: 244178it [00:06, 37727.34it/s] \n",
      "Started molecular formula search for class {\"N\": 1, \"S\": 1, \"O\": 10, \"F\": 4}, (de)protonated : 100%|██████████| 300/300 [00:01<00:00, 153.97it/s]\n",
      "Loading molecular formula database: 247740it [00:06, 35857.18it/s] \n",
      "Started molecular formula search for class {\"N\": 2, \"S\": 1, \"O\": 20, \"F\": 4}, (de)protonated : 100%|██████████| 300/300 [00:00<00:00, 330.67it/s]\n",
      "Loading molecular formula database: 166880it [00:04, 34997.31it/s] \n",
      "Started molecular formula search for class {\"N\": 3, \"S\": 1, \"O\": 20, \"F\": 4}, (de)protonated : 100%|██████████| 200/200 [00:00<00:00, 384.62it/s]\n"
     ]
    },
    {
     "name": "stdout",
     "output_type": "stream",
     "text": [
      "'run_molecular_formula'  21726.85 ms\n",
      "763 assigned peaks and 100 unassigned peaks, total  = 88.41 %, relative abundance = 97.75 %, RMS error (best candidate) (ppm) = 0.050\n",
      "timestart: 22\n",
      "negative\n",
      "MS Obj loaded - 801 peaks found.\n",
      "MS Obj loaded - 801 peaks found.\n",
      "Reference mass list loaded - 2030 calibration masses loaded.\n",
      "108 calibration points matched within thresholds.\n",
      "minimize function completed with RMS error of: 0.069 ppm\n",
      "minimize function performed 351 fn evals and 7 iterations\n",
      "'runworker'  29.14 ms\n"
     ]
    },
    {
     "name": "stderr",
     "output_type": "stream",
     "text": [
      "Loading molecular formula database: 244178it [00:06, 38846.79it/s] \n",
      "Started molecular formula search for class {\"N\": 1, \"S\": 1, \"O\": 10, \"F\": 4}, (de)protonated : 100%|██████████| 300/300 [00:01<00:00, 165.34it/s]\n",
      "Loading molecular formula database: 247740it [00:06, 36296.54it/s] \n",
      "Started molecular formula search for class {\"N\": 2, \"S\": 1, \"O\": 20, \"F\": 4}, (de)protonated : 100%|██████████| 300/300 [00:00<00:00, 320.08it/s]\n",
      "Loading molecular formula database: 166880it [00:04, 35184.71it/s] \n",
      "Started molecular formula search for class {\"N\": 3, \"S\": 1, \"O\": 20, \"F\": 4}, (de)protonated : 100%|██████████| 200/200 [00:00<00:00, 341.16it/s]\n"
     ]
    },
    {
     "name": "stdout",
     "output_type": "stream",
     "text": [
      "'run_molecular_formula'  21339.38 ms\n",
      "724 assigned peaks and 77 unassigned peaks, total  = 90.39 %, relative abundance = 97.51 %, RMS error (best candidate) (ppm) = 0.061\n",
      "\n",
      "\n",
      "20230113_LBA_Boiteau_Zorbax5um_1500IT_neg_qh2o_fullmz_02.raw\n",
      "5 of 12 files\n",
      "timestart: 4\n",
      "negative\n",
      "MS Obj loaded - 453 peaks found.\n",
      "MS Obj loaded - 453 peaks found.\n",
      "Reference mass list loaded - 2030 calibration masses loaded.\n",
      "85 calibration points matched within thresholds.\n",
      "minimize function completed with RMS error of: 0.030 ppm\n",
      "minimize function performed 359 fn evals and 7 iterations\n",
      "'runworker'  29.67 ms\n"
     ]
    },
    {
     "name": "stderr",
     "output_type": "stream",
     "text": [
      "Loading molecular formula database: 244178it [00:06, 40313.70it/s] \n",
      "Started molecular formula search for class {\"N\": 1, \"S\": 1, \"O\": 10, \"F\": 4}, (de)protonated : 100%|██████████| 300/300 [00:00<00:00, 370.27it/s]\n",
      "Loading molecular formula database: 247740it [00:05, 41800.67it/s] \n",
      "Started molecular formula search for class {\"N\": 2, \"S\": 1, \"O\": 20, \"F\": 4}, (de)protonated : 100%|██████████| 300/300 [00:00<00:00, 406.85it/s]\n",
      "Loading molecular formula database: 166880it [00:04, 40664.15it/s] \n",
      "Started molecular formula search for class {\"N\": 3, \"S\": 1, \"O\": 20, \"F\": 4}, (de)protonated : 100%|██████████| 200/200 [00:00<00:00, 390.41it/s]\n"
     ]
    },
    {
     "name": "stdout",
     "output_type": "stream",
     "text": [
      "'run_molecular_formula'  18274.30 ms\n",
      "282 assigned peaks and 171 unassigned peaks, total  = 62.25 %, relative abundance = 81.00 %, RMS error (best candidate) (ppm) = 0.052\n",
      "timestart: 6\n",
      "negative\n",
      "MS Obj loaded - 255 peaks found.\n",
      "MS Obj loaded - 255 peaks found.\n",
      "Reference mass list loaded - 2030 calibration masses loaded.\n",
      "50 calibration points matched within thresholds.\n",
      "minimize function completed with RMS error of: 0.307 ppm\n",
      "minimize function performed 307 fn evals and 6 iterations\n",
      "'runworker'  31.10 ms\n"
     ]
    },
    {
     "name": "stderr",
     "output_type": "stream",
     "text": [
      "Loading molecular formula database: 244178it [00:05, 44423.86it/s] \n",
      "Started molecular formula search for class {\"N\": 1, \"S\": 1, \"O\": 10, \"F\": 4}, (de)protonated : 100%|██████████| 300/300 [00:00<00:00, 670.12it/s]\n",
      "Loading molecular formula database: 247740it [00:05, 41960.44it/s] \n",
      "Started molecular formula search for class {\"N\": 2, \"S\": 1, \"O\": 20, \"F\": 4}, (de)protonated : 100%|██████████| 300/300 [00:00<00:00, 825.06it/s]\n",
      "Loading molecular formula database: 166880it [00:03, 41932.45it/s] \n",
      "Started molecular formula search for class {\"N\": 3, \"S\": 1, \"O\": 20, \"F\": 4}, (de)protonated : 100%|██████████| 200/200 [00:00<00:00, 811.45it/s]\n"
     ]
    },
    {
     "name": "stdout",
     "output_type": "stream",
     "text": [
      "'run_molecular_formula'  16541.53 ms\n",
      "184 assigned peaks and 71 unassigned peaks, total  = 72.16 %, relative abundance = 82.48 %, RMS error (best candidate) (ppm) = 0.113\n",
      "timestart: 8\n",
      "negative\n",
      "MS Obj loaded - 185 peaks found.\n",
      "MS Obj loaded - 185 peaks found.\n",
      "Reference mass list loaded - 2030 calibration masses loaded.\n",
      "36 calibration points matched within thresholds.\n",
      "minimize function completed with RMS error of: 0.355 ppm\n",
      "minimize function performed 307 fn evals and 6 iterations\n",
      "'runworker'  29.42 ms\n"
     ]
    },
    {
     "name": "stderr",
     "output_type": "stream",
     "text": [
      "Loading molecular formula database: 244178it [00:05, 47176.84it/s] \n",
      "Started molecular formula search for class {\"N\": 1, \"S\": 1, \"O\": 10, \"F\": 4}, (de)protonated : 100%|██████████| 300/300 [00:00<00:00, 764.45it/s]\n",
      "Loading molecular formula database: 247740it [00:05, 43471.46it/s] \n",
      "Started molecular formula search for class {\"N\": 2, \"S\": 1, \"O\": 20, \"F\": 4}, (de)protonated : 100%|██████████| 300/300 [00:00<00:00, 1044.43it/s]\n",
      "Loading molecular formula database: 166880it [00:03, 43523.23it/s] \n",
      "Started molecular formula search for class {\"N\": 3, \"S\": 1, \"O\": 20, \"F\": 4}, (de)protonated : 100%|██████████| 200/200 [00:00<00:00, 1077.08it/s]\n"
     ]
    },
    {
     "name": "stdout",
     "output_type": "stream",
     "text": [
      "'run_molecular_formula'  15663.63 ms\n",
      "129 assigned peaks and 56 unassigned peaks, total  = 69.73 %, relative abundance = 76.81 %, RMS error (best candidate) (ppm) = 0.138\n",
      "timestart: 10\n",
      "negative\n",
      "MS Obj loaded - 288 peaks found.\n",
      "MS Obj loaded - 288 peaks found.\n",
      "Reference mass list loaded - 2030 calibration masses loaded.\n",
      "62 calibration points matched within thresholds.\n",
      "minimize function completed with RMS error of: 0.024 ppm\n",
      "minimize function performed 362 fn evals and 7 iterations\n",
      "'runworker'  29.71 ms\n"
     ]
    },
    {
     "name": "stderr",
     "output_type": "stream",
     "text": [
      "Loading molecular formula database: 244178it [00:05, 43048.28it/s] \n",
      "Started molecular formula search for class {\"N\": 1, \"S\": 1, \"O\": 10, \"F\": 4}, (de)protonated : 100%|██████████| 300/300 [00:00<00:00, 520.79it/s]\n",
      "Loading molecular formula database: 247740it [00:06, 40220.42it/s] \n",
      "Started molecular formula search for class {\"N\": 2, \"S\": 1, \"O\": 20, \"F\": 4}, (de)protonated : 100%|██████████| 300/300 [00:00<00:00, 512.21it/s]\n",
      "Loading molecular formula database: 166880it [00:03, 44622.53it/s] \n",
      "Started molecular formula search for class {\"N\": 3, \"S\": 1, \"O\": 20, \"F\": 4}, (de)protonated : 100%|██████████| 200/200 [00:00<00:00, 744.52it/s]\n"
     ]
    },
    {
     "name": "stdout",
     "output_type": "stream",
     "text": [
      "'run_molecular_formula'  17114.82 ms\n",
      "200 assigned peaks and 88 unassigned peaks, total  = 69.44 %, relative abundance = 83.60 %, RMS error (best candidate) (ppm) = 0.058\n",
      "timestart: 12\n",
      "negative\n",
      "MS Obj loaded - 193 peaks found.\n",
      "MS Obj loaded - 193 peaks found.\n",
      "Reference mass list loaded - 2030 calibration masses loaded.\n",
      "38 calibration points matched within thresholds.\n",
      "minimize function completed with RMS error of: 0.329 ppm\n",
      "minimize function performed 307 fn evals and 6 iterations\n",
      "'runworker'  29.50 ms\n"
     ]
    },
    {
     "name": "stderr",
     "output_type": "stream",
     "text": [
      "Loading molecular formula database: 244178it [00:05, 45909.55it/s] \n",
      "Started molecular formula search for class {\"N\": 1, \"S\": 1, \"O\": 10, \"F\": 4}, (de)protonated : 100%|██████████| 300/300 [00:00<00:00, 858.76it/s]\n",
      "Loading molecular formula database: 247740it [00:05, 43463.50it/s] \n",
      "Started molecular formula search for class {\"N\": 2, \"S\": 1, \"O\": 20, \"F\": 4}, (de)protonated : 100%|██████████| 300/300 [00:00<00:00, 961.91it/s] \n",
      "Loading molecular formula database: 166880it [00:03, 43243.42it/s] \n",
      "Started molecular formula search for class {\"N\": 3, \"S\": 1, \"O\": 20, \"F\": 4}, (de)protonated : 100%|██████████| 200/200 [00:00<00:00, 1037.92it/s]\n"
     ]
    },
    {
     "name": "stdout",
     "output_type": "stream",
     "text": [
      "'run_molecular_formula'  15829.78 ms\n",
      "141 assigned peaks and 52 unassigned peaks, total  = 73.06 %, relative abundance = 84.22 %, RMS error (best candidate) (ppm) = 0.118\n",
      "timestart: 14\n",
      "negative\n",
      "MS Obj loaded - 179 peaks found.\n",
      "MS Obj loaded - 179 peaks found.\n",
      "Reference mass list loaded - 2030 calibration masses loaded.\n",
      "34 calibration points matched within thresholds.\n",
      "minimize function completed with RMS error of: 0.348 ppm\n",
      "minimize function performed 306 fn evals and 6 iterations\n",
      "'runworker'  29.68 ms\n"
     ]
    },
    {
     "name": "stderr",
     "output_type": "stream",
     "text": [
      "Loading molecular formula database: 244178it [00:05, 43091.00it/s] \n",
      "Started molecular formula search for class {\"N\": 1, \"S\": 1, \"O\": 10, \"F\": 4}, (de)protonated : 100%|██████████| 300/300 [00:00<00:00, 920.28it/s]\n",
      "Loading molecular formula database: 247740it [00:05, 46687.28it/s] \n",
      "Started molecular formula search for class {\"N\": 2, \"S\": 1, \"O\": 20, \"F\": 4}, (de)protonated : 100%|██████████| 300/300 [00:00<00:00, 1009.27it/s]\n",
      "Loading molecular formula database: 166880it [00:04, 39763.89it/s]\n",
      "Started molecular formula search for class {\"N\": 3, \"S\": 1, \"O\": 20, \"F\": 4}, (de)protonated : 100%|██████████| 200/200 [00:00<00:00, 1083.28it/s]\n"
     ]
    },
    {
     "name": "stdout",
     "output_type": "stream",
     "text": [
      "'run_molecular_formula'  16074.27 ms\n",
      "117 assigned peaks and 62 unassigned peaks, total  = 65.36 %, relative abundance = 72.59 %, RMS error (best candidate) (ppm) = 0.131\n",
      "timestart: 16\n",
      "negative\n",
      "MS Obj loaded - 178 peaks found.\n",
      "MS Obj loaded - 178 peaks found.\n",
      "Reference mass list loaded - 2030 calibration masses loaded.\n",
      "32 calibration points matched within thresholds.\n",
      "minimize function completed with RMS error of: 0.417 ppm\n",
      "minimize function performed 337 fn evals and 7 iterations\n",
      "'runworker'  30.68 ms\n"
     ]
    },
    {
     "name": "stderr",
     "output_type": "stream",
     "text": [
      "Loading molecular formula database: 244178it [00:05, 44529.78it/s] \n",
      "Started molecular formula search for class {\"N\": 1, \"S\": 1, \"O\": 10, \"F\": 4}, (de)protonated : 100%|██████████| 300/300 [00:00<00:00, 954.49it/s]\n",
      "Loading molecular formula database: 247740it [00:05, 44087.03it/s] \n",
      "Started molecular formula search for class {\"N\": 2, \"S\": 1, \"O\": 20, \"F\": 4}, (de)protonated : 100%|██████████| 300/300 [00:00<00:00, 1011.15it/s]\n",
      "Loading molecular formula database: 166880it [00:03, 45079.37it/s] \n",
      "Started molecular formula search for class {\"N\": 3, \"S\": 1, \"O\": 20, \"F\": 4}, (de)protonated : 100%|██████████| 200/200 [00:00<00:00, 1100.93it/s]\n"
     ]
    },
    {
     "name": "stdout",
     "output_type": "stream",
     "text": [
      "'run_molecular_formula'  15694.61 ms\n",
      "96 assigned peaks and 82 unassigned peaks, total  = 53.93 %, relative abundance = 69.57 %, RMS error (best candidate) (ppm) = 0.145\n",
      "timestart: 18\n",
      "negative\n",
      "MS Obj loaded - 175 peaks found.\n",
      "MS Obj loaded - 175 peaks found.\n",
      "Reference mass list loaded - 2030 calibration masses loaded.\n",
      "26 calibration points matched within thresholds.\n",
      "minimize function completed with RMS error of: 0.472 ppm\n",
      "minimize function performed 336 fn evals and 7 iterations\n",
      "'runworker'  30.34 ms\n"
     ]
    },
    {
     "name": "stderr",
     "output_type": "stream",
     "text": [
      "Loading molecular formula database: 244178it [00:05, 40887.06it/s] \n",
      "Started molecular formula search for class {\"N\": 1, \"S\": 1, \"O\": 10, \"F\": 4}, (de)protonated : 100%|██████████| 300/300 [00:00<00:00, 882.46it/s]\n",
      "Loading molecular formula database: 247740it [00:05, 46782.76it/s] \n",
      "Started molecular formula search for class {\"N\": 2, \"S\": 1, \"O\": 20, \"F\": 4}, (de)protonated : 100%|██████████| 300/300 [00:00<00:00, 990.08it/s] \n",
      "Loading molecular formula database: 166880it [00:03, 43554.77it/s] \n",
      "Started molecular formula search for class {\"N\": 3, \"S\": 1, \"O\": 20, \"F\": 4}, (de)protonated : 100%|██████████| 200/200 [00:00<00:00, 1090.91it/s]\n"
     ]
    },
    {
     "name": "stdout",
     "output_type": "stream",
     "text": [
      "'run_molecular_formula'  16022.89 ms\n",
      "82 assigned peaks and 93 unassigned peaks, total  = 46.86 %, relative abundance = 73.16 %, RMS error (best candidate) (ppm) = 0.156\n",
      "timestart: 20\n",
      "negative\n",
      "MS Obj loaded - 222 peaks found.\n",
      "MS Obj loaded - 222 peaks found.\n",
      "Reference mass list loaded - 2030 calibration masses loaded.\n",
      "35 calibration points matched within thresholds.\n",
      "minimize function completed with RMS error of: 0.436 ppm\n",
      "minimize function performed 303 fn evals and 6 iterations\n",
      "'runworker'  30.18 ms\n"
     ]
    },
    {
     "name": "stderr",
     "output_type": "stream",
     "text": [
      "Loading molecular formula database: 244178it [00:05, 43195.82it/s] \n",
      "Started molecular formula search for class {\"N\": 1, \"S\": 1, \"O\": 10, \"F\": 4}, (de)protonated : 100%|██████████| 300/300 [00:00<00:00, 774.22it/s]\n",
      "Loading molecular formula database: 247740it [00:05, 43543.05it/s] \n",
      "Started molecular formula search for class {\"N\": 2, \"S\": 1, \"O\": 20, \"F\": 4}, (de)protonated : 100%|██████████| 300/300 [00:00<00:00, 908.08it/s] \n",
      "Loading molecular formula database: 166880it [00:04, 38159.98it/s] \n",
      "Started molecular formula search for class {\"N\": 3, \"S\": 1, \"O\": 20, \"F\": 4}, (de)protonated : 100%|██████████| 200/200 [00:00<00:00, 837.47it/s]\n"
     ]
    },
    {
     "name": "stdout",
     "output_type": "stream",
     "text": [
      "'run_molecular_formula'  16780.27 ms\n",
      "159 assigned peaks and 63 unassigned peaks, total  = 71.62 %, relative abundance = 85.82 %, RMS error (best candidate) (ppm) = 0.111\n",
      "timestart: 22\n",
      "negative\n",
      "MS Obj loaded - 174 peaks found.\n",
      "MS Obj loaded - 174 peaks found.\n",
      "Reference mass list loaded - 2030 calibration masses loaded.\n",
      "19 calibration points matched within thresholds.\n",
      "minimize function completed with RMS error of: 0.362 ppm\n",
      "minimize function performed 255 fn evals and 3 iterations\n",
      "'runworker'  30.41 ms\n"
     ]
    },
    {
     "name": "stderr",
     "output_type": "stream",
     "text": [
      "Loading molecular formula database: 244178it [00:05, 42563.46it/s] \n",
      "Started molecular formula search for class {\"N\": 1, \"S\": 1, \"O\": 10, \"F\": 4}, (de)protonated : 100%|██████████| 300/300 [00:00<00:00, 921.12it/s]\n",
      "Loading molecular formula database: 247740it [00:05, 43292.89it/s] \n",
      "Started molecular formula search for class {\"N\": 2, \"S\": 1, \"O\": 20, \"F\": 4}, (de)protonated : 100%|██████████| 300/300 [00:00<00:00, 1081.35it/s]\n",
      "Loading molecular formula database: 166880it [00:04, 40847.89it/s] \n",
      "Started molecular formula search for class {\"N\": 3, \"S\": 1, \"O\": 20, \"F\": 4}, (de)protonated : 100%|██████████| 200/200 [00:00<00:00, 1131.25it/s]\n"
     ]
    },
    {
     "name": "stdout",
     "output_type": "stream",
     "text": [
      "'run_molecular_formula'  16427.62 ms\n",
      "92 assigned peaks and 82 unassigned peaks, total  = 52.87 %, relative abundance = 53.37 %, RMS error (best candidate) (ppm) = 0.131\n",
      "\n",
      "\n",
      "20230113_LBA_Boiteau_Zorbax5um_1500IT_neg_qh2o_fullmz_01.raw\n",
      "6 of 12 files\n",
      "timestart: 4\n",
      "negative\n",
      "MS Obj loaded - 429 peaks found.\n",
      "MS Obj loaded - 429 peaks found.\n",
      "Reference mass list loaded - 2030 calibration masses loaded.\n",
      "85 calibration points matched within thresholds.\n",
      "minimize function completed with RMS error of: 0.233 ppm\n",
      "minimize function performed 309 fn evals and 6 iterations\n",
      "'runworker'  29.43 ms\n"
     ]
    },
    {
     "name": "stderr",
     "output_type": "stream",
     "text": [
      "Loading molecular formula database: 244178it [00:05, 44269.42it/s] \n",
      "Started molecular formula search for class {\"N\": 1, \"S\": 1, \"O\": 10, \"F\": 4}, (de)protonated : 100%|██████████| 300/300 [00:00<00:00, 477.26it/s]\n",
      "Loading molecular formula database: 247740it [00:06, 36781.73it/s] \n",
      "Started molecular formula search for class {\"N\": 2, \"S\": 1, \"O\": 20, \"F\": 4}, (de)protonated : 100%|██████████| 300/300 [00:01<00:00, 279.34it/s]\n",
      "Loading molecular formula database: 166880it [00:04, 40686.90it/s]\n",
      "Started molecular formula search for class {\"N\": 3, \"S\": 1, \"O\": 20, \"F\": 4}, (de)protonated : 100%|██████████| 200/200 [00:00<00:00, 508.07it/s]\n"
     ]
    },
    {
     "name": "stdout",
     "output_type": "stream",
     "text": [
      "'run_molecular_formula'  18571.23 ms\n",
      "279 assigned peaks and 150 unassigned peaks, total  = 65.03 %, relative abundance = 81.85 %, RMS error (best candidate) (ppm) = 0.073\n",
      "timestart: 6\n",
      "negative\n",
      "MS Obj loaded - 333 peaks found.\n",
      "MS Obj loaded - 333 peaks found.\n",
      "Reference mass list loaded - 2030 calibration masses loaded.\n",
      "71 calibration points matched within thresholds.\n",
      "minimize function completed with RMS error of: 0.188 ppm\n",
      "minimize function performed 311 fn evals and 6 iterations\n",
      "'runworker'  30.96 ms\n"
     ]
    },
    {
     "name": "stderr",
     "output_type": "stream",
     "text": [
      "Loading molecular formula database: 244178it [00:05, 42763.36it/s] \n",
      "Started molecular formula search for class {\"N\": 1, \"S\": 1, \"O\": 10, \"F\": 4}, (de)protonated : 100%|██████████| 300/300 [00:00<00:00, 520.42it/s]\n",
      "Loading molecular formula database: 247740it [00:06, 40058.66it/s] \n",
      "Started molecular formula search for class {\"N\": 2, \"S\": 1, \"O\": 20, \"F\": 4}, (de)protonated : 100%|██████████| 300/300 [00:00<00:00, 667.41it/s]\n",
      "Loading molecular formula database: 166880it [00:03, 41858.70it/s] \n",
      "Started molecular formula search for class {\"N\": 3, \"S\": 1, \"O\": 20, \"F\": 4}, (de)protonated : 100%|██████████| 200/200 [00:00<00:00, 658.10it/s]\n"
     ]
    },
    {
     "name": "stdout",
     "output_type": "stream",
     "text": [
      "'run_molecular_formula'  17332.76 ms\n",
      "240 assigned peaks and 93 unassigned peaks, total  = 72.07 %, relative abundance = 83.25 %, RMS error (best candidate) (ppm) = 0.065\n",
      "timestart: 8\n",
      "negative\n",
      "MS Obj loaded - 241 peaks found.\n",
      "MS Obj loaded - 241 peaks found.\n",
      "Reference mass list loaded - 2030 calibration masses loaded.\n",
      "61 calibration points matched within thresholds.\n",
      "minimize function completed with RMS error of: 0.018 ppm\n",
      "minimize function performed 369 fn evals and 7 iterations\n",
      "'runworker'  31.27 ms\n"
     ]
    },
    {
     "name": "stderr",
     "output_type": "stream",
     "text": [
      "Loading molecular formula database: 244178it [00:05, 42734.38it/s] \n",
      "Started molecular formula search for class {\"N\": 1, \"S\": 1, \"O\": 10, \"F\": 4}, (de)protonated : 100%|██████████| 300/300 [00:00<00:00, 740.88it/s]\n",
      "Loading molecular formula database: 247740it [00:06, 40877.09it/s] \n",
      "Started molecular formula search for class {\"N\": 2, \"S\": 1, \"O\": 20, \"F\": 4}, (de)protonated : 100%|██████████| 300/300 [00:00<00:00, 843.21it/s]\n",
      "Loading molecular formula database: 166880it [00:03, 42810.71it/s] \n",
      "Started molecular formula search for class {\"N\": 3, \"S\": 1, \"O\": 20, \"F\": 4}, (de)protonated : 100%|██████████| 200/200 [00:00<00:00, 922.25it/s]\n"
     ]
    },
    {
     "name": "stdout",
     "output_type": "stream",
     "text": [
      "'run_molecular_formula'  16756.60 ms\n",
      "189 assigned peaks and 52 unassigned peaks, total  = 78.42 %, relative abundance = 84.48 %, RMS error (best candidate) (ppm) = 0.026\n",
      "timestart: 10\n",
      "negative\n",
      "MS Obj loaded - 290 peaks found.\n",
      "MS Obj loaded - 290 peaks found.\n",
      "Reference mass list loaded - 2030 calibration masses loaded.\n",
      "65 calibration points matched within thresholds.\n",
      "minimize function completed with RMS error of: 0.026 ppm\n",
      "minimize function performed 363 fn evals and 7 iterations\n",
      "'runworker'  29.36 ms\n"
     ]
    },
    {
     "name": "stderr",
     "output_type": "stream",
     "text": [
      "Loading molecular formula database: 244178it [00:05, 42557.91it/s] \n",
      "Started molecular formula search for class {\"N\": 1, \"S\": 1, \"O\": 10, \"F\": 4}, (de)protonated : 100%|██████████| 300/300 [00:00<00:00, 645.67it/s]\n",
      "Loading molecular formula database: 247740it [00:06, 40723.89it/s] \n",
      "Started molecular formula search for class {\"N\": 2, \"S\": 1, \"O\": 20, \"F\": 4}, (de)protonated : 100%|██████████| 300/300 [00:00<00:00, 479.90it/s]\n",
      "Loading molecular formula database: 166880it [00:04, 41327.72it/s] \n",
      "Started molecular formula search for class {\"N\": 3, \"S\": 1, \"O\": 20, \"F\": 4}, (de)protonated : 100%|██████████| 200/200 [00:00<00:00, 594.84it/s]\n"
     ]
    },
    {
     "name": "stdout",
     "output_type": "stream",
     "text": [
      "'run_molecular_formula'  17391.11 ms\n",
      "202 assigned peaks and 88 unassigned peaks, total  = 69.66 %, relative abundance = 83.28 %, RMS error (best candidate) (ppm) = 0.042\n",
      "timestart: 12\n",
      "negative\n",
      "MS Obj loaded - 275 peaks found.\n",
      "MS Obj loaded - 275 peaks found.\n",
      "Reference mass list loaded - 2030 calibration masses loaded.\n",
      "58 calibration points matched within thresholds.\n",
      "minimize function completed with RMS error of: 0.027 ppm\n",
      "minimize function performed 359 fn evals and 7 iterations\n",
      "'runworker'  29.88 ms\n"
     ]
    },
    {
     "name": "stderr",
     "output_type": "stream",
     "text": [
      "Loading molecular formula database: 244178it [00:05, 45769.10it/s] \n",
      "Started molecular formula search for class {\"N\": 1, \"S\": 1, \"O\": 10, \"F\": 4}, (de)protonated : 100%|██████████| 300/300 [00:00<00:00, 662.52it/s]\n",
      "Loading molecular formula database: 247740it [00:06, 37682.71it/s]\n",
      "Started molecular formula search for class {\"N\": 2, \"S\": 1, \"O\": 20, \"F\": 4}, (de)protonated : 100%|██████████| 300/300 [00:00<00:00, 716.17it/s]\n",
      "Loading molecular formula database: 166880it [00:03, 42844.19it/s]\n",
      "Started molecular formula search for class {\"N\": 3, \"S\": 1, \"O\": 20, \"F\": 4}, (de)protonated : 100%|██████████| 200/200 [00:00<00:00, 804.45it/s]\n"
     ]
    },
    {
     "name": "stdout",
     "output_type": "stream",
     "text": [
      "'run_molecular_formula'  17037.07 ms\n",
      "197 assigned peaks and 78 unassigned peaks, total  = 71.64 %, relative abundance = 83.39 %, RMS error (best candidate) (ppm) = 0.049\n",
      "timestart: 14\n",
      "negative\n",
      "MS Obj loaded - 242 peaks found.\n",
      "MS Obj loaded - 242 peaks found.\n",
      "Reference mass list loaded - 2030 calibration masses loaded.\n",
      "46 calibration points matched within thresholds.\n",
      "minimize function completed with RMS error of: 0.330 ppm\n",
      "minimize function performed 307 fn evals and 6 iterations\n",
      "'runworker'  29.90 ms\n"
     ]
    },
    {
     "name": "stderr",
     "output_type": "stream",
     "text": [
      "Loading molecular formula database: 244178it [00:05, 45509.37it/s] \n",
      "Started molecular formula search for class {\"N\": 1, \"S\": 1, \"O\": 10, \"F\": 4}, (de)protonated : 100%|██████████| 300/300 [00:00<00:00, 732.32it/s]\n",
      "Loading molecular formula database: 247740it [00:06, 39389.03it/s] \n",
      "Started molecular formula search for class {\"N\": 2, \"S\": 1, \"O\": 20, \"F\": 4}, (de)protonated : 100%|██████████| 300/300 [00:00<00:00, 821.57it/s]\n",
      "Loading molecular formula database: 166880it [00:03, 47937.66it/s] \n",
      "Started molecular formula search for class {\"N\": 3, \"S\": 1, \"O\": 20, \"F\": 4}, (de)protonated : 100%|██████████| 200/200 [00:00<00:00, 790.10it/s]\n"
     ]
    },
    {
     "name": "stdout",
     "output_type": "stream",
     "text": [
      "'run_molecular_formula'  16271.28 ms\n",
      "160 assigned peaks and 82 unassigned peaks, total  = 66.12 %, relative abundance = 77.99 %, RMS error (best candidate) (ppm) = 0.103\n",
      "timestart: 16\n",
      "negative\n",
      "MS Obj loaded - 205 peaks found.\n",
      "MS Obj loaded - 205 peaks found.\n",
      "Reference mass list loaded - 2030 calibration masses loaded.\n",
      "34 calibration points matched within thresholds.\n",
      "minimize function completed with RMS error of: 0.318 ppm\n",
      "minimize function performed 336 fn evals and 7 iterations\n",
      "'runworker'  29.97 ms\n"
     ]
    },
    {
     "name": "stderr",
     "output_type": "stream",
     "text": [
      "Loading molecular formula database: 244178it [00:05, 43737.06it/s] \n",
      "Started molecular formula search for class {\"N\": 1, \"S\": 1, \"O\": 10, \"F\": 4}, (de)protonated : 100%|██████████| 300/300 [00:00<00:00, 815.99it/s]\n",
      "Loading molecular formula database: 247740it [00:06, 40310.79it/s] \n",
      "Started molecular formula search for class {\"N\": 2, \"S\": 1, \"O\": 20, \"F\": 4}, (de)protonated : 100%|██████████| 300/300 [00:00<00:00, 922.20it/s]\n",
      "Loading molecular formula database: 166880it [00:03, 45635.99it/s] \n",
      "Started molecular formula search for class {\"N\": 3, \"S\": 1, \"O\": 20, \"F\": 4}, (de)protonated : 100%|██████████| 200/200 [00:00<00:00, 964.60it/s]\n"
     ]
    },
    {
     "name": "stdout",
     "output_type": "stream",
     "text": [
      "'run_molecular_formula'  16390.12 ms\n",
      "137 assigned peaks and 68 unassigned peaks, total  = 66.83 %, relative abundance = 79.45 %, RMS error (best candidate) (ppm) = 0.129\n",
      "timestart: 18\n",
      "negative\n",
      "MS Obj loaded - 209 peaks found.\n",
      "MS Obj loaded - 209 peaks found.\n",
      "Reference mass list loaded - 2030 calibration masses loaded.\n",
      "37 calibration points matched within thresholds.\n",
      "minimize function completed with RMS error of: 0.314 ppm\n",
      "minimize function performed 342 fn evals and 7 iterations\n",
      "'runworker'  30.00 ms\n"
     ]
    },
    {
     "name": "stderr",
     "output_type": "stream",
     "text": [
      "Loading molecular formula database: 244178it [00:05, 42047.19it/s] \n",
      "Started molecular formula search for class {\"N\": 1, \"S\": 1, \"O\": 10, \"F\": 4}, (de)protonated : 100%|██████████| 300/300 [00:00<00:00, 790.90it/s]\n",
      "Loading molecular formula database: 247740it [00:05, 44555.31it/s] \n",
      "Started molecular formula search for class {\"N\": 2, \"S\": 1, \"O\": 20, \"F\": 4}, (de)protonated : 100%|██████████| 300/300 [00:00<00:00, 904.35it/s]\n",
      "Loading molecular formula database: 166880it [00:04, 40286.99it/s] \n",
      "Started molecular formula search for class {\"N\": 3, \"S\": 1, \"O\": 20, \"F\": 4}, (de)protonated : 100%|██████████| 200/200 [00:00<00:00, 876.23it/s]\n"
     ]
    },
    {
     "name": "stdout",
     "output_type": "stream",
     "text": [
      "'run_molecular_formula'  16556.14 ms\n",
      "149 assigned peaks and 60 unassigned peaks, total  = 71.29 %, relative abundance = 86.96 %, RMS error (best candidate) (ppm) = 0.136\n",
      "timestart: 20\n",
      "negative\n",
      "MS Obj loaded - 191 peaks found.\n",
      "MS Obj loaded - 191 peaks found.\n",
      "Reference mass list loaded - 2030 calibration masses loaded.\n",
      "33 calibration points matched within thresholds.\n",
      "minimize function completed with RMS error of: 0.367 ppm\n",
      "minimize function performed 306 fn evals and 6 iterations\n",
      "'runworker'  29.78 ms\n"
     ]
    },
    {
     "name": "stderr",
     "output_type": "stream",
     "text": [
      "Loading molecular formula database: 244178it [00:05, 46382.08it/s] \n",
      "Started molecular formula search for class {\"N\": 1, \"S\": 1, \"O\": 10, \"F\": 4}, (de)protonated : 100%|██████████| 300/300 [00:00<00:00, 853.95it/s]\n",
      "Loading molecular formula database: 247740it [00:06, 41002.29it/s] \n",
      "Started molecular formula search for class {\"N\": 2, \"S\": 1, \"O\": 20, \"F\": 4}, (de)protonated : 100%|██████████| 300/300 [00:00<00:00, 975.07it/s] \n",
      "Loading molecular formula database: 166880it [00:03, 44043.88it/s] \n",
      "Started molecular formula search for class {\"N\": 3, \"S\": 1, \"O\": 20, \"F\": 4}, (de)protonated : 100%|██████████| 200/200 [00:00<00:00, 1053.52it/s]\n"
     ]
    },
    {
     "name": "stdout",
     "output_type": "stream",
     "text": [
      "'run_molecular_formula'  16051.15 ms\n",
      "119 assigned peaks and 72 unassigned peaks, total  = 62.30 %, relative abundance = 75.16 %, RMS error (best candidate) (ppm) = 0.142\n",
      "timestart: 22\n",
      "negative\n",
      "MS Obj loaded - 262 peaks found.\n",
      "MS Obj loaded - 262 peaks found.\n",
      "Reference mass list loaded - 2030 calibration masses loaded.\n",
      "42 calibration points matched within thresholds.\n",
      "minimize function completed with RMS error of: 0.447 ppm\n",
      "minimize function performed 307 fn evals and 6 iterations\n",
      "'runworker'  30.11 ms\n"
     ]
    },
    {
     "name": "stderr",
     "output_type": "stream",
     "text": [
      "Loading molecular formula database: 244178it [00:06, 39940.38it/s] \n",
      "Started molecular formula search for class {\"N\": 1, \"S\": 1, \"O\": 10, \"F\": 4}, (de)protonated : 100%|██████████| 300/300 [00:00<00:00, 681.42it/s]\n",
      "Loading molecular formula database: 247740it [00:05, 41675.57it/s] \n",
      "Started molecular formula search for class {\"N\": 2, \"S\": 1, \"O\": 20, \"F\": 4}, (de)protonated : 100%|██████████| 300/300 [00:00<00:00, 764.28it/s]\n",
      "Loading molecular formula database: 166880it [00:04, 39862.43it/s] \n",
      "Started molecular formula search for class {\"N\": 3, \"S\": 1, \"O\": 20, \"F\": 4}, (de)protonated : 100%|██████████| 200/200 [00:00<00:00, 845.92it/s]\n"
     ]
    },
    {
     "name": "stdout",
     "output_type": "stream",
     "text": [
      "'run_molecular_formula'  17433.90 ms\n",
      "193 assigned peaks and 69 unassigned peaks, total  = 73.66 %, relative abundance = 88.52 %, RMS error (best candidate) (ppm) = 0.105\n",
      "\n",
      "\n",
      "20230113_LBA_Boiteau_Zorbax5um_1500IT_neg_FinalEff_fullmz_02.raw\n",
      "7 of 12 files\n",
      "timestart: 4\n",
      "negative\n",
      "MS Obj loaded - 305 peaks found.\n",
      "MS Obj loaded - 305 peaks found.\n",
      "Reference mass list loaded - 2030 calibration masses loaded.\n",
      "69 calibration points matched within thresholds.\n",
      "minimize function completed with RMS error of: 0.018 ppm\n",
      "minimize function performed 361 fn evals and 7 iterations\n",
      "'runworker'  30.35 ms\n"
     ]
    },
    {
     "name": "stderr",
     "output_type": "stream",
     "text": [
      "Loading molecular formula database: 244178it [00:05, 44062.76it/s] \n",
      "Started molecular formula search for class {\"N\": 1, \"S\": 1, \"O\": 10, \"F\": 4}, (de)protonated : 100%|██████████| 300/300 [00:00<00:00, 579.59it/s]\n",
      "Loading molecular formula database: 247740it [00:06, 35892.97it/s] \n",
      "Started molecular formula search for class {\"N\": 2, \"S\": 1, \"O\": 20, \"F\": 4}, (de)protonated : 100%|██████████| 300/300 [00:00<00:00, 692.24it/s]\n",
      "Loading molecular formula database: 166880it [00:03, 46703.44it/s] \n",
      "Started molecular formula search for class {\"N\": 3, \"S\": 1, \"O\": 20, \"F\": 4}, (de)protonated : 100%|██████████| 200/200 [00:00<00:00, 804.00it/s]\n"
     ]
    },
    {
     "name": "stdout",
     "output_type": "stream",
     "text": [
      "'run_molecular_formula'  17332.01 ms\n",
      "286 assigned peaks and 19 unassigned peaks, total  = 93.77 %, relative abundance = 94.16 %, RMS error (best candidate) (ppm) = 0.037\n",
      "timestart: 6\n",
      "negative\n",
      "MS Obj loaded - 420 peaks found.\n",
      "MS Obj loaded - 420 peaks found.\n",
      "Reference mass list loaded - 2030 calibration masses loaded.\n",
      "80 calibration points matched within thresholds.\n",
      "minimize function completed with RMS error of: 0.022 ppm\n",
      "minimize function performed 365 fn evals and 7 iterations\n",
      "'runworker'  29.32 ms\n"
     ]
    },
    {
     "name": "stderr",
     "output_type": "stream",
     "text": [
      "Loading molecular formula database: 244178it [00:06, 39915.13it/s] \n",
      "Started molecular formula search for class {\"N\": 1, \"S\": 1, \"O\": 10, \"F\": 4}, (de)protonated : 100%|██████████| 300/300 [00:00<00:00, 425.37it/s]\n",
      "Loading molecular formula database: 247740it [00:06, 38485.10it/s] \n",
      "Started molecular formula search for class {\"N\": 2, \"S\": 1, \"O\": 20, \"F\": 4}, (de)protonated : 100%|██████████| 300/300 [00:00<00:00, 505.06it/s]\n",
      "Loading molecular formula database: 166880it [00:04, 36865.59it/s] \n",
      "Started molecular formula search for class {\"N\": 3, \"S\": 1, \"O\": 20, \"F\": 4}, (de)protonated : 100%|██████████| 200/200 [00:00<00:00, 617.61it/s]\n"
     ]
    },
    {
     "name": "stdout",
     "output_type": "stream",
     "text": [
      "'run_molecular_formula'  18837.42 ms\n",
      "392 assigned peaks and 28 unassigned peaks, total  = 93.33 %, relative abundance = 96.91 %, RMS error (best candidate) (ppm) = 0.043\n",
      "timestart: 8\n",
      "negative\n",
      "MS Obj loaded - 386 peaks found.\n",
      "MS Obj loaded - 386 peaks found.\n",
      "Reference mass list loaded - 2030 calibration masses loaded.\n",
      "68 calibration points matched within thresholds.\n",
      "minimize function completed with RMS error of: 0.017 ppm\n",
      "minimize function performed 374 fn evals and 7 iterations\n",
      "'runworker'  29.43 ms\n"
     ]
    },
    {
     "name": "stderr",
     "output_type": "stream",
     "text": [
      "Loading molecular formula database: 244178it [00:06, 36888.46it/s]\n",
      "Started molecular formula search for class {\"N\": 1, \"S\": 1, \"O\": 10, \"F\": 4}, (de)protonated : 100%|██████████| 300/300 [00:00<00:00, 435.96it/s]\n",
      "Loading molecular formula database: 247740it [00:06, 35876.37it/s] \n",
      "Started molecular formula search for class {\"N\": 2, \"S\": 1, \"O\": 20, \"F\": 4}, (de)protonated : 100%|██████████| 300/300 [00:00<00:00, 529.12it/s]\n",
      "Loading molecular formula database: 166880it [00:04, 37956.66it/s] \n",
      "Started molecular formula search for class {\"N\": 3, \"S\": 1, \"O\": 20, \"F\": 4}, (de)protonated : 100%|██████████| 200/200 [00:00<00:00, 626.07it/s]\n"
     ]
    },
    {
     "name": "stdout",
     "output_type": "stream",
     "text": [
      "'run_molecular_formula'  19654.48 ms\n",
      "335 assigned peaks and 51 unassigned peaks, total  = 86.79 %, relative abundance = 72.61 %, RMS error (best candidate) (ppm) = 0.049\n",
      "timestart: 10\n",
      "negative\n",
      "MS Obj loaded - 648 peaks found.\n",
      "MS Obj loaded - 648 peaks found.\n",
      "Reference mass list loaded - 2030 calibration masses loaded.\n",
      "106 calibration points matched within thresholds.\n",
      "minimize function completed with RMS error of: 0.029 ppm\n",
      "minimize function performed 325 fn evals and 6 iterations\n",
      "'runworker'  30.27 ms\n"
     ]
    },
    {
     "name": "stderr",
     "output_type": "stream",
     "text": [
      "Loading molecular formula database: 244178it [00:07, 34159.90it/s] \n",
      "Started molecular formula search for class {\"N\": 1, \"S\": 1, \"O\": 10, \"F\": 4}, (de)protonated : 100%|██████████| 300/300 [00:01<00:00, 181.00it/s]\n",
      "Loading molecular formula database: 247740it [00:07, 32201.96it/s] \n",
      "Started molecular formula search for class {\"N\": 2, \"S\": 1, \"O\": 20, \"F\": 4}, (de)protonated : 100%|██████████| 300/300 [00:01<00:00, 285.26it/s]\n",
      "Loading molecular formula database: 166880it [00:04, 38814.42it/s] \n",
      "Started molecular formula search for class {\"N\": 3, \"S\": 1, \"O\": 20, \"F\": 4}, (de)protonated : 100%|██████████| 200/200 [00:00<00:00, 380.52it/s]\n"
     ]
    },
    {
     "name": "stdout",
     "output_type": "stream",
     "text": [
      "'run_molecular_formula'  22548.84 ms\n",
      "554 assigned peaks and 94 unassigned peaks, total  = 85.49 %, relative abundance = 95.41 %, RMS error (best candidate) (ppm) = 0.057\n",
      "timestart: 12\n",
      "negative\n",
      "MS Obj loaded - 629 peaks found.\n",
      "MS Obj loaded - 629 peaks found.\n",
      "Reference mass list loaded - 2030 calibration masses loaded.\n",
      "105 calibration points matched within thresholds.\n",
      "minimize function completed with RMS error of: 0.037 ppm\n",
      "minimize function performed 324 fn evals and 6 iterations\n",
      "'runworker'  30.24 ms\n"
     ]
    },
    {
     "name": "stderr",
     "output_type": "stream",
     "text": [
      "Loading molecular formula database: 244178it [00:07, 34746.08it/s]\n",
      "Started molecular formula search for class {\"N\": 1, \"S\": 1, \"O\": 10, \"F\": 4}, (de)protonated : 100%|██████████| 300/300 [00:01<00:00, 220.94it/s]\n",
      "Loading molecular formula database: 247740it [00:07, 34030.93it/s] \n",
      "Started molecular formula search for class {\"N\": 2, \"S\": 1, \"O\": 20, \"F\": 4}, (de)protonated : 100%|██████████| 300/300 [00:00<00:00, 328.25it/s]\n",
      "Loading molecular formula database: 166880it [00:04, 36945.01it/s] \n",
      "Started molecular formula search for class {\"N\": 3, \"S\": 1, \"O\": 20, \"F\": 4}, (de)protonated : 100%|██████████| 200/200 [00:00<00:00, 409.07it/s]\n"
     ]
    },
    {
     "name": "stdout",
     "output_type": "stream",
     "text": [
      "'run_molecular_formula'  21753.78 ms\n",
      "540 assigned peaks and 89 unassigned peaks, total  = 85.85 %, relative abundance = 94.17 %, RMS error (best candidate) (ppm) = 0.054\n",
      "timestart: 14\n",
      "negative\n",
      "MS Obj loaded - 1022 peaks found.\n",
      "MS Obj loaded - 1022 peaks found.\n",
      "Reference mass list loaded - 2030 calibration masses loaded.\n",
      "151 calibration points matched within thresholds.\n",
      "minimize function completed with RMS error of: 0.067 ppm\n",
      "minimize function performed 373 fn evals and 8 iterations\n",
      "'runworker'  29.62 ms\n"
     ]
    },
    {
     "name": "stderr",
     "output_type": "stream",
     "text": [
      "Loading molecular formula database: 244178it [00:07, 31183.51it/s]\n",
      "Started molecular formula search for class {\"N\": 1, \"S\": 1, \"O\": 10, \"F\": 4}, (de)protonated : 100%|██████████| 300/300 [00:02<00:00, 114.67it/s]\n",
      "Loading molecular formula database: 247740it [00:07, 32209.18it/s]\n",
      "Started molecular formula search for class {\"N\": 2, \"S\": 1, \"O\": 20, \"F\": 4}, (de)protonated : 100%|██████████| 300/300 [00:01<00:00, 194.61it/s]\n",
      "Loading molecular formula database: 166880it [00:05, 28793.87it/s]\n",
      "Started molecular formula search for class {\"N\": 3, \"S\": 1, \"O\": 20, \"F\": 4}, (de)protonated : 100%|██████████| 200/200 [00:00<00:00, 249.72it/s]\n"
     ]
    },
    {
     "name": "stdout",
     "output_type": "stream",
     "text": [
      "'run_molecular_formula'  26490.96 ms\n",
      "802 assigned peaks and 220 unassigned peaks, total  = 78.47 %, relative abundance = 95.69 %, RMS error (best candidate) (ppm) = 0.072\n",
      "timestart: 16\n",
      "negative\n",
      "MS Obj loaded - 1070 peaks found.\n",
      "MS Obj loaded - 1070 peaks found.\n",
      "Reference mass list loaded - 2030 calibration masses loaded.\n",
      "161 calibration points matched within thresholds.\n",
      "minimize function completed with RMS error of: 0.057 ppm\n",
      "minimize function performed 411 fn evals and 9 iterations\n",
      "'runworker'  30.19 ms\n"
     ]
    },
    {
     "name": "stderr",
     "output_type": "stream",
     "text": [
      "Loading molecular formula database: 244178it [00:07, 32396.50it/s]\n",
      "Started molecular formula search for class {\"N\": 1, \"S\": 1, \"O\": 10, \"F\": 4}, (de)protonated : 100%|██████████| 300/300 [00:02<00:00, 117.78it/s]\n",
      "Loading molecular formula database: 247740it [00:09, 27048.35it/s]\n",
      "Started molecular formula search for class {\"N\": 2, \"S\": 1, \"O\": 20, \"F\": 4}, (de)protonated : 100%|██████████| 300/300 [00:02<00:00, 146.80it/s]\n",
      "Loading molecular formula database: 166880it [00:05, 28571.48it/s]\n",
      "Started molecular formula search for class {\"N\": 3, \"S\": 1, \"O\": 20, \"F\": 4}, (de)protonated : 100%|██████████| 200/200 [00:01<00:00, 123.81it/s]\n"
     ]
    },
    {
     "name": "stdout",
     "output_type": "stream",
     "text": [
      "'run_molecular_formula'  28975.88 ms\n",
      "883 assigned peaks and 187 unassigned peaks, total  = 82.52 %, relative abundance = 96.92 %, RMS error (best candidate) (ppm) = 0.073\n",
      "timestart: 18\n",
      "negative\n",
      "MS Obj loaded - 1029 peaks found.\n",
      "MS Obj loaded - 1029 peaks found.\n",
      "Reference mass list loaded - 2030 calibration masses loaded.\n",
      "156 calibration points matched within thresholds.\n",
      "minimize function completed with RMS error of: 0.203 ppm\n",
      "minimize function performed 362 fn evals and 8 iterations\n",
      "'runworker'  29.02 ms\n"
     ]
    },
    {
     "name": "stderr",
     "output_type": "stream",
     "text": [
      "Loading molecular formula database: 244178it [00:08, 30496.11it/s]\n",
      "Started molecular formula search for class {\"N\": 1, \"S\": 1, \"O\": 10, \"F\": 4}, (de)protonated : 100%|██████████| 300/300 [00:02<00:00, 128.31it/s]\n",
      "Loading molecular formula database: 247740it [00:08, 27843.65it/s]\n",
      "Started molecular formula search for class {\"N\": 2, \"S\": 1, \"O\": 20, \"F\": 4}, (de)protonated : 100%|██████████| 300/300 [00:01<00:00, 205.05it/s]\n",
      "Loading molecular formula database: 166880it [00:06, 27270.27it/s]\n",
      "Started molecular formula search for class {\"N\": 3, \"S\": 1, \"O\": 20, \"F\": 4}, (de)protonated : 100%|██████████| 200/200 [00:00<00:00, 212.52it/s]\n"
     ]
    },
    {
     "name": "stdout",
     "output_type": "stream",
     "text": [
      "'run_molecular_formula'  28008.73 ms\n",
      "870 assigned peaks and 159 unassigned peaks, total  = 84.55 %, relative abundance = 96.87 %, RMS error (best candidate) (ppm) = 0.071\n",
      "timestart: 20\n",
      "negative\n",
      "MS Obj loaded - 1064 peaks found.\n",
      "MS Obj loaded - 1064 peaks found.\n",
      "Reference mass list loaded - 2030 calibration masses loaded.\n",
      "162 calibration points matched within thresholds.\n",
      "minimize function completed with RMS error of: 0.137 ppm\n",
      "minimize function performed 3016 fn evals and 73 iterations\n",
      "'runworker'  37.25 ms\n"
     ]
    },
    {
     "name": "stderr",
     "output_type": "stream",
     "text": [
      "Loading molecular formula database: 244178it [00:08, 30205.43it/s]\n",
      "Started molecular formula search for class {\"N\": 1, \"S\": 1, \"O\": 10, \"F\": 4}, (de)protonated : 100%|██████████| 300/300 [00:02<00:00, 105.98it/s]\n",
      "Loading molecular formula database: 247740it [00:09, 26684.54it/s]\n",
      "Started molecular formula search for class {\"N\": 2, \"S\": 1, \"O\": 20, \"F\": 4}, (de)protonated : 100%|██████████| 300/300 [00:01<00:00, 192.02it/s]\n",
      "Loading molecular formula database: 166880it [00:05, 29642.48it/s]\n",
      "Started molecular formula search for class {\"N\": 3, \"S\": 1, \"O\": 20, \"F\": 4}, (de)protonated : 100%|██████████| 200/200 [00:00<00:00, 229.42it/s]\n"
     ]
    },
    {
     "name": "stdout",
     "output_type": "stream",
     "text": [
      "'run_molecular_formula'  28538.95 ms\n",
      "923 assigned peaks and 141 unassigned peaks, total  = 86.75 %, relative abundance = 95.82 %, RMS error (best candidate) (ppm) = 0.079\n",
      "timestart: 22\n",
      "negative\n",
      "MS Obj loaded - 1248 peaks found.\n",
      "MS Obj loaded - 1248 peaks found.\n",
      "Reference mass list loaded - 2030 calibration masses loaded.\n",
      "167 calibration points matched within thresholds.\n",
      "minimize function completed with RMS error of: 0.138 ppm\n",
      "minimize function performed 3027 fn evals and 74 iterations\n",
      "'runworker'  95.06 ms\n"
     ]
    },
    {
     "name": "stderr",
     "output_type": "stream",
     "text": [
      "Loading molecular formula database: 244178it [00:08, 27357.79it/s]\n",
      "Started molecular formula search for class {\"N\": 1, \"S\": 1, \"O\": 10, \"F\": 4}, (de)protonated : 100%|██████████| 300/300 [00:03<00:00, 93.88it/s] \n",
      "Loading molecular formula database: 247740it [00:09, 25167.09it/s]\n",
      "Started molecular formula search for class {\"N\": 2, \"S\": 1, \"O\": 20, \"F\": 4}, (de)protonated : 100%|██████████| 300/300 [00:02<00:00, 109.65it/s]\n",
      "Loading molecular formula database: 166880it [00:06, 25635.81it/s]\n",
      "Started molecular formula search for class {\"N\": 3, \"S\": 1, \"O\": 20, \"F\": 4}, (de)protonated : 100%|██████████| 200/200 [00:03<00:00, 54.18it/s] \n"
     ]
    },
    {
     "name": "stdout",
     "output_type": "stream",
     "text": [
      "'run_molecular_formula'  35248.44 ms\n",
      "979 assigned peaks and 269 unassigned peaks, total  = 78.45 %, relative abundance = 94.04 %, RMS error (best candidate) (ppm) = 0.088\n",
      "\n",
      "\n",
      "20230113_LBA_Boiteau_Zorbax5um_1500IT_neg_NovWastewater_300_500_02.raw\n",
      "8 of 12 files\n",
      "timestart: 4\n",
      "negative\n",
      "MS Obj loaded - 528 peaks found.\n",
      "MS Obj loaded - 528 peaks found.\n",
      "Reference mass list loaded - 2030 calibration masses loaded.\n",
      "118 calibration points matched within thresholds.\n",
      "minimize function completed with RMS error of: 0.053 ppm\n",
      "minimize function performed 348 fn evals and 7 iterations\n",
      "'runworker'  36.58 ms\n"
     ]
    },
    {
     "name": "stderr",
     "output_type": "stream",
     "text": [
      "Loading molecular formula database: 244178it [00:06, 37986.83it/s] \n",
      "Started molecular formula search for class {\"N\": 1, \"S\": 1, \"O\": 10, \"F\": 4}, (de)protonated : 100%|██████████| 300/300 [00:01<00:00, 289.19it/s]\n",
      "Loading molecular formula database: 247740it [00:06, 36658.14it/s] \n",
      "Started molecular formula search for class {\"N\": 2, \"S\": 1, \"O\": 20, \"F\": 4}, (de)protonated : 100%|██████████| 300/300 [00:00<00:00, 343.20it/s]\n",
      "Loading molecular formula database: 166880it [00:04, 40700.83it/s] \n",
      "Started molecular formula search for class {\"N\": 3, \"S\": 1, \"O\": 20, \"F\": 4}, (de)protonated : 100%|██████████| 200/200 [00:00<00:00, 415.07it/s]\n"
     ]
    },
    {
     "name": "stdout",
     "output_type": "stream",
     "text": [
      "'run_molecular_formula'  19816.56 ms\n",
      "401 assigned peaks and 127 unassigned peaks, total  = 75.95 %, relative abundance = 60.07 %, RMS error (best candidate) (ppm) = 0.065\n",
      "timestart: 6\n",
      "negative\n",
      "MS Obj loaded - 758 peaks found.\n",
      "MS Obj loaded - 758 peaks found.\n",
      "Reference mass list loaded - 2030 calibration masses loaded.\n",
      "129 calibration points matched within thresholds.\n",
      "minimize function completed with RMS error of: 0.039 ppm\n",
      "minimize function performed 318 fn evals and 6 iterations\n",
      "'runworker'  29.51 ms\n"
     ]
    },
    {
     "name": "stderr",
     "output_type": "stream",
     "text": [
      "Loading molecular formula database: 244178it [00:06, 35907.85it/s] \n",
      "Started molecular formula search for class {\"N\": 1, \"S\": 1, \"O\": 10, \"F\": 4}, (de)protonated : 100%|██████████| 300/300 [00:01<00:00, 251.46it/s]\n",
      "Loading molecular formula database: 247740it [00:06, 36363.57it/s] \n",
      "Started molecular formula search for class {\"N\": 2, \"S\": 1, \"O\": 20, \"F\": 4}, (de)protonated : 100%|██████████| 300/300 [00:00<00:00, 338.02it/s]\n",
      "Loading molecular formula database: 166880it [00:04, 35505.03it/s] \n",
      "Started molecular formula search for class {\"N\": 3, \"S\": 1, \"O\": 20, \"F\": 4}, (de)protonated : 100%|██████████| 200/200 [00:00<00:00, 394.77it/s]\n"
     ]
    },
    {
     "name": "stdout",
     "output_type": "stream",
     "text": [
      "'run_molecular_formula'  21050.73 ms\n",
      "687 assigned peaks and 71 unassigned peaks, total  = 90.63 %, relative abundance = 96.02 %, RMS error (best candidate) (ppm) = 0.059\n",
      "timestart: 8\n",
      "negative\n",
      "MS Obj loaded - 694 peaks found.\n",
      "MS Obj loaded - 694 peaks found.\n",
      "Reference mass list loaded - 2030 calibration masses loaded.\n",
      "115 calibration points matched within thresholds.\n",
      "minimize function completed with RMS error of: 0.037 ppm\n",
      "minimize function performed 353 fn evals and 7 iterations\n",
      "'runworker'  29.27 ms\n"
     ]
    },
    {
     "name": "stderr",
     "output_type": "stream",
     "text": [
      "Loading molecular formula database: 244178it [00:06, 37412.20it/s] \n",
      "Started molecular formula search for class {\"N\": 1, \"S\": 1, \"O\": 10, \"F\": 4}, (de)protonated : 100%|██████████| 300/300 [00:01<00:00, 154.69it/s]\n",
      "Loading molecular formula database: 247740it [00:07, 34953.43it/s] \n",
      "Started molecular formula search for class {\"N\": 2, \"S\": 1, \"O\": 20, \"F\": 4}, (de)protonated : 100%|██████████| 300/300 [00:01<00:00, 273.86it/s]\n",
      "Loading molecular formula database: 166880it [00:04, 35791.93it/s] \n",
      "Started molecular formula search for class {\"N\": 3, \"S\": 1, \"O\": 20, \"F\": 4}, (de)protonated : 100%|██████████| 200/200 [00:00<00:00, 266.99it/s]\n"
     ]
    },
    {
     "name": "stdout",
     "output_type": "stream",
     "text": [
      "'run_molecular_formula'  22204.15 ms\n",
      "615 assigned peaks and 79 unassigned peaks, total  = 88.62 %, relative abundance = 73.31 %, RMS error (best candidate) (ppm) = 0.058\n",
      "timestart: 10\n",
      "negative\n",
      "MS Obj loaded - 1178 peaks found.\n",
      "MS Obj loaded - 1178 peaks found.\n",
      "Reference mass list loaded - 2030 calibration masses loaded.\n",
      "137 calibration points matched within thresholds.\n",
      "minimize function completed with RMS error of: 0.043 ppm\n",
      "minimize function performed 349 fn evals and 7 iterations\n",
      "'runworker'  29.09 ms\n"
     ]
    },
    {
     "name": "stderr",
     "output_type": "stream",
     "text": [
      "Loading molecular formula database: 244178it [00:06, 38039.43it/s] \n",
      "Started molecular formula search for class {\"N\": 1, \"S\": 1, \"O\": 10, \"F\": 4}, (de)protonated : 100%|██████████| 300/300 [00:03<00:00, 82.80it/s] \n",
      "Loading molecular formula database: 247740it [00:07, 33924.22it/s] \n",
      "Started molecular formula search for class {\"N\": 2, \"S\": 1, \"O\": 20, \"F\": 4}, (de)protonated : 100%|██████████| 300/300 [00:01<00:00, 207.97it/s]\n",
      "Loading molecular formula database: 166880it [00:04, 38268.65it/s] \n",
      "Started molecular formula search for class {\"N\": 3, \"S\": 1, \"O\": 20, \"F\": 4}, (de)protonated : 100%|██████████| 200/200 [00:00<00:00, 212.16it/s]\n"
     ]
    },
    {
     "name": "stdout",
     "output_type": "stream",
     "text": [
      "'run_molecular_formula'  24237.15 ms\n",
      "1010 assigned peaks and 168 unassigned peaks, total  = 85.74 %, relative abundance = 93.15 %, RMS error (best candidate) (ppm) = 0.066\n",
      "timestart: 12\n",
      "negative\n",
      "MS Obj loaded - 988 peaks found.\n",
      "MS Obj loaded - 988 peaks found.\n",
      "Reference mass list loaded - 2030 calibration masses loaded.\n",
      "126 calibration points matched within thresholds.\n",
      "minimize function completed with RMS error of: 0.041 ppm\n",
      "minimize function performed 350 fn evals and 7 iterations\n",
      "'runworker'  31.04 ms\n"
     ]
    },
    {
     "name": "stderr",
     "output_type": "stream",
     "text": [
      "Loading molecular formula database: 244178it [00:07, 34148.85it/s] \n",
      "Started molecular formula search for class {\"N\": 1, \"S\": 1, \"O\": 10, \"F\": 4}, (de)protonated : 100%|██████████| 300/300 [00:03<00:00, 96.73it/s] \n",
      "Loading molecular formula database: 247740it [00:06, 36649.51it/s] \n",
      "Started molecular formula search for class {\"N\": 2, \"S\": 1, \"O\": 20, \"F\": 4}, (de)protonated : 100%|██████████| 300/300 [00:01<00:00, 213.34it/s]\n",
      "Loading molecular formula database: 166880it [00:04, 35139.49it/s] \n",
      "Started molecular formula search for class {\"N\": 3, \"S\": 1, \"O\": 20, \"F\": 4}, (de)protonated : 100%|██████████| 200/200 [00:00<00:00, 236.56it/s]\n"
     ]
    },
    {
     "name": "stdout",
     "output_type": "stream",
     "text": [
      "'run_molecular_formula'  24157.92 ms\n",
      "871 assigned peaks and 117 unassigned peaks, total  = 88.16 %, relative abundance = 95.98 %, RMS error (best candidate) (ppm) = 0.061\n",
      "timestart: 14\n",
      "negative\n",
      "MS Obj loaded - 1104 peaks found.\n",
      "MS Obj loaded - 1104 peaks found.\n",
      "Reference mass list loaded - 2030 calibration masses loaded.\n",
      "127 calibration points matched within thresholds.\n",
      "minimize function completed with RMS error of: 0.068 ppm\n",
      "minimize function performed 316 fn evals and 6 iterations\n",
      "'runworker'  36.26 ms\n"
     ]
    },
    {
     "name": "stderr",
     "output_type": "stream",
     "text": [
      "Loading molecular formula database: 244178it [00:07, 34699.63it/s] \n",
      "Started molecular formula search for class {\"N\": 1, \"S\": 1, \"O\": 10, \"F\": 4}, (de)protonated : 100%|██████████| 300/300 [00:03<00:00, 91.90it/s] \n",
      "Loading molecular formula database: 247740it [00:07, 34588.80it/s]\n",
      "Started molecular formula search for class {\"N\": 2, \"S\": 1, \"O\": 20, \"F\": 4}, (de)protonated : 100%|██████████| 300/300 [00:01<00:00, 197.87it/s]\n",
      "Loading molecular formula database: 166880it [00:04, 40307.69it/s] \n",
      "Started molecular formula search for class {\"N\": 3, \"S\": 1, \"O\": 20, \"F\": 4}, (de)protonated : 100%|██████████| 200/200 [00:00<00:00, 265.18it/s]\n"
     ]
    },
    {
     "name": "stdout",
     "output_type": "stream",
     "text": [
      "'run_molecular_formula'  24028.91 ms\n",
      "937 assigned peaks and 167 unassigned peaks, total  = 84.87 %, relative abundance = 95.15 %, RMS error (best candidate) (ppm) = 0.064\n",
      "timestart: 16\n",
      "negative\n",
      "MS Obj loaded - 704 peaks found.\n",
      "MS Obj loaded - 704 peaks found.\n",
      "Reference mass list loaded - 2030 calibration masses loaded.\n",
      "105 calibration points matched within thresholds.\n",
      "minimize function completed with RMS error of: 0.047 ppm\n",
      "minimize function performed 356 fn evals and 7 iterations\n",
      "'runworker'  29.80 ms\n"
     ]
    },
    {
     "name": "stderr",
     "output_type": "stream",
     "text": [
      "Loading molecular formula database: 244178it [00:06, 37417.07it/s] \n",
      "Started molecular formula search for class {\"N\": 1, \"S\": 1, \"O\": 10, \"F\": 4}, (de)protonated : 100%|██████████| 300/300 [00:01<00:00, 155.10it/s]\n",
      "Loading molecular formula database: 247740it [00:07, 34375.98it/s]\n",
      "Started molecular formula search for class {\"N\": 2, \"S\": 1, \"O\": 20, \"F\": 4}, (de)protonated : 100%|██████████| 300/300 [00:00<00:00, 391.36it/s]\n",
      "Loading molecular formula database: 166880it [00:03, 41755.46it/s] \n",
      "Started molecular formula search for class {\"N\": 3, \"S\": 1, \"O\": 20, \"F\": 4}, (de)protonated : 100%|██████████| 200/200 [00:00<00:00, 412.64it/s]\n"
     ]
    },
    {
     "name": "stdout",
     "output_type": "stream",
     "text": [
      "'run_molecular_formula'  21051.30 ms\n",
      "652 assigned peaks and 52 unassigned peaks, total  = 92.61 %, relative abundance = 97.81 %, RMS error (best candidate) (ppm) = 0.046\n",
      "timestart: 18\n",
      "negative\n",
      "MS Obj loaded - 832 peaks found.\n",
      "MS Obj loaded - 832 peaks found.\n",
      "Reference mass list loaded - 2030 calibration masses loaded.\n",
      "110 calibration points matched within thresholds.\n",
      "minimize function completed with RMS error of: 0.072 ppm\n",
      "minimize function performed 360 fn evals and 7 iterations\n",
      "'runworker'  29.67 ms\n"
     ]
    },
    {
     "name": "stderr",
     "output_type": "stream",
     "text": [
      "Loading molecular formula database: 244178it [00:07, 34533.86it/s] \n",
      "Started molecular formula search for class {\"N\": 1, \"S\": 1, \"O\": 10, \"F\": 4}, (de)protonated : 100%|██████████| 300/300 [00:02<00:00, 138.35it/s]\n",
      "Loading molecular formula database: 247740it [00:06, 36409.36it/s] \n",
      "Started molecular formula search for class {\"N\": 2, \"S\": 1, \"O\": 20, \"F\": 4}, (de)protonated : 100%|██████████| 300/300 [00:00<00:00, 312.36it/s]\n",
      "Loading molecular formula database: 166880it [00:04, 33892.02it/s]\n",
      "Started molecular formula search for class {\"N\": 3, \"S\": 1, \"O\": 20, \"F\": 4}, (de)protonated : 100%|██████████| 200/200 [00:00<00:00, 337.61it/s]\n"
     ]
    },
    {
     "name": "stdout",
     "output_type": "stream",
     "text": [
      "'run_molecular_formula'  22667.54 ms\n",
      "741 assigned peaks and 91 unassigned peaks, total  = 89.06 %, relative abundance = 97.14 %, RMS error (best candidate) (ppm) = 0.047\n",
      "timestart: 20\n",
      "negative\n",
      "MS Obj loaded - 703 peaks found.\n",
      "MS Obj loaded - 703 peaks found.\n",
      "Reference mass list loaded - 2030 calibration masses loaded.\n",
      "97 calibration points matched within thresholds.\n",
      "minimize function completed with RMS error of: 0.050 ppm\n",
      "minimize function performed 350 fn evals and 7 iterations\n",
      "'runworker'  31.52 ms\n"
     ]
    },
    {
     "name": "stderr",
     "output_type": "stream",
     "text": [
      "Loading molecular formula database: 244178it [00:06, 35208.40it/s] \n",
      "Started molecular formula search for class {\"N\": 1, \"S\": 1, \"O\": 10, \"F\": 4}, (de)protonated : 100%|██████████| 300/300 [00:01<00:00, 150.28it/s]\n",
      "Loading molecular formula database: 247740it [00:07, 31464.21it/s] \n",
      "Started molecular formula search for class {\"N\": 2, \"S\": 1, \"O\": 20, \"F\": 4}, (de)protonated : 100%|██████████| 300/300 [00:00<00:00, 304.91it/s]\n",
      "Loading molecular formula database: 166880it [00:05, 32321.04it/s] \n",
      "Started molecular formula search for class {\"N\": 3, \"S\": 1, \"O\": 20, \"F\": 4}, (de)protonated : 100%|██████████| 200/200 [00:00<00:00, 270.69it/s]\n"
     ]
    },
    {
     "name": "stdout",
     "output_type": "stream",
     "text": [
      "'run_molecular_formula'  23866.19 ms\n",
      "649 assigned peaks and 54 unassigned peaks, total  = 92.32 %, relative abundance = 97.59 %, RMS error (best candidate) (ppm) = 0.047\n",
      "timestart: 22\n",
      "negative\n",
      "MS Obj loaded - 651 peaks found.\n",
      "MS Obj loaded - 651 peaks found.\n",
      "Reference mass list loaded - 2030 calibration masses loaded.\n",
      "100 calibration points matched within thresholds.\n",
      "minimize function completed with RMS error of: 0.036 ppm\n",
      "minimize function performed 354 fn evals and 7 iterations\n",
      "'runworker'  37.66 ms\n"
     ]
    },
    {
     "name": "stderr",
     "output_type": "stream",
     "text": [
      "Loading molecular formula database: 244178it [00:06, 36578.42it/s] \n",
      "Started molecular formula search for class {\"N\": 1, \"S\": 1, \"O\": 10, \"F\": 4}, (de)protonated : 100%|██████████| 300/300 [00:01<00:00, 184.13it/s]\n",
      "Loading molecular formula database: 247740it [00:07, 35337.77it/s] \n",
      "Started molecular formula search for class {\"N\": 2, \"S\": 1, \"O\": 20, \"F\": 4}, (de)protonated : 100%|██████████| 300/300 [00:00<00:00, 397.29it/s]\n",
      "Loading molecular formula database: 166880it [00:04, 36148.84it/s] \n",
      "Started molecular formula search for class {\"N\": 3, \"S\": 1, \"O\": 20, \"F\": 4}, (de)protonated : 100%|██████████| 200/200 [00:00<00:00, 473.53it/s]\n"
     ]
    },
    {
     "name": "stdout",
     "output_type": "stream",
     "text": [
      "'run_molecular_formula'  21264.33 ms\n",
      "624 assigned peaks and 27 unassigned peaks, total  = 95.85 %, relative abundance = 98.71 %, RMS error (best candidate) (ppm) = 0.052\n",
      "\n",
      "\n",
      "20230113_LBA_Boiteau_Zorbax5um_1500IT_neg_NovWastewater_300_500_01.raw\n",
      "9 of 12 files\n",
      "timestart: 4\n",
      "negative\n",
      "MS Obj loaded - 523 peaks found.\n",
      "MS Obj loaded - 523 peaks found.\n",
      "Reference mass list loaded - 2030 calibration masses loaded.\n",
      "117 calibration points matched within thresholds.\n",
      "minimize function completed with RMS error of: 0.043 ppm\n",
      "minimize function performed 350 fn evals and 7 iterations\n",
      "'runworker'  29.82 ms\n"
     ]
    },
    {
     "name": "stderr",
     "output_type": "stream",
     "text": [
      "Loading molecular formula database: 244178it [00:06, 38712.81it/s] \n",
      "Started molecular formula search for class {\"N\": 1, \"S\": 1, \"O\": 10, \"F\": 4}, (de)protonated : 100%|██████████| 300/300 [00:01<00:00, 290.56it/s]\n",
      "Loading molecular formula database: 247740it [00:06, 38030.45it/s] \n",
      "Started molecular formula search for class {\"N\": 2, \"S\": 1, \"O\": 20, \"F\": 4}, (de)protonated : 100%|██████████| 300/300 [00:00<00:00, 337.75it/s]\n",
      "Loading molecular formula database: 166880it [00:04, 38770.14it/s] \n",
      "Started molecular formula search for class {\"N\": 3, \"S\": 1, \"O\": 20, \"F\": 4}, (de)protonated : 100%|██████████| 200/200 [00:00<00:00, 404.71it/s]\n"
     ]
    },
    {
     "name": "stdout",
     "output_type": "stream",
     "text": [
      "'run_molecular_formula'  19677.51 ms\n",
      "396 assigned peaks and 127 unassigned peaks, total  = 75.72 %, relative abundance = 58.00 %, RMS error (best candidate) (ppm) = 0.060\n",
      "timestart: 6\n",
      "negative\n",
      "MS Obj loaded - 864 peaks found.\n",
      "MS Obj loaded - 864 peaks found.\n",
      "Reference mass list loaded - 2030 calibration masses loaded.\n",
      "138 calibration points matched within thresholds.\n",
      "minimize function completed with RMS error of: 0.042 ppm\n",
      "minimize function performed 349 fn evals and 7 iterations\n",
      "'runworker'  32.08 ms\n"
     ]
    },
    {
     "name": "stderr",
     "output_type": "stream",
     "text": [
      "Loading molecular formula database: 244178it [00:06, 36760.68it/s] \n",
      "Started molecular formula search for class {\"N\": 1, \"S\": 1, \"O\": 10, \"F\": 4}, (de)protonated : 100%|██████████| 300/300 [00:01<00:00, 216.02it/s]\n",
      "Loading molecular formula database: 247740it [00:07, 31961.30it/s]\n",
      "Started molecular formula search for class {\"N\": 2, \"S\": 1, \"O\": 20, \"F\": 4}, (de)protonated : 100%|██████████| 300/300 [00:01<00:00, 271.75it/s]\n",
      "Loading molecular formula database: 166880it [00:04, 39092.05it/s] \n",
      "Started molecular formula search for class {\"N\": 3, \"S\": 1, \"O\": 20, \"F\": 4}, (de)protonated : 100%|██████████| 200/200 [00:00<00:00, 311.46it/s]\n"
     ]
    },
    {
     "name": "stdout",
     "output_type": "stream",
     "text": [
      "'run_molecular_formula'  21953.68 ms\n",
      "769 assigned peaks and 95 unassigned peaks, total  = 89.00 %, relative abundance = 95.93 %, RMS error (best candidate) (ppm) = 0.065\n",
      "timestart: 8\n",
      "negative\n",
      "MS Obj loaded - 657 peaks found.\n",
      "MS Obj loaded - 657 peaks found.\n",
      "Reference mass list loaded - 2030 calibration masses loaded.\n",
      "112 calibration points matched within thresholds.\n",
      "minimize function completed with RMS error of: 0.034 ppm\n",
      "minimize function performed 355 fn evals and 7 iterations\n",
      "'runworker'  31.01 ms\n"
     ]
    },
    {
     "name": "stderr",
     "output_type": "stream",
     "text": [
      "Loading molecular formula database: 244178it [00:06, 37055.89it/s] \n",
      "Started molecular formula search for class {\"N\": 1, \"S\": 1, \"O\": 10, \"F\": 4}, (de)protonated : 100%|██████████| 300/300 [00:01<00:00, 163.52it/s]\n",
      "Loading molecular formula database: 247740it [00:06, 37210.88it/s] \n",
      "Started molecular formula search for class {\"N\": 2, \"S\": 1, \"O\": 20, \"F\": 4}, (de)protonated : 100%|██████████| 300/300 [00:01<00:00, 294.85it/s]\n",
      "Loading molecular formula database: 166880it [00:04, 35285.09it/s] \n",
      "Started molecular formula search for class {\"N\": 3, \"S\": 1, \"O\": 20, \"F\": 4}, (de)protonated : 100%|██████████| 200/200 [00:00<00:00, 277.96it/s]\n"
     ]
    },
    {
     "name": "stdout",
     "output_type": "stream",
     "text": [
      "'run_molecular_formula'  21689.83 ms\n",
      "585 assigned peaks and 72 unassigned peaks, total  = 89.04 %, relative abundance = 71.98 %, RMS error (best candidate) (ppm) = 0.055\n",
      "timestart: 10\n",
      "negative\n",
      "MS Obj loaded - 933 peaks found.\n",
      "MS Obj loaded - 933 peaks found.\n",
      "Reference mass list loaded - 2030 calibration masses loaded.\n",
      "129 calibration points matched within thresholds.\n",
      "minimize function completed with RMS error of: 0.041 ppm\n",
      "minimize function performed 351 fn evals and 7 iterations\n",
      "'runworker'  31.99 ms\n"
     ]
    },
    {
     "name": "stderr",
     "output_type": "stream",
     "text": [
      "Loading molecular formula database: 244178it [00:06, 37245.90it/s] \n",
      "Started molecular formula search for class {\"N\": 1, \"S\": 1, \"O\": 10, \"F\": 4}, (de)protonated : 100%|██████████| 300/300 [00:02<00:00, 105.93it/s]\n",
      "Loading molecular formula database: 247740it [00:06, 35694.06it/s] \n",
      "Started molecular formula search for class {\"N\": 2, \"S\": 1, \"O\": 20, \"F\": 4}, (de)protonated : 100%|██████████| 300/300 [00:01<00:00, 253.98it/s]\n",
      "Loading molecular formula database: 166880it [00:04, 36362.88it/s] \n",
      "Started molecular formula search for class {\"N\": 3, \"S\": 1, \"O\": 20, \"F\": 4}, (de)protonated : 100%|██████████| 200/200 [00:00<00:00, 265.90it/s]\n"
     ]
    },
    {
     "name": "stdout",
     "output_type": "stream",
     "text": [
      "'run_molecular_formula'  22994.91 ms\n",
      "823 assigned peaks and 110 unassigned peaks, total  = 88.21 %, relative abundance = 93.10 %, RMS error (best candidate) (ppm) = 0.057\n",
      "timestart: 12\n",
      "negative\n",
      "MS Obj loaded - 960 peaks found.\n",
      "MS Obj loaded - 960 peaks found.\n",
      "Reference mass list loaded - 2030 calibration masses loaded.\n",
      "127 calibration points matched within thresholds.\n",
      "minimize function completed with RMS error of: 0.033 ppm\n",
      "minimize function performed 354 fn evals and 7 iterations\n",
      "'runworker'  30.43 ms\n"
     ]
    },
    {
     "name": "stderr",
     "output_type": "stream",
     "text": [
      "Loading molecular formula database: 244178it [00:06, 37588.73it/s] \n",
      "Started molecular formula search for class {\"N\": 1, \"S\": 1, \"O\": 10, \"F\": 4}, (de)protonated : 100%|██████████| 300/300 [00:02<00:00, 102.32it/s]\n",
      "Loading molecular formula database: 247740it [00:06, 35770.10it/s] \n",
      "Started molecular formula search for class {\"N\": 2, \"S\": 1, \"O\": 20, \"F\": 4}, (de)protonated : 100%|██████████| 300/300 [00:01<00:00, 235.09it/s]\n",
      "Loading molecular formula database: 166880it [00:04, 35506.34it/s] \n",
      "Started molecular formula search for class {\"N\": 3, \"S\": 1, \"O\": 20, \"F\": 4}, (de)protonated : 100%|██████████| 200/200 [00:00<00:00, 239.19it/s]\n"
     ]
    },
    {
     "name": "stdout",
     "output_type": "stream",
     "text": [
      "'run_molecular_formula'  23311.95 ms\n",
      "851 assigned peaks and 109 unassigned peaks, total  = 88.65 %, relative abundance = 96.15 %, RMS error (best candidate) (ppm) = 0.058\n",
      "timestart: 14\n",
      "negative\n",
      "MS Obj loaded - 1024 peaks found.\n",
      "MS Obj loaded - 1024 peaks found.\n",
      "Reference mass list loaded - 2030 calibration masses loaded.\n",
      "123 calibration points matched within thresholds.\n",
      "minimize function completed with RMS error of: 0.031 ppm\n",
      "minimize function performed 349 fn evals and 7 iterations\n",
      "'runworker'  33.09 ms\n"
     ]
    },
    {
     "name": "stderr",
     "output_type": "stream",
     "text": [
      "Loading molecular formula database: 244178it [00:06, 36817.79it/s] \n",
      "Started molecular formula search for class {\"N\": 1, \"S\": 1, \"O\": 10, \"F\": 4}, (de)protonated : 100%|██████████| 300/300 [00:03<00:00, 99.17it/s] \n",
      "Loading molecular formula database: 247740it [00:06, 35800.04it/s] \n",
      "Started molecular formula search for class {\"N\": 2, \"S\": 1, \"O\": 20, \"F\": 4}, (de)protonated : 100%|██████████| 300/300 [00:01<00:00, 249.35it/s]\n",
      "Loading molecular formula database: 166880it [00:04, 37195.87it/s] \n",
      "Started molecular formula search for class {\"N\": 3, \"S\": 1, \"O\": 20, \"F\": 4}, (de)protonated : 100%|██████████| 200/200 [00:00<00:00, 280.69it/s]\n"
     ]
    },
    {
     "name": "stdout",
     "output_type": "stream",
     "text": [
      "'run_molecular_formula'  23133.66 ms\n",
      "894 assigned peaks and 130 unassigned peaks, total  = 87.30 %, relative abundance = 95.12 %, RMS error (best candidate) (ppm) = 0.055\n",
      "timestart: 16\n",
      "negative\n",
      "MS Obj loaded - 687 peaks found.\n",
      "MS Obj loaded - 687 peaks found.\n",
      "Reference mass list loaded - 2030 calibration masses loaded.\n",
      "106 calibration points matched within thresholds.\n",
      "minimize function completed with RMS error of: 0.028 ppm\n",
      "minimize function performed 355 fn evals and 7 iterations\n",
      "'runworker'  31.50 ms\n"
     ]
    },
    {
     "name": "stderr",
     "output_type": "stream",
     "text": [
      "Loading molecular formula database: 244178it [00:07, 34792.78it/s] \n",
      "Started molecular formula search for class {\"N\": 1, \"S\": 1, \"O\": 10, \"F\": 4}, (de)protonated : 100%|██████████| 300/300 [00:01<00:00, 159.01it/s]\n",
      "Loading molecular formula database: 247740it [00:06, 37675.89it/s] \n",
      "Started molecular formula search for class {\"N\": 2, \"S\": 1, \"O\": 20, \"F\": 4}, (de)protonated : 100%|██████████| 300/300 [00:00<00:00, 388.06it/s]\n",
      "Loading molecular formula database: 166880it [00:04, 35139.64it/s]\n",
      "Started molecular formula search for class {\"N\": 3, \"S\": 1, \"O\": 20, \"F\": 4}, (de)protonated : 100%|██████████| 200/200 [00:00<00:00, 444.16it/s]\n"
     ]
    },
    {
     "name": "stdout",
     "output_type": "stream",
     "text": [
      "'run_molecular_formula'  21595.67 ms\n",
      "645 assigned peaks and 42 unassigned peaks, total  = 93.89 %, relative abundance = 97.98 %, RMS error (best candidate) (ppm) = 0.040\n",
      "timestart: 18\n",
      "negative\n",
      "MS Obj loaded - 807 peaks found.\n",
      "MS Obj loaded - 807 peaks found.\n",
      "Reference mass list loaded - 2030 calibration masses loaded.\n",
      "107 calibration points matched within thresholds.\n",
      "minimize function completed with RMS error of: 0.029 ppm\n",
      "minimize function performed 353 fn evals and 7 iterations\n",
      "'runworker'  29.99 ms\n"
     ]
    },
    {
     "name": "stderr",
     "output_type": "stream",
     "text": [
      "Loading molecular formula database: 244178it [00:07, 32908.56it/s] \n",
      "Started molecular formula search for class {\"N\": 1, \"S\": 1, \"O\": 10, \"F\": 4}, (de)protonated : 100%|██████████| 300/300 [00:02<00:00, 121.38it/s]\n",
      "Loading molecular formula database: 247740it [00:06, 36983.91it/s] \n",
      "Started molecular formula search for class {\"N\": 2, \"S\": 1, \"O\": 20, \"F\": 4}, (de)protonated : 100%|██████████| 300/300 [00:00<00:00, 313.82it/s]\n",
      "Loading molecular formula database: 166880it [00:04, 34214.45it/s]\n",
      "Started molecular formula search for class {\"N\": 3, \"S\": 1, \"O\": 20, \"F\": 4}, (de)protonated : 100%|██████████| 200/200 [00:00<00:00, 351.44it/s]\n"
     ]
    },
    {
     "name": "stdout",
     "output_type": "stream",
     "text": [
      "'run_molecular_formula'  23138.65 ms\n",
      "733 assigned peaks and 74 unassigned peaks, total  = 90.83 %, relative abundance = 97.04 %, RMS error (best candidate) (ppm) = 0.044\n",
      "timestart: 20\n",
      "negative\n",
      "MS Obj loaded - 656 peaks found.\n",
      "MS Obj loaded - 656 peaks found.\n",
      "Reference mass list loaded - 2030 calibration masses loaded.\n",
      "94 calibration points matched within thresholds.\n",
      "minimize function completed with RMS error of: 0.025 ppm\n",
      "minimize function performed 353 fn evals and 7 iterations\n",
      "'runworker'  28.94 ms\n"
     ]
    },
    {
     "name": "stderr",
     "output_type": "stream",
     "text": [
      "Loading molecular formula database: 244178it [00:06, 35671.39it/s] \n",
      "Started molecular formula search for class {\"N\": 1, \"S\": 1, \"O\": 10, \"F\": 4}, (de)protonated : 100%|██████████| 300/300 [00:01<00:00, 187.53it/s]\n",
      "Loading molecular formula database: 247740it [00:06, 36083.40it/s] \n",
      "Started molecular formula search for class {\"N\": 2, \"S\": 1, \"O\": 20, \"F\": 4}, (de)protonated : 100%|██████████| 300/300 [00:00<00:00, 418.10it/s]\n",
      "Loading molecular formula database: 166880it [00:04, 35806.09it/s]\n",
      "Started molecular formula search for class {\"N\": 3, \"S\": 1, \"O\": 20, \"F\": 4}, (de)protonated : 100%|██████████| 200/200 [00:00<00:00, 454.00it/s]\n"
     ]
    },
    {
     "name": "stdout",
     "output_type": "stream",
     "text": [
      "'run_molecular_formula'  21273.22 ms\n",
      "624 assigned peaks and 32 unassigned peaks, total  = 95.12 %, relative abundance = 98.16 %, RMS error (best candidate) (ppm) = 0.045\n",
      "timestart: 22\n",
      "negative\n",
      "MS Obj loaded - 662 peaks found.\n",
      "MS Obj loaded - 662 peaks found.\n",
      "Reference mass list loaded - 2030 calibration masses loaded.\n",
      "101 calibration points matched within thresholds.\n",
      "minimize function completed with RMS error of: 0.037 ppm\n",
      "minimize function performed 354 fn evals and 7 iterations\n",
      "'runworker'  35.07 ms\n"
     ]
    },
    {
     "name": "stderr",
     "output_type": "stream",
     "text": [
      "Loading molecular formula database: 244178it [00:06, 35953.91it/s] \n",
      "Started molecular formula search for class {\"N\": 1, \"S\": 1, \"O\": 10, \"F\": 4}, (de)protonated : 100%|██████████| 300/300 [00:01<00:00, 187.28it/s]\n",
      "Loading molecular formula database: 247740it [00:06, 35934.29it/s] \n",
      "Started molecular formula search for class {\"N\": 2, \"S\": 1, \"O\": 20, \"F\": 4}, (de)protonated : 100%|██████████| 300/300 [00:00<00:00, 398.43it/s]\n",
      "Loading molecular formula database: 166880it [00:04, 35611.61it/s] \n",
      "Started molecular formula search for class {\"N\": 3, \"S\": 1, \"O\": 20, \"F\": 4}, (de)protonated : 100%|██████████| 200/200 [00:00<00:00, 460.95it/s]\n"
     ]
    },
    {
     "name": "stdout",
     "output_type": "stream",
     "text": [
      "'run_molecular_formula'  21314.47 ms\n",
      "633 assigned peaks and 29 unassigned peaks, total  = 95.62 %, relative abundance = 98.47 %, RMS error (best candidate) (ppm) = 0.051\n",
      "\n",
      "\n",
      "20230113_LBA_Boiteau_Zorbax5um_1500IT_neg_NovWastewater_fullmz_02.raw\n",
      "10 of 12 files\n",
      "timestart: 4\n",
      "negative\n",
      "MS Obj loaded - 299 peaks found.\n",
      "MS Obj loaded - 299 peaks found.\n",
      "Reference mass list loaded - 2030 calibration masses loaded.\n",
      "43 calibration points matched within thresholds.\n",
      "minimize function completed with RMS error of: 0.029 ppm\n",
      "minimize function performed 356 fn evals and 7 iterations\n",
      "'runworker'  31.04 ms\n"
     ]
    },
    {
     "name": "stderr",
     "output_type": "stream",
     "text": [
      "Loading molecular formula database: 244178it [00:06, 37549.73it/s] \n",
      "Started molecular formula search for class {\"N\": 1, \"S\": 1, \"O\": 10, \"F\": 4}, (de)protonated : 100%|██████████| 300/300 [00:00<00:00, 533.50it/s]\n",
      "Loading molecular formula database: 247740it [00:08, 30783.53it/s] \n",
      "Started molecular formula search for class {\"N\": 2, \"S\": 1, \"O\": 20, \"F\": 4}, (de)protonated : 100%|██████████| 300/300 [00:00<00:00, 600.09it/s]\n",
      "Loading molecular formula database: 166880it [00:04, 35480.99it/s] \n",
      "Started molecular formula search for class {\"N\": 3, \"S\": 1, \"O\": 20, \"F\": 4}, (de)protonated : 100%|██████████| 200/200 [00:00<00:00, 607.45it/s]\n"
     ]
    },
    {
     "name": "stdout",
     "output_type": "stream",
     "text": [
      "'run_molecular_formula'  20815.49 ms\n",
      "159 assigned peaks and 140 unassigned peaks, total  = 53.18 %, relative abundance = 38.70 %, RMS error (best candidate) (ppm) = 0.066\n",
      "timestart: 6\n",
      "negative\n",
      "MS Obj loaded - 461 peaks found.\n",
      "MS Obj loaded - 461 peaks found.\n",
      "Reference mass list loaded - 2030 calibration masses loaded.\n",
      "95 calibration points matched within thresholds.\n",
      "minimize function completed with RMS error of: 0.299 ppm\n",
      "minimize function performed 310 fn evals and 6 iterations\n",
      "'runworker'  30.48 ms\n"
     ]
    },
    {
     "name": "stderr",
     "output_type": "stream",
     "text": [
      "Loading molecular formula database: 244178it [00:06, 35115.03it/s]\n",
      "Started molecular formula search for class {\"N\": 1, \"S\": 1, \"O\": 10, \"F\": 4}, (de)protonated : 100%|██████████| 300/300 [00:00<00:00, 371.57it/s]\n",
      "Loading molecular formula database: 247740it [00:08, 28126.71it/s]\n",
      "Started molecular formula search for class {\"N\": 2, \"S\": 1, \"O\": 20, \"F\": 4}, (de)protonated : 100%|██████████| 300/300 [00:00<00:00, 373.74it/s]\n",
      "Loading molecular formula database: 166880it [00:04, 33676.22it/s] \n",
      "Started molecular formula search for class {\"N\": 3, \"S\": 1, \"O\": 20, \"F\": 4}, (de)protonated : 100%|██████████| 200/200 [00:00<00:00, 502.51it/s]\n"
     ]
    },
    {
     "name": "stdout",
     "output_type": "stream",
     "text": [
      "'run_molecular_formula'  22933.43 ms\n",
      "349 assigned peaks and 112 unassigned peaks, total  = 75.70 %, relative abundance = 77.25 %, RMS error (best candidate) (ppm) = 0.092\n",
      "timestart: 8\n",
      "negative\n",
      "MS Obj loaded - 509 peaks found.\n",
      "MS Obj loaded - 509 peaks found.\n",
      "Reference mass list loaded - 2030 calibration masses loaded.\n",
      "87 calibration points matched within thresholds.\n",
      "minimize function completed with RMS error of: 0.311 ppm\n",
      "minimize function performed 311 fn evals and 6 iterations\n",
      "'runworker'  30.57 ms\n"
     ]
    },
    {
     "name": "stderr",
     "output_type": "stream",
     "text": [
      "Loading molecular formula database: 244178it [00:07, 33190.85it/s]\n",
      "Started molecular formula search for class {\"N\": 1, \"S\": 1, \"O\": 10, \"F\": 4}, (de)protonated : 100%|██████████| 300/300 [00:00<00:00, 331.52it/s]\n",
      "Loading molecular formula database: 247740it [00:07, 31951.87it/s]\n",
      "Started molecular formula search for class {\"N\": 2, \"S\": 1, \"O\": 20, \"F\": 4}, (de)protonated : 100%|██████████| 300/300 [00:00<00:00, 347.75it/s]\n",
      "Loading molecular formula database: 166880it [00:06, 27397.37it/s]\n",
      "Started molecular formula search for class {\"N\": 3, \"S\": 1, \"O\": 20, \"F\": 4}, (de)protonated : 100%|██████████| 200/200 [00:00<00:00, 448.61it/s]\n"
     ]
    },
    {
     "name": "stdout",
     "output_type": "stream",
     "text": [
      "'run_molecular_formula'  23631.43 ms\n",
      "401 assigned peaks and 108 unassigned peaks, total  = 78.78 %, relative abundance = 70.39 %, RMS error (best candidate) (ppm) = 0.087\n",
      "timestart: 10\n",
      "negative\n",
      "MS Obj loaded - 563 peaks found.\n",
      "MS Obj loaded - 563 peaks found.\n",
      "Reference mass list loaded - 2030 calibration masses loaded.\n",
      "111 calibration points matched within thresholds.\n",
      "minimize function completed with RMS error of: 0.044 ppm\n",
      "minimize function performed 3022 fn evals and 68 iterations\n",
      "'runworker'  30.27 ms\n"
     ]
    },
    {
     "name": "stderr",
     "output_type": "stream",
     "text": [
      "Loading molecular formula database: 244178it [00:06, 35978.43it/s]\n",
      "Started molecular formula search for class {\"N\": 1, \"S\": 1, \"O\": 10, \"F\": 4}, (de)protonated : 100%|██████████| 300/300 [00:00<00:00, 317.77it/s]\n",
      "Loading molecular formula database: 247740it [00:08, 30712.64it/s]\n",
      "Started molecular formula search for class {\"N\": 2, \"S\": 1, \"O\": 20, \"F\": 4}, (de)protonated : 100%|██████████| 300/300 [00:00<00:00, 360.22it/s]\n",
      "Loading molecular formula database: 166880it [00:04, 33910.79it/s] \n",
      "Started molecular formula search for class {\"N\": 3, \"S\": 1, \"O\": 20, \"F\": 4}, (de)protonated : 100%|██████████| 200/200 [00:00<00:00, 461.23it/s]\n"
     ]
    },
    {
     "name": "stdout",
     "output_type": "stream",
     "text": [
      "'run_molecular_formula'  22175.92 ms\n",
      "489 assigned peaks and 74 unassigned peaks, total  = 86.86 %, relative abundance = 89.99 %, RMS error (best candidate) (ppm) = 0.055\n",
      "timestart: 12\n",
      "negative\n",
      "MS Obj loaded - 830 peaks found.\n",
      "MS Obj loaded - 830 peaks found.\n",
      "Reference mass list loaded - 2030 calibration masses loaded.\n",
      "129 calibration points matched within thresholds.\n",
      "minimize function completed with RMS error of: 0.046 ppm\n",
      "minimize function performed 317 fn evals and 6 iterations\n",
      "'runworker'  29.79 ms\n"
     ]
    },
    {
     "name": "stderr",
     "output_type": "stream",
     "text": [
      "Loading molecular formula database: 244178it [00:08, 30385.19it/s]\n",
      "Started molecular formula search for class {\"N\": 1, \"S\": 1, \"O\": 10, \"F\": 4}, (de)protonated : 100%|██████████| 300/300 [00:02<00:00, 134.50it/s]\n",
      "Loading molecular formula database: 247740it [00:08, 27996.77it/s]\n",
      "Started molecular formula search for class {\"N\": 2, \"S\": 1, \"O\": 20, \"F\": 4}, (de)protonated : 100%|██████████| 300/300 [00:01<00:00, 233.00it/s]\n",
      "Loading molecular formula database: 166880it [00:05, 32129.07it/s]\n",
      "Started molecular formula search for class {\"N\": 3, \"S\": 1, \"O\": 20, \"F\": 4}, (de)protonated : 100%|██████████| 200/200 [00:00<00:00, 243.12it/s]\n"
     ]
    },
    {
     "name": "stdout",
     "output_type": "stream",
     "text": [
      "'run_molecular_formula'  26651.32 ms\n",
      "679 assigned peaks and 151 unassigned peaks, total  = 81.81 %, relative abundance = 90.62 %, RMS error (best candidate) (ppm) = 0.064\n",
      "timestart: 14\n",
      "negative\n",
      "MS Obj loaded - 868 peaks found.\n",
      "MS Obj loaded - 868 peaks found.\n",
      "Reference mass list loaded - 2030 calibration masses loaded.\n",
      "135 calibration points matched within thresholds.\n",
      "minimize function completed with RMS error of: 0.143 ppm\n",
      "minimize function performed 313 fn evals and 6 iterations\n",
      "'runworker'  29.12 ms\n"
     ]
    },
    {
     "name": "stderr",
     "output_type": "stream",
     "text": [
      "Loading molecular formula database: 244178it [00:07, 32863.54it/s]\n",
      "Started molecular formula search for class {\"N\": 1, \"S\": 1, \"O\": 10, \"F\": 4}, (de)protonated : 100%|██████████| 300/300 [00:01<00:00, 158.76it/s]\n",
      "Loading molecular formula database: 247740it [00:08, 29161.67it/s]\n",
      "Started molecular formula search for class {\"N\": 2, \"S\": 1, \"O\": 20, \"F\": 4}, (de)protonated : 100%|██████████| 300/300 [00:01<00:00, 228.44it/s]\n",
      "Loading molecular formula database: 166880it [00:06, 26454.88it/s]\n",
      "Started molecular formula search for class {\"N\": 3, \"S\": 1, \"O\": 20, \"F\": 4}, (de)protonated : 100%|██████████| 200/200 [00:00<00:00, 291.34it/s]\n"
     ]
    },
    {
     "name": "stdout",
     "output_type": "stream",
     "text": [
      "'run_molecular_formula'  26355.85 ms\n",
      "717 assigned peaks and 151 unassigned peaks, total  = 82.60 %, relative abundance = 92.24 %, RMS error (best candidate) (ppm) = 0.069\n",
      "timestart: 16\n",
      "negative\n",
      "MS Obj loaded - 1241 peaks found.\n",
      "MS Obj loaded - 1241 peaks found.\n",
      "Reference mass list loaded - 2030 calibration masses loaded.\n",
      "165 calibration points matched within thresholds.\n",
      "minimize function completed with RMS error of: 0.065 ppm\n",
      "minimize function performed 316 fn evals and 6 iterations\n",
      "'runworker'  30.97 ms\n"
     ]
    },
    {
     "name": "stderr",
     "output_type": "stream",
     "text": [
      "Loading molecular formula database: 244178it [00:08, 30372.21it/s]\n",
      "Started molecular formula search for class {\"N\": 1, \"S\": 1, \"O\": 10, \"F\": 4}, (de)protonated : 100%|██████████| 300/300 [00:04<00:00, 72.09it/s] \n",
      "Loading molecular formula database: 247740it [00:09, 24884.97it/s]\n",
      "Started molecular formula search for class {\"N\": 2, \"S\": 1, \"O\": 20, \"F\": 4}, (de)protonated : 100%|██████████| 300/300 [00:03<00:00, 76.40it/s] \n",
      "Loading molecular formula database: 166880it [00:06, 24880.84it/s]\n",
      "Started molecular formula search for class {\"N\": 3, \"S\": 1, \"O\": 20, \"F\": 4}, (de)protonated : 100%|██████████| 200/200 [00:02<00:00, 91.86it/s] \n"
     ]
    },
    {
     "name": "stdout",
     "output_type": "stream",
     "text": [
      "'run_molecular_formula'  35251.69 ms\n",
      "990 assigned peaks and 251 unassigned peaks, total  = 79.77 %, relative abundance = 94.25 %, RMS error (best candidate) (ppm) = 0.076\n",
      "timestart: 18\n",
      "negative\n",
      "MS Obj loaded - 1213 peaks found.\n",
      "MS Obj loaded - 1213 peaks found.\n",
      "Reference mass list loaded - 2030 calibration masses loaded.\n",
      "158 calibration points matched within thresholds.\n",
      "minimize function completed with RMS error of: 0.063 ppm\n",
      "minimize function performed 316 fn evals and 6 iterations\n",
      "'runworker'  35.21 ms\n"
     ]
    },
    {
     "name": "stderr",
     "output_type": "stream",
     "text": [
      "Loading molecular formula database: 244178it [00:08, 28163.05it/s]\n",
      "Started molecular formula search for class {\"N\": 1, \"S\": 1, \"O\": 10, \"F\": 4}, (de)protonated : 100%|██████████| 300/300 [00:04<00:00, 73.98it/s] \n",
      "Loading molecular formula database: 247740it [00:09, 25209.98it/s]\n",
      "Started molecular formula search for class {\"N\": 2, \"S\": 1, \"O\": 20, \"F\": 4}, (de)protonated : 100%|██████████| 300/300 [00:03<00:00, 90.25it/s] \n",
      "Loading molecular formula database: 166880it [00:06, 25723.30it/s]\n",
      "Started molecular formula search for class {\"N\": 3, \"S\": 1, \"O\": 20, \"F\": 4}, (de)protonated : 100%|██████████| 200/200 [00:02<00:00, 96.47it/s] \n"
     ]
    },
    {
     "name": "stdout",
     "output_type": "stream",
     "text": [
      "'run_molecular_formula'  34724.49 ms\n",
      "959 assigned peaks and 254 unassigned peaks, total  = 79.06 %, relative abundance = 93.24 %, RMS error (best candidate) (ppm) = 0.077\n",
      "timestart: 20\n",
      "negative\n",
      "MS Obj loaded - 1276 peaks found.\n",
      "MS Obj loaded - 1276 peaks found.\n",
      "Reference mass list loaded - 2030 calibration masses loaded.\n",
      "156 calibration points matched within thresholds.\n",
      "minimize function completed with RMS error of: 0.167 ppm\n",
      "minimize function performed 359 fn evals and 8 iterations\n",
      "'runworker'  32.11 ms\n"
     ]
    },
    {
     "name": "stderr",
     "output_type": "stream",
     "text": [
      "Loading molecular formula database: 244178it [00:08, 28599.93it/s]\n",
      "Started molecular formula search for class {\"N\": 1, \"S\": 1, \"O\": 10, \"F\": 4}, (de)protonated : 100%|██████████| 300/300 [00:04<00:00, 72.13it/s] \n",
      "Loading molecular formula database: 247740it [00:09, 25507.64it/s]\n",
      "Started molecular formula search for class {\"N\": 2, \"S\": 1, \"O\": 20, \"F\": 4}, (de)protonated : 100%|██████████| 300/300 [00:02<00:00, 132.75it/s]\n",
      "Loading molecular formula database: 166880it [00:06, 27357.71it/s]\n",
      "Started molecular formula search for class {\"N\": 3, \"S\": 1, \"O\": 20, \"F\": 4}, (de)protonated : 100%|██████████| 200/200 [00:01<00:00, 133.62it/s]\n"
     ]
    },
    {
     "name": "stdout",
     "output_type": "stream",
     "text": [
      "'run_molecular_formula'  32577.49 ms\n",
      "1029 assigned peaks and 247 unassigned peaks, total  = 80.64 %, relative abundance = 94.87 %, RMS error (best candidate) (ppm) = 0.082\n",
      "timestart: 22\n",
      "negative\n",
      "MS Obj loaded - 1475 peaks found.\n",
      "MS Obj loaded - 1475 peaks found.\n",
      "Reference mass list loaded - 2030 calibration masses loaded.\n",
      "171 calibration points matched within thresholds.\n",
      "minimize function completed with RMS error of: 0.236 ppm\n",
      "minimize function performed 329 fn evals and 7 iterations\n",
      "'runworker'  39.63 ms\n"
     ]
    },
    {
     "name": "stderr",
     "output_type": "stream",
     "text": [
      "Loading molecular formula database: 244178it [00:09, 24755.99it/s]\n",
      "Started molecular formula search for class {\"N\": 1, \"S\": 1, \"O\": 10, \"F\": 4}, (de)protonated : 100%|██████████| 300/300 [00:04<00:00, 65.75it/s]\n",
      "Loading molecular formula database: 247740it [00:10, 24692.03it/s]\n",
      "Started molecular formula search for class {\"N\": 2, \"S\": 1, \"O\": 20, \"F\": 4}, (de)protonated : 100%|██████████| 300/300 [00:04<00:00, 73.79it/s] \n",
      "Loading molecular formula database: 166880it [00:06, 23941.88it/s]\n",
      "Started molecular formula search for class {\"N\": 3, \"S\": 1, \"O\": 20, \"F\": 4}, (de)protonated : 100%|██████████| 200/200 [00:02<00:00, 67.45it/s]\n"
     ]
    },
    {
     "name": "stdout",
     "output_type": "stream",
     "text": [
      "'run_molecular_formula'  38782.07 ms\n",
      "1080 assigned peaks and 395 unassigned peaks, total  = 73.22 %, relative abundance = 94.34 %, RMS error (best candidate) (ppm) = 0.087\n",
      "\n",
      "\n",
      "20230113_LBA_Boiteau_Zorbax5um_1500IT_neg_NovWastewater_fullmz_01.raw\n",
      "11 of 12 files\n",
      "timestart: 4\n",
      "negative\n",
      "MS Obj loaded - 255 peaks found.\n",
      "MS Obj loaded - 255 peaks found.\n",
      "Reference mass list loaded - 2030 calibration masses loaded.\n",
      "28 calibration points matched within thresholds.\n",
      "minimize function completed with RMS error of: 0.022 ppm\n",
      "minimize function performed 366 fn evals and 7 iterations\n",
      "'runworker'  95.16 ms\n"
     ]
    },
    {
     "name": "stderr",
     "output_type": "stream",
     "text": [
      "Loading molecular formula database: 244178it [00:06, 37198.34it/s] \n",
      "Started molecular formula search for class {\"N\": 1, \"S\": 1, \"O\": 10, \"F\": 4}, (de)protonated : 100%|██████████| 300/300 [00:00<00:00, 623.40it/s]\n",
      "Loading molecular formula database: 247740it [00:06, 36086.65it/s] \n",
      "Started molecular formula search for class {\"N\": 2, \"S\": 1, \"O\": 20, \"F\": 4}, (de)protonated : 100%|██████████| 300/300 [00:00<00:00, 572.64it/s]\n",
      "Loading molecular formula database: 166880it [00:04, 37146.52it/s] \n",
      "Started molecular formula search for class {\"N\": 3, \"S\": 1, \"O\": 20, \"F\": 4}, (de)protonated : 100%|██████████| 200/200 [00:00<00:00, 517.81it/s]\n"
     ]
    },
    {
     "name": "stdout",
     "output_type": "stream",
     "text": [
      "'run_molecular_formula'  19536.07 ms\n",
      "126 assigned peaks and 129 unassigned peaks, total  = 49.41 %, relative abundance = 36.37 %, RMS error (best candidate) (ppm) = 0.085\n",
      "timestart: 6\n",
      "negative\n",
      "MS Obj loaded - 536 peaks found.\n",
      "MS Obj loaded - 536 peaks found.\n",
      "Reference mass list loaded - 2030 calibration masses loaded.\n",
      "101 calibration points matched within thresholds.\n",
      "minimize function completed with RMS error of: 0.291 ppm\n",
      "minimize function performed 309 fn evals and 6 iterations\n",
      "'runworker'  30.33 ms\n"
     ]
    },
    {
     "name": "stderr",
     "output_type": "stream",
     "text": [
      "Loading molecular formula database: 244178it [00:07, 34040.34it/s]\n",
      "Started molecular formula search for class {\"N\": 1, \"S\": 1, \"O\": 10, \"F\": 4}, (de)protonated : 100%|██████████| 300/300 [00:00<00:00, 332.69it/s]\n",
      "Loading molecular formula database: 247740it [00:09, 27070.85it/s]\n",
      "Started molecular formula search for class {\"N\": 2, \"S\": 1, \"O\": 20, \"F\": 4}, (de)protonated : 100%|██████████| 300/300 [00:00<00:00, 317.69it/s]\n",
      "Loading molecular formula database: 166880it [00:05, 29023.84it/s] \n",
      "Started molecular formula search for class {\"N\": 3, \"S\": 1, \"O\": 20, \"F\": 4}, (de)protonated : 100%|██████████| 200/200 [00:00<00:00, 435.59it/s]\n"
     ]
    },
    {
     "name": "stdout",
     "output_type": "stream",
     "text": [
      "'run_molecular_formula'  24599.52 ms\n",
      "404 assigned peaks and 132 unassigned peaks, total  = 75.37 %, relative abundance = 78.07 %, RMS error (best candidate) (ppm) = 0.088\n",
      "timestart: 8\n",
      "negative\n",
      "MS Obj loaded - 584 peaks found.\n",
      "MS Obj loaded - 584 peaks found.\n",
      "Reference mass list loaded - 2030 calibration masses loaded.\n",
      "99 calibration points matched within thresholds.\n",
      "minimize function completed with RMS error of: 0.302 ppm\n",
      "minimize function performed 309 fn evals and 6 iterations\n",
      "'runworker'  30.30 ms\n"
     ]
    },
    {
     "name": "stderr",
     "output_type": "stream",
     "text": [
      "Loading molecular formula database: 244178it [00:07, 33513.42it/s]\n",
      "Started molecular formula search for class {\"N\": 1, \"S\": 1, \"O\": 10, \"F\": 4}, (de)protonated : 100%|██████████| 300/300 [00:01<00:00, 297.59it/s]\n",
      "Loading molecular formula database: 247740it [00:08, 30197.03it/s]\n",
      "Started molecular formula search for class {\"N\": 2, \"S\": 1, \"O\": 20, \"F\": 4}, (de)protonated : 100%|██████████| 300/300 [00:00<00:00, 337.16it/s]\n",
      "Loading molecular formula database: 166880it [00:05, 31980.89it/s] \n",
      "Started molecular formula search for class {\"N\": 3, \"S\": 1, \"O\": 20, \"F\": 4}, (de)protonated : 100%|██████████| 200/200 [00:00<00:00, 424.48it/s]\n"
     ]
    },
    {
     "name": "stdout",
     "output_type": "stream",
     "text": [
      "'run_molecular_formula'  23299.91 ms\n",
      "463 assigned peaks and 121 unassigned peaks, total  = 79.28 %, relative abundance = 70.64 %, RMS error (best candidate) (ppm) = 0.084\n",
      "timestart: 10\n",
      "negative\n",
      "MS Obj loaded - 743 peaks found.\n",
      "MS Obj loaded - 743 peaks found.\n",
      "Reference mass list loaded - 2030 calibration masses loaded.\n",
      "129 calibration points matched within thresholds.\n",
      "minimize function completed with RMS error of: 0.048 ppm\n",
      "minimize function performed 317 fn evals and 6 iterations\n",
      "'runworker'  31.21 ms\n"
     ]
    },
    {
     "name": "stderr",
     "output_type": "stream",
     "text": [
      "Loading molecular formula database: 244178it [00:07, 31721.24it/s]\n",
      "Started molecular formula search for class {\"N\": 1, \"S\": 1, \"O\": 10, \"F\": 4}, (de)protonated : 100%|██████████| 300/300 [00:01<00:00, 243.74it/s]\n",
      "Loading molecular formula database: 247740it [00:08, 28000.90it/s]\n",
      "Started molecular formula search for class {\"N\": 2, \"S\": 1, \"O\": 20, \"F\": 4}, (de)protonated : 100%|██████████| 300/300 [00:01<00:00, 272.89it/s]\n",
      "Loading molecular formula database: 166880it [00:05, 27910.66it/s]\n",
      "Started molecular formula search for class {\"N\": 3, \"S\": 1, \"O\": 20, \"F\": 4}, (de)protonated : 100%|██████████| 200/200 [00:00<00:00, 346.69it/s]\n"
     ]
    },
    {
     "name": "stdout",
     "output_type": "stream",
     "text": [
      "'run_molecular_formula'  25657.18 ms\n",
      "616 assigned peaks and 127 unassigned peaks, total  = 82.91 %, relative abundance = 88.15 %, RMS error (best candidate) (ppm) = 0.071\n",
      "timestart: 12\n",
      "negative\n",
      "MS Obj loaded - 964 peaks found.\n",
      "MS Obj loaded - 964 peaks found.\n",
      "Reference mass list loaded - 2030 calibration masses loaded.\n",
      "142 calibration points matched within thresholds.\n",
      "minimize function completed with RMS error of: 0.049 ppm\n",
      "minimize function performed 316 fn evals and 6 iterations\n",
      "'runworker'  30.49 ms\n"
     ]
    },
    {
     "name": "stderr",
     "output_type": "stream",
     "text": [
      "Loading molecular formula database: 244178it [00:08, 29125.34it/s]\n",
      "Started molecular formula search for class {\"N\": 1, \"S\": 1, \"O\": 10, \"F\": 4}, (de)protonated : 100%|██████████| 300/300 [00:02<00:00, 107.49it/s]\n",
      "Loading molecular formula database: 247740it [00:09, 25300.76it/s]\n",
      "Started molecular formula search for class {\"N\": 2, \"S\": 1, \"O\": 20, \"F\": 4}, (de)protonated : 100%|██████████| 300/300 [00:01<00:00, 154.14it/s]\n",
      "Loading molecular formula database: 166880it [00:05, 28117.88it/s]\n",
      "Started molecular formula search for class {\"N\": 3, \"S\": 1, \"O\": 20, \"F\": 4}, (de)protonated : 100%|██████████| 200/200 [00:00<00:00, 204.22it/s]\n"
     ]
    },
    {
     "name": "stdout",
     "output_type": "stream",
     "text": [
      "'run_molecular_formula'  30079.01 ms\n",
      "775 assigned peaks and 189 unassigned peaks, total  = 80.39 %, relative abundance = 90.21 %, RMS error (best candidate) (ppm) = 0.072\n",
      "timestart: 14\n",
      "negative\n",
      "MS Obj loaded - 846 peaks found.\n",
      "MS Obj loaded - 846 peaks found.\n",
      "Reference mass list loaded - 2030 calibration masses loaded.\n",
      "139 calibration points matched within thresholds.\n",
      "minimize function completed with RMS error of: 0.068 ppm\n",
      "minimize function performed 316 fn evals and 6 iterations\n",
      "'runworker'  32.90 ms\n"
     ]
    },
    {
     "name": "stderr",
     "output_type": "stream",
     "text": [
      "Loading molecular formula database: 244178it [00:07, 31424.96it/s]\n",
      "Started molecular formula search for class {\"N\": 1, \"S\": 1, \"O\": 10, \"F\": 4}, (de)protonated : 100%|██████████| 300/300 [00:01<00:00, 170.18it/s]\n",
      "Loading molecular formula database: 247740it [00:08, 28516.31it/s]\n",
      "Started molecular formula search for class {\"N\": 2, \"S\": 1, \"O\": 20, \"F\": 4}, (de)protonated : 100%|██████████| 300/300 [00:01<00:00, 249.51it/s]\n",
      "Loading molecular formula database: 166880it [00:06, 26037.65it/s]\n",
      "Started molecular formula search for class {\"N\": 3, \"S\": 1, \"O\": 20, \"F\": 4}, (de)protonated : 100%|██████████| 200/200 [00:00<00:00, 302.30it/s]\n"
     ]
    },
    {
     "name": "stdout",
     "output_type": "stream",
     "text": [
      "'run_molecular_formula'  26726.31 ms\n",
      "712 assigned peaks and 134 unassigned peaks, total  = 84.16 %, relative abundance = 92.36 %, RMS error (best candidate) (ppm) = 0.069\n",
      "timestart: 16\n",
      "negative\n",
      "MS Obj loaded - 955 peaks found.\n",
      "MS Obj loaded - 955 peaks found.\n",
      "Reference mass list loaded - 2030 calibration masses loaded.\n",
      "149 calibration points matched within thresholds.\n",
      "minimize function completed with RMS error of: 0.065 ppm\n",
      "minimize function performed 404 fn evals and 9 iterations\n",
      "'runworker'  30.27 ms\n"
     ]
    },
    {
     "name": "stderr",
     "output_type": "stream",
     "text": [
      "Loading molecular formula database: 244178it [00:07, 30794.14it/s]\n",
      "Started molecular formula search for class {\"N\": 1, \"S\": 1, \"O\": 10, \"F\": 4}, (de)protonated : 100%|██████████| 300/300 [00:02<00:00, 112.29it/s]\n",
      "Loading molecular formula database: 247740it [00:08, 27655.91it/s]\n",
      "Started molecular formula search for class {\"N\": 2, \"S\": 1, \"O\": 20, \"F\": 4}, (de)protonated : 100%|██████████| 300/300 [00:01<00:00, 160.42it/s]\n",
      "Loading molecular formula database: 166880it [00:06, 25712.31it/s]\n",
      "Started molecular formula search for class {\"N\": 3, \"S\": 1, \"O\": 20, \"F\": 4}, (de)protonated : 100%|██████████| 200/200 [00:00<00:00, 255.97it/s]\n"
     ]
    },
    {
     "name": "stdout",
     "output_type": "stream",
     "text": [
      "'run_molecular_formula'  28949.24 ms\n",
      "807 assigned peaks and 148 unassigned peaks, total  = 84.50 %, relative abundance = 95.04 %, RMS error (best candidate) (ppm) = 0.070\n",
      "timestart: 18\n",
      "negative\n",
      "MS Obj loaded - 1286 peaks found.\n",
      "MS Obj loaded - 1286 peaks found.\n",
      "Reference mass list loaded - 2030 calibration masses loaded.\n",
      "162 calibration points matched within thresholds.\n",
      "minimize function completed with RMS error of: 0.229 ppm\n",
      "minimize function performed 359 fn evals and 8 iterations\n",
      "'runworker'  40.42 ms\n"
     ]
    },
    {
     "name": "stderr",
     "output_type": "stream",
     "text": [
      "Loading molecular formula database: 244178it [00:08, 28366.37it/s]\n",
      "Started molecular formula search for class {\"N\": 1, \"S\": 1, \"O\": 10, \"F\": 4}, (de)protonated : 100%|██████████| 300/300 [00:04<00:00, 72.20it/s] \n",
      "Loading molecular formula database: 247740it [00:09, 25087.83it/s]\n",
      "Started molecular formula search for class {\"N\": 2, \"S\": 1, \"O\": 20, \"F\": 4}, (de)protonated : 100%|██████████| 300/300 [00:02<00:00, 128.18it/s]\n",
      "Loading molecular formula database: 166880it [00:06, 25129.76it/s]\n",
      "Started molecular formula search for class {\"N\": 3, \"S\": 1, \"O\": 20, \"F\": 4}, (de)protonated : 100%|██████████| 200/200 [00:01<00:00, 123.65it/s]\n"
     ]
    },
    {
     "name": "stdout",
     "output_type": "stream",
     "text": [
      "'run_molecular_formula'  33545.71 ms\n",
      "1010 assigned peaks and 276 unassigned peaks, total  = 78.54 %, relative abundance = 93.04 %, RMS error (best candidate) (ppm) = 0.081\n",
      "timestart: 20\n",
      "negative\n",
      "MS Obj loaded - 1098 peaks found.\n",
      "MS Obj loaded - 1098 peaks found.\n",
      "Reference mass list loaded - 2030 calibration masses loaded.\n",
      "148 calibration points matched within thresholds.\n",
      "minimize function completed with RMS error of: 0.172 ppm\n",
      "minimize function performed 330 fn evals and 7 iterations\n",
      "'runworker'  29.38 ms\n"
     ]
    },
    {
     "name": "stderr",
     "output_type": "stream",
     "text": [
      "Loading molecular formula database: 244178it [00:08, 27691.22it/s]\n",
      "Started molecular formula search for class {\"N\": 1, \"S\": 1, \"O\": 10, \"F\": 4}, (de)protonated : 100%|██████████| 300/300 [00:03<00:00, 95.55it/s] \n",
      "Loading molecular formula database: 247740it [00:09, 24931.46it/s]\n",
      "Started molecular formula search for class {\"N\": 2, \"S\": 1, \"O\": 20, \"F\": 4}, (de)protonated : 100%|██████████| 300/300 [00:02<00:00, 135.40it/s]\n",
      "Loading molecular formula database: 166880it [00:05, 28077.98it/s]\n",
      "Started molecular formula search for class {\"N\": 3, \"S\": 1, \"O\": 20, \"F\": 4}, (de)protonated : 100%|██████████| 200/200 [00:01<00:00, 165.41it/s]\n"
     ]
    },
    {
     "name": "stdout",
     "output_type": "stream",
     "text": [
      "'run_molecular_formula'  31550.29 ms\n",
      "905 assigned peaks and 193 unassigned peaks, total  = 82.42 %, relative abundance = 94.77 %, RMS error (best candidate) (ppm) = 0.088\n",
      "timestart: 22\n",
      "negative\n",
      "MS Obj loaded - 1621 peaks found.\n",
      "MS Obj loaded - 1621 peaks found.\n",
      "Reference mass list loaded - 2030 calibration masses loaded.\n",
      "178 calibration points matched within thresholds.\n",
      "minimize function completed with RMS error of: 0.193 ppm\n",
      "minimize function performed 1961 fn evals and 47 iterations\n",
      "'runworker'  30.11 ms\n"
     ]
    },
    {
     "name": "stderr",
     "output_type": "stream",
     "text": [
      "Loading molecular formula database: 244178it [00:09, 24668.34it/s]\n",
      "Started molecular formula search for class {\"N\": 1, \"S\": 1, \"O\": 10, \"F\": 4}, (de)protonated : 100%|██████████| 300/300 [00:05<00:00, 52.16it/s] \n",
      "Loading molecular formula database: 247740it [00:11, 21948.12it/s]\n",
      "Started molecular formula search for class {\"N\": 2, \"S\": 1, \"O\": 20, \"F\": 4}, (de)protonated : 100%|██████████| 300/300 [00:04<00:00, 67.52it/s]\n",
      "Loading molecular formula database: 166880it [00:06, 24088.18it/s]\n",
      "Started molecular formula search for class {\"N\": 3, \"S\": 1, \"O\": 20, \"F\": 4}, (de)protonated : 100%|██████████| 200/200 [00:03<00:00, 57.57it/s]\n"
     ]
    },
    {
     "name": "stdout",
     "output_type": "stream",
     "text": [
      "'run_molecular_formula'  42144.04 ms\n",
      "1142 assigned peaks and 479 unassigned peaks, total  = 70.45 %, relative abundance = 80.30 %, RMS error (best candidate) (ppm) = 0.102\n",
      "\n",
      "\n",
      "20230113_LBA_Boiteau_Zorbax5um_1500IT_neg_FinalEff_fullmz_01.raw\n",
      "12 of 12 files\n",
      "timestart: 4\n",
      "negative\n",
      "MS Obj loaded - 392 peaks found.\n",
      "MS Obj loaded - 392 peaks found.\n",
      "Reference mass list loaded - 2030 calibration masses loaded.\n",
      "74 calibration points matched within thresholds.\n",
      "minimize function completed with RMS error of: 0.020 ppm\n",
      "minimize function performed 372 fn evals and 7 iterations\n",
      "'runworker'  31.72 ms\n"
     ]
    },
    {
     "name": "stderr",
     "output_type": "stream",
     "text": [
      "Loading molecular formula database: 244178it [00:06, 38871.20it/s] \n",
      "Started molecular formula search for class {\"N\": 1, \"S\": 1, \"O\": 10, \"F\": 4}, (de)protonated : 100%|██████████| 300/300 [00:00<00:00, 442.66it/s]\n",
      "Loading molecular formula database: 247740it [00:07, 34558.80it/s] \n",
      "Started molecular formula search for class {\"N\": 2, \"S\": 1, \"O\": 20, \"F\": 4}, (de)protonated : 100%|██████████| 300/300 [00:00<00:00, 534.02it/s]\n",
      "Loading molecular formula database: 166880it [00:05, 32634.19it/s] \n",
      "Started molecular formula search for class {\"N\": 3, \"S\": 1, \"O\": 20, \"F\": 4}, (de)protonated : 100%|██████████| 200/200 [00:00<00:00, 578.33it/s]\n"
     ]
    },
    {
     "name": "stdout",
     "output_type": "stream",
     "text": [
      "'run_molecular_formula'  20299.15 ms\n",
      "320 assigned peaks and 72 unassigned peaks, total  = 81.63 %, relative abundance = 87.66 %, RMS error (best candidate) (ppm) = 0.040\n",
      "timestart: 6\n",
      "negative\n",
      "MS Obj loaded - 493 peaks found.\n",
      "MS Obj loaded - 493 peaks found.\n",
      "Reference mass list loaded - 2030 calibration masses loaded.\n",
      "83 calibration points matched within thresholds.\n",
      "minimize function completed with RMS error of: 0.022 ppm\n",
      "minimize function performed 359 fn evals and 7 iterations\n",
      "'runworker'  38.73 ms\n"
     ]
    },
    {
     "name": "stderr",
     "output_type": "stream",
     "text": [
      "Loading molecular formula database: 244178it [00:06, 37912.88it/s] \n",
      "Started molecular formula search for class {\"N\": 1, \"S\": 1, \"O\": 10, \"F\": 4}, (de)protonated : 100%|██████████| 300/300 [00:00<00:00, 327.73it/s]\n",
      "Loading molecular formula database: 247740it [00:07, 33853.90it/s] \n",
      "Started molecular formula search for class {\"N\": 2, \"S\": 1, \"O\": 20, \"F\": 4}, (de)protonated : 100%|██████████| 300/300 [00:00<00:00, 419.00it/s]\n",
      "Loading molecular formula database: 166880it [00:04, 34216.19it/s] \n",
      "Started molecular formula search for class {\"N\": 3, \"S\": 1, \"O\": 20, \"F\": 4}, (de)protonated : 100%|██████████| 200/200 [00:00<00:00, 424.89it/s]\n"
     ]
    },
    {
     "name": "stdout",
     "output_type": "stream",
     "text": [
      "'run_molecular_formula'  20902.76 ms\n",
      "419 assigned peaks and 74 unassigned peaks, total  = 84.99 %, relative abundance = 93.33 %, RMS error (best candidate) (ppm) = 0.051\n",
      "timestart: 8\n",
      "negative\n",
      "MS Obj loaded - 372 peaks found.\n",
      "MS Obj loaded - 372 peaks found.\n",
      "Reference mass list loaded - 2030 calibration masses loaded.\n",
      "60 calibration points matched within thresholds.\n",
      "minimize function completed with RMS error of: 0.017 ppm\n",
      "minimize function performed 360 fn evals and 7 iterations\n",
      "'runworker'  42.06 ms\n"
     ]
    },
    {
     "name": "stderr",
     "output_type": "stream",
     "text": [
      "Loading molecular formula database: 244178it [00:06, 35176.76it/s] \n",
      "Started molecular formula search for class {\"N\": 1, \"S\": 1, \"O\": 10, \"F\": 4}, (de)protonated : 100%|██████████| 300/300 [00:00<00:00, 445.63it/s]\n",
      "Loading molecular formula database: 247740it [00:07, 31265.56it/s]\n",
      "Started molecular formula search for class {\"N\": 2, \"S\": 1, \"O\": 20, \"F\": 4}, (de)protonated : 100%|██████████| 300/300 [00:00<00:00, 477.16it/s]\n",
      "Loading molecular formula database: 166880it [00:04, 37294.46it/s] \n",
      "Started molecular formula search for class {\"N\": 3, \"S\": 1, \"O\": 20, \"F\": 4}, (de)protonated : 100%|██████████| 200/200 [00:00<00:00, 591.16it/s]\n"
     ]
    },
    {
     "name": "stdout",
     "output_type": "stream",
     "text": [
      "'run_molecular_formula'  21148.14 ms\n",
      "294 assigned peaks and 78 unassigned peaks, total  = 79.03 %, relative abundance = 69.25 %, RMS error (best candidate) (ppm) = 0.051\n",
      "timestart: 10\n",
      "negative\n",
      "MS Obj loaded - 499 peaks found.\n",
      "MS Obj loaded - 499 peaks found.\n",
      "Reference mass list loaded - 2030 calibration masses loaded.\n",
      "84 calibration points matched within thresholds.\n",
      "minimize function completed with RMS error of: 0.021 ppm\n",
      "minimize function performed 322 fn evals and 6 iterations\n",
      "'runworker'  40.06 ms\n"
     ]
    },
    {
     "name": "stderr",
     "output_type": "stream",
     "text": [
      "Loading molecular formula database: 244178it [00:06, 35279.71it/s] \n",
      "Started molecular formula search for class {\"N\": 1, \"S\": 1, \"O\": 10, \"F\": 4}, (de)protonated : 100%|██████████| 300/300 [00:00<00:00, 360.46it/s]\n",
      "Loading molecular formula database: 247740it [00:07, 32829.77it/s] \n",
      "Started molecular formula search for class {\"N\": 2, \"S\": 1, \"O\": 20, \"F\": 4}, (de)protonated : 100%|██████████| 300/300 [00:00<00:00, 394.96it/s]\n",
      "Loading molecular formula database: 166880it [00:04, 35304.88it/s] \n",
      "Started molecular formula search for class {\"N\": 3, \"S\": 1, \"O\": 20, \"F\": 4}, (de)protonated : 100%|██████████| 200/200 [00:00<00:00, 507.26it/s]\n"
     ]
    },
    {
     "name": "stdout",
     "output_type": "stream",
     "text": [
      "'run_molecular_formula'  21344.95 ms\n",
      "411 assigned peaks and 88 unassigned peaks, total  = 82.36 %, relative abundance = 92.70 %, RMS error (best candidate) (ppm) = 0.050\n",
      "timestart: 12\n",
      "negative\n",
      "MS Obj loaded - 728 peaks found.\n",
      "MS Obj loaded - 728 peaks found.\n",
      "Reference mass list loaded - 2030 calibration masses loaded.\n",
      "119 calibration points matched within thresholds.\n",
      "minimize function completed with RMS error of: 0.039 ppm\n",
      "minimize function performed 322 fn evals and 6 iterations\n",
      "'runworker'  29.11 ms\n"
     ]
    },
    {
     "name": "stderr",
     "output_type": "stream",
     "text": [
      "Loading molecular formula database: 244178it [00:07, 31948.31it/s]\n",
      "Started molecular formula search for class {\"N\": 1, \"S\": 1, \"O\": 10, \"F\": 4}, (de)protonated : 100%|██████████| 300/300 [00:01<00:00, 179.91it/s]\n",
      "Loading molecular formula database: 247740it [00:07, 31513.44it/s]\n",
      "Started molecular formula search for class {\"N\": 2, \"S\": 1, \"O\": 20, \"F\": 4}, (de)protonated : 100%|██████████| 300/300 [00:01<00:00, 256.82it/s]\n",
      "Loading molecular formula database: 166880it [00:05, 32794.41it/s] \n",
      "Started molecular formula search for class {\"N\": 3, \"S\": 1, \"O\": 20, \"F\": 4}, (de)protonated : 100%|██████████| 200/200 [00:00<00:00, 343.13it/s]\n"
     ]
    },
    {
     "name": "stdout",
     "output_type": "stream",
     "text": [
      "'run_molecular_formula'  24202.24 ms\n",
      "581 assigned peaks and 147 unassigned peaks, total  = 79.81 %, relative abundance = 91.76 %, RMS error (best candidate) (ppm) = 0.057\n",
      "timestart: 14\n",
      "negative\n",
      "MS Obj loaded - 1054 peaks found.\n",
      "MS Obj loaded - 1054 peaks found.\n",
      "Reference mass list loaded - 2030 calibration masses loaded.\n",
      "154 calibration points matched within thresholds.\n",
      "minimize function completed with RMS error of: 0.075 ppm\n",
      "minimize function performed 370 fn evals and 8 iterations\n",
      "'runworker'  41.77 ms\n"
     ]
    },
    {
     "name": "stderr",
     "output_type": "stream",
     "text": [
      "Loading molecular formula database: 244178it [00:08, 29685.32it/s]\n",
      "Started molecular formula search for class {\"N\": 1, \"S\": 1, \"O\": 10, \"F\": 4}, (de)protonated : 100%|██████████| 300/300 [00:02<00:00, 114.93it/s]\n",
      "Loading molecular formula database: 247740it [00:09, 26552.94it/s]\n",
      "Started molecular formula search for class {\"N\": 2, \"S\": 1, \"O\": 20, \"F\": 4}, (de)protonated : 100%|██████████| 300/300 [00:02<00:00, 143.28it/s]\n",
      "Loading molecular formula database: 166880it [00:05, 31030.42it/s]\n",
      "Started molecular formula search for class {\"N\": 3, \"S\": 1, \"O\": 20, \"F\": 4}, (de)protonated : 100%|██████████| 200/200 [00:01<00:00, 148.07it/s]\n"
     ]
    },
    {
     "name": "stdout",
     "output_type": "stream",
     "text": [
      "'run_molecular_formula'  29234.92 ms\n",
      "795 assigned peaks and 259 unassigned peaks, total  = 75.43 %, relative abundance = 94.50 %, RMS error (best candidate) (ppm) = 0.076\n",
      "timestart: 16\n",
      "negative\n",
      "MS Obj loaded - 985 peaks found.\n",
      "MS Obj loaded - 985 peaks found.\n",
      "Reference mass list loaded - 2030 calibration masses loaded.\n",
      "152 calibration points matched within thresholds.\n",
      "minimize function completed with RMS error of: 0.064 ppm\n",
      "minimize function performed 408 fn evals and 9 iterations\n",
      "'runworker'  30.40 ms\n"
     ]
    },
    {
     "name": "stderr",
     "output_type": "stream",
     "text": [
      "Loading molecular formula database: 244178it [00:08, 29658.20it/s]\n",
      "Started molecular formula search for class {\"N\": 1, \"S\": 1, \"O\": 10, \"F\": 4}, (de)protonated : 100%|██████████| 300/300 [00:02<00:00, 128.26it/s]\n",
      "Loading molecular formula database: 247740it [00:08, 28988.75it/s]\n",
      "Started molecular formula search for class {\"N\": 2, \"S\": 1, \"O\": 20, \"F\": 4}, (de)protonated : 100%|██████████| 300/300 [00:01<00:00, 165.79it/s]\n",
      "Loading molecular formula database: 166880it [00:05, 27900.01it/s]\n",
      "Started molecular formula search for class {\"N\": 3, \"S\": 1, \"O\": 20, \"F\": 4}, (de)protonated : 100%|██████████| 200/200 [00:00<00:00, 257.30it/s]\n"
     ]
    },
    {
     "name": "stdout",
     "output_type": "stream",
     "text": [
      "'run_molecular_formula'  27928.10 ms\n",
      "792 assigned peaks and 193 unassigned peaks, total  = 80.41 %, relative abundance = 95.46 %, RMS error (best candidate) (ppm) = 0.071\n",
      "timestart: 18\n",
      "negative\n",
      "MS Obj loaded - 873 peaks found.\n",
      "MS Obj loaded - 873 peaks found.\n",
      "Reference mass list loaded - 2030 calibration masses loaded.\n",
      "144 calibration points matched within thresholds.\n",
      "minimize function completed with RMS error of: 0.059 ppm\n",
      "minimize function performed 408 fn evals and 9 iterations\n",
      "'runworker'  29.01 ms\n"
     ]
    },
    {
     "name": "stderr",
     "output_type": "stream",
     "text": [
      "Loading molecular formula database: 244178it [00:08, 28369.96it/s]\n",
      "Started molecular formula search for class {\"N\": 1, \"S\": 1, \"O\": 10, \"F\": 4}, (de)protonated : 100%|██████████| 300/300 [00:01<00:00, 160.48it/s]\n",
      "Loading molecular formula database: 247740it [00:09, 27450.69it/s]\n",
      "Started molecular formula search for class {\"N\": 2, \"S\": 1, \"O\": 20, \"F\": 4}, (de)protonated : 100%|██████████| 300/300 [00:01<00:00, 222.98it/s]\n",
      "Loading molecular formula database: 166880it [00:05, 29029.81it/s]\n",
      "Started molecular formula search for class {\"N\": 3, \"S\": 1, \"O\": 20, \"F\": 4}, (de)protonated : 100%|██████████| 200/200 [00:00<00:00, 254.09it/s]\n"
     ]
    },
    {
     "name": "stdout",
     "output_type": "stream",
     "text": [
      "'run_molecular_formula'  27625.91 ms\n",
      "729 assigned peaks and 144 unassigned peaks, total  = 83.51 %, relative abundance = 95.51 %, RMS error (best candidate) (ppm) = 0.070\n",
      "timestart: 20\n",
      "negative\n",
      "MS Obj loaded - 1023 peaks found.\n",
      "MS Obj loaded - 1023 peaks found.\n",
      "Reference mass list loaded - 2030 calibration masses loaded.\n",
      "151 calibration points matched within thresholds.\n",
      "minimize function completed with RMS error of: 0.163 ppm\n",
      "minimize function performed 373 fn evals and 8 iterations\n",
      "'runworker'  29.31 ms\n"
     ]
    },
    {
     "name": "stderr",
     "output_type": "stream",
     "text": [
      "Loading molecular formula database: 244178it [00:08, 27132.57it/s]\n",
      "Started molecular formula search for class {\"N\": 1, \"S\": 1, \"O\": 10, \"F\": 4}, (de)protonated : 100%|██████████| 300/300 [00:02<00:00, 120.69it/s]\n",
      "Loading molecular formula database: 247740it [00:08, 27739.70it/s]\n",
      "Started molecular formula search for class {\"N\": 2, \"S\": 1, \"O\": 20, \"F\": 4}, (de)protonated : 100%|██████████| 300/300 [00:01<00:00, 196.69it/s]\n",
      "Loading molecular formula database: 166880it [00:05, 30526.68it/s]\n",
      "Started molecular formula search for class {\"N\": 3, \"S\": 1, \"O\": 20, \"F\": 4}, (de)protonated : 100%|██████████| 200/200 [00:00<00:00, 207.48it/s]\n"
     ]
    },
    {
     "name": "stdout",
     "output_type": "stream",
     "text": [
      "'run_molecular_formula'  28637.45 ms\n",
      "869 assigned peaks and 154 unassigned peaks, total  = 84.95 %, relative abundance = 95.21 %, RMS error (best candidate) (ppm) = 0.074\n",
      "timestart: 22\n",
      "negative\n",
      "MS Obj loaded - 1521 peaks found.\n",
      "MS Obj loaded - 1521 peaks found.\n",
      "Reference mass list loaded - 2030 calibration masses loaded.\n",
      "175 calibration points matched within thresholds.\n",
      "minimize function completed with RMS error of: 0.286 ppm\n",
      "minimize function performed 326 fn evals and 7 iterations\n",
      "'runworker'  29.88 ms\n"
     ]
    },
    {
     "name": "stderr",
     "output_type": "stream",
     "text": [
      "Loading molecular formula database: 244178it [00:09, 26645.01it/s]\n",
      "Started molecular formula search for class {\"N\": 1, \"S\": 1, \"O\": 10, \"F\": 4}, (de)protonated : 100%|██████████| 300/300 [00:04<00:00, 65.94it/s] \n",
      "Loading molecular formula database: 247740it [00:09, 25004.79it/s]\n",
      "Started molecular formula search for class {\"N\": 2, \"S\": 1, \"O\": 20, \"F\": 4}, (de)protonated : 100%|██████████| 300/300 [00:03<00:00, 80.42it/s] \n",
      "Loading molecular formula database: 166880it [00:06, 24009.80it/s]\n",
      "Started molecular formula search for class {\"N\": 3, \"S\": 1, \"O\": 20, \"F\": 4}, (de)protonated : 100%|██████████| 200/200 [00:02<00:00, 89.23it/s] \n"
     ]
    },
    {
     "name": "stdout",
     "output_type": "stream",
     "text": [
      "'run_molecular_formula'  36891.86 ms\n",
      "1074 assigned peaks and 447 unassigned peaks, total  = 70.61 %, relative abundance = 93.53 %, RMS error (best candidate) (ppm) = 0.094\n"
     ]
    }
   ],
   "source": [
    "# run assignment algorithm\n",
    "timerange = [4,24]  # start (min) to stop (min)\n",
    "interval = 2  # min \n",
    "refmasslist = \"/Users/christiandewey/CoreMS/db/Hawkes_neg.ref\"\n",
    "\n",
    "data.assign_formula(interval = interval, timerange = timerange, \n",
    "    refmasslist = refmasslist, calorder =2, charge = 1, cal_ppm_threshold= (0,3))\n",
    "\n",
    "data_df = data.complete_results_df"
   ]
  },
  {
   "cell_type": "code",
   "execution_count": 6,
   "metadata": {},
   "outputs": [],
   "source": [
    "# save assignment results as pd dataframe and export as .csv \n",
    "fname = 'ww_initial_assignment.csv'\n",
    "data_df.to_csv(dir+'/' +fname)\n"
   ]
  },
  {
   "cell_type": "code",
   "execution_count": 7,
   "metadata": {},
   "outputs": [
    {
     "name": "stdout",
     "output_type": "stream",
     "text": [
      "20230113_LBA_Boiteau_Zorbax5um_1500IT_neg_qh2o_300_500_02.raw\n",
      "20230113_LBA_Boiteau_Zorbax5um_1500IT_neg_qh2o_300_500_01.raw\n",
      "20230113_LBA_Boiteau_Zorbax5um_1500IT_neg_FinalEff_300_500_02.raw\n",
      "20230113_LBA_Boiteau_Zorbax5um_1500IT_neg_FinalEff_300_500_01.raw\n",
      "20230113_LBA_Boiteau_Zorbax5um_1500IT_neg_qh2o_fullmz_02.raw\n",
      "20230113_LBA_Boiteau_Zorbax5um_1500IT_neg_qh2o_fullmz_01.raw\n",
      "20230113_LBA_Boiteau_Zorbax5um_1500IT_neg_FinalEff_fullmz_02.raw\n",
      "20230113_LBA_Boiteau_Zorbax5um_1500IT_neg_NovWastewater_300_500_02.raw\n",
      "20230113_LBA_Boiteau_Zorbax5um_1500IT_neg_NovWastewater_300_500_01.raw\n",
      "20230113_LBA_Boiteau_Zorbax5um_1500IT_neg_NovWastewater_fullmz_02.raw\n",
      "20230113_LBA_Boiteau_Zorbax5um_1500IT_neg_NovWastewater_fullmz_01.raw\n",
      "20230113_LBA_Boiteau_Zorbax5um_1500IT_neg_FinalEff_fullmz_01.raw\n",
      "[2 1]\n",
      "['300-500 m/z' '200-1200 m/z']\n",
      "[2 1]\n",
      "['20230113_LBA_Boiteau_Zorbax5um_1500IT_neg_qh2o_300_500_02.raw'\n",
      " '20230113_LBA_Boiteau_Zorbax5um_1500IT_neg_qh2o_300_500_01.raw'\n",
      " '20230113_LBA_Boiteau_Zorbax5um_1500IT_neg_FinalEff_300_500_02.raw'\n",
      " '20230113_LBA_Boiteau_Zorbax5um_1500IT_neg_FinalEff_300_500_01.raw'\n",
      " '20230113_LBA_Boiteau_Zorbax5um_1500IT_neg_qh2o_fullmz_02.raw'\n",
      " '20230113_LBA_Boiteau_Zorbax5um_1500IT_neg_qh2o_fullmz_01.raw'\n",
      " '20230113_LBA_Boiteau_Zorbax5um_1500IT_neg_FinalEff_fullmz_02.raw'\n",
      " '20230113_LBA_Boiteau_Zorbax5um_1500IT_neg_NovWastewater_300_500_02.raw'\n",
      " '20230113_LBA_Boiteau_Zorbax5um_1500IT_neg_NovWastewater_300_500_01.raw'\n",
      " '20230113_LBA_Boiteau_Zorbax5um_1500IT_neg_NovWastewater_fullmz_02.raw'\n",
      " '20230113_LBA_Boiteau_Zorbax5um_1500IT_neg_NovWastewater_fullmz_01.raw'\n",
      " '20230113_LBA_Boiteau_Zorbax5um_1500IT_neg_FinalEff_fullmz_01.raw']\n",
      "['200 m/z' '1000 m/z']\n"
     ]
    }
   ],
   "source": [
    "\n",
    "# add 'm/z window' and 'rep' columns\n",
    "# reload modules & set fname\n",
    "importlib.reload(icrms)\n",
    "importlib.reload(lcmsfns)\n",
    "\n",
    "data_df = pd.read_csv(dir+'/' +fname)\n",
    "data_df = lcmsfns.add_mzwindow_col(data_df)\n",
    "\n",
    "data_df = lcmsfns.addRepCol(data_df)\n",
    "\n",
    "print(data_df['m/z window'].unique())\n",
    "print(data_df['Rep'].unique())\n",
    "print(data_df['file'].unique())\n",
    "print(data_df['m/z Window Size'].unique())"
   ]
  },
  {
   "cell_type": "code",
   "execution_count": 8,
   "metadata": {},
   "outputs": [
    {
     "name": "stdout",
     "output_type": "stream",
     "text": [
      "\n",
      "time: 4\n",
      "unassigned:  705\n",
      "assigned:  3184\n",
      "\tCHO: 2376\n",
      "\tCHON: 441\n",
      "\tCHONS: 49\n",
      "\tCHONF: 26\n",
      "\tCHOS: 173\n",
      "\tCHOSF: 26\n",
      "\tCHOF: 10\n",
      "\tCHONSF: 83\n",
      "\tUnassigned: 705\n",
      "\n",
      "time: 6\n",
      "unassigned:  438\n",
      "assigned:  4287\n",
      "\tCHO: 3034\n",
      "\tCHON: 759\n",
      "\tCHONS: 42\n",
      "\tCHONF: 40\n",
      "\tCHOS: 326\n",
      "\tCHOSF: 25\n",
      "\tCHOF: 12\n",
      "\tCHONSF: 49\n",
      "\tUnassigned: 438\n",
      "\n",
      "time: 8\n",
      "unassigned:  448\n",
      "assigned:  3435\n",
      "\tCHO: 2576\n",
      "\tCHON: 344\n",
      "\tCHONS: 79\n",
      "\tCHONF: 52\n",
      "\tCHOS: 244\n",
      "\tCHOSF: 72\n",
      "\tCHOF: 7\n",
      "\tCHONSF: 61\n",
      "\tUnassigned: 448\n",
      "\n",
      "time: 10\n",
      "unassigned:  554\n",
      "assigned:  5026\n",
      "\tCHO: 3632\n",
      "\tCHON: 577\n",
      "\tCHONS: 96\n",
      "\tCHONF: 23\n",
      "\tCHOS: 576\n",
      "\tCHOSF: 52\n",
      "\tCHOF: 43\n",
      "\tCHONSF: 27\n",
      "\tUnassigned: 554\n",
      "\n",
      "time: 12\n",
      "unassigned:  780\n",
      "assigned:  6014\n",
      "\tCHO: 4139\n",
      "\tCHON: 623\n",
      "\tCHONS: 125\n",
      "\tCHONF: 46\n",
      "\tCHOS: 859\n",
      "\tCHOSF: 72\n",
      "\tCHOF: 83\n",
      "\tCHONSF: 67\n",
      "\tUnassigned: 780\n",
      "\n",
      "time: 14\n",
      "unassigned:  748\n",
      "assigned:  6049\n",
      "\tCHO: 4318\n",
      "\tCHON: 417\n",
      "\tCHONS: 105\n",
      "\tCHONF: 81\n",
      "\tCHOS: 861\n",
      "\tCHOSF: 81\n",
      "\tCHOF: 119\n",
      "\tCHONSF: 67\n",
      "\tUnassigned: 748\n",
      "\n",
      "time: 16\n",
      "unassigned:  627\n",
      "assigned:  5841\n",
      "\tCHO: 4497\n",
      "\tCHON: 211\n",
      "\tCHONS: 43\n",
      "\tCHONF: 50\n",
      "\tCHOS: 867\n",
      "\tCHOSF: 49\n",
      "\tCHOF: 72\n",
      "\tCHONSF: 52\n",
      "\tUnassigned: 627\n",
      "\n",
      "time: 18\n",
      "unassigned:  960\n",
      "assigned:  6745\n",
      "\tCHO: 4979\n",
      "\tCHON: 339\n",
      "\tCHONS: 68\n",
      "\tCHONF: 92\n",
      "\tCHOS: 1065\n",
      "\tCHOSF: 65\n",
      "\tCHOF: 94\n",
      "\tCHONSF: 43\n",
      "\tUnassigned: 960\n",
      "\n",
      "time: 20\n",
      "unassigned:  716\n",
      "assigned:  6475\n",
      "\tCHO: 4954\n",
      "\tCHON: 160\n",
      "\tCHONS: 49\n",
      "\tCHONF: 66\n",
      "\tCHOS: 1001\n",
      "\tCHOSF: 85\n",
      "\tCHOF: 116\n",
      "\tCHONSF: 44\n",
      "\tUnassigned: 716\n",
      "\n",
      "time: 22\n",
      "unassigned:  1202\n",
      "assigned:  6789\n",
      "\tCHO: 5029\n",
      "\tCHON: 173\n",
      "\tCHONS: 133\n",
      "\tCHONF: 131\n",
      "\tCHOS: 980\n",
      "\tCHOSF: 130\n",
      "\tCHOF: 169\n",
      "\tCHONSF: 44\n",
      "\tUnassigned: 1202\n"
     ]
    }
   ],
   "source": [
    "importlib.reload(icrms)\n",
    "importlib.reload(lcmsfns)\n",
    "\n",
    "heter = ['N', 'S', 'F']\n",
    "molclasses = lcmsfns.get_mol_class(heter)\n",
    "\n",
    "molclasses\n",
    "\n",
    "data_df = lcmsfns.assign_mol_class(data_df,molclasses)"
   ]
  },
  {
   "cell_type": "code",
   "execution_count": 9,
   "metadata": {},
   "outputs": [
    {
     "name": "stdout",
     "output_type": "stream",
     "text": [
      "['20230113_LBA_Boiteau_Zorbax5um_1500IT_neg_qh2o_300_500_02.raw'\n",
      " '20230113_LBA_Boiteau_Zorbax5um_1500IT_neg_qh2o_300_500_01.raw'\n",
      " '20230113_LBA_Boiteau_Zorbax5um_1500IT_neg_qh2o_fullmz_02.raw'\n",
      " '20230113_LBA_Boiteau_Zorbax5um_1500IT_neg_qh2o_fullmz_01.raw']\n",
      "['300-500 m/z' '200-1200 m/z']\n"
     ]
    }
   ],
   "source": [
    "# add column with blank file identity to use in blank subtraction\n",
    "\n",
    "raw_filelist = data_df['file'].unique()\n",
    "\n",
    "blank_files = [f for f in raw_filelist if 'qh2o' in f]\n",
    "\n",
    "blank_data = []\n",
    "\n",
    "for f in blank_files:\n",
    "\n",
    "    #if 'fullmz' not in f:\n",
    "        \n",
    "    temp = data_df[data_df['file'] == f] \n",
    "\n",
    "    blank_data.append(temp)\n",
    "\n",
    "blanks_df = pd.concat(blank_data)  # these are only 100 m/z blanks (200 m/z blanks were not collected)\n",
    "\n",
    "\n",
    "print(blanks_df['file'].unique())\n",
    "\n",
    "print(blanks_df['m/z window'].unique())\n",
    "\n",
    "\n",
    "data_df['blank file'] = data_df.index\n",
    "\n",
    "for window in data_df['m/z window'].unique():\n",
    "\n",
    "    temp1 = data_df[data_df['m/z window'] == window] # all features collected in given m/z window       \n",
    "    btemp1 = blanks_df[blanks_df['m/z window'] == window] # all blank feautres collected in same m/z window\n",
    "    for r in temp1['Rep'].unique():\n",
    "        temp2 = temp1[temp1['Rep'] == r]\n",
    "        btemp2 = btemp1[btemp1['Rep'] == r]\n",
    "\n",
    "     #  print(np.shape( btemp2['file']))\n",
    "\n",
    "        temp2['blank file'] = btemp2['file'].iloc[0]\n",
    "     #   print(np.shape( btemp2['file']))\n",
    "        data_df[(data_df['m/z window'] == window) & (data_df['Rep'] == r)]  = temp2\n",
    "\n",
    "\n"
   ]
  },
  {
   "cell_type": "code",
   "execution_count": 10,
   "metadata": {},
   "outputs": [],
   "source": [
    "# save assignment results as pd dataframe and export as .csv \n",
    "data_df.to_csv(dir+'/processed_'+fname)\n"
   ]
  },
  {
   "cell_type": "code",
   "execution_count": null,
   "metadata": {},
   "outputs": [],
   "source": [
    "#-#-#-# read assignment results from .csv\n",
    "data_df = pd.read_csv(dir+'/processed_'+fname)"
   ]
  },
  {
   "cell_type": "code",
   "execution_count": 11,
   "metadata": {},
   "outputs": [],
   "source": [
    "# create subsets of assignments based m/z window\n",
    "\n",
    "list100mz = []\n",
    "listfullzmz = [] \n",
    "\n",
    "for mzwindow in data_df['m/z window'].unique():\n",
    "\n",
    "    r_df = data_df[data_df['m/z window'] == mzwindow]\n",
    "\n",
    "    if (mzwindow == '300-500 m/z') :\n",
    "        list100mz.append(r_df) \n",
    "\n",
    "    elif (mzwindow == '200-1200 m/z'):\n",
    "        listfullzmz.append(r_df) \n",
    "\n",
    "mz100 = pd.concat(list100mz)\n",
    "mzfull = pd.concat(listfullzmz)\n"
   ]
  },
  {
   "cell_type": "code",
   "execution_count": 12,
   "metadata": {},
   "outputs": [
    {
     "data": {
      "image/png": "[encoded data removed]",
      "text/plain": [
       "<Figure size 600x600 with 2 Axes>"
      ]
     },
     "metadata": {},
     "output_type": "display_data"
    }
   ],
   "source": [
    "# plot assignment error kernel density CHON\n",
    "\n",
    "ttt = 'CHONSF'  ## title for main plot\n",
    "\n",
    "dffull = mzfull[(mzfull['mol_class']=='CHO') | (mzfull['mol_class']=='CHON')]\n",
    "fig, (ax1, ax2) = plt.subplots(2, 1, figsize = (6,6))\n",
    "sns.kdeplot(data=dffull[dffull['mol_class']!='Unassigned'], x=\"m/z Error (ppm)\", hue=\"mol_class\", ax = ax1)\n",
    "ax1.set_xlim(-0.3,0.3)\n",
    "ax1.set_title( 'Full Window (1000 m/z)')\n",
    "legend = ax1.get_legend()\n",
    "handles = legend.legendHandles\n",
    "labels = dffull[dffull['mol_class']!='Unassigned']['mol_class'].unique()\n",
    "legend.remove()\n",
    "\n",
    "df100 = mz100[(mz100['mol_class']=='CHO') | (mz100['mol_class']=='CHON')]\n",
    "sns.kdeplot(data=df100[df100['mol_class']!='Unassigned'], x=\"m/z Error (ppm)\", hue=\"mol_class\", ax = ax2, legend = False)\n",
    "ax2.set_title( 'Narrow Window (100 m/z)')\n",
    "ax2.set_xlim(-0.3,0.3)\n",
    "\n",
    "\n",
    "fig.suptitle(ttt, fontsize=14)\n",
    "fig.legend(handles, labels, title='Mol. Class', frameon = False, bbox_to_anchor=(1.0,0.5), loc = 'center left')\n",
    "\n",
    "plt.tight_layout()\n",
    "\n",
    "plt.show()\n"
   ]
  },
  {
   "cell_type": "code",
   "execution_count": 13,
   "metadata": {},
   "outputs": [
    {
     "data": {
      "image/png": "[encoded data removed]",
      "text/plain": [
       "<Figure size 600x600 with 2 Axes>"
      ]
     },
     "metadata": {},
     "output_type": "display_data"
    }
   ],
   "source": [
    "# plot assignment error kernel density CHON\n",
    "import itertools\n",
    "ttt = 'CHON3CuFe'  ## title for main plot\n",
    "\n",
    "# set palette \n",
    "palette = itertools.cycle(sns.color_palette())\n",
    "\n",
    "\n",
    "\n",
    "dffull = mzfull[(mzfull['mol_class']!='CHO') & (mzfull['mol_class']!='CHON')]\n",
    "fig, (ax1, ax2) = plt.subplots(2, 1, figsize = (6,6))\n",
    "sns.kdeplot(data=dffull[dffull['mol_class']!='Unassigned'], x=\"m/z Error (ppm)\", hue=\"mol_class\", ax = ax1, palette=palette)\n",
    "ax1.set_xlim(-0.3,0.3)\n",
    "ax1.set_title( 'Full Window (1000 m/z)')\n",
    "legend = ax1.get_legend()\n",
    "handles = legend.legendHandles\n",
    "labels = dffull[dffull['mol_class']!='Unassigned']['mol_class'].unique()\n",
    "legend.remove()\n",
    "\n",
    "palette = itertools.cycle(sns.color_palette())\n",
    "\n",
    "df100 = mz100[(mz100['mol_class']!='CHO') & (mz100['mol_class']!='CHON')]\n",
    "sns.kdeplot(data=df100[df100['mol_class']!='Unassigned'], x=\"m/z Error (ppm)\", hue=\"mol_class\", ax = ax2, legend = False, palette=palette)\n",
    "ax2.set_title( 'Narrow Window (100 m/z)')\n",
    "ax2.set_xlim(-0.3,0.3)\n",
    "\n",
    "fig.suptitle(ttt, fontsize=14)\n",
    "fig.legend(handles, labels, title='Mol. Class', frameon = False, bbox_to_anchor=(1.0,0.5), loc = 'center left')\n",
    "\n",
    "plt.tight_layout()\n",
    "\n",
    "plt.show()\n"
   ]
  },
  {
   "cell_type": "code",
   "execution_count": 53,
   "metadata": {},
   "outputs": [
    {
     "data": {
      "image/png": "[encoded data removed]",
      "text/plain": [
       "<Figure size 600x600 with 2 Axes>"
      ]
     },
     "metadata": {},
     "output_type": "display_data"
    }
   ],
   "source": [
    "# plot assignment error kernel density CHON\n",
    "import itertools\n",
    "ttt = 'CHON3CuFe'  ## title for main plot\n",
    "\n",
    "# set palette \n",
    "palette = itertools.cycle(sns.color_palette())\n",
    "\n",
    "dffull = mzfull[(mzfull['mol_class']!='CHO') & (mzfull['mol_class']!='CHON')]\n",
    "fig, (ax1, ax2) = plt.subplots(2, 1, figsize = (6,6))\n",
    "sns.kdeplot(data=dffull[dffull['mol_class']!='Unassigned'], x=\"m/z Error (ppm)\", hue=\"mol_class\", ax = ax1, palette=palette)\n",
    "ax1.set_xlim(-0.3,0.3)\n",
    "ax1.set_title( 'Full Window (1000 m/z)')\n",
    "legend = ax1.get_legend()\n",
    "handles = legend.legendHandles\n",
    "labels = dffull[dffull['mol_class']!='Unassigned']['mol_class'].unique()\n",
    "legend.remove()\n",
    "\n",
    "palette = itertools.cycle(sns.color_palette())\n",
    "\n",
    "df100 = mz100[(mz100['mol_class']!='CHO') & (mz100['mol_class']!='CHON')]\n",
    "sns.kdeplot(data=df100[df100['mol_class']!='Unassigned'], x=\"m/z Error (ppm)\", hue=\"mol_class\", ax = ax2, legend = False, palette=palette)\n",
    "ax2.set_title( 'Narrow Window (100 m/z)')\n",
    "ax2.set_xlim(-0.3,0.3)\n",
    "\n",
    "fig.suptitle(ttt, fontsize=14)\n",
    "fig.legend(handles, labels, title='Mol. Class', frameon = False, bbox_to_anchor=(1.0,0.5), loc = 'center left')\n",
    "\n",
    "plt.tight_layout()\n",
    "\n",
    "plt.show()\n"
   ]
  },
  {
   "cell_type": "code",
   "execution_count": 14,
   "metadata": {},
   "outputs": [
    {
     "name": "stdout",
     "output_type": "stream",
     "text": [
      "400-700 m/z, 100 m/z windowing: \n",
      "32095 features total; 28733 assigned (89.5%)\n",
      "\n",
      "200-800 m/z window (full scan): \n",
      "28928 features total; 25112 assigned (86.8%)\n"
     ]
    }
   ],
   "source": [
    "# create subsets of assigned features \n",
    "assigned_100mz = mz100[~mz100['Molecular Formula'].isnull()]\n",
    "assigned_fullmz = mzfull[~mzfull['Molecular Formula'].isnull()]\n",
    "\n",
    "print('400-700 m/z, 100 m/z windowing: \\n%s features total; %s assigned (%.1f%%)' %(np.shape(mz100)[0],  np.shape(assigned_100mz)[0], np.shape(assigned_100mz)[0] / np.shape(mz100)[0] * 100))\n",
    "print('\\n200-800 m/z window (full scan): \\n%s features total; %s assigned (%.1f%%)' %(np.shape(mzfull)[0],np.shape(assigned_fullmz)[0],  np.shape(assigned_fullmz)[0] / np.shape(mzfull)[0] * 100))"
   ]
  },
  {
   "cell_type": "code",
   "execution_count": 15,
   "metadata": {},
   "outputs": [
    {
     "name": "stdout",
     "output_type": "stream",
     "text": [
      "400-700 m/z, 100 m/z windowing:\n",
      "\n",
      "200-800 m/z, 1000 m/z windowing:\n"
     ]
    }
   ],
   "source": [
    "# create subsets of unique features \n",
    "print('400-700 m/z, 100 m/z windowing:')\n",
    "unique_100mz = lcmsfns.getUniqueFeatures(assigned_100mz)\n",
    "\n",
    "print('\\n200-800 m/z, 1000 m/z windowing:')\n",
    "unique_fullmz = lcmsfns.getUniqueFeatures(assigned_fullmz)\n"
   ]
  },
  {
   "cell_type": "code",
   "execution_count": 16,
   "metadata": {},
   "outputs": [
    {
     "name": "stdout",
     "output_type": "stream",
     "text": [
      "400-700 m/z, 100 m/z windowing: \n",
      "32095 features total\n",
      "28733 assigned (89.5%)\n",
      "\n",
      "400-700 m/z, full window: \n",
      "17288 features total\n",
      "15717 assigned (90.9%)\n"
     ]
    }
   ],
   "source": [
    "# subset assigned by m/z window between 400 and 700 m/z \n",
    "assigned_100mz_456 = assigned_100mz[(assigned_100mz['m/z']>=300)]\n",
    "assigned_100mz_456 = assigned_100mz_456[(assigned_100mz_456['m/z']<=500)]\n",
    "\n",
    "assigned_fullmz_456 = assigned_fullmz[(assigned_fullmz['m/z']>=300)]\n",
    "assigned_fullmz_456 = assigned_fullmz_456[(assigned_fullmz_456['m/z']<=500)]\n",
    "\n",
    "mz100_456 = mz100[(mz100['m/z']>=300)]\n",
    "mz100_456 = mz100_456[(mz100_456['m/z']<=500)]\n",
    "\n",
    "mzfull_456 = mzfull[(mzfull['m/z']>=300)]\n",
    "mzfull_456 = mzfull_456[(mzfull_456['m/z']<=500)]\n",
    "\n",
    "print('400-700 m/z, 100 m/z windowing: \\n%s features total\\n%s assigned (%.1f%%)' %(np.shape(mz100_456)[0],  np.shape(assigned_100mz_456)[0], np.shape(assigned_100mz_456)[0] / np.shape(mz100_456)[0] * 100))\n",
    "print('\\n400-700 m/z, full window: \\n%s features total\\n%s assigned (%.1f%%)' %(np.shape(mzfull_456)[0],np.shape(assigned_fullmz_456)[0],  np.shape(assigned_fullmz_456)[0] / np.shape(mzfull_456)[0] * 100))\n"
   ]
  },
  {
   "cell_type": "code",
   "execution_count": 17,
   "metadata": {},
   "outputs": [
    {
     "name": "stdout",
     "output_type": "stream",
     "text": [
      "400-700 m/z, 100 m/z windowing:\n",
      "\n",
      "400-700 m/z, 1000 m/z windowing:\n"
     ]
    }
   ],
   "source": [
    "print('400-700 m/z, 100 m/z windowing:')\n",
    "unique_100mz_456 = lcmsfns.getUniqueFeatures(assigned_100mz_456)\n",
    "\n",
    "print('\\n400-700 m/z, 1000 m/z windowing:')\n",
    "unique_fullmz_456 = lcmsfns.getUniqueFeatures(assigned_fullmz_456)"
   ]
  },
  {
   "cell_type": "code",
   "execution_count": 18,
   "metadata": {},
   "outputs": [
    {
     "name": "stdout",
     "output_type": "stream",
     "text": [
      "['200 m/z' '1000 m/z']\n",
      "(13850, 53) (49383, 40)\n"
     ]
    }
   ],
   "source": [
    "import matplotlib.gridspec as gridspec\n",
    "\n",
    "mz100_bs = unique_100mz_456# lcmsfns.blankSubtract(unique_100mz, blnkthresh = 0.6)\n",
    "mzfull_bs = unique_fullmz_456 #lcmsfns.blankSubtract(unique_fullmz, blnkthresh = 0.6)\n",
    "\n",
    "mzfull_bs_456 = mzfull_bs[(mzfull_bs['Calibrated m/z']>=300) & (mzfull_bs['Calibrated m/z']<=500)]\n",
    "combo = pd.concat([mz100_bs, mzfull_bs_456], ignore_index=True)\n",
    "\n",
    "\n",
    "for i in range(len(combo['m/z window'])):\n",
    "\n",
    "    w = combo['m/z window'].iloc[i]\n",
    "\n",
    "    if (w == '300-500 m/z') :\n",
    "        \n",
    "        combo['m/z Window Size'].iloc[i] = '200 m/z'\n",
    "\n",
    "    elif (w == '200-1200 m/z'):\n",
    "        \n",
    "        combo['m/z Window Size'].iloc[i] = '1000 m/z'\n",
    "\n",
    "print(combo['m/z Window Size'].unique())\n",
    "\n",
    "\n",
    "mzfull_456 = mzfull[(mzfull['Calibrated m/z']>=300) & (mzfull['Calibrated m/z']<=500)]\n",
    "combo2 = pd.concat([mz100, mzfull_456], ignore_index=True)\n",
    "\n",
    "for i in range(len(combo['m/z window'])):\n",
    "\n",
    "    w = combo2['m/z window'].iloc[i]\n",
    "\n",
    "    if (w == '300-500 m/z') :\n",
    "        \n",
    "        combo2['m/z Window Size'].iloc[i] = '200 m/z'\n",
    "\n",
    "    elif (w == '200-1200 m/z'):\n",
    "        \n",
    "        combo2['m/z Window Size'].iloc[i] = '1000 m/z'\n",
    "\n",
    "print(np.shape(combo),np.shape(combo2))\n"
   ]
  },
  {
   "cell_type": "code",
   "execution_count": 19,
   "metadata": {},
   "outputs": [
    {
     "data": {
      "image/png": "[encoded data removed]",
      "text/plain": [
       "<Figure size 640x480 with 2 Axes>"
      ]
     },
     "metadata": {},
     "output_type": "display_data"
    }
   ],
   "source": [
    "\n",
    "import matplotlib.gridspec as gridspec\n",
    "\n",
    "#fig, (ax1_t,ax1_b, ax2) = plt.subplots(nrows=3, ncols=1, sharex = True, gridspec_kw={'hspace':0.02})\n",
    "plt.subplots_adjust(hspace=0.3)\n",
    "#make outer gridspec\n",
    "outer = gridspec.GridSpec(2, 1, height_ratios = [1, 1]) \n",
    "#make nested gridspecs\n",
    "gs2 = gridspec.GridSpecFromSubplotSpec(1, 1, subplot_spec = outer[1])\n",
    "gs1 = gridspec.GridSpecFromSubplotSpec(1, 1, subplot_spec = outer[0])\n",
    "\n",
    "\n",
    "ax1 = plt.subplot(gs2[0])\n",
    "\n",
    "sns.histplot(combo, x=\"Calibrated m/z\", hue=\"m/z Window Size\", multiple=\"stack\", ax=ax1,binwidth=5)\n",
    "ax1.set_ylabel('Count')\n",
    "ax1.legend_.remove()\n",
    "ax1.set_xlim(300,500)\n",
    "ax1.set_title('Assigned Peaks, 300-500 m/z')\n",
    "#ax1.set_ylim(0,4500)\n",
    "\n",
    "sns.despine(ax=ax1)\n",
    "\n",
    "\n",
    "ax2 = plt.subplot(gs1[0])\n",
    "\n",
    "sns.despine(ax=ax2)\n",
    "\n",
    "sns.histplot(combo2, x=\"Calibrated m/z\", hue=\"m/z Window Size\", multiple=\"stack\", ax=ax2,binwidth=5)\n",
    "ax2.set_ylabel('Count')\n",
    "ax2.set_xlim(300,500)\n",
    "#ax2.set_ylim(0,4500)\n",
    "ax2.set_title('Detected Peaks, 300-500 m/z')\n",
    "legend = ax2.get_legend()\n",
    "handles = legend.legendHandles\n",
    "labels = ['100 m/z','1000 m/z']\n",
    "ax2.legend_.remove()\n",
    "\n",
    "fig = plt.gcf()\n",
    "\n",
    "fig.legend(handles, labels, bbox_to_anchor=(0.98, 0.5), loc='center left',frameon=False, borderaxespad=0, title = 'Window Size')\n",
    "\n",
    "fig.tight_layout()\n",
    "plt.show()"
   ]
  },
  {
   "cell_type": "code",
   "execution_count": 22,
   "metadata": {},
   "outputs": [
    {
     "name": "stdout",
     "output_type": "stream",
     "text": [
      "['CHO' 'CHON' 'CHONS' 'CHONF' 'CHOS' 'CHOSF' 'CHOF' 'CHONSF' 'Unassigned']\n"
     ]
    },
    {
     "data": {
      "image/png": "[encoded data removed]",
      "text/plain": [
       "<Figure size 640x480 with 1 Axes>"
      ]
     },
     "metadata": {},
     "output_type": "display_data"
    }
   ],
   "source": [
    "import matplotlib.patches as mpatches\n",
    "fig, ax4 = plt.subplots()\n",
    "\n",
    "all_results = pd.concat([mzfull[(mzfull['m/z']>=300) & (mzfull['m/z']<=500)],mz100[(mz100['m/z']>=300) & (mz100['m/z']<=500)]], ignore_index=True)\n",
    "\n",
    "print(all_results['mol_class'].unique())\n",
    "assign_summary=[]\n",
    "for time in all_results['Time'].unique():    \n",
    "    for w in all_results['m/z Window Size'].unique():\n",
    "        current={}\n",
    "        current['Time']=time\n",
    "        current['m/z Window'] = w\n",
    "        for mol_class in ['CHO','CHOS', 'Unassigned']:\n",
    "            current[mol_class]=len(all_results[(all_results['mol_class']==mol_class) & (all_results['Time']==time) & (all_results['m/z Window Size']==w)])\n",
    "        assign_summary.append(current)\n",
    "df=pd.DataFrame(assign_summary)\n",
    "\n",
    "df100 = df[df['m/z Window']=='100 m/z']\n",
    "\n",
    "ax4 = df.plot.bar(x='Time',y=df.columns[1:],stacked=True,ylabel='Peaks',ax=ax4)\n",
    "#ax4 = df100.plot.bar(x='Time',y=df.columns[1:],stacked=True,ylabel='Peaks',ax=ax4)\n",
    "plt.rcParams['hatch.linewidth'] = 4\n",
    "n = 20\n",
    "for i in range(n):\n",
    "    new_x = ax4.patches[i].get_x() - ((i%2)/2)\n",
    "    ax4.patches[i].set_x(new_x)\n",
    "    ax4.patches[i+n].set_x(new_x)\n",
    "    ax4.patches[i+(2*n)].set_x(new_x)\n",
    "\n",
    "    if (i%2)/2 > 0:\n",
    "        ax4.patches[i].set_x(new_x+0.1)\n",
    "        ax4.patches[i+n].set_x(new_x+0.1)\n",
    "        ax4.patches[i+(2*n)].set_x(new_x+0.1)\n",
    "\n",
    "        ax4.patches[i].set_hatch('///')\n",
    "        ax4.patches[i].set_edgecolor('C0')\n",
    "        ax4.patches[i].set_fill(None)\n",
    "        #ax4.patches[i].set_alpha(0.7)\n",
    "        ax4.patches[i+n].set_hatch('///')\n",
    "        ax4.patches[i+n].set_edgecolor('C1')\n",
    "        ax4.patches[i+n].set_fill(None)\n",
    "        #ax4.patches[i+(2*n)].set_alpha(0.7)\n",
    "        ax4.patches[i+(2*n)].set_hatch('///')\n",
    "        ax4.patches[i+(2*n)].set_edgecolor('C2')\n",
    "        ax4.patches[i+(2*n)].set_fill(None)\n",
    "\n",
    "\n",
    "\n",
    "# Update tick locations correspondingly\n",
    "#minor_tick_locs = [x.get_x()+1/4 for x in ax4.patches[:28]]\n",
    "major_tick_locs = np.array([x.get_x()+1/4 for x in ax4.patches[:int(n)]]).reshape(int(n/2), 2).mean(axis=1)\n",
    "#ax4.set_xticks(minor_tick_locs, minor=True)\n",
    "ax4.set_xticks(major_tick_locs)\n",
    "\n",
    "# Use indices from dataframe as tick labels\n",
    "major_tick_labels = df['Time'].unique()\n",
    "#major_tick_labels = df_g.index.levels[0].values\n",
    "#ax4.xaxis.set_ticklabels(minor_tick_labels, minor=True)\n",
    "ax4.xaxis.set_ticklabels(major_tick_labels)\n",
    "\n",
    "# Remove ticks and organize tick labels to avoid overlap\n",
    "#ax4.tick_params(axis='x', which='both', bottom='off')\n",
    "#ax4.tick_params(axis='x', which='minor', rotation=45)\n",
    "ax4.tick_params(axis='x', which='major', pad=5, rotation=0)\n",
    "\n",
    "ax4.set_xlabel('Time (min)')\n",
    "ax4.set_ylabel('Features (count)')\n",
    "\n",
    "leg = plt.legend(loc='center left', bbox_to_anchor=(1., 0.5), frameon=False, title='Mol. Class', prop={'size': 8})\n",
    "ax4.add_artist(leg)\n",
    "ax4.set_title('Assignments across Separation, 300-500 m/z',fontsize= 10)\n",
    "a_val = 0.6\n",
    "\n",
    "patch_full = mpatches.Patch(color='gray', alpha=a_val,label='1000 m/z')\n",
    "patch_100 = mpatches.Patch(edgecolor='gray', facecolor = 'white', hatch = '///',label='100 m/z')\n",
    "\n",
    "\n",
    "\n",
    "colors = ['#EA5739','#FEFFBE','#4BB05C']\n",
    "\n",
    "\n",
    "#circ1 = mpatches.Patch( facecolor=colors[0],alpha=a_val,hatch=r'\\\\\\\\',label='Label1')\n",
    "#circ2= mpatches.Patch( facecolor=colors[1],alpha=a_val,hatch='o',label='Label2')\n",
    "#circ3 = mpatches.Patch(facecolor=colors[2],alpha=a_val,hatch='+',label='Label3')\n",
    "\n",
    "\n",
    "plt.legend(handles=[patch_full, patch_100], loc='upper left', bbox_to_anchor=(0.01, 0.99), frameon = False, title='Window Size', prop={'size': 8}) #.legend(handles = [circ1,circ2,circ3],loc=2)#.\n",
    "\n",
    "\n",
    "sns.despine(ax=ax4)\n",
    "ax4.text(-.15, 1.05,'b',\n",
    "    horizontalalignment='center',\n",
    "    verticalalignment='center',\n",
    "    transform = ax4.transAxes, fontweight='bold', fontsize = 10)\n",
    "sns.despine(ax=ax4)\n",
    "\n",
    "plt.show()\n"
   ]
  },
  {
   "cell_type": "code",
   "execution_count": 32,
   "metadata": {},
   "outputs": [
    {
     "name": "stdout",
     "output_type": "stream",
     "text": [
      "['CHO' 'CHON' 'CHONS' 'CHONF' 'CHOS' 'CHOSF' 'CHOF' 'CHONSF' 'Unassigned']\n"
     ]
    },
    {
     "data": {
      "image/png": "[encoded data removed]",
      "text/plain": [
       "<Figure size 640x480 with 2 Axes>"
      ]
     },
     "metadata": {},
     "output_type": "display_data"
    }
   ],
   "source": [
    "# histogram of features (a) and chromatogram of features (b)\n",
    "import matplotlib.gridspec as gridspec\n",
    "import matplotlib.patches as mpatches\n",
    "\n",
    "#fig, (ax1_t,ax1_b, ax2) = plt.subplots(nrows=3, ncols=1, sharex = True, gridspec_kw={'hspace':0.02})\n",
    "plt.subplots_adjust(hspace=0.3)\n",
    "#make outer gridspec\n",
    "outer = gridspec.GridSpec(2, 1, height_ratios = [1, 1]) \n",
    "#make nested gridspecs\n",
    "gs2 = gridspec.GridSpecFromSubplotSpec(1, 1, subplot_spec = outer[1])\n",
    "gs1 = gridspec.GridSpecFromSubplotSpec(1, 1, subplot_spec = outer[0])\n",
    "\n",
    "plt.rcParams['legend.title_fontsize'] = 8\n",
    "\n",
    "\n",
    "ax2 = plt.subplot(gs1[0])\n",
    "\n",
    "sns.despine(ax=ax2)\n",
    "\n",
    "sns.histplot(combo2, x=\"Calibrated m/z\", hue=\"m/z Window Size\", multiple=\"stack\", ax=ax2,binwidth=5)\n",
    "ax2.set_ylabel('Peaks ($10^3$ counts)')\n",
    "ax2.set_xlim(300,500)\n",
    "#ax2.set_ylim(0,4500)\n",
    "legend = ax2.get_legend()\n",
    "handles = legend.legendHandles\n",
    "labels = ['100 m/z','1000 m/z']\n",
    "ax2.set_title('Detected Peaks, 400-700 m/z', fontsize = 10)\n",
    "#ax2.legend_.remove()\n",
    "\n",
    "# after plotting the data, format the labels\n",
    "current_values = plt.gca().get_yticks()\n",
    "# using format string '{:.0f}' here but you can choose others\n",
    "plt.gca().set_yticklabels(['%.0f' %(x/1000) for x in current_values])\n",
    "fig = plt.gcf()\n",
    "\n",
    "ax2.legend(handles, labels, bbox_to_anchor=(1.0, 0.5), loc='center left',frameon=False, borderaxespad=0, title = 'Window Size', prop={'size': 8})\n",
    "ax2.text(-0.15, 1.05,'a',\n",
    "    horizontalalignment='center',\n",
    "    verticalalignment='center',\n",
    "    transform = ax2.transAxes, fontweight='bold', fontsize = 10)\n",
    "\n",
    "ax4 = plt.subplot(gs2[0])\n",
    "\n",
    "\n",
    "all_results = pd.concat([mzfull[(mzfull['m/z']>=300) & (mzfull['m/z']<=500)],mz100[(mz100['m/z']>=300) & (mz100['m/z']<=500)]], ignore_index=True)\n",
    "\n",
    "print(all_results['mol_class'].unique())\n",
    "assign_summary=[]\n",
    "for time in all_results['Time'].unique():    \n",
    "    for w in all_results['m/z Window Size'].unique():\n",
    "        current={}\n",
    "        current['Time']=time\n",
    "        current['m/z Window'] = w\n",
    "        for mol_class in ['CHO','CHOS', 'Unassigned']:\n",
    "            current[mol_class]=len(all_results[(all_results['mol_class']==mol_class) & (all_results['Time']==time) & (all_results['m/z Window Size']==w)])\n",
    "        assign_summary.append(current)\n",
    "df=pd.DataFrame(assign_summary)\n",
    "\n",
    "df100 = df[df['m/z Window']=='100 m/z']\n",
    "ax4 = df.plot.bar(x='Time',y=df.columns[1:],stacked=True,ylabel='Peaks',ax=ax4)\n",
    "#ax4 = df100.plot.bar(x='Time',y=df.columns[1:],stacked=True,ylabel='Peaks',ax=ax4)\n",
    "plt.rcParams['hatch.linewidth'] = 4\n",
    "n = 20\n",
    "for i in range(n):\n",
    "    new_x = ax4.patches[i].get_x() - ((i%2)/2)\n",
    "    ax4.patches[i].set_x(new_x)\n",
    "    ax4.patches[i+n].set_x(new_x)\n",
    "    ax4.patches[i+(2*n)].set_x(new_x)\n",
    "\n",
    "    if (i%2)/2 > 0:\n",
    "        ax4.patches[i].set_x(new_x+0.1)\n",
    "        ax4.patches[i+n].set_x(new_x+0.1)\n",
    "        ax4.patches[i+(2*n)].set_x(new_x+0.1)\n",
    "\n",
    "        ax4.patches[i].set_hatch('///')\n",
    "        ax4.patches[i].set_edgecolor('C0')\n",
    "        ax4.patches[i].set_fill(None)\n",
    "        #ax4.patches[i].set_alpha(0.7)\n",
    "        ax4.patches[i+n].set_hatch('///')\n",
    "        ax4.patches[i+n].set_edgecolor('C1')\n",
    "        ax4.patches[i+n].set_fill(None)\n",
    "        #ax4.patches[i+(2*n)].set_alpha(0.7)\n",
    "        ax4.patches[i+(2*n)].set_hatch('///')\n",
    "        ax4.patches[i+(2*n)].set_edgecolor('C2')\n",
    "        ax4.patches[i+(2*n)].set_fill(None)\n",
    "\n",
    "\n",
    "\n",
    "# Update tick locations correspondingly\n",
    "#minor_tick_locs = [x.get_x()+1/4 for x in ax4.patches[:28]]\n",
    "major_tick_locs = np.array([x.get_x()+1/4 for x in ax4.patches[:20]]).reshape(10, 2).mean(axis=1)\n",
    "#ax4.set_xticks(minor_tick_locs, minor=True)\n",
    "ax4.set_xticks(major_tick_locs)\n",
    "\n",
    "# Use indices from dataframe as tick labels\n",
    "major_tick_labels = df['Time'].unique()\n",
    "#major_tick_labels = df_g.index.levels[0].values\n",
    "#ax4.xaxis.set_ticklabels(minor_tick_labels, minor=True)\n",
    "ax4.xaxis.set_ticklabels(major_tick_labels)\n",
    "\n",
    "# after plotting the data, format the labels\n",
    "current_values = plt.gca().get_yticks()\n",
    "# using format string '{:.0f}' here but you can choose others\n",
    "plt.gca().set_yticklabels(['%.0f' %(x/1000) for x in current_values])\n",
    "# Remove ticks and organize tick labels to avoid overlap\n",
    "#ax4.tick_params(axis='x', which='both', bottom='off')\n",
    "#ax4.tick_params(axis='x', which='minor', rotation=45)\n",
    "ax4.tick_params(axis='x', which='major', pad=5, rotation=0)\n",
    "\n",
    "ax4.set_xlabel('Time (min)')\n",
    "ax4.set_ylabel('Peaks ($10^3$ counts)')\n",
    "\n",
    "ax4.legend(loc='center left', bbox_to_anchor=(1.0, 0.4), frameon=False, title='Mol. Class')\n",
    "\n",
    "leg = plt.legend(loc='center left', bbox_to_anchor=(1., 0.4), frameon=False, title='Mol. Class', prop={'size': 8})\n",
    "ax4.add_artist(leg)\n",
    "ax4.set_title('Assignments across Separation, 300-500 m/z',fontsize= 10)\n",
    "a_val = 0.6\n",
    "\n",
    "patch_full = mpatches.Patch(color='gray', alpha=a_val,label='1000 m/z')\n",
    "patch_100 = mpatches.Patch(edgecolor='gray', facecolor = 'white', hatch = '///',label='100 m/z')\n",
    "\n",
    "\n",
    "\n",
    "colors = ['#EA5739','#FEFFBE','#4BB05C']\n",
    "\n",
    "\n",
    "#circ1 = mpatches.Patch( facecolor=colors[0],alpha=a_val,hatch=r'\\\\\\\\',label='Label1')\n",
    "#circ2= mpatches.Patch( facecolor=colors[1],alpha=a_val,hatch='o',label='Label2')\n",
    "#circ3 = mpatches.Patch(facecolor=colors[2],alpha=a_val,hatch='+',label='Label3')\n",
    "\n",
    "\n",
    "plt.legend(handles=[patch_full, patch_100], loc='upper left', bbox_to_anchor=(1, 1.05), frameon = False, title='Window Size', prop={'size': 8}) #.legend(handles = [circ1,circ2,circ3],loc=2)#.\n",
    "sns.despine(ax=ax4)\n",
    "ax4.text(-.15, 1.05,'b',\n",
    "    horizontalalignment='center',\n",
    "    verticalalignment='center',\n",
    "    transform = ax4.transAxes, fontweight='bold', fontsize = 10)\n",
    "fig = plt.gcf()\n",
    "fig.tight_layout(pad = 1.)\n",
    "\n",
    "plt.show()"
   ]
  },
  {
   "cell_type": "code",
   "execution_count": 52,
   "metadata": {},
   "outputs": [
    {
     "name": "stderr",
     "output_type": "stream",
     "text": [
      "No artists with labels found to put in legend.  Note that artists whose label start with an underscore are ignored when legend() is called with no argument.\n"
     ]
    },
    {
     "name": "stdout",
     "output_type": "stream",
     "text": [
      "(435, 49) (249, 49)\n",
      "here\n"
     ]
    },
    {
     "data": {
      "image/png": "[encoded data removed]",
      "text/plain": [
       "<Figure size 650x400 with 1 Axes>"
      ]
     },
     "metadata": {},
     "output_type": "display_data"
    }
   ],
   "source": [
    "importlib.reload(icrms)\n",
    "importlib.reload(lcmsfns)\n",
    "import matplotlib.gridspec as gridspec\n",
    "\n",
    "\n",
    "\n",
    "fig, ax2 = plt.subplots(figsize = (6.5,4))\n",
    "\n",
    "mz100_bs = lcmsfns.blankSubtract(unique_100mz, blnkthresh = 0.6) #unique_100mz_456 #\n",
    "mzfull_bs = lcmsfns.blankSubtract(unique_fullmz, blnkthresh = 0.6) #unique_fullmz_456 #\n",
    "\n",
    "mzfull_bs_456 = mzfull_bs[(mzfull_bs['Calibrated m/z']>=300) & (mzfull_bs['Calibrated m/z']<=500)]\n",
    "\n",
    "mz100_cu = mz100_bs[(mz100_bs['Calibrated m/z']>=300) & (mz100_bs['Calibrated m/z']<=500) ]\n",
    "\n",
    "mz100_cu = mz100_cu[mz100_cu['F']>0]\n",
    "mzfull_bs_456=mzfull_bs_456[mzfull_bs_456['F']>0]\n",
    "\n",
    "d1=lcmsfns.normMS(mz100_cu, mz100_cu)\n",
    "d2=lcmsfns.normMS(mzfull_bs_456,mzfull_bs_456)\n",
    "\n",
    "#d1=mz100_bs[mz100_bs['Cu']>0]\n",
    "#d2=mzfull_bs_456[mzfull_bs_456['Cu']>0]\n",
    "print(np.shape(d1),  np.shape(d2))\n",
    "\n",
    "ax2 = lcmsfns.plot_ms(df1=d1,  df2=d2, start_mz=300, end_mz=500,ax_ms=ax2, norm=False)\n",
    "\n",
    "sns.despine(ax=ax2)\n",
    "\n",
    "ax2.set_xlim(300,350)\n",
    "ax2.set_ylim(bottom=0)\n",
    "#ax2.set_title('S-Containing Features')\n",
    "print('here')\n",
    "\n",
    "ax2.legend(handles, labels, bbox_to_anchor=(0.98, 0.5), loc='center left',frameon=False, borderaxespad=0, title = 'Window Size', prop={'size': 8})\n",
    "\n",
    "plt.tight_layout()\n",
    "plt.show()\n",
    "\n",
    "#(1738, 48) (1102, 48)\n",
    "\n",
    "#(1646, 49) (1064, 49)"
   ]
  },
  {
   "cell_type": "code",
   "execution_count": null,
   "metadata": {},
   "outputs": [],
   "source": [
    "df = mz100_cu\n",
    "df = df[(df['m/z']<=600)& (df['m/z']>=400)]\n",
    "df = df[df['Cu']>0]\n",
    "df = df[df['file'].str.contains('Slough_ENV') ]\n",
    "\n",
    "narrowmz = getEICs(df)\n",
    "\n",
    "df2 = mzfull_bs[(mzfull_bs['m/z']>=400) & (mzfull_bs['m/z']<=600)]\n",
    "df2 = df2[df2['Cu']>0]\n",
    "df2 = df2[df2['file'].str.contains('Slough_ENV') ]\n",
    "\n",
    "fullmz = getEICs(df2)\n"
   ]
  },
  {
   "cell_type": "code",
   "execution_count": 49,
   "metadata": {},
   "outputs": [
    {
     "name": "stdout",
     "output_type": "stream",
     "text": [
      "(154, 49) (18, 49)\n"
     ]
    }
   ],
   "source": [
    "\n",
    "\n",
    "\n",
    "res = mz100_cu.loc[~mz100_cu['Molecular Formula'].isin(mzfull_bs_456['Molecular Formula'])] \n",
    "fullonly  = mzfull_bs_456.loc[~mzfull_bs_456['Molecular Formula'].isin(mz100_cu['Molecular Formula'])] \n",
    "\n",
    "res = res[res['file'].str.contains('FinalEff')]\n",
    "fullonly = fullonly[fullonly['file'].str.contains('FinalEff')]\n",
    "\n",
    "print(np.shape(res), np.shape(fullonly))"
   ]
  },
  {
   "cell_type": "code",
   "execution_count": 51,
   "metadata": {},
   "outputs": [
    {
     "name": "stderr",
     "output_type": "stream",
     "text": [
      "No artists with labels found to put in legend.  Note that artists whose label start with an underscore are ignored when legend() is called with no argument.\n"
     ]
    },
    {
     "name": "stdout",
     "output_type": "stream",
     "text": [
      "(1646, 49) (1064, 49)\n",
      "here\n"
     ]
    },
    {
     "data": {
      "image/png": "[encoded data removed]",
      "text/plain": [
       "<Figure size 650x400 with 1 Axes>"
      ]
     },
     "metadata": {},
     "output_type": "display_data"
    }
   ],
   "source": [
    "importlib.reload(icrms)\n",
    "importlib.reload(lcmsfns)\n",
    "import matplotlib.gridspec as gridspec\n",
    "\n",
    "\n",
    "\n",
    "fig, ax2 = plt.subplots(figsize = (6.5,4))\n",
    "\n",
    "mz100_bs = lcmsfns.blankSubtract(unique_100mz, blnkthresh = 0.6) #unique_100mz_456 #\n",
    "mzfull_bs = lcmsfns.blankSubtract(unique_fullmz, blnkthresh = 0.6) #unique_fullmz_456 #\n",
    "\n",
    "mzfull_bs_456 = mzfull_bs[(mzfull_bs['Calibrated m/z']>=300) & (mzfull_bs['Calibrated m/z']<=500)]\n",
    "\n",
    "mz100_cu = mz100_bs[(mz100_bs['Calibrated m/z']>=300) & (mz100_bs['Calibrated m/z']<=500) ]\n",
    "\n",
    "mz100_cu = mz100_cu[mz100_cu['S']>0]\n",
    "mzfull_bs_456=mzfull_bs_456[mzfull_bs_456['S']>0]\n",
    "\n",
    "d1=lcmsfns.normMS(mz100_cu, mz100_cu)\n",
    "d2=lcmsfns.normMS(mzfull_bs_456,mzfull_bs_456)\n",
    "\n",
    "#d1=mz100_bs[mz100_bs['Cu']>0]\n",
    "#d2=mzfull_bs_456[mzfull_bs_456['Cu']>0]\n",
    "print(np.shape(d1),  np.shape(d2))\n",
    "\n",
    "ax2 = lcmsfns.plot_ms(df1=res,   start_mz=300, end_mz=500,ax_ms=ax2, norm=False)\n",
    "\n",
    "sns.despine(ax=ax2)\n",
    "\n",
    "ax2.set_xlim(300,350)\n",
    "ax2.set_ylim(bottom=0)\n",
    "#ax2.set_title('S-Containing Features')\n",
    "print('here')\n",
    "\n",
    "ax2.legend(handles, labels, bbox_to_anchor=(0.98, 0.5), loc='center left',frameon=False, borderaxespad=0, title = 'Window Size', prop={'size': 8})\n",
    "\n",
    "plt.tight_layout()\n",
    "plt.show()\n",
    "\n",
    "#(1738, 48) (1102, 48)\n",
    "\n",
    "#(1646, 49) (1064, 49)"
   ]
  },
  {
   "cell_type": "code",
   "execution_count": 46,
   "metadata": {},
   "outputs": [
    {
     "name": "stdout",
     "output_type": "stream",
     "text": [
      "(423, 49) (18, 49)\n"
     ]
    },
    {
     "ename": "IndexError",
     "evalue": "list index out of range",
     "output_type": "error",
     "traceback": [
      "\u001b[0;31m---------------------------------------------------------------------------\u001b[0m",
      "\u001b[0;31mIndexError\u001b[0m                                Traceback (most recent call last)",
      "Cell \u001b[0;32mIn [46], line 24\u001b[0m\n\u001b[1;32m     20\u001b[0m \u001b[39m#d1=mz100_bs[mz100_bs['Cu']>0]\u001b[39;00m\n\u001b[1;32m     21\u001b[0m \u001b[39m#d2=mzfull_bs_456[mzfull_bs_456['Cu']>0]\u001b[39;00m\n\u001b[1;32m     22\u001b[0m \u001b[39mprint\u001b[39m(np\u001b[39m.\u001b[39mshape(d1),  np\u001b[39m.\u001b[39mshape(d2))\n\u001b[0;32m---> 24\u001b[0m ax2 \u001b[39m=\u001b[39m lcmsfns\u001b[39m.\u001b[39;49mplot_ms(df1\u001b[39m=\u001b[39;49md1, df2\u001b[39m=\u001b[39;49md2,  start_mz\u001b[39m=\u001b[39;49m\u001b[39m300\u001b[39;49m, end_mz\u001b[39m=\u001b[39;49m\u001b[39m500\u001b[39;49m,ax_ms\u001b[39m=\u001b[39;49max2, norm\u001b[39m=\u001b[39;49m\u001b[39mFalse\u001b[39;49;00m, colors \u001b[39m=\u001b[39;49m [\u001b[39m'\u001b[39;49m\u001b[39mred\u001b[39;49m\u001b[39m'\u001b[39;49m])\n\u001b[1;32m     26\u001b[0m sns\u001b[39m.\u001b[39mdespine(ax\u001b[39m=\u001b[39max2)\n\u001b[1;32m     28\u001b[0m ax2\u001b[39m.\u001b[39mset_xlim(\u001b[39m300\u001b[39m,\u001b[39m350\u001b[39m)\n",
      "File \u001b[0;32m~/CoreMS/corems/lc_icpms_ftms/calc/lc_icrms_helpers.py:94\u001b[0m, in \u001b[0;36mplot_ms\u001b[0;34m(df1, start_mz, end_mz, mfexclude, tstart, df2, df3, assignment, ax_ms, lbls, norm, labs, colors)\u001b[0m\n\u001b[1;32m     90\u001b[0m         ms_t_int2\u001b[39m=\u001b[39mdf2\n\u001b[1;32m     92\u001b[0m     ms_df2 \u001b[39m=\u001b[39m ms_t_int2[(\u001b[39mabs\u001b[39m(ms_t_int2[\u001b[39m'\u001b[39m\u001b[39mCalibrated m/z\u001b[39m\u001b[39m'\u001b[39m]\u001b[39m-\u001b[39mstart_mz)\u001b[39m<\u001b[39mmzrange)\u001b[39m&\u001b[39m ((ms_t_int2[\u001b[39m'\u001b[39m\u001b[39mCalibrated m/z\u001b[39m\u001b[39m'\u001b[39m]\u001b[39m-\u001b[39mstart_mz)\u001b[39m>\u001b[39m\u001b[39m0\u001b[39m)]\n\u001b[0;32m---> 94\u001b[0m     _, stemlines2, _ \u001b[39m=\u001b[39max\u001b[39m.\u001b[39mstem(\u001b[39m'\u001b[39m\u001b[39mCalibrated m/z\u001b[39m\u001b[39m'\u001b[39m,pltcol,data\u001b[39m=\u001b[39mms_df2[\u001b[39m~\u001b[39mms_df2[\u001b[39m'\u001b[39m\u001b[39mMolecular Formula\u001b[39m\u001b[39m'\u001b[39m]\u001b[39m.\u001b[39misin(mfexclude)],  markerfmt\u001b[39m=\u001b[39m\u001b[39m'\u001b[39m\u001b[39m \u001b[39m\u001b[39m'\u001b[39m, basefmt\u001b[39m=\u001b[39m\u001b[39m'\u001b[39m\u001b[39m \u001b[39m\u001b[39m'\u001b[39m, linefmt\u001b[39m=\u001b[39mcols[\u001b[39m1\u001b[39;49m],label \u001b[39m=\u001b[39m labels[\u001b[39m1\u001b[39m])\n\u001b[1;32m     96\u001b[0m      \u001b[39m#markerline, stemlines, baseline = plt.stem(x, y)\u001b[39;00m\n\u001b[1;32m     97\u001b[0m \u001b[39melse\u001b[39;00m:\n\u001b[1;32m     98\u001b[0m     pltdf2 \u001b[39m=\u001b[39m \u001b[39mFalse\u001b[39;00m \n",
      "\u001b[0;31mIndexError\u001b[0m: list index out of range"
     ]
    },
    {
     "data": {
      "image/png": "[encoded data removed]",
      "text/plain": [
       "<Figure size 650x400 with 1 Axes>"
      ]
     },
     "metadata": {},
     "output_type": "display_data"
    }
   ],
   "source": [
    "importlib.reload(icrms)\n",
    "importlib.reload(lcmsfns)\n",
    "import matplotlib.gridspec as gridspec\n",
    "\n",
    "\n",
    "#res = mzfull_bs_456.loc[~mzfull_bs_456['Molecular Formula'].isin(mz100_cu['Molecular Formula'])] \n",
    "\n",
    "fig, ax2 = plt.subplots(figsize = (6.5,4))\n",
    "\n",
    "mz100_bs = unique_100mz_456 #lcmsfns.blankSubtract(unique_100mz, blnkthresh = 0.6)\n",
    "mzfull_bs = unique_fullmz_456 #lcmsfns.blankSubtract(unique_fullmz, blnkthresh = 0.6)\n",
    "\n",
    "mzfull_bs_456 = mzfull_bs[(mzfull_bs['Calibrated m/z']>=300) & (mzfull_bs['Calibrated m/z']<=500)]\n",
    "\n",
    "mz100_cu = mz100_bs[(mz100_bs['Calibrated m/z']>=300) & (mz100_bs['Calibrated m/z']<=500) ]\n",
    "\n",
    "d2=lcmsfns.normMS(fullonly[fullonly['S']>0],fullonly[fullonly['S']>0])\n",
    "d1=lcmsfns.normMS(res[res['S']>0],res[res['S']>0])\n",
    "\n",
    "#d1=mz100_bs[mz100_bs['Cu']>0]\n",
    "#d2=mzfull_bs_456[mzfull_bs_456['Cu']>0]\n",
    "print(np.shape(d1),  np.shape(d2))\n",
    "\n",
    "ax2 = lcmsfns.plot_ms(df1=d1, df2=d2,  start_mz=300, end_mz=500,ax_ms=ax2, norm=False, colors = ['red'])\n",
    "\n",
    "sns.despine(ax=ax2)\n",
    "\n",
    "ax2.set_xlim(300,350)\n",
    "ax2.set_ylim(bottom=0)\n",
    "\n",
    "print('here')\n",
    "\n",
    "#ax2.legend(box_to_anchor=(0.98, 0.5), loc='center left',frameon=False, borderaxespad=0, title = 'Window Size', prop={'size': 8})\n",
    "\n",
    "plt.tight_layout()\n",
    "plt.show()"
   ]
  },
  {
   "cell_type": "code",
   "execution_count": null,
   "metadata": {},
   "outputs": [],
   "source": [
    "# 100 m/z window, error plots with blank substraction\n",
    "\n",
    "importlib.reload(icrms)\n",
    "importlib.reload(lcmsfns)\n",
    "df = unique_100mz#lcmsfns.blankSubtract(unique_100mz, blnkthresh = 0.6)\n",
    "print(np.shape(unique_100mz))\n",
    "print(np.shape(df))\n",
    "fig = lcmsfns.plotUnique(df,ps=10)\n",
    "\n",
    "fig.suptitle('100 m/z window, '+ttt, fontsize=14)\n",
    "\n",
    "fig.set_size_inches(8,9)\n",
    "plt.tight_layout()\n",
    "\n",
    "plt.show()"
   ]
  }
 ],
 "metadata": {
  "kernelspec": {
   "display_name": "env",
   "language": "python",
   "name": "python3"
  },
  "language_info": {
   "codemirror_mode": {
    "name": "ipython",
    "version": 3
   },
   "file_extension": ".py",
   "mimetype": "text/x-python",
   "name": "python",
   "nbconvert_exporter": "python",
   "pygments_lexer": "ipython3",
   "version": "3.8.15 (default, Nov 27 2022, 21:17:29) \n[Clang 14.0.0 (clang-1400.0.29.202)]"
  },
  "orig_nbformat": 4,
  "vscode": {
   "interpreter": {
    "hash": "4a89ef0f0087d043516959840435a1ba2fc11671454c58b55cd65c8c9ca3f627"
   }
  }
 },
 "nbformat": 4,
 "nbformat_minor": 2
}
