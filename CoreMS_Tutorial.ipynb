{
 "cells": [
  {
   "cell_type": "markdown",
   "metadata": {},
   "outputs": [],
   "source": [
    "# CoreMS Tutorial\n",
    "`CoreMS` framework for mass spectrum"
   ]
  },
  {
   "cell_type": "markdown",
   "metadata": {},
   "outputs": [],
   "source": [
    "### 1. Create the reader obj "
   ]
  },
  {
   "cell_type": "code",
   "execution_count": 43,
   "metadata": {},
   "outputs": [],
   "source": [
    "from pathlib import Path\n",
    "from corems.mass_spectrum.input.boosterHDF import ReadHDF_BoosterMassSpectrum\n",
    "from corems.mass_spectrum.input.massList import ReadMassList\n",
    "from corems.transient.input.BrukerSolarix import ReadBrukerSolarix\n",
    "\n",
    "file_location = Path.cwd() / \"tests/tests_data/\" / \"ESI_NEG_ESFA.ascii\"\n",
    "polarity = -1\n",
    "reader_obj = ReadMassList(file_location, delimiter=\"  \", isCentroid=True)\n",
    "#reader_obj = ReadMassList(file_location, delimiter=\",\")\n",
    "#reader_obj = ReadMassList(file_location, delimiter=\"\\t\")\n",
    "#reader_obj = ReadHDF_Booster(file_location, polariy) #acess MassSpec Obj  \n",
    "reader_obj.file_location"
   ]
  },
  {
   "cell_type": "markdown",
   "metadata": {},
   "outputs": [],
   "source": [
    "### 2. Create the mass spectrum obj"
   ]
  },
  {
   "cell_type": "code",
   "execution_count": 44,
   "metadata": {},
   "outputs": [],
   "source": [
    "mass_spectrum = reader_obj.get_mass_spectrum(polarity, auto_process=True)\n",
    "mass_spectrum.mz_exp, mass_spectrum.abundance\n"
   ]
  },
  {
   "cell_type": "markdown",
   "metadata": {},
   "outputs": [],
   "source": [
    "### 3. Access mass spectrum peak objs"
   ]
  },
  {
   "cell_type": "code",
   "execution_count": 45,
   "metadata": {},
   "outputs": [],
   "source": [
    "kb = {'C': 1, 'H': 2}\n",
    "\n",
    "for mspeak in mass_spectrum.sort_by_abundance():\n",
    "    \n",
    "    print(mspeak.mz_exp, mspeak.abundance, mspeak.resolving_power, \n",
    "          mspeak.signal_to_noise, mspeak.kmd, mspeak.is_assigned)\n",
    "    \n",
    "    mspeak.change_kendrick_base(kb)\n",
    "\n"
   ]
  },
  {
   "cell_type": "markdown",
   "metadata": {},
   "outputs": [],
   "source": [
    "### 4. Access molecular formula  objs"
   ]
  },
  {
   "cell_type": "code",
   "execution_count": 46,
   "metadata": {},
   "outputs": [],
   "source": [
    "for mspeaks in mass_spectrum.sort_by_abundance():\n",
    "   if mspeak.is_assigned: #or just if mspeak:\n",
    "        for mf in mspeaks:\n",
    "            print(mf.mz_theor,mf.to_string,mf.to_string_formatted)"
   ]
  },
  {
   "cell_type": "markdown",
   "metadata": {},
   "outputs": [],
   "source": [
    "### 5. Mass spectrum calibration"
   ]
  },
  {
   "cell_type": "code",
   "execution_count": 47,
   "metadata": {},
   "outputs": [],
   "source": [
    "from corems.molecular_id.search.findOxigenPeaks import FindOxygenPeaks\n",
    "from corems.encapsulation.settings.molecular_id.MolecularIDSettings import MolecularSearchSettings\n",
    "from corems.mass_spectrum.calc.CalibrationCalc import MZDomain_Calibration\n",
    "\n",
    "MolecularSearchSettings.error_method = 'None'\n",
    "MolecularSearchSettings.min_mz_error = -10\n",
    "MolecularSearchSettings.max_mz_error = 10\n",
    "MolecularSearchSettings.mz_error_range = 1\n",
    "MolecularSearchSettings.isProtonated = True\n",
    "MolecularSearchSettings.isRadical= True\n",
    "MolecularSearchSettings.isadduct = False \n",
    "\n",
    "MolecularSearchSettings.usedAtoms['C'] = (1,90)\n",
    "MolecularSearchSettings.usedAtoms['H'] = (4,200)\n",
    "MolecularSearchSettings.usedAtoms['O'] = (1,20)\n",
    "MolecularSearchSettings.usedAtoms['N'] = (0,0)\n",
    "MolecularSearchSettings.usedAtoms['S'] = (0,0)\n",
    "\n",
    "\n",
    "find_formula_thread = FindOxygenPeaks(mass_spectrum)\n",
    "find_formula_thread.run()\n",
    "\n",
    "mspeaks_results = find_formula_thread.get_list_found_peaks()\n",
    "\n",
    "\n",
    "#calibrate = MZDomain_Calibration(mass_spectrum, mspeaks_results)\n",
    "#calibrate.ledford_inverted_calibration(iteration=False)\n",
    "#calibrate.quadratic(iteration=False)\n",
    "\n",
    "#remove results from calibration\n",
    "#mass_spectrum.clear_molecular_formulas()\n"
   ]
  },
  {
   "cell_type": "markdown",
   "metadata": {},
   "outputs": [],
   "source": [
    "### 6. Molecular formula search"
   ]
  },
  {
   "cell_type": "code",
   "execution_count": 0,
   "metadata": {},
   "outputs": [],
   "source": [
    "from corems.molecular_id.calc.ClusterFilter import ClusteringFilter\n",
    "from corems.molecular_id.search.molecularFormulaSearch import SearchMolecularFormulas\n",
    "\n",
    "ClusteringFilter().filter_kendrick(mass_spectrum)\n",
    "\n",
    "MolecularSearchSettings.min_mz_error = -1\n",
    "MolecularSearchSettings.max_mz_error = 1\n",
    "MolecularSearchSettings.mz_error_range = 1\n",
    "MolecularSearchSettings.mz_error_average = 0\n",
    "MolecularSearchSettings.min_abun_error = -30 # percentage \n",
    "MolecularSearchSettings.max_abun_error = 70 # percentage \n",
    "\n",
    "MolecularSearchSettings.isProtonated = True \n",
    "MolecularSearchSettings.isRadical= True \n",
    "MolecularSearchSettings.isadduct = True \n",
    "\n",
    "MolecularSearchSettings.usedAtoms['C'] = (1,90)\n",
    "MolecularSearchSettings.usedAtoms['H'] = (4,200)\n",
    "MolecularSearchSettings.usedAtoms['O'] = (1,8)\n",
    "MolecularSearchSettings.usedAtoms['N'] = (0,0)\n",
    "MolecularSearchSettings.usedAtoms['S'] = (0,0)\n",
    "\n",
    "SearchMolecularFormulas(first_hit=True).run_worker_mass_spectrum(mass_spectrum)\n",
    "\n"
   ]
  },
  {
   "cell_type": "markdown",
   "metadata": {},
   "outputs": [],
   "source": [
    "### 7. Export results"
   ]
  },
  {
   "cell_type": "code",
   "execution_count": 0,
   "metadata": {},
   "outputs": [],
   "source": [
    "from corems.mass_spectrum.output.export import MassSpecExport\n",
    "\n",
    "exportMS= MassSpecExport('neg_esi_srfa_1ppm_test', mass_spectrum)\n",
    "exportMS.run()\n",
    "\n",
    "exportMS.output_type = 'csv'\n",
    "exportMS.run()\n",
    "\n",
    "exportMS.output_type = 'pandas'\n",
    "exportMS.run()\n",
    "\n",
    "df = exportMS.get_pandas_df()\n",
    "print( df.head())"
   ]
  },
  {
   "cell_type": "code",
   "execution_count": null,
   "metadata": {},
   "outputs": [],
   "source": []
  }
 ],
 "metadata": {
  "kernelspec": {
   "display_name": "Python 3",
   "language": "python",
   "name": "python3"
  },
  "language_info": {
   "codemirror_mode": {
    "name": "ipython",
    "version": 3
   },
   "file_extension": ".py",
   "mimetype": "text/x-python",
   "name": "python",
   "nbconvert_exporter": "python",
   "pygments_lexer": "ipython3",
   "version": "3.7.4"
  }
 },
 "nbformat": 4,
 "nbformat_minor": 2
}